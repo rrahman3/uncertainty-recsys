{
 "cells": [
  {
   "cell_type": "markdown",
   "metadata": {
    "id": "vuZfOZbmLpss"
   },
   "source": [
    "## Codes"
   ]
  },
  {
   "cell_type": "markdown",
   "metadata": {
    "id": "oxR7uS3JrKQg"
   },
   "source": [
    "### import"
   ]
  },
  {
   "cell_type": "code",
   "execution_count": 1,
   "metadata": {
    "id": "bKRpTOVnQw7U",
    "pycharm": {
     "is_executing": true
    }
   },
   "outputs": [
    {
     "name": "stderr",
     "output_type": "stream",
     "text": [
      "C:\\Users\\rrahman3\\AppData\\Local\\Temp\\1\\ipykernel_12980\\4190522189.py:45: MatplotlibDeprecationWarning: The seaborn styles shipped by Matplotlib are deprecated since 3.6, as they no longer correspond to the styles shipped by seaborn. However, they will remain available as 'seaborn-v0_8-<style>'. Alternatively, directly use the seaborn API instead.\n",
      "  plt.style.use('seaborn-whitegrid')\n"
     ]
    }
   ],
   "source": [
    "# import pandas as pd\n",
    "# C:\\Users\\rrahman3\\Miniconda3\\envs\\tf\\python.exe -m pip install jupyterlab\n",
    "\n",
    "import numpy as np\n",
    "import random\n",
    "import pickle\n",
    "import logging\n",
    "\n",
    "import collections\n",
    "from collections import defaultdict, Counter\n",
    "\n",
    "# import scipy.sparse as sp\n",
    "# from sklearn.metrics import ndcg_score, dcg_score\n",
    "\n",
    "# import torch\n",
    "# import torch.nn as nn\n",
    "# import torch.nn.functional as F\n",
    "# import torch.optim as optim\n",
    "# from torch.autograd import Variable\n",
    "\n",
    "import argparse\n",
    "from time import time\n",
    "import os\n",
    "os.environ['TF_CPP_MIN_LOG_LEVEL'] = '2' \n",
    "\n",
    "# from google.colab import drive\n",
    "\n",
    "import tensorflow as tf\n",
    "import tensorflow_probability as tfp\n",
    "tfd = tfp.distributions\n",
    "tfpl = tfp.layers\n",
    "\n",
    "from tensorflow.keras import backend as K\n",
    "from tensorflow import keras\n",
    "# used to fix the tf error \"ValueError: tf.function-decorated function tried to create variables on non-first call.\"\n",
    "tf.config.run_functions_eagerly(True)\n",
    "import logging\n",
    "tf.get_logger().setLevel(logging.ERROR)\n",
    "\n",
    "tf.__version__, tfp.__version__\n",
    "\n",
    "import matplotlib.pyplot as plt\n",
    "plt.rc('xtick',labelsize=25)\n",
    "plt.rc('ytick',labelsize=25)\n",
    "plt.style.use('seaborn-whitegrid')\n",
    "# import seaborn as sns\n",
    "%matplotlib inline\n",
    "\n",
    "import time\n",
    "\n",
    "import sys\n",
    "import warnings\n",
    "if not sys.warnoptions:\n",
    "    warnings.simplefilter(\"ignore\")"
   ]
  },
  {
   "cell_type": "markdown",
   "metadata": {
    "id": "4hXqSm2prWb9"
   },
   "source": [
    "### utils"
   ]
  },
  {
   "cell_type": "code",
   "execution_count": 2,
   "metadata": {
    "id": "lS4kjzGT9gqi"
   },
   "outputs": [],
   "source": [
    "# utils.py\n",
    "\n",
    "def set_seed(seed, cuda=False):\n",
    "\n",
    "    np.random.seed(seed)\n",
    "    random.seed(seed)\n",
    "#     if cuda:\n",
    "#         torch.cuda.manual_seed(seed)\n",
    "#     else:\n",
    "#         torch.manual_seed(seed)\n",
    "\n",
    "set_seed(2022)"
   ]
  },
  {
   "cell_type": "markdown",
   "metadata": {
    "id": "mE17eI6YrQDD"
   },
   "source": [
    "### Interactions"
   ]
  },
  {
   "cell_type": "code",
   "execution_count": 3,
   "metadata": {
    "id": "1ONrizpP8sOh"
   },
   "outputs": [],
   "source": [
    "# connet to Drive\n",
    "data_root = ''\n",
    "base_directory = '/content/drive/My Drive/RuhaniRahman/UncertaintyRecommenderSystem/'\n",
    "base_directory = 'C:\\\\Users\\\\rrahman3\\\\PycharmProjects\\\\UncertaintyProject'\n",
    "class DriveConnection:\n",
    "    def __init__(self):\n",
    "#         from google.colab import drive\n",
    "#         drive.mount('/content/drive')\n",
    "        pass\n",
    "\n",
    "    def get_root(self, data_location='Riyi'):\n",
    "        # change working directory\n",
    "        if data_location == 'Riyi':\n",
    "            # %cd /content/drive/My Drive/ColabData/UncertaintyRecommenderSystem/RiyiQiu_Uncertainty_RecSys/data&script/\n",
    "            # %ls\n",
    "            data_root = '/content/drive/My Drive/ColabData/UncertaintyRecommenderSystem/RiyiQiu_Uncertainty_RecSys/data&script/'\n",
    "            data_root = 'data'\n",
    "\n",
    "        elif data_location == 'CosRec':\n",
    "            # %cd /content/drive/My Drive/RuhaniRahman/UncertaintyRecommenderSystem/data\n",
    "            data_root = base_directory + '/data/'\n",
    "            data_root = 'data'\n",
    "\n",
    "        else:\n",
    "            # %cd /content/drive/My Drive/RuhaniRahman/UncertaintyRecommenderSystem/data\n",
    "            data_root = '/content/drive/My Drive/RuhaniRahman/UncertaintyRecommenderSystem/data'\n",
    "            # data_root = '/content/drive/My Drive/Colab Notebooks/RuhaniRahman/UncertaintyRecommenderSystem/data'\n",
    "            data_root = 'data'\n",
    "\n",
    "        return data_root\n",
    "\n",
    "class Instances:\n",
    "    def __init__(self):\n",
    "        self.sequences = None \n",
    "        self.users = None\n",
    "        self.targets = None #movie ids\n",
    "        self.item_samples = None\n",
    "        self.y_true = None\n",
    "        \n",
    "    \n",
    "    def shuffle(self):\n",
    "\n",
    "        shuffle_indices = np.arange(len(self.sequences))\n",
    "        np.random.shuffle(shuffle_indices)\n",
    "\n",
    "        self.sequences = self.sequences[shuffle_indices]\n",
    "        self.users = self.users[shuffle_indices]\n",
    "        self.targets = self.targets[shuffle_indices]\n",
    "\n",
    "        if self.item_samples is not None:\n",
    "            self.item_samples = self.item_samples[shuffle_indices]\n",
    "        if self.y_true is not None:\n",
    "            self.y_true = self.y_true[shuffle_indices]\n",
    "        \n",
    "class Interactions:\n",
    "    def __init__(self, data_root, sequence_length = 5, target_length = 1):\n",
    "        self.user_interactions = []\n",
    "        self.user_ratings = []\n",
    "        self.train = Instances()\n",
    "        self.test = Instances()\n",
    "        self.data_root = data_root\n",
    "        self.num_users = 0\n",
    "        self.num_items = 0\n",
    "        self.num_sequences = 0\n",
    "\n",
    "        self.sequence_length = sequence_length\n",
    "        self.target_length = target_length\n",
    "\n",
    "    def data_preprocess(self):\n",
    "        print('Root', self.data_root)\n",
    "        self._read_file(self.data_root+'/ml-1m/train_set_sequences')\n",
    "        self._read_file(self.data_root+'/ml-1m/test_set_sequences')\n",
    "        self._read_file(self.data_root+'/ml-1m/val_set_sequences')\n",
    "\n",
    "        self.user_interactions = np.array(self.user_interactions)\n",
    "        self.user_ratings = np.array(self.user_ratings)\n",
    "\n",
    "        self.num_users = self.user_interactions.shape[0]\n",
    "        self.num_items = np.max(np.concatenate(self.user_interactions[:]))\n",
    "\n",
    "        print('num_users = ', self.num_users)\n",
    "        print('num_items = ', self.num_items)\n",
    "\n",
    "\n",
    "        self.x_n_ratings = np.array([self.user_ratings[user_id].shape[0] for user_id in range (self.num_users)])\n",
    "        self.x_var_ratings = np.array([np.var(self.user_ratings[user_id]) for user_id in range(self.num_users)])\n",
    "        self.x_avg_ratings = np.array([np.mean(self.user_ratings[user_id]) for user_id in range(self.num_users)])\n",
    "\n",
    "        with open(self.data_root+'/ml-1m/user_similarity.pkl','rb') as f:\n",
    "            self.x_similarity = pickle.load(f)\n",
    "\n",
    "        movie_mapping = {}\n",
    "        with open(self.data_root + '/ml-1m/item_id_mapping','rb') as f:\n",
    "            f.readline()\n",
    "            for l in f:\n",
    "                origin, new = l.strip().split()\n",
    "                movie_mapping[int(new) + 1] = int(origin)\n",
    "\n",
    "        # print(movie_mapping)\n",
    "        movie_genres = {}\n",
    "        with open(self.data_root + '/ml-1m/movies.dat','rb') as f:\n",
    "            for l in f:\n",
    "                # print(l)\n",
    "                mid, _, genre = l.strip().decode('latin-1').split('::')\n",
    "                # print(mid, genre)\n",
    "                movie_genres[int(mid)] = genre\n",
    "        # movie_genres\n",
    "\n",
    "        self.x_n_genres = np.zeros(self.num_users)\n",
    "        for user_id in range(self.num_users):\n",
    "            genres = []\n",
    "            for movie_id in self.user_interactions[user_id]:\n",
    "                genres += movie_genres[movie_mapping[movie_id]].split('|')\n",
    "            self.x_n_genres[user_id] = len(set(genres))\n",
    "\n",
    "    def _read_file(self, file_path):\n",
    "        with open(file_path, 'r') as fin:\n",
    "            for line in fin:\n",
    "                item_ratings = line.strip().split()[1:]\n",
    "                item_ratings_np = np.array(item_ratings).astype(np.int64).reshape(-1,2)\n",
    "\n",
    "                item_ratings_np[:, 0] += 1 ### Adding 1 to the item_id, 0 reads as padding\n",
    "                item_ratings_np[:, 1] *= 2 ### Rating is multiplied by 2, now counts as 10\n",
    "\n",
    "                ### users must have rated at least 15 items\n",
    "                if item_ratings_np.shape[0] >= 15: \n",
    "                    self.user_interactions.append(item_ratings_np[:, 0])\n",
    "                    self.user_ratings.append(item_ratings_np[:, 1])\n",
    "\n",
    "    def create_test_train_instances(self):\n",
    "        self._create_test_instances()\n",
    "        self._create_train_instances()\n",
    "\n",
    "    def _create_test_instances(self):\n",
    "\n",
    "        ### Creating last item as prediction item\n",
    "        self.test.targets = []\n",
    "\n",
    "        ### Targets compaible with softmax output\n",
    "        # for interactions in self.user_interactions:\n",
    "        #     T = np.zeros(self.num_items)\n",
    "        #     T[interactions[-self.target_length:]-1] = 1\n",
    "        #     self.test.targets.append(T)\n",
    "        # self.test.targets = np.array(self.test.targets).reshape(-1, self.num_items)\n",
    "        # print('test.targets.shape:', len(self.test.targets))\n",
    "\n",
    "        ### Test targets are compaible with sigmoid output and sparse softmax out\n",
    "        for interactions in self.user_interactions:\n",
    "            # self.test.targets.append(interactions[-self.target_length:])\n",
    "            self.test.targets.append(interactions[-self.target_length:]-1)\n",
    "        self.test.targets = np.array(self.test.targets).reshape(-1, self.target_length)\n",
    "        print('test.targets.shape:', self.test.targets.shape)\n",
    "\n",
    "        ### users\n",
    "        self.test.users = np.arange(self.num_users).reshape(-1, 1)\n",
    "        print('test.users.shape:', self.test.users.shape)\n",
    "\n",
    "        ### \n",
    "        self.test.sequences = []\n",
    "        for interaction in self.user_interactions:\n",
    "            # interaction = interaction[:-self.target_length]\n",
    "            if len(interaction) < self.sequence_length:\n",
    "                num_paddings = self.sequence_length - len(interaction)\n",
    "                interaction = np.pad(interaction, (num_paddings, 0), 'constant')\n",
    "            else:\n",
    "                interaction = interaction[-self.sequence_length:]\n",
    "\n",
    "            self.test.sequences.append(interaction)\n",
    "        self.test.sequences = np.array(self.test.sequences)\n",
    "        print('test.sequences.shape:', self.test.sequences.shape)\n",
    "\n",
    "    def _create_train_instances(self):\n",
    "        max_sequence_length = self.sequence_length + self.target_length\n",
    "        self.train.sequences = []\n",
    "        self.train.users = []\n",
    "        self.train.targets = []\n",
    "\n",
    "        self.user_sequence_indexes = [list() for i in range(self.num_users)]\n",
    "\n",
    "        sequence_index = 0\n",
    "        for user_id, interaction in enumerate(self.user_interactions):\n",
    "            # interaction = interaction[:-self.target_length]\n",
    "\n",
    "            if len(interaction) < max_sequence_length:\n",
    "                num_paddings = max_sequence_length - len(interaction)\n",
    "                interaction = np.pad(interaction, (num_paddings, 0), 'constant')\n",
    "\n",
    "                self._add_sequence(interaction[:self.sequence_length],\n",
    "                                   user_id,\n",
    "                                   interaction[-self.target_length:],\n",
    "                                   sequence_index)\n",
    "                sequence_index += 1\n",
    "            \n",
    "            else:\n",
    "                for ind in range(len(interaction), max_sequence_length-1, -1):\n",
    "                    temp_sequence = interaction[ind - max_sequence_length: ind]\n",
    "                    self._add_sequence(temp_sequence[:self.sequence_length],\n",
    "                                   user_id,\n",
    "                                   temp_sequence[-self.target_length:],\n",
    "                                   sequence_index)\n",
    "                    sequence_index += 1\n",
    "\n",
    "        self.train.sequences = np.array(self.train.sequences)\n",
    "        self.train.users = np.array(self.train.users).reshape(-1,1)\n",
    "        self.train.targets = np.array(self.train.targets)\n",
    "\n",
    "        for user_id in range(self.num_users):\n",
    "            self.user_sequence_indexes[user_id] = np.array(self.user_sequence_indexes[user_id])\n",
    "        self.user_sequence_indexes = np.array(self.user_sequence_indexes)\n",
    "\n",
    "        self.num_sequences = sequence_index\n",
    "\n",
    "    \n",
    "    def _add_sequence(self, seq, usr, target, sequence_index):\n",
    "        self.train.sequences.append(seq)\n",
    "        self.train.users.append(usr)\n",
    "\n",
    "        # target_vector = np.zeros(self.num_items)\n",
    "        # target_vector[target-1] = 1\n",
    "        # self.train.targets.append(target_vector)\n",
    "\n",
    "        # self.train.targets.append(target)\n",
    "        self.train.targets.append(target-1)\n",
    "        self.user_sequence_indexes[usr].append(sequence_index)\n",
    "        \n",
    "\n",
    "\n",
    "def _generate_negative_samples(data, n):\n",
    "    \"\"\"\n",
    "    Sample negative from a candidate set of each user. The\n",
    "    candidate set of each user is defined by:\n",
    "    {All Items} \\ {Items Rated by User}\n",
    "\n",
    "    Parameters\n",
    "    ----------\n",
    "\n",
    "    users: array of np.int64\n",
    "        sequence users\n",
    "    interactions: :class:`spotlight.interactions.Interactions`\n",
    "        training instances, used for generate candidates\n",
    "    n: int\n",
    "        total number of negatives to sample for each sequence\n",
    "    \"\"\"\n",
    "    negative_candidate_item = dict()\n",
    "    users_ = data.train.users.squeeze()\n",
    "    negative_samples = np.zeros((users_.shape[0], n), np.int64)\n",
    "\n",
    "    ### set candidate items for negetive samples for each user\n",
    "    all_items = np.arange(data.num_items - 1) + 1  # 0 for padding\n",
    "    for user_id in range(data.num_users):\n",
    "        negative_candidate_item[user_id] = list(set(all_items) - set(data.user_interactions[user_id]))\n",
    "\n",
    "    for i, u in enumerate(users_):\n",
    "        for j in range(n):\n",
    "            negative_item = negative_candidate_item[u]\n",
    "            negative_samples[i, j] = negative_item[np.random.randint(len(negative_item))]\n",
    "\n",
    "    return negative_samples\n",
    "\n",
    "# returns both positive and negative targets with their labels\n",
    "def get_target_samples(data, num_negative_samples=1):\n",
    "    negatives_np = _generate_negative_samples(data, num_negative_samples)\n",
    "    data.train.item_samples = np.concatenate((data.train.targets, negatives_np), axis=1)\n",
    "\n",
    "    y_pos = np.ones(data.train.targets.shape[0]).reshape(-1,1)\n",
    "    y_neg = np.zeros((negatives_np.shape[0], num_negative_samples)).reshape(-1,num_negative_samples)\n",
    "\n",
    "    data.train.y_true = np.concatenate((y_pos, y_neg), axis=1)\n",
    "\n",
    "    # return item_samples, y_true\n",
    "\n"
   ]
  },
  {
   "cell_type": "markdown",
   "metadata": {
    "id": "bgALY2UIlsOU"
   },
   "source": [
    "### Instance Spliter"
   ]
  },
  {
   "cell_type": "code",
   "execution_count": 4,
   "metadata": {
    "id": "GvVaRppTzUBo"
   },
   "outputs": [],
   "source": [
    "class InstanceSpliter:\n",
    "\n",
    "    def __init__(self, data, k_fold = 5):\n",
    "        self.data = data\n",
    "        self.k_fold = k_fold\n",
    "\n",
    "    def generate_folds(self):\n",
    "        n_user_fold = self.data.num_users // self.k_fold\n",
    "        user_ids = np.arange(self.data.num_users)\n",
    "        np.random.shuffle(user_ids)\n",
    "\n",
    "        ### Find folds for users\n",
    "        self.user_fold_indexes = []\n",
    "        for fold in range(self.k_fold):\n",
    "            self.user_fold_indexes.append(user_ids[fold*n_user_fold : (fold+1)*n_user_fold])\n",
    "        self.user_fold_indexes = np.array(self.user_fold_indexes)\n",
    "\n",
    "    def get_sequence_indexes(self, fold_indexes):\n",
    "        # print(fold_indexes)\n",
    "        return np.concatenate(self.data.user_sequence_indexes[fold_indexes])\n",
    "\n",
    "    def get_sequence(self, sequence_indexes, isTest=False):\n",
    "        _instances = Instances()\n",
    "        if isTest:\n",
    "            _split_instances = self.data.test\n",
    "        else:\n",
    "            _split_instances = self.data.train\n",
    "\n",
    "        _instances.users = _split_instances.users[sequence_indexes]\n",
    "        _instances.sequences = _split_instances.sequences[sequence_indexes]\n",
    "        _instances.targets = _split_instances.targets[sequence_indexes]\n",
    "        if not isTest:\n",
    "            if _instances.item_samples is not None:\n",
    "                _instances.item_samples = _split_instances.item_samples[sequence_indexes]\n",
    "            if _instances.y_true is not None:\n",
    "                _instances.y_true = _split_instances.y_true[sequence_indexes]\n",
    "\n",
    "        return _instances\n",
    "\n",
    "    def split_data(self, fold_id=0):\n",
    "        if fold_id >= self.k_fold:\n",
    "            raise Exception('Fold Id must be less than the k_fold')\n",
    "\n",
    "        test_user_indexes = self.user_fold_indexes[fold_id]\n",
    "        train_user_indexes = np.array(list(set(np.arange(self.data.num_users)) - set(self.user_fold_indexes[fold_id])))\n",
    "\n",
    "        return self.create_split(train_user_indexes, test_user_indexes)\n",
    "        \n",
    "    def create_split(self, train_user_indexes, test_user_indexes):    \n",
    "        train_sequence_indexes = self.get_sequence_indexes(train_user_indexes)\n",
    "        validation_sequence_indexes = self.get_sequence_indexes(test_user_indexes)\n",
    "\n",
    "        train_set = self.get_sequence(train_sequence_indexes)\n",
    "        validation_set = self.get_sequence(validation_sequence_indexes)\n",
    "        test_set = self.get_sequence(test_user_indexes, isTest=True)\n",
    "\n",
    "        # if len(set(train_set.users.squeeze()).intersection(set(test_set.users.squeeze())))==0:\n",
    "        # if len(set(train_user_indexes).intersection(set(test_user_indexes))) == 0:\n",
    "        #     print('Well Done')\n",
    "        # else:\n",
    "        #     print('Error Splitting')\n",
    "        print(train_set.users.shape, validation_set.users.shape, np.unique(train_set.users.squeeze()).shape, test_set.users.shape)\n",
    "\n",
    "        train_set.shuffle()\n",
    "        validation_set.shuffle()\n",
    "    \n",
    "        return train_set, validation_set, test_set\n",
    "\n",
    "    def split_within_user_strategy(self, fold_id=0, data_point_kept=1, name='most_recent'):\n",
    "        pass\n",
    "\n",
    "    '''\n",
    "    isMost: True will return the users that meet the criteria higher than the threshold, False will do the oppostie\n",
    "    For example, if isMost=True, and threshold=7.5 and the user wants the nicest user,\n",
    "    The method will choose the data between user data reduction technique in such a way that it will take the 'p' percent of users whose average ratings is higher than the threshold 7.5\n",
    "    and take all the users whose average ratings is less than the threshold.\n",
    "    For the training set, it will only take the users whose given average ratings are higher than the threshold 7.5\n",
    "\n",
    "    Riyi Qui set the threshold for different user data type:\n",
    "        Nicest User --> Average Ratings > 7.5 (x_avg_ratings > 7.5) \n",
    "            #threshold=7.50, split_array=data.x_avg_ratings, isMost=True, name='Nicest User'\n",
    "        Harshest User --> Average Ratings <= 7.5 (x_avg_ratings <= 7.5) \n",
    "            #threshold=7.50, split_array=data.x_avg_ratings, isMost=False, name='Harshest User'\n",
    "\n",
    "        Most Active User --> Number of Ratings > 100 (x_n_ratings > 100) \n",
    "            #threshold=100.00, split_array=data.x_n_ratings, isMost=True, name='Most Active User'\n",
    "        Least Active User --> Number of Ratings <= 100 (x_n_ratings <= 100) \n",
    "            #threshold=100.00, split_array=data.x_n_ratings, isMost=False, name='Least Active User'\n",
    "\n",
    "        Most Typical User --> Similarity Score > 0.13 (x_similarity > 0.13) \n",
    "            #threshold=0.13, split_array=data.x_similarity, isMost=True, name='Most Typical User'\n",
    "        Least Typical User --> Similarity Score <= 0.13 (x_similarity <= 0.13) \n",
    "            #threshold=0.13, split_array=data.x_similarity, isMost=False, name='Least Typical User'\n",
    "\n",
    "        Most Consistent User --> Varience Ratings > 4 (x_var_ratings > 4) \n",
    "            #threshold=4.00, split_array=data.x_var_ratings, isMost=True, name='Most Consistent User'\n",
    "        Least Consistent User --> Varience Ratings <= 4 (x_var_ratings <= 4) \n",
    "            #threshold=4.00, split_array=data.x_var_ratings, isMost=False, name='Least Consistent User'\n",
    "\n",
    "        Most Open Minded User --> Number of Genres > 16 (x_n_genres > 4) \n",
    "            #threshold=16.00, split_array=data.x_n_genres, isMost=True, name='Most Open Minded User'\n",
    "        Least Open Minded User --> Number of Genres <= 16 (x_n_genres <= 4) \n",
    "            #threshold=16.00, split_array=data.x_n_genres, isMost=False, name='Least Open Minded User'\n",
    "\n",
    "    '''\n",
    "\n",
    "    # def split(self, data, split_array, fold_id=0, threshold=7.5, retained_parcent=0.50, isMost=True, name='nicest user'):\n",
    "    def split_between_user_strategy(self, between_users, fold_id=0, retained_parcent=0.50, name='nicest'):\n",
    "\n",
    "        threshold = between_users[name]['threshold']\n",
    "        isMost = between_users[name]['isMost']\n",
    "        split_array = between_users[name]['split_array']\n",
    "        print(name, threshold, isMost, split_array)\n",
    "\n",
    "        \n",
    "        test_user_indexes = self.user_fold_indexes[fold_id]\n",
    "        if isMost:\n",
    "            test_user_indexes = test_user_indexes[np.where(split_array[test_user_indexes] > threshold)[0]]\n",
    "        else:\n",
    "            test_user_indexes = test_user_indexes[np.where(split_array[test_user_indexes] <= threshold)[0]]\n",
    "        # print(test_user_indexes)\n",
    "        test_fold_indexes = self.user_fold_indexes[fold_id]\n",
    "        if isMost:\n",
    "            idx_non_target_user = np.where(split_array <= threshold)[0]\n",
    "            idx_target_user = np.where(split_array > threshold)[0]\n",
    "        else:\n",
    "            idx_non_target_user = np.where(split_array > threshold)[0]\n",
    "            idx_target_user = np.where(split_array <= threshold)[0]\n",
    "\n",
    "        idx_non_target_user = np.array(list(set(idx_non_target_user) - set(test_fold_indexes)))\n",
    "        idx_target_user = np.array(list(set(idx_target_user) - set(test_user_indexes)))\n",
    "        idx_target_user = np.random.permutation(idx_target_user)[:int(len(idx_target_user)*retained_parcent)]\n",
    "        train_user_indexes = np.concatenate([idx_non_target_user, idx_target_user])\n",
    "        \n",
    "        return self.create_split(train_user_indexes, test_user_indexes)\n",
    "\n",
    "\n",
    "def init(seed=2022, sequence_length=10, target_length=1, k_fold=5):\n",
    "\n",
    "    data_root = DriveConnection().get_root('CosRec') #['Riyi', 'CosRec']\n",
    "    set_seed(seed)\n",
    "\n",
    "    # load dataset\n",
    "    instances = Interactions(data_root, sequence_length=sequence_length, target_length=target_length)\n",
    "    instances.data_preprocess()\n",
    "    instances.create_test_train_instances()\n",
    "\n",
    "    # get_target_samples(instances, num_negative_samples=1)\n",
    "\n",
    "    instance_spliter = InstanceSpliter(data=instances, k_fold=k_fold)\n",
    "    instance_spliter.generate_folds()\n",
    "\n",
    "    return instances, instance_spliter"
   ]
  },
  {
   "cell_type": "code",
   "execution_count": 5,
   "metadata": {
    "colab": {
     "base_uri": "https://localhost:8080/"
    },
    "executionInfo": {
     "elapsed": 42597,
     "status": "ok",
     "timestamp": 1667530759638,
     "user": {
      "displayName": "Research Group",
      "userId": "07008499032580121461"
     },
     "user_tz": 240
    },
    "id": "t0TkW1VcPjMJ",
    "outputId": "8bc8e458-9d5b-4d9e-bc0b-9d4a84f44c4f"
   },
   "outputs": [
    {
     "name": "stdout",
     "output_type": "stream",
     "text": [
      "Root data\n",
      "num_users =  6040\n",
      "num_items =  3416\n",
      "test.targets.shape: (6040, 1)\n",
      "test.users.shape: (6040, 1)\n",
      "test.sequences.shape: (6040, 100)\n",
      "(450972, 1) (104477, 1) (4832,) (1208, 1)\n"
     ]
    }
   ],
   "source": [
    "data, spliter = init(\n",
    "                     sequence_length=100,\n",
    "                     target_length=1,\n",
    "                     seed=2022,\n",
    "                     k_fold=5\n",
    ")\n",
    "train_instances, validation_instances, test_instances = spliter.split_data(fold_id=3)"
   ]
  },
  {
   "cell_type": "code",
   "execution_count": null,
   "metadata": {},
   "outputs": [],
   "source": []
  },
  {
   "cell_type": "markdown",
   "metadata": {
    "id": "sMbaNpTqGhVy"
   },
   "source": [
    "### Uncertainty Calculations"
   ]
  },
  {
   "cell_type": "code",
   "execution_count": 12,
   "metadata": {
    "id": "PvrgfzWwkaqn"
   },
   "outputs": [],
   "source": [
    "def CustomSparseCategoricalCrossentropyLoss(y_true, y_pred):\n",
    "    T = 10  \n",
    "    varience = y_pred[:, -1]\n",
    "    before_softmax = y_pred[:, :-1]\n",
    "\n",
    "    std = tf.sqrt(varience)\n",
    "    dist = tfd.Normal(loc=K.zeros_like(std), scale=std)\n",
    "\n",
    "    iterable = K.variable(np.ones(T))\n",
    "    monte_carlo_results = K.map_fn(crossentropy_loss(y_true, before_softmax, dist, data.num_items), elems=iterable, name='monte_carlo_results')\n",
    "    variance_loss = K.mean(monte_carlo_results, axis=0)\n",
    "\n",
    "    return K.log(variance_loss)\n",
    "\n",
    "def crossentropy_loss(y_true, y_pred, dist, n_category):\n",
    "    def map_fn(i):\n",
    "        std_samples = K.transpose(dist.sample(n_category))\n",
    "        # std_samples = K.reshape(std_samples, shape=(tf.shape(y_pred)[0], n_category))\n",
    "        distorted_loss = K.sparse_categorical_crossentropy(y_true, y_pred + std_samples, from_logits=True) #from_logis=True --> applies softmax first\n",
    "        return K.exp(distorted_loss)\n",
    "    return map_fn\n",
    "\n",
    "def CustomSparseTopKCategoricalAccuracy(y_true, y_pred):\n",
    "\n",
    "    varience = tf.reshape(y_pred[:,-1], (-1,1))\n",
    "    y_pred = y_pred[:,:-1]\n",
    "    y_pred = tf.nn.softmax(y_pred)\n",
    "\n",
    "    m = tf.keras.metrics.SparseTopKCategoricalAccuracy(k=20)\n",
    "    m.update_state(y_true, y_pred)\n",
    "    return m.result().numpy()"
   ]
  },
  {
   "cell_type": "code",
   "execution_count": 13,
   "metadata": {
    "id": "o7hb3VTaybg0"
   },
   "outputs": [],
   "source": [
    "epsilon = 0.000001\n",
    "\n",
    "def montecarlo_prediction(model, test_instances, T=100):\n",
    "    predictions = np.array([model.predict(test_instances.sequences, verbose=0) for _ in range(T)]) #(T, batch_size, (num_items+softplus))\n",
    "    # print(predictions.shape)\n",
    "    prediction_probabilities = np.mean(predictions, axis=0) #(T, batch_size, (num_items+softplus))\n",
    "    # print(prediction_probabilities.shape)\n",
    "    prediction_probabilities = prediction_probabilities[:, :-1] #(batch_size, num_items)\n",
    "    # print(predictions.shape)\n",
    "    softmax_predictions = tf.nn.softmax(prediction_probabilities)\n",
    "    prediction_variances = np.apply_along_axis(predictive_entropy, axis=1, arr=softmax_predictions) #(batch_size, 1), varience of each user\n",
    "    # print(prediction_variances.shape)\n",
    "\n",
    "    return (prediction_probabilities, prediction_variances)\n",
    "\n",
    "def predictive_entropy(prob):\n",
    "    return -1 * np.sum(np.log(prob+epsilon) * (prob))"
   ]
  },
  {
   "cell_type": "markdown",
   "metadata": {
    "id": "T_7xMoUq7XQe"
   },
   "source": [
    "### Recommendation Models"
   ]
  },
  {
   "cell_type": "markdown",
   "metadata": {
    "id": "ly0gpS-jO46U"
   },
   "source": [
    "#### CosRec"
   ]
  },
  {
   "cell_type": "code",
   "execution_count": null,
   "metadata": {
    "colab": {
     "base_uri": "https://localhost:8080/",
     "height": 571
    },
    "executionInfo": {
     "elapsed": 10542,
     "status": "error",
     "timestamp": 1667011988898,
     "user": {
      "displayName": "Research Group",
      "userId": "07008499032580121461"
     },
     "user_tz": 240
    },
    "id": "niOXDUpEO9R8",
    "outputId": "eb78d884-5ece-4bd2-b353-e476c2284587"
   },
   "outputs": [
    {
     "name": "stdout",
     "output_type": "stream",
     "text": [
      "user_embedding.shape =  (None, 1, 50)\n",
      "seq_embedding.shape =  (None, 200, 50)\n",
      "user_embed.shape =  (None, 50)\n",
      "item_i.shape =  (None, 200, 200, 50)\n",
      "item_j.shape =  (None, 200, 200, 50)\n",
      "concatenate_layer.shape =  (None, 200, 200, 100)\n",
      "conv_layer.shape =  (None, 200, 200, 128)\n",
      "conv_layer.shape =  (None, 198, 198, 128)\n",
      "conv_layer.shape =  (None, 198, 198, 256)\n",
      "conv_layer.shape =  (None, 196, 196, 256)\n",
      "avg_pool_layer.shape =  (None, 196, 196, 256)\n",
      "flatten_avg_pool_layer.shape =  (None, 9834496)\n"
     ]
    },
    {
     "ename": "ResourceExhaustedError",
     "evalue": "ignored",
     "output_type": "error",
     "traceback": [
      "\u001B[0;31m---------------------------------------------------------------------------\u001B[0m",
      "\u001B[0;31mResourceExhaustedError\u001B[0m                    Traceback (most recent call last)",
      "\u001B[0;32m<ipython-input-72-7b8982d9ed5d>\u001B[0m in \u001B[0;36m<module>\u001B[0;34m\u001B[0m\n\u001B[1;32m    169\u001B[0m \u001B[0;34m\u001B[0m\u001B[0m\n\u001B[1;32m    170\u001B[0m \u001B[0;34m\u001B[0m\u001B[0m\n\u001B[0;32m--> 171\u001B[0;31m \u001B[0mmodel\u001B[0m \u001B[0;34m=\u001B[0m \u001B[0mCosRec\u001B[0m\u001B[0;34m(\u001B[0m\u001B[0mdata\u001B[0m\u001B[0;34m,\u001B[0m \u001B[0mT\u001B[0m\u001B[0;34m=\u001B[0m\u001B[0;36m100\u001B[0m\u001B[0;34m)\u001B[0m\u001B[0;34m.\u001B[0m\u001B[0mget_model\u001B[0m\u001B[0;34m(\u001B[0m\u001B[0;34m)\u001B[0m\u001B[0;34m\u001B[0m\u001B[0;34m\u001B[0m\u001B[0m\n\u001B[0m\u001B[1;32m    172\u001B[0m \u001B[0mmodel\u001B[0m\u001B[0;34m.\u001B[0m\u001B[0msummary\u001B[0m\u001B[0;34m(\u001B[0m\u001B[0;34m)\u001B[0m\u001B[0;34m\u001B[0m\u001B[0;34m\u001B[0m\u001B[0m\n",
      "\u001B[0;32m<ipython-input-72-7b8982d9ed5d>\u001B[0m in \u001B[0;36mget_model\u001B[0;34m(self, isDropoutTraining)\u001B[0m\n\u001B[1;32m     96\u001B[0m                                         \u001B[0;31m#    kernel_initializer = tf.keras.initializers.LecunUniform(),\u001B[0m\u001B[0;34m\u001B[0m\u001B[0;34m\u001B[0m\u001B[0;34m\u001B[0m\u001B[0m\n\u001B[1;32m     97\u001B[0m                                         \u001B[0;31m#    name = \"prediction\"\u001B[0m\u001B[0;34m\u001B[0m\u001B[0;34m\u001B[0m\u001B[0;34m\u001B[0m\u001B[0m\n\u001B[0;32m---> 98\u001B[0;31m                                         )(avg_pool_layer) # #(batch_size, seq_len, seq_ln, embed_dm)\n\u001B[0m\u001B[1;32m     99\u001B[0m \u001B[0;34m\u001B[0m\u001B[0m\n\u001B[1;32m    100\u001B[0m         \u001B[0mprint\u001B[0m\u001B[0;34m(\u001B[0m\u001B[0;34m'fully_connected_layer.shape = '\u001B[0m\u001B[0;34m,\u001B[0m \u001B[0mfully_connected_layer\u001B[0m\u001B[0;34m.\u001B[0m\u001B[0mshape\u001B[0m\u001B[0;34m)\u001B[0m\u001B[0;34m\u001B[0m\u001B[0;34m\u001B[0m\u001B[0m\n",
      "\u001B[0;32m/usr/local/lib/python3.7/dist-packages/keras/utils/traceback_utils.py\u001B[0m in \u001B[0;36merror_handler\u001B[0;34m(*args, **kwargs)\u001B[0m\n\u001B[1;32m     65\u001B[0m     \u001B[0;32mexcept\u001B[0m \u001B[0mException\u001B[0m \u001B[0;32mas\u001B[0m \u001B[0me\u001B[0m\u001B[0;34m:\u001B[0m  \u001B[0;31m# pylint: disable=broad-except\u001B[0m\u001B[0;34m\u001B[0m\u001B[0;34m\u001B[0m\u001B[0m\n\u001B[1;32m     66\u001B[0m       \u001B[0mfiltered_tb\u001B[0m \u001B[0;34m=\u001B[0m \u001B[0m_process_traceback_frames\u001B[0m\u001B[0;34m(\u001B[0m\u001B[0me\u001B[0m\u001B[0;34m.\u001B[0m\u001B[0m__traceback__\u001B[0m\u001B[0;34m)\u001B[0m\u001B[0;34m\u001B[0m\u001B[0;34m\u001B[0m\u001B[0m\n\u001B[0;32m---> 67\u001B[0;31m       \u001B[0;32mraise\u001B[0m \u001B[0me\u001B[0m\u001B[0;34m.\u001B[0m\u001B[0mwith_traceback\u001B[0m\u001B[0;34m(\u001B[0m\u001B[0mfiltered_tb\u001B[0m\u001B[0;34m)\u001B[0m \u001B[0;32mfrom\u001B[0m \u001B[0;32mNone\u001B[0m\u001B[0;34m\u001B[0m\u001B[0;34m\u001B[0m\u001B[0m\n\u001B[0m\u001B[1;32m     68\u001B[0m     \u001B[0;32mfinally\u001B[0m\u001B[0;34m:\u001B[0m\u001B[0;34m\u001B[0m\u001B[0;34m\u001B[0m\u001B[0m\n\u001B[1;32m     69\u001B[0m       \u001B[0;32mdel\u001B[0m \u001B[0mfiltered_tb\u001B[0m\u001B[0;34m\u001B[0m\u001B[0;34m\u001B[0m\u001B[0m\n",
      "\u001B[0;32m/usr/local/lib/python3.7/dist-packages/keras/backend.py\u001B[0m in \u001B[0;36mrandom_uniform\u001B[0;34m(self, shape, minval, maxval, dtype)\u001B[0m\n\u001B[1;32m   1920\u001B[0m     return tf.random.uniform(\n\u001B[1;32m   1921\u001B[0m         \u001B[0mshape\u001B[0m\u001B[0;34m=\u001B[0m\u001B[0mshape\u001B[0m\u001B[0;34m,\u001B[0m \u001B[0mminval\u001B[0m\u001B[0;34m=\u001B[0m\u001B[0mminval\u001B[0m\u001B[0;34m,\u001B[0m \u001B[0mmaxval\u001B[0m\u001B[0;34m=\u001B[0m\u001B[0mmaxval\u001B[0m\u001B[0;34m,\u001B[0m \u001B[0mdtype\u001B[0m\u001B[0;34m=\u001B[0m\u001B[0mdtype\u001B[0m\u001B[0;34m,\u001B[0m\u001B[0;34m\u001B[0m\u001B[0;34m\u001B[0m\u001B[0m\n\u001B[0;32m-> 1922\u001B[0;31m         seed=self.make_legacy_seed())\n\u001B[0m\u001B[1;32m   1923\u001B[0m \u001B[0;34m\u001B[0m\u001B[0m\n\u001B[1;32m   1924\u001B[0m   \u001B[0;32mdef\u001B[0m \u001B[0mtruncated_normal\u001B[0m\u001B[0;34m(\u001B[0m\u001B[0mself\u001B[0m\u001B[0;34m,\u001B[0m \u001B[0mshape\u001B[0m\u001B[0;34m,\u001B[0m \u001B[0mmean\u001B[0m\u001B[0;34m=\u001B[0m\u001B[0;36m0.\u001B[0m\u001B[0;34m,\u001B[0m \u001B[0mstddev\u001B[0m\u001B[0;34m=\u001B[0m\u001B[0;36m1.\u001B[0m\u001B[0;34m,\u001B[0m \u001B[0mdtype\u001B[0m\u001B[0;34m=\u001B[0m\u001B[0;32mNone\u001B[0m\u001B[0;34m)\u001B[0m\u001B[0;34m:\u001B[0m\u001B[0;34m\u001B[0m\u001B[0;34m\u001B[0m\u001B[0m\n",
      "\u001B[0;31mResourceExhaustedError\u001B[0m: OOM when allocating tensor with shape[9834496,150] and type float on /job:localhost/replica:0/task:0/device:GPU:0 by allocator GPU_0_bfc [Op:RandomUniform]"
     ]
    }
   ],
   "source": [
    "class CosRec:\n",
    "    def __init__(self, data=None, sequence_length=10, T=10):\n",
    "        self.T = T\n",
    "        if not data:\n",
    "            self.sequence_length = sequence_length\n",
    "            self.num_users = 6040\n",
    "            self.num_items = 3416        # tf.keras.layers.InputLayer((28, 28, 1)),\n",
    "        else:\n",
    "            self.sequence_length = data.sequence_length\n",
    "            self.num_users = data.num_users\n",
    "            self.num_items = data.num_items        # tf.keras.layers.InputLayer((28, 28, 1)),\n",
    "\n",
    "    def get_model(self, isDropoutTraining=False):\n",
    "        embed_dim = 50 #d\n",
    "        fc_dim = 150\n",
    "        ac_fc = 'tanh'\n",
    "        drop_prob = 0.5\n",
    "        d = 50\n",
    "        block_num = 2\n",
    "        block_dim = [128, 256] #[2*embed_dim, 128, 256]\n",
    "\n",
    "        seq_input = tf.keras.layers.Input(shape=(self.sequence_length,), name='seq_input')\n",
    "        user_input = tf.keras.layers.Input(shape=(1,), name='user_input')\n",
    "        item_input = tf.keras.layers.Input(shape=(1,), name='item_input')\n",
    "\n",
    "\n",
    "\n",
    "        # (None, 1, 50)\n",
    "        user_embedding = tf.keras.layers.Embedding(\n",
    "            input_dim = self.num_users, \n",
    "            output_dim = embed_dim, \n",
    "            name='user_embedding',\n",
    "            embeddings_initializer='uniform',\n",
    "            embeddings_regularizer=tf.keras.regularizers.L2(0)\n",
    "        )(user_input)\n",
    "        \n",
    "        # (None, 1, 200)\n",
    "        # item_embedding = tf.keras.layers.Embedding(\n",
    "        #     input_dim = self.num_items, \n",
    "        #     output_dim = embed_dim+fc_dim, \n",
    "        #     name='item_embedding',\n",
    "        #     embeddings_initializer='uniform',\n",
    "        #     embeddings_regularizer=tf.keras.regularizers.L2(0)\n",
    "        # )\n",
    "\n",
    "        # (None, 5, 50)\n",
    "        seq_embedding = tf.keras.layers.Embedding(\n",
    "            input_dim = self.num_items, \n",
    "            output_dim = embed_dim,\n",
    "            name='seq_embedding',\n",
    "            embeddings_initializer='uniform',\n",
    "            embeddings_regularizer=tf.keras.regularizers.L2(0)\n",
    "        )(seq_input)\n",
    "\n",
    "        # seq_var = tf.keras.layers.Input(shape=(5,), name='seq_var')\n",
    "        # print(seq_var.shape)\n",
    "\n",
    "        print('user_embedding.shape = ', user_embedding.shape) \n",
    "        print('seq_embedding.shape = ', seq_embedding.shape) \n",
    "\n",
    "        usr_emb = tf.repeat(user_embedding, [self.sequence_length], axis=1)\n",
    "\n",
    "        user_embed = tf.squeeze(user_embedding, axis=1)\n",
    "        print('user_embed.shape = ', user_embed.shape)\n",
    "\n",
    "        item_i = tf.expand_dims(seq_embedding, axis = 1) #(batch_size, 1, seq_len, embed_dm)\n",
    "        item_i = tf.repeat(item_i, [self.sequence_length], axis=1) #(batch_size, seq_len, seq_len, embed_dm)\n",
    "        item_j = tf.expand_dims(seq_embedding, axis = 2) #(batch_size, seq_len, 1, embed_dm)\n",
    "        item_j = tf.repeat(item_j, [self.sequence_length], axis=2) #(batch_size, seq_len, seq_ln, embed_dm)\n",
    "\n",
    "        print('item_i.shape = ', item_i.shape)\n",
    "        print('item_j.shape = ', item_j.shape)\n",
    "\n",
    "        conv_layer = tf.keras.layers.Concatenate(axis=-1)([item_i, item_j]) #(batch_size, seq_len, seq_ln, 2*embed_dm)\n",
    "        print('concatenate_layer.shape = ', conv_layer.shape)\n",
    "\n",
    "        # # conv_layer = all_embed\n",
    "        # # out = tf.keras.layers.Permute((3,1,2))(all_embed)\n",
    "        # print('conv_layer.shape = ', conv_layer.shape)\n",
    "\n",
    "        for i in range(block_num):\n",
    "            conv_layer = tf.keras.layers.Conv2D(block_dim[i], kernel_size=1, strides=(1, 1), activation='relu')(conv_layer)\n",
    "            print('conv_layer.shape = ', conv_layer.shape)\n",
    "            conv_layer = tf.keras.layers.Conv2D(block_dim[i], kernel_size=3, activation='relu')(conv_layer)\n",
    "            print('conv_layer.shape = ', conv_layer.shape)\n",
    "\n",
    "        avg_pool_layer = tf.keras.layers.AveragePooling2D(pool_size=(1,1))(conv_layer)\n",
    "\n",
    "        print('avg_pool_layer.shape = ', avg_pool_layer.shape)\n",
    "\n",
    "        avg_pool_layer = tf.keras.layers.Flatten()(avg_pool_layer) #(batch_size, seq_len-kernel_size*len(block_num), seq_ln-kernel_size*len(block_num), block_dim[-1])\n",
    "\n",
    "        print('flatten_avg_pool_layer.shape = ', avg_pool_layer.shape)\n",
    "\n",
    "        fully_connected_layer = tf.keras.layers.Dense(fc_dim, \n",
    "                                        activation='relu',\n",
    "                                        #    kernel_initializer = tf.keras.initializers.LecunUniform(), \n",
    "                                        #    name = \"prediction\"\n",
    "                                        )(avg_pool_layer) # #(batch_size, seq_len * seq_ln * block_dim[-1])\n",
    "\n",
    "        print('fully_connected_layer.shape = ', fully_connected_layer.shape)\n",
    "        \n",
    "        dropout_layer = tf.keras.layers.Dropout(drop_prob)(fully_connected_layer, training=isDropoutTraining)\n",
    "        # print('dropout_layer.shape = ', dropout_layer.shape)\n",
    "\n",
    "        \n",
    "        out = tf.keras.layers.Concatenate()([dropout_layer, tf.squeeze(user_embedding, axis=1)])\n",
    "        # print('out.shape = ', out.shape)\n",
    "\n",
    "        # Dropout Layer\n",
    "        out = tf.keras.layers.Dropout(drop_prob)(out, training=isDropoutTraining)\n",
    "\n",
    "\n",
    "        variance_layer = tf.keras.layers.Dense(1)(out)\n",
    "        variance_layer = tf.keras.layers.Activation(activation=tf.nn.softplus,name='variance_layer')(variance_layer)\n",
    "\n",
    "        W2 = tf.keras.layers.Embedding(input_dim = self.num_items, output_dim = embed_dim+fc_dim, \n",
    "                                                name='item_embedding_W2',\n",
    "                                                embeddings_initializer='uniform',\n",
    "                                                embeddings_regularizer=tf.keras.regularizers.L2(0)\n",
    "                                                )(item_input)\n",
    "        B2 = tf.keras.layers.Embedding(input_dim = self.num_items, output_dim = 1, \n",
    "                                                name='item_embedding_B2',\n",
    "                                                embeddings_initializer=tf.keras.initializers.Zeros()\n",
    "                                                )(item_input)\n",
    "        \n",
    "\n",
    "        # print('W2.shape = ', W2.shape)\n",
    "        # print('B2.shape = ', B2.shape)\n",
    "        # print(tf.expand_dims(out, axis=2).shape)\n",
    "        out = B2 + tf.linalg.matmul(W2, tf.expand_dims(out, axis=2))\n",
    "        # print('out.shape 1 = ', out.shape)\n",
    "        out = tf.squeeze(out, axis = 2)\n",
    "        # print('out.shape 2 = ', out.shape)\n",
    "        # print(out)\n",
    "        # logits = tf.keras.layers.Dense(3416)(dense_128)\n",
    "        # sigmoid_output = out\n",
    "        sigmoid_output = tf.keras.layers.Activation(activation=tf.nn.sigmoid,name='sigmoid_output')(out)\n",
    "        logits_variance = tf.keras.layers.concatenate([sigmoid_output, variance_layer], name='logits_variance')\n",
    "        # logits_variance = tf.keras.layers.concatenate([variance_layer], name='logits_variance')\n",
    "\n",
    "        model = tf.keras.Model(\n",
    "                                inputs=[seq_input, user_input, item_input], \n",
    "                                outputs=[logits_variance, sigmoid_output]\n",
    "                            )\n",
    "        \n",
    "        # model = tf.keras.Model(inputs=[seq_input, user_input, item_input], outputs=[sigmoid_output])\n",
    "\n",
    "        # model = tf.keras.models.Model(inputs=[user_input, item_input], \n",
    "        #                                 outputs=prediction)\n",
    "\n",
    "        ### model compile\n",
    "        model.compile(\n",
    "            optimizer=tf.keras.optimizers.Adam(learning_rate=2e-3, decay=1e-4),\n",
    "            loss={\n",
    "                'logits_variance': bayesian_binary_crossentropy(T=self.T),\n",
    "                'sigmoid_output': 'binary_crossentropy'\n",
    "            },\n",
    "            # metrics={\n",
    "            #     'logits_variance': bayesian_binary_crossentropy(100),\n",
    "            #     'sigmoid_output': tf.keras.metrics.binary_crossentropy\n",
    "            # },\n",
    "            loss_weights={\n",
    "                'logits_variance': 0.5, \n",
    "                'sigmoid_output': 1.0\n",
    "            }\n",
    "        )\n",
    "\n",
    "        return model\n",
    "\n",
    "\n",
    "model = CosRec(data, T=100).get_model()\n",
    "model.summary()"
   ]
  },
  {
   "cell_type": "code",
   "execution_count": null,
   "metadata": {
    "colab": {
     "base_uri": "https://localhost:8080/"
    },
    "executionInfo": {
     "elapsed": 4,
     "status": "ok",
     "timestamp": 1667011711057,
     "user": {
      "displayName": "Research Group",
      "userId": "07008499032580121461"
     },
     "user_tz": 240
    },
    "id": "mXhLrlt3GYPq",
    "outputId": "00c459a6-3e63-4678-989c-d6376d783319"
   },
   "outputs": [
    {
     "name": "stdout",
     "output_type": "stream",
     "text": [
      "(128, 50, 52)\n"
     ]
    }
   ],
   "source": [
    "x = tf.random.normal((128, 200, 50), dtype=tf.float32)\n",
    "x = tf.keras.layers.Permute((2, 1))(x) #(128, 50, 200)\n",
    "x = tf.expand_dims(x, axis=2) #(128, 50, 1, 200)\n",
    "x = tf.keras.layers.ZeroPadding2D(padding=1)(x)\n",
    "x = tf.keras.layers.Conv1D(50, kernel_size=3, dilation_rate=1)(x)\n",
    "\n",
    "x = tf.squeeze(x, axis=2) #(10, 50, 1, 200)\n",
    "x = tf.keras.layers.Permute((2, 1))(x) #(128, 50, 200)\n",
    "print(x.shape)\n",
    "\n"
   ]
  },
  {
   "cell_type": "code",
   "execution_count": null,
   "metadata": {
    "colab": {
     "base_uri": "https://localhost:8080/"
    },
    "executionInfo": {
     "elapsed": 4,
     "status": "ok",
     "timestamp": 1666732291136,
     "user": {
      "displayName": "Research Group",
      "userId": "07008499032580121461"
     },
     "user_tz": 240
    },
    "id": "GlUYBGB0_GdK",
    "outputId": "0695e205-d7ea-4ce3-82cd-16d6a06eaedc"
   },
   "outputs": [
    {
     "data": {
      "text/plain": [
       "<tensorflow_probability.python.layers.conv_variational.Conv2DReparameterization at 0x7f4aaab999d0>"
      ]
     },
     "execution_count": 2,
     "metadata": {},
     "output_type": "execute_result"
    }
   ],
   "source": [
    "divergence_fn = lambda q, p, _: tfd.kl_divergence(q, p) / train_instances.sequences.shape[0]\n",
    "\n",
    "tfpl.Convolution2DReparameterization(\n",
    "           input_shape = (128,6), filters = 8, kernel_size = 16,\n",
    "           activation = 'relu',\n",
    "           kernel_prior_fn = tfpl.default_multivariate_normal_fn,\n",
    "           kernel_posterior_fn = tfpl.default_mean_field_normal_fn(is_singular=False),\n",
    "           kernel_divergence_fn = divergence_fn,\n",
    "           bias_prior_fn = tfpl.default_multivariate_normal_fn,\n",
    "           bias_posterior_fn = tfpl.default_mean_field_normal_fn(is_singular=False),\n",
    "           bias_divergence_fn = divergence_fn)"
   ]
  },
  {
   "cell_type": "markdown",
   "metadata": {
    "id": "Z-TDePCl7jEe"
   },
   "source": [
    "#### NextItNet"
   ]
  },
  {
   "cell_type": "code",
   "execution_count": 18,
   "metadata": {
    "id": "W9em3MFWlTFY"
   },
   "outputs": [
    {
     "name": "stdout",
     "output_type": "stream",
     "text": [
      "Model: \"model_1\"\n",
      "__________________________________________________________________________________________________\n",
      " Layer (type)                   Output Shape         Param #     Connected to                     \n",
      "==================================================================================================\n",
      " seq_input (InputLayer)         [(None, 100)]        0           []                               \n",
      "                                                                                                  \n",
      " seq_embedding (Embedding)      (None, 100, 64)      218688      ['seq_input[0][0]']              \n",
      "                                                                                                  \n",
      " conv1d_reparameterization_3 (C  (None, 98, 32)      12352       ['seq_embedding[0][0]']          \n",
      " onv1DReparameterization)                                                                         \n",
      "                                                                                                  \n",
      " conv1d_reparameterization_4 (C  (None, 94, 32)      6208        ['conv1d_reparameterization_3[0][\n",
      " onv1DReparameterization)                                        0]']                             \n",
      "                                                                                                  \n",
      " conv1d_reparameterization_5 (C  (None, 86, 32)      6208        ['conv1d_reparameterization_4[0][\n",
      " onv1DReparameterization)                                        0]']                             \n",
      "                                                                                                  \n",
      " tf.__operators__.getitem_1 (Sl  (None, 32)          0           ['conv1d_reparameterization_5[0][\n",
      " icingOpLambda)                                                  0]']                             \n",
      "                                                                                                  \n",
      " tf.reshape_1 (TFOpLambda)      (None, 32)           0           ['tf.__operators__.getitem_1[0][0\n",
      "                                                                 ]']                              \n",
      "                                                                                                  \n",
      " dense_1 (Dense)                (None, 3416)         112728      ['tf.reshape_1[0][0]']           \n",
      "                                                                                                  \n",
      " variance (Dense)               (None, 1)            33          ['tf.reshape_1[0][0]']           \n",
      "                                                                                                  \n",
      " logits_variance (Concatenate)  (None, 3417)         0           ['dense_1[0][0]',                \n",
      "                                                                  'variance[0][0]']               \n",
      "                                                                                                  \n",
      "==================================================================================================\n",
      "Total params: 356,217\n",
      "Trainable params: 356,217\n",
      "Non-trainable params: 0\n",
      "__________________________________________________________________________________________________\n"
     ]
    }
   ],
   "source": [
    "# divergence_fn = lambda q, p, _: tfd.kl_divergence(q, p) / train_instances.sequences.shape[0]\n",
    "\n",
    "class NextItNet:\n",
    "    def __init__(self, data=None, sequence_length=10, T=10):\n",
    "        self.T = T\n",
    "        self.data = data\n",
    "        if not data:\n",
    "            self.sequence_length = sequence_length\n",
    "            self.num_users = 6040\n",
    "            self.num_items = 3416        # tf.keras.layers.InputLayer((28, 28, 1)),\n",
    "        else:\n",
    "            self.sequence_length = data.sequence_length\n",
    "            self.num_users = data.num_users\n",
    "            self.num_items = data.num_items      # Consider padding 0 a prediction\n",
    "\n",
    "    def get_model(self, isDropoutTraining=False):\n",
    "        divergence_fn = lambda q, p, _: tfd.kl_divergence(q, p) / self.data.train.sequences.shape[0]\n",
    "        embed_dim = 64          # 256\n",
    "        embed_size = 64         # 256\n",
    "        dilations = [1, 2, 4]   # [1, 4, 1, 4, 1, 4, 1, 4, 1, 4, 1, 4]\n",
    "        residual_channels = 32  # 256\n",
    "        kernel_size = 3         # 3\n",
    "\n",
    "        seq_input = tf.keras.layers.Input(shape=(self.sequence_length,), name='seq_input')\n",
    "\n",
    "        # (batch_size, sequence_length, embed_dim) --> (None, 100, 64)\n",
    "        seq_embedding = tf.keras.layers.Embedding(\n",
    "            input_dim = self.num_items+1, \n",
    "            output_dim = embed_size,\n",
    "            name='seq_embedding',\n",
    "            embeddings_initializer='uniform',       #embeding.weight.data.uniform_(-stdv, stdv) # important initializer, stdv = np.sqrt(1. / self.item_size)\n",
    "            embeddings_regularizer=tf.keras.regularizers.L2(0)\n",
    "        )(seq_input) #(batch_size, seq_len, embed_dim) = (None, 100, 64)\n",
    "\n",
    "        conv_layer = seq_embedding\n",
    "        # conv_layer = tf.keras.layers.Lambda(lambda x: tf.expand_dims(x, axis=-1))(seq_embedding) #(batch_size, seq_len, embed_dim, 1) (None, 100, 64, 1)\n",
    "\n",
    "        for dilation in dilations: #[1, 2, 4]\n",
    "\n",
    "            conv_layer = tfp.layers.Convolution1DReparameterization(\n",
    "            # conv_layer = tf.keras.layers.Conv1D(\n",
    "                    residual_channels, \n",
    "                    kernel_size=kernel_size, \n",
    "                    dilation_rate=dilation, \n",
    "                    padding='valid', \n",
    "                    activation='relu',\n",
    "                    kernel_prior_fn = tfpl.default_multivariate_normal_fn,\n",
    "                    kernel_posterior_fn = tfpl.default_mean_field_normal_fn(is_singular=False),\n",
    "                    kernel_divergence_fn = divergence_fn,\n",
    "                    bias_prior_fn = tfpl.default_multivariate_normal_fn,\n",
    "                    bias_posterior_fn = tfpl.default_mean_field_normal_fn(is_singular=False),\n",
    "                    bias_divergence_fn = divergence_fn,   \n",
    "                )(conv_layer) # (batch_size, seq_len, embed_dim, residual_channels) = (None, 100, 62, 32), (None, 100, 54, 32), (None, 100, 38, 32)\n",
    "\n",
    "            # conv_layer = tfp.layers.Convolution1DReparameterization(\n",
    "            # # conv_layer = tf.keras.layers.Conv1D(\n",
    "            #         residual_channels, \n",
    "            #         kernel_size=kernel_size, \n",
    "            #         dilation_rate=dilation * 2, \n",
    "            #         padding='valid', \n",
    "            #         activation='relu',\n",
    "            #         kernel_prior_fn = tfpl.default_multivariate_normal_fn,\n",
    "            #         kernel_posterior_fn = tfpl.default_mean_field_normal_fn(is_singular=False),\n",
    "            #         kernel_divergence_fn = divergence_fn,\n",
    "            #         bias_prior_fn = tfpl.default_multivariate_normal_fn,\n",
    "            #         bias_posterior_fn = tfpl.default_mean_field_normal_fn(is_singular=False),\n",
    "            #         bias_divergence_fn = divergence_fn,   \n",
    "            #     )(conv_layer) # (batch_size, seq_len, embed_dim, residual_channels) = (None, 100, 58, 32), (None, 100, 46, 32), (None, 100, 22, 32)\n",
    "                \n",
    "\n",
    "        flatten_layer = tf.reshape(conv_layer[:, -1,], (-1, residual_channels)) # (batch_size, embed_dim) = (None, 32)\n",
    "        # fully_connected_layer = tf.keras.layers.Dense(residual_channels)(flatten_layer)\n",
    "        variance_layer = tf.keras.layers.Dense(1, activation='softplus',name='variance')(flatten_layer)\n",
    "\n",
    "\n",
    "        fully_connected_layer = tf.keras.layers.Dense(self.num_items)(flatten_layer) # (batch_size, num_items) = (None, 3417)\n",
    "\n",
    "        # softmax_output = tf.keras.layers.Activation(activation=tf.nn.softmax,name='softmax_output')(fully_connected_layer)\n",
    "        # logits_variance = tf.keras.layers.concatenate([softmax_output, variance_layer], name='logits_variance')\n",
    "        logits_variance = tf.keras.layers.concatenate([fully_connected_layer, variance_layer], name='logits_variance')\n",
    "\n",
    "        model = tf.keras.Model(\n",
    "                                inputs=seq_input, \n",
    "                                outputs=logits_variance,\n",
    "                                # outputs=logits_variance,\n",
    "                            )\n",
    "        ### model compile\n",
    "        model.compile(\n",
    "            optimizer=tf.keras.optimizers.Adam(learning_rate=2e-3, decay=1e-4),\n",
    "            loss=CustomSparseCategoricalCrossentropyLoss,\n",
    "            metrics=[CustomSparseTopKCategoricalAccuracy],\n",
    "        )\n",
    "        \n",
    "        return model\n",
    "\n",
    "model = NextItNet(data, T=100).get_model()\n",
    "model.summary()"
   ]
  },
  {
   "cell_type": "code",
   "execution_count": null,
   "metadata": {
    "colab": {
     "base_uri": "https://localhost:8080/",
     "height": 415
    },
    "executionInfo": {
     "elapsed": 60972,
     "status": "error",
     "timestamp": 1667363697526,
     "user": {
      "displayName": "Research Group",
      "userId": "07008499032580121461"
     },
     "user_tz": 240
    },
    "id": "KpjBC0Uv74Md",
    "outputId": "a8db8556-e4db-4081-f600-53cce2fe3ca6"
   },
   "outputs": [
    {
     "name": "stdout",
     "output_type": "stream",
     "text": [
      "Epoch 1/10\n",
      "712/881 [=======================>......] - ETA: 1:49 - loss: 7.4588 - CustomSparseTopKCategoricalAccuracy: 0.0493"
     ]
    }
   ],
   "source": [
    "max_epochs = 10\n",
    "verbose = 1\n",
    "batch_size = 512\n",
    "\n",
    "history = model.fit(\n",
    "        x = train_instances.sequences, \n",
    "        y = train_instances.targets,\n",
    "        \n",
    "        epochs=max_epochs,\n",
    "        verbose=verbose, \n",
    "        batch_size=batch_size,\n",
    "        # validation_split = 0.20,\n",
    "        validation_data=(\n",
    "            validation_instances.sequences, \n",
    "            validation_instances.targets\n",
    "        ),\n",
    "        validation_batch_size=batch_size,\n",
    "        # callbacks = tf.keras.callbacks.EarlyStopping(),\n",
    "    )"
   ]
  },
  {
   "cell_type": "code",
   "execution_count": null,
   "metadata": {
    "colab": {
     "base_uri": "https://localhost:8080/"
    },
    "executionInfo": {
     "elapsed": 5,
     "status": "ok",
     "timestamp": 1667089347257,
     "user": {
      "displayName": "Research Group",
      "userId": "07008499032580121461"
     },
     "user_tz": 240
    },
    "id": "VmfBuFmqRAbI",
    "outputId": "a64b5ff5-ee93-414d-f129-6c330ae59a64"
   },
   "outputs": [
    {
     "data": {
      "text/plain": [
       "{'loss': [7.136663913726807,\n",
       "  6.515041828155518,\n",
       "  6.266941070556641,\n",
       "  6.146278381347656,\n",
       "  6.069009304046631,\n",
       "  6.013511657714844,\n",
       "  5.970608234405518,\n",
       "  5.935953617095947,\n",
       "  5.904685020446777,\n",
       "  5.879324436187744,\n",
       "  5.855558395385742,\n",
       "  5.8357439041137695,\n",
       "  5.817441940307617,\n",
       "  5.800481796264648,\n",
       "  5.786498546600342,\n",
       "  5.771807670593262,\n",
       "  5.759812355041504,\n",
       "  5.747171878814697,\n",
       "  5.735742092132568,\n",
       "  5.72706937789917,\n",
       "  5.7169575691223145,\n",
       "  5.707153797149658,\n",
       "  5.698800086975098,\n",
       "  5.690714359283447,\n",
       "  5.6825432777404785,\n",
       "  5.675997734069824,\n",
       "  5.6681389808654785,\n",
       "  5.661430835723877,\n",
       "  5.655560493469238,\n",
       "  5.649385929107666,\n",
       "  5.642879486083984,\n",
       "  5.638031005859375,\n",
       "  5.632722854614258,\n",
       "  5.627090930938721,\n",
       "  5.622797966003418,\n",
       "  5.617997646331787,\n",
       "  5.61323356628418,\n",
       "  5.609047889709473,\n",
       "  5.605047225952148,\n",
       "  5.600159168243408,\n",
       "  5.596489906311035,\n",
       "  5.592360019683838,\n",
       "  5.588875770568848,\n",
       "  5.58595085144043,\n",
       "  5.582059860229492,\n",
       "  5.579258441925049,\n",
       "  5.574853420257568,\n",
       "  5.5723557472229,\n",
       "  5.568917751312256,\n",
       "  5.5667500495910645],\n",
       " 'CustomSparseTopKCategoricalAccuracy': [0.08855459094047546,\n",
       "  0.17519846558570862,\n",
       "  0.21023938059806824,\n",
       "  0.22786132991313934,\n",
       "  0.2389991134405136,\n",
       "  0.24784304201602936,\n",
       "  0.25493666529655457,\n",
       "  0.2602992653846741,\n",
       "  0.2653177082538605,\n",
       "  0.26967549324035645,\n",
       "  0.27402961254119873,\n",
       "  0.27710795402526855,\n",
       "  0.2802659571170807,\n",
       "  0.28319084644317627,\n",
       "  0.2857285737991333,\n",
       "  0.28800633549690247,\n",
       "  0.2905706763267517,\n",
       "  0.2918055057525635,\n",
       "  0.2944815456867218,\n",
       "  0.29562780261039734,\n",
       "  0.2981136441230774,\n",
       "  0.2990867793560028,\n",
       "  0.3002933859825134,\n",
       "  0.3020297586917877,\n",
       "  0.30386531352996826,\n",
       "  0.30463707447052,\n",
       "  0.3059546947479248,\n",
       "  0.30701911449432373,\n",
       "  0.3085317015647888,\n",
       "  0.3095890283584595,\n",
       "  0.3107917010784149,\n",
       "  0.3122672736644745,\n",
       "  0.31227460503578186,\n",
       "  0.3135829269886017,\n",
       "  0.31423085927963257,\n",
       "  0.3151964247226715,\n",
       "  0.3161777853965759,\n",
       "  0.31708961725234985,\n",
       "  0.3173179626464844,\n",
       "  0.31851208209991455,\n",
       "  0.319179505109787,\n",
       "  0.3200811743736267,\n",
       "  0.3206542432308197,\n",
       "  0.3219289183616638,\n",
       "  0.32222676277160645,\n",
       "  0.32263025641441345,\n",
       "  0.323502779006958,\n",
       "  0.323968768119812,\n",
       "  0.3247808814048767,\n",
       "  0.32533472776412964],\n",
       " 'val_loss': [6.742137908935547,\n",
       "  6.434328556060791,\n",
       "  6.322102069854736,\n",
       "  6.275752067565918,\n",
       "  6.251907825469971,\n",
       "  6.239207744598389,\n",
       "  6.2364420890808105,\n",
       "  6.2384467124938965,\n",
       "  6.240182399749756,\n",
       "  6.249961853027344,\n",
       "  6.251082420349121,\n",
       "  6.254567623138428,\n",
       "  6.256295680999756,\n",
       "  6.270699501037598,\n",
       "  6.279906272888184,\n",
       "  6.285768508911133,\n",
       "  6.296149253845215,\n",
       "  6.305584907531738,\n",
       "  6.312399864196777,\n",
       "  6.3184895515441895,\n",
       "  6.327822685241699,\n",
       "  6.342092037200928,\n",
       "  6.343885898590088,\n",
       "  6.352182388305664,\n",
       "  6.361104488372803,\n",
       "  6.371042728424072,\n",
       "  6.379590034484863,\n",
       "  6.388291835784912,\n",
       "  6.389740467071533,\n",
       "  6.395533084869385,\n",
       "  6.404737949371338,\n",
       "  6.415858268737793,\n",
       "  6.418483257293701,\n",
       "  6.425567626953125,\n",
       "  6.433145046234131,\n",
       "  6.4438090324401855,\n",
       "  6.443640232086182,\n",
       "  6.448799133300781,\n",
       "  6.4558258056640625,\n",
       "  6.463815689086914,\n",
       "  6.465466499328613,\n",
       "  6.476632118225098,\n",
       "  6.4822468757629395,\n",
       "  6.487630367279053,\n",
       "  6.487734317779541,\n",
       "  6.503643989562988,\n",
       "  6.506577491760254,\n",
       "  6.512294292449951,\n",
       "  6.516920566558838,\n",
       "  6.514126777648926],\n",
       " 'val_CustomSparseTopKCategoricalAccuracy': [0.14248999953269958,\n",
       "  0.19127915799617767,\n",
       "  0.20769619941711426,\n",
       "  0.21693316102027893,\n",
       "  0.22195830941200256,\n",
       "  0.2245602160692215,\n",
       "  0.22750316560268402,\n",
       "  0.2286096066236496,\n",
       "  0.23021632432937622,\n",
       "  0.23069702088832855,\n",
       "  0.23113369941711426,\n",
       "  0.23093578219413757,\n",
       "  0.23315753042697906,\n",
       "  0.23274390399456024,\n",
       "  0.23214119672775269,\n",
       "  0.23309391736984253,\n",
       "  0.23247702419757843,\n",
       "  0.23107892274856567,\n",
       "  0.2313051074743271,\n",
       "  0.2319220006465912,\n",
       "  0.2314305603504181,\n",
       "  0.23070240020751953,\n",
       "  0.22992467880249023,\n",
       "  0.23004665970802307,\n",
       "  0.2297319918870926,\n",
       "  0.22988049685955048,\n",
       "  0.22907626628875732,\n",
       "  0.22931835055351257,\n",
       "  0.22874218225479126,\n",
       "  0.2283002883195877,\n",
       "  0.22766223549842834,\n",
       "  0.2277417778968811,\n",
       "  0.22743767499923706,\n",
       "  0.22693929076194763,\n",
       "  0.22733350098133087,\n",
       "  0.22631891071796417,\n",
       "  0.22705590724945068,\n",
       "  0.22567202150821686,\n",
       "  0.22557654976844788,\n",
       "  0.22612622380256653,\n",
       "  0.2257709801197052,\n",
       "  0.22570911049842834,\n",
       "  0.22571620345115662,\n",
       "  0.22474928200244904,\n",
       "  0.2243640422821045,\n",
       "  0.22406530380249023,\n",
       "  0.22451429069042206,\n",
       "  0.22398576140403748,\n",
       "  0.22530432045459747,\n",
       "  0.22382843494415283]}"
      ]
     },
     "execution_count": 60,
     "metadata": {},
     "output_type": "execute_result"
    }
   ],
   "source": [
    "history.history"
   ]
  },
  {
   "cell_type": "code",
   "execution_count": null,
   "metadata": {
    "colab": {
     "base_uri": "https://localhost:8080/"
    },
    "executionInfo": {
     "elapsed": 6096,
     "status": "ok",
     "timestamp": 1667015461848,
     "user": {
      "displayName": "Research Group",
      "userId": "07008499032580121461"
     },
     "user_tz": 240
    },
    "id": "an7qW21E7nVT",
    "outputId": "f152de0a-22a9-497b-f7ec-f2c50247ab41"
   },
   "outputs": [
    {
     "name": "stdout",
     "output_type": "stream",
     "text": [
      "seq_embedding.shape =  (None, 100, 64)\n",
      "expand_dims.shape =  (None, 100, 64, 1)\n",
      "dilation = 1 conv_layer.shape = (None, 100, 62, 32)\n",
      "dilation = 1 conv_layer.shape = (None, 100, 58, 32)\n",
      "dilation = 2 conv_layer.shape = (None, 100, 54, 32)\n",
      "dilation = 2 conv_layer.shape = (None, 100, 46, 32)\n",
      "dilation = 4 conv_layer.shape = (None, 100, 38, 32)\n",
      "dilation = 4 conv_layer.shape = (None, 100, 22, 32)\n",
      "flatten_layer.shape = (None, 32)\n",
      "fully_connected_layer.shape = (None, 3417)\n",
      "Model: \"model\"\n",
      "_________________________________________________________________\n",
      " Layer (type)                Output Shape              Param #   \n",
      "=================================================================\n",
      " seq_input (InputLayer)      [(None, 100)]             0         \n",
      "                                                                 \n",
      " seq_embedding (Embedding)   (None, 100, 64)           218688    \n",
      "                                                                 \n",
      " lambda (Lambda)             (None, 100, 64, 1)        0         \n",
      "                                                                 \n",
      " conv1d (Conv1D)             (None, 100, 62, 32)       128       \n",
      "                                                                 \n",
      " conv1d_1 (Conv1D)           (None, 100, 58, 32)       3104      \n",
      "                                                                 \n",
      " conv1d_2 (Conv1D)           (None, 100, 54, 32)       3104      \n",
      "                                                                 \n",
      " conv1d_3 (Conv1D)           (None, 100, 46, 32)       3104      \n",
      "                                                                 \n",
      " conv1d_4 (Conv1D)           (None, 100, 38, 32)       3104      \n",
      "                                                                 \n",
      " conv1d_5 (Conv1D)           (None, 100, 22, 32)       3104      \n",
      "                                                                 \n",
      " tf.__operators__.getitem (S  (None, 32)               0         \n",
      " licingOpLambda)                                                 \n",
      "                                                                 \n",
      " tf.reshape (TFOpLambda)     (None, 32)                0         \n",
      "                                                                 \n",
      " dense (Dense)               (None, 3417)              112761    \n",
      "                                                                 \n",
      " softmax_output (Activation)  (None, 3417)             0         \n",
      "                                                                 \n",
      "=================================================================\n",
      "Total params: 347,097\n",
      "Trainable params: 347,097\n",
      "Non-trainable params: 0\n",
      "_________________________________________________________________\n"
     ]
    }
   ],
   "source": [
    "### Vanila NextItNet\n",
    "class NextItNet:\n",
    "    def __init__(self, data=None, sequence_length=10, T=10):\n",
    "        self.T = T\n",
    "        if not data:\n",
    "            self.sequence_length = sequence_length\n",
    "            self.num_users = 6040\n",
    "            self.num_items = 3417        # tf.keras.layers.InputLayer((28, 28, 1)),\n",
    "        else:\n",
    "            self.sequence_length = data.sequence_length\n",
    "            self.num_users = data.num_users\n",
    "            self.num_items = data.num_items + 1      # Consider padding 0 a prediction\n",
    "\n",
    "    def get_model(self, isDropoutTraining=False):\n",
    "        embed_dim = 64\n",
    "        embed_size = 64\n",
    "        dilations = [1, 2, 4]\n",
    "        residual_channels = 32\n",
    "        kernel_size = 3\n",
    "\n",
    "        seq_input = tf.keras.layers.Input(shape=(self.sequence_length,), name='seq_input')\n",
    "\n",
    "        # (None, 5, 50)\n",
    "        seq_embedding = tf.keras.layers.Embedding(\n",
    "            input_dim = self.num_items, \n",
    "            output_dim = embed_size,\n",
    "            name='seq_embedding',\n",
    "            embeddings_initializer='uniform',\n",
    "            embeddings_regularizer=tf.keras.regularizers.L2(0)\n",
    "        )(seq_input) #(batch_size, seq_len, embed_dim) = (None, 100, 64)\n",
    "\n",
    "\n",
    "        conv_layer = tf.keras.layers.Lambda(lambda x: tf.expand_dims(x, axis=-1))(seq_embedding) #(batch_size, seq_len, embed_dim, 1) (None, 100, 64, 1)\n",
    "\n",
    "        for dilation in dilations: #[1, 2, 4]\n",
    "            conv_layer = tf.keras.layers.Conv1D(\n",
    "                    residual_channels, \n",
    "                    kernel_size=kernel_size, \n",
    "                    dilation_rate=dilation, \n",
    "                    padding='valid', \n",
    "                    activation='relu')(conv_layer) # (batch_size, seq_len, embed_dim, residual_channels) = (None, 100, 62, 32), (None, 100, 54, 32), (None, 100, 38, 32)\n",
    "\n",
    "            conv_layer = tf.keras.layers.Conv1D(\n",
    "                    residual_channels, \n",
    "                    kernel_size=kernel_size, \n",
    "                    dilation_rate=dilation*2, \n",
    "                    padding='valid', \n",
    "                    activation='relu')(conv_layer) # (batch_size, seq_len, embed_dim, residual_channels) = (None, 100, 58, 32), (None, 100, 46, 32), (None, 100, 22, 32)\n",
    "\n",
    "\n",
    "        flatten_layer = tf.reshape(conv_layer[:, -1, -1], (-1, residual_channels)) # (batch_size, embed_dim) = (None, 32)\n",
    "        # fully_connected_layer = tf.keras.layers.Dense(residual_channels)(flatten_layer)\n",
    "        fully_connected_layer = tf.keras.layers.Dense(self.num_items)(flatten_layer) # (batch_size, num_items) = (None, 3417)\n",
    "\n",
    "        softmax_output = tf.keras.layers.Activation(activation=tf.nn.softmax,name='softmax_output')(fully_connected_layer)\n",
    "\n",
    "        model = tf.keras.Model(\n",
    "                                inputs=seq_input, \n",
    "                                outputs=softmax_output,\n",
    "                            )\n",
    "        ### model compile\n",
    "        model.compile(\n",
    "            optimizer=tf.keras.optimizers.Adam(learning_rate=2e-3, decay=1e-4),\n",
    "            loss=tf.keras.losses.SparseCategoricalCrossentropy(),\n",
    "            metrics=[tf.keras.metrics.SparseTopKCategoricalAccuracy(k=20)],\n",
    "        )\n",
    "        \n",
    "        return model\n",
    "\n",
    "model = NextItNet(data, T=100).get_model()\n",
    "model.summary()"
   ]
  },
  {
   "cell_type": "code",
   "execution_count": null,
   "metadata": {
    "colab": {
     "base_uri": "https://localhost:8080/"
    },
    "executionInfo": {
     "elapsed": 3761935,
     "status": "ok",
     "timestamp": 1667038611230,
     "user": {
      "displayName": "Research Group",
      "userId": "07008499032580121461"
     },
     "user_tz": 240
    },
    "id": "W7cM6usgvY1_",
    "outputId": "22479a2d-6ff0-46c3-e507-3b2e8cb5a31a"
   },
   "outputs": [
    {
     "name": "stderr",
     "output_type": "stream",
     "text": [
      "/usr/local/lib/python3.7/dist-packages/tensorflow/python/data/ops/structured_function.py:265: UserWarning: Even though the `tf.config.experimental_run_functions_eagerly` option is set, this option does not apply to tf.data functions. To force eager execution of tf.data functions, please use `tf.data.experimental.enable_debug_mode()`.\n",
      "  \"Even though the `tf.config.experimental_run_functions_eagerly` \"\n"
     ]
    },
    {
     "name": "stdout",
     "output_type": "stream",
     "text": [
      "Epoch 1/50\n",
      "3456/3456 [==============================] - 471s 134ms/step - loss: 7.3997 - sparse_top_k_categorical_accuracy: 0.0509 - val_loss: 7.1325 - val_sparse_top_k_categorical_accuracy: 0.0891\n",
      "Epoch 2/50\n",
      "3456/3456 [==============================] - 462s 134ms/step - loss: 6.9979 - sparse_top_k_categorical_accuracy: 0.1115 - val_loss: 6.9635 - val_sparse_top_k_categorical_accuracy: 0.1205\n",
      "Epoch 3/50\n",
      "3456/3456 [==============================] - 461s 134ms/step - loss: 6.8737 - sparse_top_k_categorical_accuracy: 0.1299 - val_loss: 6.9133 - val_sparse_top_k_categorical_accuracy: 0.1313\n",
      "Epoch 4/50\n",
      "3456/3456 [==============================] - 461s 133ms/step - loss: 6.8105 - sparse_top_k_categorical_accuracy: 0.1408 - val_loss: 6.8841 - val_sparse_top_k_categorical_accuracy: 0.1394\n",
      "Epoch 5/50\n",
      "3456/3456 [==============================] - 462s 134ms/step - loss: 6.7692 - sparse_top_k_categorical_accuracy: 0.1481 - val_loss: 6.8701 - val_sparse_top_k_categorical_accuracy: 0.1432\n",
      "Epoch 6/50\n",
      "3456/3456 [==============================] - 461s 133ms/step - loss: 6.7380 - sparse_top_k_categorical_accuracy: 0.1544 - val_loss: 6.8580 - val_sparse_top_k_categorical_accuracy: 0.1475\n",
      "Epoch 7/50\n",
      "3456/3456 [==============================] - 461s 133ms/step - loss: 6.7135 - sparse_top_k_categorical_accuracy: 0.1585 - val_loss: 6.8541 - val_sparse_top_k_categorical_accuracy: 0.1504\n",
      "Epoch 8/50\n",
      "3456/3456 [==============================] - 461s 133ms/step - loss: 6.6948 - sparse_top_k_categorical_accuracy: 0.1620 - val_loss: 6.8439 - val_sparse_top_k_categorical_accuracy: 0.1529\n",
      "Epoch 9/50\n",
      "3456/3456 [==============================] - 461s 133ms/step - loss: 6.6796 - sparse_top_k_categorical_accuracy: 0.1640 - val_loss: 6.8361 - val_sparse_top_k_categorical_accuracy: 0.1541\n",
      "Epoch 10/50\n",
      "3456/3456 [==============================] - 461s 133ms/step - loss: 6.6674 - sparse_top_k_categorical_accuracy: 0.1659 - val_loss: 6.8316 - val_sparse_top_k_categorical_accuracy: 0.1556\n",
      "Epoch 11/50\n",
      "3456/3456 [==============================] - 461s 133ms/step - loss: 6.6575 - sparse_top_k_categorical_accuracy: 0.1677 - val_loss: 6.8303 - val_sparse_top_k_categorical_accuracy: 0.1566\n",
      "Epoch 12/50\n",
      "3456/3456 [==============================] - 461s 133ms/step - loss: 6.6490 - sparse_top_k_categorical_accuracy: 0.1691 - val_loss: 6.8302 - val_sparse_top_k_categorical_accuracy: 0.1574\n",
      "Epoch 13/50\n",
      "3456/3456 [==============================] - 461s 133ms/step - loss: 6.6418 - sparse_top_k_categorical_accuracy: 0.1704 - val_loss: 6.8277 - val_sparse_top_k_categorical_accuracy: 0.1578\n",
      "Epoch 14/50\n",
      "3456/3456 [==============================] - 461s 133ms/step - loss: 6.6359 - sparse_top_k_categorical_accuracy: 0.1711 - val_loss: 6.8284 - val_sparse_top_k_categorical_accuracy: 0.1585\n",
      "Epoch 15/50\n",
      "3456/3456 [==============================] - 461s 133ms/step - loss: 6.6306 - sparse_top_k_categorical_accuracy: 0.1717 - val_loss: 6.8253 - val_sparse_top_k_categorical_accuracy: 0.1584\n",
      "Epoch 16/50\n",
      "3456/3456 [==============================] - 463s 134ms/step - loss: 6.6261 - sparse_top_k_categorical_accuracy: 0.1729 - val_loss: 6.8231 - val_sparse_top_k_categorical_accuracy: 0.1591\n",
      "Epoch 17/50\n",
      "3456/3456 [==============================] - 468s 135ms/step - loss: 6.6220 - sparse_top_k_categorical_accuracy: 0.1729 - val_loss: 6.8284 - val_sparse_top_k_categorical_accuracy: 0.1598\n",
      "Epoch 18/50\n",
      "3456/3456 [==============================] - 467s 135ms/step - loss: 6.6184 - sparse_top_k_categorical_accuracy: 0.1735 - val_loss: 6.8238 - val_sparse_top_k_categorical_accuracy: 0.1592\n",
      "Epoch 19/50\n",
      "3456/3456 [==============================] - 462s 134ms/step - loss: 6.6154 - sparse_top_k_categorical_accuracy: 0.1740 - val_loss: 6.8216 - val_sparse_top_k_categorical_accuracy: 0.1597\n",
      "Epoch 20/50\n",
      "3456/3456 [==============================] - 461s 133ms/step - loss: 6.6126 - sparse_top_k_categorical_accuracy: 0.1742 - val_loss: 6.8196 - val_sparse_top_k_categorical_accuracy: 0.1598\n",
      "Epoch 21/50\n",
      "3456/3456 [==============================] - 462s 134ms/step - loss: 6.6101 - sparse_top_k_categorical_accuracy: 0.1745 - val_loss: 6.8235 - val_sparse_top_k_categorical_accuracy: 0.1600\n",
      "Epoch 22/50\n",
      "3456/3456 [==============================] - 463s 134ms/step - loss: 6.6077 - sparse_top_k_categorical_accuracy: 0.1749 - val_loss: 6.8213 - val_sparse_top_k_categorical_accuracy: 0.1605\n",
      "Epoch 23/50\n",
      "3456/3456 [==============================] - 463s 134ms/step - loss: 6.6055 - sparse_top_k_categorical_accuracy: 0.1752 - val_loss: 6.8222 - val_sparse_top_k_categorical_accuracy: 0.1600\n",
      "Epoch 24/50\n",
      "3456/3456 [==============================] - 462s 134ms/step - loss: 6.6036 - sparse_top_k_categorical_accuracy: 0.1757 - val_loss: 6.8237 - val_sparse_top_k_categorical_accuracy: 0.1600\n",
      "Epoch 25/50\n",
      "3456/3456 [==============================] - 463s 134ms/step - loss: 6.6017 - sparse_top_k_categorical_accuracy: 0.1756 - val_loss: 6.8223 - val_sparse_top_k_categorical_accuracy: 0.1603\n",
      "Epoch 26/50\n",
      "3456/3456 [==============================] - 466s 135ms/step - loss: 6.6001 - sparse_top_k_categorical_accuracy: 0.1761 - val_loss: 6.8205 - val_sparse_top_k_categorical_accuracy: 0.1601\n",
      "Epoch 27/50\n",
      "3456/3456 [==============================] - 462s 134ms/step - loss: 6.5986 - sparse_top_k_categorical_accuracy: 0.1762 - val_loss: 6.8271 - val_sparse_top_k_categorical_accuracy: 0.1604\n",
      "Epoch 28/50\n",
      "3456/3456 [==============================] - 461s 133ms/step - loss: 6.5970 - sparse_top_k_categorical_accuracy: 0.1765 - val_loss: 6.8202 - val_sparse_top_k_categorical_accuracy: 0.1604\n",
      "Epoch 29/50\n",
      "3456/3456 [==============================] - 461s 133ms/step - loss: 6.5956 - sparse_top_k_categorical_accuracy: 0.1768 - val_loss: 6.8200 - val_sparse_top_k_categorical_accuracy: 0.1608\n",
      "Epoch 30/50\n",
      "3456/3456 [==============================] - 462s 134ms/step - loss: 6.5943 - sparse_top_k_categorical_accuracy: 0.1768 - val_loss: 6.8215 - val_sparse_top_k_categorical_accuracy: 0.1604\n",
      "Epoch 31/50\n",
      "3456/3456 [==============================] - 462s 134ms/step - loss: 6.5932 - sparse_top_k_categorical_accuracy: 0.1773 - val_loss: 6.8232 - val_sparse_top_k_categorical_accuracy: 0.1611\n",
      "Epoch 32/50\n",
      "3456/3456 [==============================] - 462s 134ms/step - loss: 6.5921 - sparse_top_k_categorical_accuracy: 0.1770 - val_loss: 6.8210 - val_sparse_top_k_categorical_accuracy: 0.1609\n",
      "Epoch 33/50\n",
      "3456/3456 [==============================] - 462s 134ms/step - loss: 6.5910 - sparse_top_k_categorical_accuracy: 0.1775 - val_loss: 6.8226 - val_sparse_top_k_categorical_accuracy: 0.1607\n",
      "Epoch 34/50\n",
      "3456/3456 [==============================] - 462s 134ms/step - loss: 6.5900 - sparse_top_k_categorical_accuracy: 0.1776 - val_loss: 6.8206 - val_sparse_top_k_categorical_accuracy: 0.1609\n",
      "Epoch 35/50\n",
      "3456/3456 [==============================] - 462s 134ms/step - loss: 6.5890 - sparse_top_k_categorical_accuracy: 0.1776 - val_loss: 6.8231 - val_sparse_top_k_categorical_accuracy: 0.1609\n",
      "Epoch 36/50\n",
      "3456/3456 [==============================] - 467s 135ms/step - loss: 6.5882 - sparse_top_k_categorical_accuracy: 0.1780 - val_loss: 6.8220 - val_sparse_top_k_categorical_accuracy: 0.1608\n",
      "Epoch 37/50\n",
      "3456/3456 [==============================] - 465s 134ms/step - loss: 6.5873 - sparse_top_k_categorical_accuracy: 0.1778 - val_loss: 6.8231 - val_sparse_top_k_categorical_accuracy: 0.1608\n",
      "Epoch 38/50\n",
      "3456/3456 [==============================] - 463s 134ms/step - loss: 6.5865 - sparse_top_k_categorical_accuracy: 0.1781 - val_loss: 6.8214 - val_sparse_top_k_categorical_accuracy: 0.1613\n",
      "Epoch 39/50\n",
      "3456/3456 [==============================] - 463s 134ms/step - loss: 6.5857 - sparse_top_k_categorical_accuracy: 0.1779 - val_loss: 6.8219 - val_sparse_top_k_categorical_accuracy: 0.1614\n",
      "Epoch 40/50\n",
      "3456/3456 [==============================] - 465s 135ms/step - loss: 6.5850 - sparse_top_k_categorical_accuracy: 0.1783 - val_loss: 6.8212 - val_sparse_top_k_categorical_accuracy: 0.1617\n",
      "Epoch 41/50\n",
      "3456/3456 [==============================] - 464s 134ms/step - loss: 6.5843 - sparse_top_k_categorical_accuracy: 0.1783 - val_loss: 6.8240 - val_sparse_top_k_categorical_accuracy: 0.1610\n",
      "Epoch 42/50\n",
      "3456/3456 [==============================] - 464s 134ms/step - loss: 6.5836 - sparse_top_k_categorical_accuracy: 0.1783 - val_loss: 6.8223 - val_sparse_top_k_categorical_accuracy: 0.1616\n",
      "Epoch 43/50\n",
      "3456/3456 [==============================] - 464s 134ms/step - loss: 6.5829 - sparse_top_k_categorical_accuracy: 0.1784 - val_loss: 6.8223 - val_sparse_top_k_categorical_accuracy: 0.1611\n",
      "Epoch 44/50\n",
      "3456/3456 [==============================] - 464s 134ms/step - loss: 6.5823 - sparse_top_k_categorical_accuracy: 0.1787 - val_loss: 6.8208 - val_sparse_top_k_categorical_accuracy: 0.1614\n",
      "Epoch 45/50\n",
      "3456/3456 [==============================] - 464s 134ms/step - loss: 6.5818 - sparse_top_k_categorical_accuracy: 0.1788 - val_loss: 6.8217 - val_sparse_top_k_categorical_accuracy: 0.1614\n",
      "Epoch 46/50\n",
      "3456/3456 [==============================] - 463s 134ms/step - loss: 6.5812 - sparse_top_k_categorical_accuracy: 0.1788 - val_loss: 6.8223 - val_sparse_top_k_categorical_accuracy: 0.1611\n",
      "Epoch 47/50\n",
      "3456/3456 [==============================] - 464s 134ms/step - loss: 6.5806 - sparse_top_k_categorical_accuracy: 0.1791 - val_loss: 6.8208 - val_sparse_top_k_categorical_accuracy: 0.1613\n",
      "Epoch 48/50\n",
      "3456/3456 [==============================] - 463s 134ms/step - loss: 6.5801 - sparse_top_k_categorical_accuracy: 0.1792 - val_loss: 6.8243 - val_sparse_top_k_categorical_accuracy: 0.1614\n",
      "Epoch 49/50\n",
      "3456/3456 [==============================] - 463s 134ms/step - loss: 6.5797 - sparse_top_k_categorical_accuracy: 0.1792 - val_loss: 6.8232 - val_sparse_top_k_categorical_accuracy: 0.1616\n",
      "Epoch 50/50\n",
      "3456/3456 [==============================] - 463s 134ms/step - loss: 6.5791 - sparse_top_k_categorical_accuracy: 0.1791 - val_loss: 6.8210 - val_sparse_top_k_categorical_accuracy: 0.1612\n"
     ]
    }
   ],
   "source": [
    "max_epochs = 50\n",
    "verbose = 1\n",
    "batch_size = 128\n",
    "\n",
    "history = model.fit(\n",
    "        x = train_instances.sequences, \n",
    "        y = train_instances.targets,\n",
    "        \n",
    "        epochs=max_epochs,\n",
    "        verbose=verbose, \n",
    "        batch_size=batch_size,\n",
    "        # validation_split = 0.20,\n",
    "        validation_data=(\n",
    "            validation_instances.sequences, \n",
    "            validation_instances.targets\n",
    "        ),\n",
    "        validation_batch_size=batch_size,\n",
    "        # callbacks = tf.keras.callbacks.EarlyStopping(),\n",
    "    )"
   ]
  },
  {
   "cell_type": "markdown",
   "metadata": {
    "id": "Qav8lr4W-ko8"
   },
   "source": [
    "#### GRU"
   ]
  },
  {
   "cell_type": "code",
   "execution_count": null,
   "metadata": {
    "colab": {
     "base_uri": "https://localhost:8080/"
    },
    "executionInfo": {
     "elapsed": 1291,
     "status": "ok",
     "timestamp": 1667062532671,
     "user": {
      "displayName": "Research Group",
      "userId": "07008499032580121461"
     },
     "user_tz": 240
    },
    "id": "0BhKdtXHlVPk",
    "outputId": "72de8937-6d33-4420-c97b-af23e842a251"
   },
   "outputs": [
    {
     "name": "stdout",
     "output_type": "stream",
     "text": [
      "item_embedding.shape: (None, 100, 200)\n",
      "gru_layer.shape: (None, 100)\n",
      "dropout_layer.shape: (None, 100)\n",
      "fully_connected_layer.shape: (None, 32)\n",
      "Model: \"model_11\"\n",
      "__________________________________________________________________________________________________\n",
      " Layer (type)                   Output Shape         Param #     Connected to                     \n",
      "==================================================================================================\n",
      " input (InputLayer)             [(None, 100)]        0           []                               \n",
      "                                                                                                  \n",
      " embedding_11 (Embedding)       (None, 100, 200)     683400      ['input[0][0]']                  \n",
      "                                                                                                  \n",
      " dropout_33 (Dropout)           (None, 100, 200)     0           ['embedding_11[0][0]']           \n",
      "                                                                                                  \n",
      " gru_11 (GRU)                   (None, 100)          90600       ['dropout_33[0][0]']             \n",
      "                                                                                                  \n",
      " dropout_34 (Dropout)           (None, 100)          0           ['gru_11[0][0]']                 \n",
      "                                                                                                  \n",
      " dense_22 (Dense)               (None, 32)           3232        ['dropout_34[0][0]']             \n",
      "                                                                                                  \n",
      " dropout_35 (Dropout)           (None, 32)           0           ['dense_22[0][0]']               \n",
      "                                                                                                  \n",
      " dense_23 (Dense)               (None, 3417)         112761      ['dropout_35[0][0]']             \n",
      "                                                                                                  \n",
      " softmax_output (Activation)    (None, 3417)         0           ['dense_23[0][0]']               \n",
      "                                                                                                  \n",
      " variance (Dense)               (None, 1)            33          ['dropout_35[0][0]']             \n",
      "                                                                                                  \n",
      " logits_variance (Concatenate)  (None, 3418)         0           ['softmax_output[0][0]',         \n",
      "                                                                  'variance[0][0]']               \n",
      "                                                                                                  \n",
      "==================================================================================================\n",
      "Total params: 890,026\n",
      "Trainable params: 890,026\n",
      "Non-trainable params: 0\n",
      "__________________________________________________________________________________________________\n"
     ]
    }
   ],
   "source": [
    "class GRU:\n",
    "    def __init__(self, data=None, sequence_length=10, T=10):\n",
    "        self.T = T\n",
    "        if not data:\n",
    "            self.sequence_length = sequence_length\n",
    "            self.num_users = 6040\n",
    "            self.num_items = 3417        # tf.keras.layers.InputLayer((28, 28, 1)),\n",
    "        else:\n",
    "            self.sequence_length = data.sequence_length\n",
    "            self.num_users = data.num_users\n",
    "            self.num_items = data.num_items + 1        # tf.keras.layers.InputLayer((28, 28, 1)),\n",
    "    \n",
    "    '''\n",
    "        dropout_flag is set to True when calculating epistemic uncertainty and it is set to False for aleatoric uncertainty calculations\n",
    "        \n",
    "    '''\n",
    "    def get_model(self, drop_prob = 0.5, dropout_flag=True):\n",
    "        embed_dim = 200\n",
    "\n",
    "        seq_input = tf.keras.Input(shape=self.sequence_length,name='input')\n",
    "\n",
    "        item_embedding = tf.keras.layers.Embedding(\n",
    "            input_dim=self.num_items, \n",
    "            output_dim=embed_dim, \n",
    "            mask_zero=True)(seq_input)\n",
    "\n",
    "        print('item_embedding.shape:', item_embedding.shape)\n",
    "\n",
    "        item_embedding_dropout = tf.keras.layers.Dropout(drop_prob)(item_embedding, training=dropout_flag)\n",
    "        gru_layer = tf.keras.layers.GRU(100)(item_embedding_dropout)\n",
    "        print('gru_layer.shape:', gru_layer.shape)\n",
    "\n",
    "        gru_dropout = tf.keras.layers.Dropout(drop_prob)(gru_layer, training=dropout_flag)\n",
    "        print('dropout_layer.shape:', gru_dropout.shape)\n",
    "\n",
    "        fully_connected_layer = tf.keras.layers.Dense(32, activation=tf.nn.relu)(gru_dropout)\n",
    "        print('fully_connected_layer.shape:', fully_connected_layer.shape)\n",
    "\n",
    "        fully_connected_dropout = tf.keras.layers.Dropout(drop_prob)(fully_connected_layer, training=dropout_flag)\n",
    "\n",
    "        variance_layer = tf.keras.layers.Dense(1, activation='softplus',name='variance')(fully_connected_dropout)\n",
    "\n",
    "        fully_connected_layer = tf.keras.layers.Dense(self.num_items)(fully_connected_dropout)\n",
    "        # fully_connected_dropout = tf.keras.layers.Dropout(drop_prob)(fully_connected_layer, training=dropout_flag)\n",
    "\n",
    "        softmax_output = tf.keras.layers.Activation(activation=tf.nn.softmax,name='softmax_output')(fully_connected_layer)\n",
    "\n",
    "        logits_variance = tf.keras.layers.concatenate([softmax_output, variance_layer], name='logits_variance')\n",
    "\n",
    "\n",
    "        model = tf.keras.Model(inputs=seq_input, outputs=logits_variance)\n",
    "        # model = tf.keras.Model(inputs=seq_input, outputs=[logits_variance,softmax_output])\n",
    "\n",
    "        model.compile(\n",
    "            optimizer=tf.keras.optimizers.Adam(learning_rate=2e-3, decay=1e-4),\n",
    "            loss=CustomSparseCategoricalCrossentropyLoss(),\n",
    "            metrics=[CustomSparseTopKCategoricalAccuracy],\n",
    "        )\n",
    "        \n",
    "        return model\n",
    "\n",
    "model = GRU(data, T=100).get_model()\n",
    "model.summary()"
   ]
  },
  {
   "cell_type": "code",
   "execution_count": null,
   "metadata": {
    "colab": {
     "base_uri": "https://localhost:8080/",
     "height": 1000
    },
    "executionInfo": {
     "elapsed": 4398342,
     "status": "error",
     "timestamp": 1667066932495,
     "user": {
      "displayName": "Research Group",
      "userId": "07008499032580121461"
     },
     "user_tz": 240
    },
    "id": "t_h3em4EmZ7p",
    "outputId": "63fec5f2-0e8d-49eb-c179-ee41ad49c5ca"
   },
   "outputs": [
    {
     "name": "stdout",
     "output_type": "stream",
     "text": [
      "Epoch 1/50\n",
      " 28/432 [>.............................] - ETA: 3:01 - loss: 8.0029 - CustomSparseTopKCategoricalAccuracy: 0.0201"
     ]
    },
    {
     "name": "stderr",
     "output_type": "stream",
     "text": [
      "ERROR:tensorflow:==================================\n",
      "Object was never used (type <class 'tensorflow.python.ops.tensor_array_ops.TensorArray'>):\n",
      "<tensorflow.python.ops.tensor_array_ops.TensorArray object at 0x7f74b035edd0>\n",
      "If you want to mark it as used call its \"mark_used()\" method.\n",
      "It was originally created here:\n",
      "  File \"/usr/local/lib/python3.7/dist-packages/keras/backend.py\", line 4734, in <genexpr>\n",
      "    for ta, out in zip(output_ta_t, flat_new_output))  File \"/usr/local/lib/python3.7/dist-packages/tensorflow/python/util/tf_should_use.py\", line 245, in wrapped\n",
      "    error_in_function=error_in_function)\n",
      "==================================\n"
     ]
    },
    {
     "name": "stdout",
     "output_type": "stream",
     "text": [
      "432/432 [==============================] - 217s 503ms/step - loss: 7.4935 - CustomSparseTopKCategoricalAccuracy: 0.0400 - val_loss: 7.1666 - val_CustomSparseTopKCategoricalAccuracy: 0.0751\n",
      "Epoch 2/50\n",
      "432/432 [==============================] - 216s 501ms/step - loss: 6.9908 - CustomSparseTopKCategoricalAccuracy: 0.0957 - val_loss: 6.9019 - val_CustomSparseTopKCategoricalAccuracy: 0.1094\n",
      "Epoch 3/50\n",
      "432/432 [==============================] - 217s 502ms/step - loss: 6.7776 - CustomSparseTopKCategoricalAccuracy: 0.1237 - val_loss: 6.7484 - val_CustomSparseTopKCategoricalAccuracy: 0.1294\n",
      "Epoch 4/50\n",
      "432/432 [==============================] - 220s 508ms/step - loss: 6.6576 - CustomSparseTopKCategoricalAccuracy: 0.1378 - val_loss: 6.6735 - val_CustomSparseTopKCategoricalAccuracy: 0.1374\n",
      "Epoch 5/50\n",
      "432/432 [==============================] - 215s 497ms/step - loss: 6.5880 - CustomSparseTopKCategoricalAccuracy: 0.1453 - val_loss: 6.6307 - val_CustomSparseTopKCategoricalAccuracy: 0.1442\n",
      "Epoch 6/50\n",
      "432/432 [==============================] - 215s 497ms/step - loss: 6.5385 - CustomSparseTopKCategoricalAccuracy: 0.1515 - val_loss: 6.5961 - val_CustomSparseTopKCategoricalAccuracy: 0.1473\n",
      "Epoch 7/50\n",
      "432/432 [==============================] - 215s 497ms/step - loss: 6.4988 - CustomSparseTopKCategoricalAccuracy: 0.1558 - val_loss: 6.5657 - val_CustomSparseTopKCategoricalAccuracy: 0.1526\n",
      "Epoch 8/50\n",
      "432/432 [==============================] - 214s 496ms/step - loss: 6.4715 - CustomSparseTopKCategoricalAccuracy: 0.1593 - val_loss: 6.5476 - val_CustomSparseTopKCategoricalAccuracy: 0.1531\n",
      "Epoch 9/50\n",
      "432/432 [==============================] - 214s 496ms/step - loss: 6.4462 - CustomSparseTopKCategoricalAccuracy: 0.1623 - val_loss: 6.5306 - val_CustomSparseTopKCategoricalAccuracy: 0.1556\n",
      "Epoch 10/50\n",
      "432/432 [==============================] - 215s 497ms/step - loss: 6.4265 - CustomSparseTopKCategoricalAccuracy: 0.1639 - val_loss: 6.5184 - val_CustomSparseTopKCategoricalAccuracy: 0.1562\n",
      "Epoch 11/50\n",
      "432/432 [==============================] - 213s 494ms/step - loss: 6.4113 - CustomSparseTopKCategoricalAccuracy: 0.1661 - val_loss: 6.5069 - val_CustomSparseTopKCategoricalAccuracy: 0.1589\n",
      "Epoch 12/50\n",
      "432/432 [==============================] - 216s 500ms/step - loss: 6.3947 - CustomSparseTopKCategoricalAccuracy: 0.1678 - val_loss: 6.5003 - val_CustomSparseTopKCategoricalAccuracy: 0.1590\n",
      "Epoch 13/50\n",
      "432/432 [==============================] - 214s 494ms/step - loss: 6.3839 - CustomSparseTopKCategoricalAccuracy: 0.1685 - val_loss: 6.4854 - val_CustomSparseTopKCategoricalAccuracy: 0.1616\n",
      "Epoch 14/50\n",
      "432/432 [==============================] - 214s 495ms/step - loss: 6.3707 - CustomSparseTopKCategoricalAccuracy: 0.1706 - val_loss: 6.4825 - val_CustomSparseTopKCategoricalAccuracy: 0.1627\n",
      "Epoch 15/50\n",
      "432/432 [==============================] - 214s 496ms/step - loss: 6.3638 - CustomSparseTopKCategoricalAccuracy: 0.1720 - val_loss: 6.4784 - val_CustomSparseTopKCategoricalAccuracy: 0.1628\n",
      "Epoch 16/50\n",
      "432/432 [==============================] - 213s 493ms/step - loss: 6.3532 - CustomSparseTopKCategoricalAccuracy: 0.1723 - val_loss: 6.4710 - val_CustomSparseTopKCategoricalAccuracy: 0.1618\n",
      "Epoch 17/50\n",
      "432/432 [==============================] - 210s 487ms/step - loss: 6.3461 - CustomSparseTopKCategoricalAccuracy: 0.1732 - val_loss: 6.4717 - val_CustomSparseTopKCategoricalAccuracy: 0.1652\n",
      "Epoch 18/50\n",
      "432/432 [==============================] - 211s 488ms/step - loss: 6.3382 - CustomSparseTopKCategoricalAccuracy: 0.1748 - val_loss: 6.4634 - val_CustomSparseTopKCategoricalAccuracy: 0.1642\n",
      "Epoch 19/50\n",
      "432/432 [==============================] - 214s 494ms/step - loss: 6.3319 - CustomSparseTopKCategoricalAccuracy: 0.1752 - val_loss: 6.4595 - val_CustomSparseTopKCategoricalAccuracy: 0.1633\n",
      "Epoch 20/50\n",
      "432/432 [==============================] - 213s 494ms/step - loss: 6.3265 - CustomSparseTopKCategoricalAccuracy: 0.1758 - val_loss: 6.4574 - val_CustomSparseTopKCategoricalAccuracy: 0.1656\n",
      "Epoch 21/50\n",
      "247/432 [================>.............] - ETA: 1:21 - loss: 6.3141 - CustomSparseTopKCategoricalAccuracy: 0.1773"
     ]
    },
    {
     "ename": "KeyboardInterrupt",
     "evalue": "ignored",
     "output_type": "error",
     "traceback": [
      "\u001B[0;31m---------------------------------------------------------------------------\u001B[0m",
      "\u001B[0;31mKeyboardInterrupt\u001B[0m                         Traceback (most recent call last)",
      "\u001B[0;32m<ipython-input-43-a1a58ad41a11>\u001B[0m in \u001B[0;36m<module>\u001B[0;34m\u001B[0m\n\u001B[1;32m     15\u001B[0m             \u001B[0mvalidation_instances\u001B[0m\u001B[0;34m.\u001B[0m\u001B[0mtargets\u001B[0m\u001B[0;34m\u001B[0m\u001B[0;34m\u001B[0m\u001B[0m\n\u001B[1;32m     16\u001B[0m         ),\n\u001B[0;32m---> 17\u001B[0;31m         \u001B[0mvalidation_batch_size\u001B[0m\u001B[0;34m=\u001B[0m\u001B[0mbatch_size\u001B[0m\u001B[0;34m,\u001B[0m\u001B[0;34m\u001B[0m\u001B[0;34m\u001B[0m\u001B[0m\n\u001B[0m\u001B[1;32m     18\u001B[0m         \u001B[0;31m# callbacks = tf.keras.callbacks.EarlyStopping(),\u001B[0m\u001B[0;34m\u001B[0m\u001B[0;34m\u001B[0m\u001B[0;34m\u001B[0m\u001B[0m\n\u001B[1;32m     19\u001B[0m     )\n",
      "\u001B[0;32m/usr/local/lib/python3.7/dist-packages/keras/utils/traceback_utils.py\u001B[0m in \u001B[0;36merror_handler\u001B[0;34m(*args, **kwargs)\u001B[0m\n\u001B[1;32m     62\u001B[0m     \u001B[0mfiltered_tb\u001B[0m \u001B[0;34m=\u001B[0m \u001B[0;32mNone\u001B[0m\u001B[0;34m\u001B[0m\u001B[0;34m\u001B[0m\u001B[0m\n\u001B[1;32m     63\u001B[0m     \u001B[0;32mtry\u001B[0m\u001B[0;34m:\u001B[0m\u001B[0;34m\u001B[0m\u001B[0;34m\u001B[0m\u001B[0m\n\u001B[0;32m---> 64\u001B[0;31m       \u001B[0;32mreturn\u001B[0m \u001B[0mfn\u001B[0m\u001B[0;34m(\u001B[0m\u001B[0;34m*\u001B[0m\u001B[0margs\u001B[0m\u001B[0;34m,\u001B[0m \u001B[0;34m**\u001B[0m\u001B[0mkwargs\u001B[0m\u001B[0;34m)\u001B[0m\u001B[0;34m\u001B[0m\u001B[0;34m\u001B[0m\u001B[0m\n\u001B[0m\u001B[1;32m     65\u001B[0m     \u001B[0;32mexcept\u001B[0m \u001B[0mException\u001B[0m \u001B[0;32mas\u001B[0m \u001B[0me\u001B[0m\u001B[0;34m:\u001B[0m  \u001B[0;31m# pylint: disable=broad-except\u001B[0m\u001B[0;34m\u001B[0m\u001B[0;34m\u001B[0m\u001B[0m\n\u001B[1;32m     66\u001B[0m       \u001B[0mfiltered_tb\u001B[0m \u001B[0;34m=\u001B[0m \u001B[0m_process_traceback_frames\u001B[0m\u001B[0;34m(\u001B[0m\u001B[0me\u001B[0m\u001B[0;34m.\u001B[0m\u001B[0m__traceback__\u001B[0m\u001B[0;34m)\u001B[0m\u001B[0;34m\u001B[0m\u001B[0;34m\u001B[0m\u001B[0m\n",
      "\u001B[0;32m/usr/local/lib/python3.7/dist-packages/keras/engine/training.py\u001B[0m in \u001B[0;36mfit\u001B[0;34m(self, x, y, batch_size, epochs, verbose, callbacks, validation_split, validation_data, shuffle, class_weight, sample_weight, initial_epoch, steps_per_epoch, validation_steps, validation_batch_size, validation_freq, max_queue_size, workers, use_multiprocessing)\u001B[0m\n\u001B[1;32m   1407\u001B[0m                 _r=1):\n\u001B[1;32m   1408\u001B[0m               \u001B[0mcallbacks\u001B[0m\u001B[0;34m.\u001B[0m\u001B[0mon_train_batch_begin\u001B[0m\u001B[0;34m(\u001B[0m\u001B[0mstep\u001B[0m\u001B[0;34m)\u001B[0m\u001B[0;34m\u001B[0m\u001B[0;34m\u001B[0m\u001B[0m\n\u001B[0;32m-> 1409\u001B[0;31m               \u001B[0mtmp_logs\u001B[0m \u001B[0;34m=\u001B[0m \u001B[0mself\u001B[0m\u001B[0;34m.\u001B[0m\u001B[0mtrain_function\u001B[0m\u001B[0;34m(\u001B[0m\u001B[0miterator\u001B[0m\u001B[0;34m)\u001B[0m\u001B[0;34m\u001B[0m\u001B[0;34m\u001B[0m\u001B[0m\n\u001B[0m\u001B[1;32m   1410\u001B[0m               \u001B[0;32mif\u001B[0m \u001B[0mdata_handler\u001B[0m\u001B[0;34m.\u001B[0m\u001B[0mshould_sync\u001B[0m\u001B[0;34m:\u001B[0m\u001B[0;34m\u001B[0m\u001B[0;34m\u001B[0m\u001B[0m\n\u001B[1;32m   1411\u001B[0m                 \u001B[0mcontext\u001B[0m\u001B[0;34m.\u001B[0m\u001B[0masync_wait\u001B[0m\u001B[0;34m(\u001B[0m\u001B[0;34m)\u001B[0m\u001B[0;34m\u001B[0m\u001B[0;34m\u001B[0m\u001B[0m\n",
      "\u001B[0;32m/usr/local/lib/python3.7/dist-packages/keras/engine/training.py\u001B[0m in \u001B[0;36mtrain_function\u001B[0;34m(iterator)\u001B[0m\n\u001B[1;32m   1049\u001B[0m       \u001B[0;32mdef\u001B[0m \u001B[0mtrain_function\u001B[0m\u001B[0;34m(\u001B[0m\u001B[0miterator\u001B[0m\u001B[0;34m)\u001B[0m\u001B[0;34m:\u001B[0m\u001B[0;34m\u001B[0m\u001B[0;34m\u001B[0m\u001B[0m\n\u001B[1;32m   1050\u001B[0m         \u001B[0;34m\"\"\"Runs a training execution with a single step.\"\"\"\u001B[0m\u001B[0;34m\u001B[0m\u001B[0;34m\u001B[0m\u001B[0m\n\u001B[0;32m-> 1051\u001B[0;31m         \u001B[0;32mreturn\u001B[0m \u001B[0mstep_function\u001B[0m\u001B[0;34m(\u001B[0m\u001B[0mself\u001B[0m\u001B[0;34m,\u001B[0m \u001B[0miterator\u001B[0m\u001B[0;34m)\u001B[0m\u001B[0;34m\u001B[0m\u001B[0;34m\u001B[0m\u001B[0m\n\u001B[0m\u001B[1;32m   1052\u001B[0m \u001B[0;34m\u001B[0m\u001B[0m\n\u001B[1;32m   1053\u001B[0m       \u001B[0;32mif\u001B[0m \u001B[0;32mnot\u001B[0m \u001B[0mself\u001B[0m\u001B[0;34m.\u001B[0m\u001B[0mrun_eagerly\u001B[0m\u001B[0;34m:\u001B[0m\u001B[0;34m\u001B[0m\u001B[0;34m\u001B[0m\u001B[0m\n",
      "\u001B[0;32m/usr/local/lib/python3.7/dist-packages/keras/engine/training.py\u001B[0m in \u001B[0;36mstep_function\u001B[0;34m(model, iterator)\u001B[0m\n\u001B[1;32m   1038\u001B[0m             run_step, jit_compile=True, reduce_retracing=True)\n\u001B[1;32m   1039\u001B[0m       \u001B[0mdata\u001B[0m \u001B[0;34m=\u001B[0m \u001B[0mnext\u001B[0m\u001B[0;34m(\u001B[0m\u001B[0miterator\u001B[0m\u001B[0;34m)\u001B[0m\u001B[0;34m\u001B[0m\u001B[0;34m\u001B[0m\u001B[0m\n\u001B[0;32m-> 1040\u001B[0;31m       \u001B[0moutputs\u001B[0m \u001B[0;34m=\u001B[0m \u001B[0mmodel\u001B[0m\u001B[0;34m.\u001B[0m\u001B[0mdistribute_strategy\u001B[0m\u001B[0;34m.\u001B[0m\u001B[0mrun\u001B[0m\u001B[0;34m(\u001B[0m\u001B[0mrun_step\u001B[0m\u001B[0;34m,\u001B[0m \u001B[0margs\u001B[0m\u001B[0;34m=\u001B[0m\u001B[0;34m(\u001B[0m\u001B[0mdata\u001B[0m\u001B[0;34m,\u001B[0m\u001B[0;34m)\u001B[0m\u001B[0;34m)\u001B[0m\u001B[0;34m\u001B[0m\u001B[0;34m\u001B[0m\u001B[0m\n\u001B[0m\u001B[1;32m   1041\u001B[0m       outputs = reduce_per_replica(\n\u001B[1;32m   1042\u001B[0m           outputs, self.distribute_strategy, reduction='first')\n",
      "\u001B[0;32m/usr/local/lib/python3.7/dist-packages/tensorflow/python/distribute/distribute_lib.py\u001B[0m in \u001B[0;36mrun\u001B[0;34m(***failed resolving arguments***)\u001B[0m\n\u001B[1;32m   1310\u001B[0m       fn = autograph.tf_convert(\n\u001B[1;32m   1311\u001B[0m           fn, autograph_ctx.control_status_ctx(), convert_by_default=False)\n\u001B[0;32m-> 1312\u001B[0;31m       \u001B[0;32mreturn\u001B[0m \u001B[0mself\u001B[0m\u001B[0;34m.\u001B[0m\u001B[0m_extended\u001B[0m\u001B[0;34m.\u001B[0m\u001B[0mcall_for_each_replica\u001B[0m\u001B[0;34m(\u001B[0m\u001B[0mfn\u001B[0m\u001B[0;34m,\u001B[0m \u001B[0margs\u001B[0m\u001B[0;34m=\u001B[0m\u001B[0margs\u001B[0m\u001B[0;34m,\u001B[0m \u001B[0mkwargs\u001B[0m\u001B[0;34m=\u001B[0m\u001B[0mkwargs\u001B[0m\u001B[0;34m)\u001B[0m\u001B[0;34m\u001B[0m\u001B[0;34m\u001B[0m\u001B[0m\n\u001B[0m\u001B[1;32m   1313\u001B[0m \u001B[0;34m\u001B[0m\u001B[0m\n\u001B[1;32m   1314\u001B[0m   \u001B[0;32mdef\u001B[0m \u001B[0mreduce\u001B[0m\u001B[0;34m(\u001B[0m\u001B[0mself\u001B[0m\u001B[0;34m,\u001B[0m \u001B[0mreduce_op\u001B[0m\u001B[0;34m,\u001B[0m \u001B[0mvalue\u001B[0m\u001B[0;34m,\u001B[0m \u001B[0maxis\u001B[0m\u001B[0;34m)\u001B[0m\u001B[0;34m:\u001B[0m\u001B[0;34m\u001B[0m\u001B[0;34m\u001B[0m\u001B[0m\n",
      "\u001B[0;32m/usr/local/lib/python3.7/dist-packages/tensorflow/python/distribute/distribute_lib.py\u001B[0m in \u001B[0;36mcall_for_each_replica\u001B[0;34m(self, fn, args, kwargs)\u001B[0m\n\u001B[1;32m   2886\u001B[0m       \u001B[0mkwargs\u001B[0m \u001B[0;34m=\u001B[0m \u001B[0;34m{\u001B[0m\u001B[0;34m}\u001B[0m\u001B[0;34m\u001B[0m\u001B[0;34m\u001B[0m\u001B[0m\n\u001B[1;32m   2887\u001B[0m     \u001B[0;32mwith\u001B[0m \u001B[0mself\u001B[0m\u001B[0;34m.\u001B[0m\u001B[0m_container_strategy\u001B[0m\u001B[0;34m(\u001B[0m\u001B[0;34m)\u001B[0m\u001B[0;34m.\u001B[0m\u001B[0mscope\u001B[0m\u001B[0;34m(\u001B[0m\u001B[0;34m)\u001B[0m\u001B[0;34m:\u001B[0m\u001B[0;34m\u001B[0m\u001B[0;34m\u001B[0m\u001B[0m\n\u001B[0;32m-> 2888\u001B[0;31m       \u001B[0;32mreturn\u001B[0m \u001B[0mself\u001B[0m\u001B[0;34m.\u001B[0m\u001B[0m_call_for_each_replica\u001B[0m\u001B[0;34m(\u001B[0m\u001B[0mfn\u001B[0m\u001B[0;34m,\u001B[0m \u001B[0margs\u001B[0m\u001B[0;34m,\u001B[0m \u001B[0mkwargs\u001B[0m\u001B[0;34m)\u001B[0m\u001B[0;34m\u001B[0m\u001B[0;34m\u001B[0m\u001B[0m\n\u001B[0m\u001B[1;32m   2889\u001B[0m \u001B[0;34m\u001B[0m\u001B[0m\n\u001B[1;32m   2890\u001B[0m   \u001B[0;32mdef\u001B[0m \u001B[0m_call_for_each_replica\u001B[0m\u001B[0;34m(\u001B[0m\u001B[0mself\u001B[0m\u001B[0;34m,\u001B[0m \u001B[0mfn\u001B[0m\u001B[0;34m,\u001B[0m \u001B[0margs\u001B[0m\u001B[0;34m,\u001B[0m \u001B[0mkwargs\u001B[0m\u001B[0;34m)\u001B[0m\u001B[0;34m:\u001B[0m\u001B[0;34m\u001B[0m\u001B[0;34m\u001B[0m\u001B[0m\n",
      "\u001B[0;32m/usr/local/lib/python3.7/dist-packages/tensorflow/python/distribute/distribute_lib.py\u001B[0m in \u001B[0;36m_call_for_each_replica\u001B[0;34m(self, fn, args, kwargs)\u001B[0m\n\u001B[1;32m   3687\u001B[0m   \u001B[0;32mdef\u001B[0m \u001B[0m_call_for_each_replica\u001B[0m\u001B[0;34m(\u001B[0m\u001B[0mself\u001B[0m\u001B[0;34m,\u001B[0m \u001B[0mfn\u001B[0m\u001B[0;34m,\u001B[0m \u001B[0margs\u001B[0m\u001B[0;34m,\u001B[0m \u001B[0mkwargs\u001B[0m\u001B[0;34m)\u001B[0m\u001B[0;34m:\u001B[0m\u001B[0;34m\u001B[0m\u001B[0;34m\u001B[0m\u001B[0m\n\u001B[1;32m   3688\u001B[0m     \u001B[0;32mwith\u001B[0m \u001B[0mReplicaContext\u001B[0m\u001B[0;34m(\u001B[0m\u001B[0mself\u001B[0m\u001B[0;34m.\u001B[0m\u001B[0m_container_strategy\u001B[0m\u001B[0;34m(\u001B[0m\u001B[0;34m)\u001B[0m\u001B[0;34m,\u001B[0m \u001B[0mreplica_id_in_sync_group\u001B[0m\u001B[0;34m=\u001B[0m\u001B[0;36m0\u001B[0m\u001B[0;34m)\u001B[0m\u001B[0;34m:\u001B[0m\u001B[0;34m\u001B[0m\u001B[0;34m\u001B[0m\u001B[0m\n\u001B[0;32m-> 3689\u001B[0;31m       \u001B[0;32mreturn\u001B[0m \u001B[0mfn\u001B[0m\u001B[0;34m(\u001B[0m\u001B[0;34m*\u001B[0m\u001B[0margs\u001B[0m\u001B[0;34m,\u001B[0m \u001B[0;34m**\u001B[0m\u001B[0mkwargs\u001B[0m\u001B[0;34m)\u001B[0m\u001B[0;34m\u001B[0m\u001B[0;34m\u001B[0m\u001B[0m\n\u001B[0m\u001B[1;32m   3690\u001B[0m \u001B[0;34m\u001B[0m\u001B[0m\n\u001B[1;32m   3691\u001B[0m   \u001B[0;32mdef\u001B[0m \u001B[0m_reduce_to\u001B[0m\u001B[0;34m(\u001B[0m\u001B[0mself\u001B[0m\u001B[0;34m,\u001B[0m \u001B[0mreduce_op\u001B[0m\u001B[0;34m,\u001B[0m \u001B[0mvalue\u001B[0m\u001B[0;34m,\u001B[0m \u001B[0mdestinations\u001B[0m\u001B[0;34m,\u001B[0m \u001B[0moptions\u001B[0m\u001B[0;34m)\u001B[0m\u001B[0;34m:\u001B[0m\u001B[0;34m\u001B[0m\u001B[0;34m\u001B[0m\u001B[0m\n",
      "\u001B[0;32m/usr/local/lib/python3.7/dist-packages/tensorflow/python/autograph/impl/api.py\u001B[0m in \u001B[0;36mwrapper\u001B[0;34m(*args, **kwargs)\u001B[0m\n\u001B[1;32m    593\u001B[0m   \u001B[0;32mdef\u001B[0m \u001B[0mwrapper\u001B[0m\u001B[0;34m(\u001B[0m\u001B[0;34m*\u001B[0m\u001B[0margs\u001B[0m\u001B[0;34m,\u001B[0m \u001B[0;34m**\u001B[0m\u001B[0mkwargs\u001B[0m\u001B[0;34m)\u001B[0m\u001B[0;34m:\u001B[0m\u001B[0;34m\u001B[0m\u001B[0;34m\u001B[0m\u001B[0m\n\u001B[1;32m    594\u001B[0m     \u001B[0;32mwith\u001B[0m \u001B[0mag_ctx\u001B[0m\u001B[0;34m.\u001B[0m\u001B[0mControlStatusCtx\u001B[0m\u001B[0;34m(\u001B[0m\u001B[0mstatus\u001B[0m\u001B[0;34m=\u001B[0m\u001B[0mag_ctx\u001B[0m\u001B[0;34m.\u001B[0m\u001B[0mStatus\u001B[0m\u001B[0;34m.\u001B[0m\u001B[0mUNSPECIFIED\u001B[0m\u001B[0;34m)\u001B[0m\u001B[0;34m:\u001B[0m\u001B[0;34m\u001B[0m\u001B[0;34m\u001B[0m\u001B[0m\n\u001B[0;32m--> 595\u001B[0;31m       \u001B[0;32mreturn\u001B[0m \u001B[0mfunc\u001B[0m\u001B[0;34m(\u001B[0m\u001B[0;34m*\u001B[0m\u001B[0margs\u001B[0m\u001B[0;34m,\u001B[0m \u001B[0;34m**\u001B[0m\u001B[0mkwargs\u001B[0m\u001B[0;34m)\u001B[0m\u001B[0;34m\u001B[0m\u001B[0;34m\u001B[0m\u001B[0m\n\u001B[0m\u001B[1;32m    596\u001B[0m \u001B[0;34m\u001B[0m\u001B[0m\n\u001B[1;32m    597\u001B[0m   \u001B[0;32mif\u001B[0m \u001B[0minspect\u001B[0m\u001B[0;34m.\u001B[0m\u001B[0misfunction\u001B[0m\u001B[0;34m(\u001B[0m\u001B[0mfunc\u001B[0m\u001B[0;34m)\u001B[0m \u001B[0;32mor\u001B[0m \u001B[0minspect\u001B[0m\u001B[0;34m.\u001B[0m\u001B[0mismethod\u001B[0m\u001B[0;34m(\u001B[0m\u001B[0mfunc\u001B[0m\u001B[0;34m)\u001B[0m\u001B[0;34m:\u001B[0m\u001B[0;34m\u001B[0m\u001B[0;34m\u001B[0m\u001B[0m\n",
      "\u001B[0;32m/usr/local/lib/python3.7/dist-packages/keras/engine/training.py\u001B[0m in \u001B[0;36mrun_step\u001B[0;34m(data)\u001B[0m\n\u001B[1;32m   1028\u001B[0m \u001B[0;34m\u001B[0m\u001B[0m\n\u001B[1;32m   1029\u001B[0m       \u001B[0;32mdef\u001B[0m \u001B[0mrun_step\u001B[0m\u001B[0;34m(\u001B[0m\u001B[0mdata\u001B[0m\u001B[0;34m)\u001B[0m\u001B[0;34m:\u001B[0m\u001B[0;34m\u001B[0m\u001B[0;34m\u001B[0m\u001B[0m\n\u001B[0;32m-> 1030\u001B[0;31m         \u001B[0moutputs\u001B[0m \u001B[0;34m=\u001B[0m \u001B[0mmodel\u001B[0m\u001B[0;34m.\u001B[0m\u001B[0mtrain_step\u001B[0m\u001B[0;34m(\u001B[0m\u001B[0mdata\u001B[0m\u001B[0;34m)\u001B[0m\u001B[0;34m\u001B[0m\u001B[0;34m\u001B[0m\u001B[0m\n\u001B[0m\u001B[1;32m   1031\u001B[0m         \u001B[0;31m# Ensure counter is updated only if `train_step` succeeds.\u001B[0m\u001B[0;34m\u001B[0m\u001B[0;34m\u001B[0m\u001B[0;34m\u001B[0m\u001B[0m\n\u001B[1;32m   1032\u001B[0m         \u001B[0;32mwith\u001B[0m \u001B[0mtf\u001B[0m\u001B[0;34m.\u001B[0m\u001B[0mcontrol_dependencies\u001B[0m\u001B[0;34m(\u001B[0m\u001B[0m_minimum_control_deps\u001B[0m\u001B[0;34m(\u001B[0m\u001B[0moutputs\u001B[0m\u001B[0;34m)\u001B[0m\u001B[0;34m)\u001B[0m\u001B[0;34m:\u001B[0m\u001B[0;34m\u001B[0m\u001B[0;34m\u001B[0m\u001B[0m\n",
      "\u001B[0;32m/usr/local/lib/python3.7/dist-packages/keras/engine/training.py\u001B[0m in \u001B[0;36mtrain_step\u001B[0;34m(self, data)\u001B[0m\n\u001B[1;32m    891\u001B[0m     \u001B[0mself\u001B[0m\u001B[0;34m.\u001B[0m\u001B[0m_validate_target_and_loss\u001B[0m\u001B[0;34m(\u001B[0m\u001B[0my\u001B[0m\u001B[0;34m,\u001B[0m \u001B[0mloss\u001B[0m\u001B[0;34m)\u001B[0m\u001B[0;34m\u001B[0m\u001B[0;34m\u001B[0m\u001B[0m\n\u001B[1;32m    892\u001B[0m     \u001B[0;31m# Run backwards pass.\u001B[0m\u001B[0;34m\u001B[0m\u001B[0;34m\u001B[0m\u001B[0;34m\u001B[0m\u001B[0m\n\u001B[0;32m--> 893\u001B[0;31m     \u001B[0mself\u001B[0m\u001B[0;34m.\u001B[0m\u001B[0moptimizer\u001B[0m\u001B[0;34m.\u001B[0m\u001B[0mminimize\u001B[0m\u001B[0;34m(\u001B[0m\u001B[0mloss\u001B[0m\u001B[0;34m,\u001B[0m \u001B[0mself\u001B[0m\u001B[0;34m.\u001B[0m\u001B[0mtrainable_variables\u001B[0m\u001B[0;34m,\u001B[0m \u001B[0mtape\u001B[0m\u001B[0;34m=\u001B[0m\u001B[0mtape\u001B[0m\u001B[0;34m)\u001B[0m\u001B[0;34m\u001B[0m\u001B[0;34m\u001B[0m\u001B[0m\n\u001B[0m\u001B[1;32m    894\u001B[0m     \u001B[0;32mreturn\u001B[0m \u001B[0mself\u001B[0m\u001B[0;34m.\u001B[0m\u001B[0mcompute_metrics\u001B[0m\u001B[0;34m(\u001B[0m\u001B[0mx\u001B[0m\u001B[0;34m,\u001B[0m \u001B[0my\u001B[0m\u001B[0;34m,\u001B[0m \u001B[0my_pred\u001B[0m\u001B[0;34m,\u001B[0m \u001B[0msample_weight\u001B[0m\u001B[0;34m)\u001B[0m\u001B[0;34m\u001B[0m\u001B[0;34m\u001B[0m\u001B[0m\n\u001B[1;32m    895\u001B[0m \u001B[0;34m\u001B[0m\u001B[0m\n",
      "\u001B[0;32m/usr/local/lib/python3.7/dist-packages/keras/optimizers/optimizer_v2/optimizer_v2.py\u001B[0m in \u001B[0;36mminimize\u001B[0;34m(self, loss, var_list, grad_loss, name, tape)\u001B[0m\n\u001B[1;32m    536\u001B[0m     \"\"\"\n\u001B[1;32m    537\u001B[0m     grads_and_vars = self._compute_gradients(\n\u001B[0;32m--> 538\u001B[0;31m         loss, var_list=var_list, grad_loss=grad_loss, tape=tape)\n\u001B[0m\u001B[1;32m    539\u001B[0m     \u001B[0;32mreturn\u001B[0m \u001B[0mself\u001B[0m\u001B[0;34m.\u001B[0m\u001B[0mapply_gradients\u001B[0m\u001B[0;34m(\u001B[0m\u001B[0mgrads_and_vars\u001B[0m\u001B[0;34m,\u001B[0m \u001B[0mname\u001B[0m\u001B[0;34m=\u001B[0m\u001B[0mname\u001B[0m\u001B[0;34m)\u001B[0m\u001B[0;34m\u001B[0m\u001B[0;34m\u001B[0m\u001B[0m\n\u001B[1;32m    540\u001B[0m \u001B[0;34m\u001B[0m\u001B[0m\n",
      "\u001B[0;32m/usr/local/lib/python3.7/dist-packages/keras/optimizers/optimizer_v2/optimizer_v2.py\u001B[0m in \u001B[0;36m_compute_gradients\u001B[0;34m(self, loss, var_list, grad_loss, tape)\u001B[0m\n\u001B[1;32m    588\u001B[0m     \u001B[0mvar_list\u001B[0m \u001B[0;34m=\u001B[0m \u001B[0mtf\u001B[0m\u001B[0;34m.\u001B[0m\u001B[0mnest\u001B[0m\u001B[0;34m.\u001B[0m\u001B[0mflatten\u001B[0m\u001B[0;34m(\u001B[0m\u001B[0mvar_list\u001B[0m\u001B[0;34m)\u001B[0m\u001B[0;34m\u001B[0m\u001B[0;34m\u001B[0m\u001B[0m\n\u001B[1;32m    589\u001B[0m     \u001B[0;32mwith\u001B[0m \u001B[0mtf\u001B[0m\u001B[0;34m.\u001B[0m\u001B[0mname_scope\u001B[0m\u001B[0;34m(\u001B[0m\u001B[0mself\u001B[0m\u001B[0;34m.\u001B[0m\u001B[0m_name\u001B[0m \u001B[0;34m+\u001B[0m \u001B[0;34m\"/gradients\"\u001B[0m\u001B[0;34m)\u001B[0m\u001B[0;34m:\u001B[0m\u001B[0;34m\u001B[0m\u001B[0;34m\u001B[0m\u001B[0m\n\u001B[0;32m--> 590\u001B[0;31m       \u001B[0mgrads_and_vars\u001B[0m \u001B[0;34m=\u001B[0m \u001B[0mself\u001B[0m\u001B[0;34m.\u001B[0m\u001B[0m_get_gradients\u001B[0m\u001B[0;34m(\u001B[0m\u001B[0mtape\u001B[0m\u001B[0;34m,\u001B[0m \u001B[0mloss\u001B[0m\u001B[0;34m,\u001B[0m \u001B[0mvar_list\u001B[0m\u001B[0;34m,\u001B[0m \u001B[0mgrad_loss\u001B[0m\u001B[0;34m)\u001B[0m\u001B[0;34m\u001B[0m\u001B[0;34m\u001B[0m\u001B[0m\n\u001B[0m\u001B[1;32m    591\u001B[0m \u001B[0;34m\u001B[0m\u001B[0m\n\u001B[1;32m    592\u001B[0m     self._assert_valid_dtypes([\n",
      "\u001B[0;32m/usr/local/lib/python3.7/dist-packages/keras/optimizers/optimizer_v2/optimizer_v2.py\u001B[0m in \u001B[0;36m_get_gradients\u001B[0;34m(self, tape, loss, var_list, grad_loss)\u001B[0m\n\u001B[1;32m    469\u001B[0m   \u001B[0;32mdef\u001B[0m \u001B[0m_get_gradients\u001B[0m\u001B[0;34m(\u001B[0m\u001B[0mself\u001B[0m\u001B[0;34m,\u001B[0m \u001B[0mtape\u001B[0m\u001B[0;34m,\u001B[0m \u001B[0mloss\u001B[0m\u001B[0;34m,\u001B[0m \u001B[0mvar_list\u001B[0m\u001B[0;34m,\u001B[0m \u001B[0mgrad_loss\u001B[0m\u001B[0;34m=\u001B[0m\u001B[0;32mNone\u001B[0m\u001B[0;34m)\u001B[0m\u001B[0;34m:\u001B[0m\u001B[0;34m\u001B[0m\u001B[0;34m\u001B[0m\u001B[0m\n\u001B[1;32m    470\u001B[0m     \u001B[0;34m\"\"\"Called in `minimize` to compute gradients from loss.\"\"\"\u001B[0m\u001B[0;34m\u001B[0m\u001B[0;34m\u001B[0m\u001B[0m\n\u001B[0;32m--> 471\u001B[0;31m     \u001B[0mgrads\u001B[0m \u001B[0;34m=\u001B[0m \u001B[0mtape\u001B[0m\u001B[0;34m.\u001B[0m\u001B[0mgradient\u001B[0m\u001B[0;34m(\u001B[0m\u001B[0mloss\u001B[0m\u001B[0;34m,\u001B[0m \u001B[0mvar_list\u001B[0m\u001B[0;34m,\u001B[0m \u001B[0mgrad_loss\u001B[0m\u001B[0;34m)\u001B[0m\u001B[0;34m\u001B[0m\u001B[0;34m\u001B[0m\u001B[0m\n\u001B[0m\u001B[1;32m    472\u001B[0m     \u001B[0;32mreturn\u001B[0m \u001B[0mlist\u001B[0m\u001B[0;34m(\u001B[0m\u001B[0mzip\u001B[0m\u001B[0;34m(\u001B[0m\u001B[0mgrads\u001B[0m\u001B[0;34m,\u001B[0m \u001B[0mvar_list\u001B[0m\u001B[0;34m)\u001B[0m\u001B[0;34m)\u001B[0m\u001B[0;34m\u001B[0m\u001B[0;34m\u001B[0m\u001B[0m\n\u001B[1;32m    473\u001B[0m \u001B[0;34m\u001B[0m\u001B[0m\n",
      "\u001B[0;32m/usr/local/lib/python3.7/dist-packages/tensorflow/python/eager/backprop.py\u001B[0m in \u001B[0;36mgradient\u001B[0;34m(self, target, sources, output_gradients, unconnected_gradients)\u001B[0m\n\u001B[1;32m   1104\u001B[0m         \u001B[0moutput_gradients\u001B[0m\u001B[0;34m=\u001B[0m\u001B[0moutput_gradients\u001B[0m\u001B[0;34m,\u001B[0m\u001B[0;34m\u001B[0m\u001B[0;34m\u001B[0m\u001B[0m\n\u001B[1;32m   1105\u001B[0m         \u001B[0msources_raw\u001B[0m\u001B[0;34m=\u001B[0m\u001B[0mflat_sources_raw\u001B[0m\u001B[0;34m,\u001B[0m\u001B[0;34m\u001B[0m\u001B[0;34m\u001B[0m\u001B[0m\n\u001B[0;32m-> 1106\u001B[0;31m         unconnected_gradients=unconnected_gradients)\n\u001B[0m\u001B[1;32m   1107\u001B[0m \u001B[0;34m\u001B[0m\u001B[0m\n\u001B[1;32m   1108\u001B[0m     \u001B[0;32mif\u001B[0m \u001B[0;32mnot\u001B[0m \u001B[0mself\u001B[0m\u001B[0;34m.\u001B[0m\u001B[0m_persistent\u001B[0m\u001B[0;34m:\u001B[0m\u001B[0;34m\u001B[0m\u001B[0;34m\u001B[0m\u001B[0m\n",
      "\u001B[0;32m/usr/local/lib/python3.7/dist-packages/tensorflow/python/eager/imperative_grad.py\u001B[0m in \u001B[0;36mimperative_grad\u001B[0;34m(tape, target, sources, output_gradients, sources_raw, unconnected_gradients)\u001B[0m\n\u001B[1;32m     71\u001B[0m       \u001B[0moutput_gradients\u001B[0m\u001B[0;34m,\u001B[0m\u001B[0;34m\u001B[0m\u001B[0;34m\u001B[0m\u001B[0m\n\u001B[1;32m     72\u001B[0m       \u001B[0msources_raw\u001B[0m\u001B[0;34m,\u001B[0m\u001B[0;34m\u001B[0m\u001B[0;34m\u001B[0m\u001B[0m\n\u001B[0;32m---> 73\u001B[0;31m       compat.as_str(unconnected_gradients.value))\n\u001B[0m",
      "\u001B[0;32m/usr/local/lib/python3.7/dist-packages/tensorflow/python/eager/backprop.py\u001B[0m in \u001B[0;36m_gradient_function\u001B[0;34m(op_name, attr_tuple, num_inputs, inputs, outputs, out_grads, skip_input_indices, forward_pass_name_scope)\u001B[0m\n\u001B[1;32m    149\u001B[0m \u001B[0;34m\u001B[0m\u001B[0m\n\u001B[1;32m    150\u001B[0m   \u001B[0;31m# This does not work with v1 TensorArrays.\u001B[0m\u001B[0;34m\u001B[0m\u001B[0;34m\u001B[0m\u001B[0;34m\u001B[0m\u001B[0m\n\u001B[0;32m--> 151\u001B[0;31m   if ops.executing_eagerly_outside_functions(\n\u001B[0m\u001B[1;32m    152\u001B[0m   ) or control_flow_util.EnableControlFlowV2(ops.get_default_graph()):\n\u001B[1;32m    153\u001B[0m     \u001B[0mgradient_name_scope\u001B[0m \u001B[0;34m=\u001B[0m \u001B[0;34m\"gradient_tape/\"\u001B[0m\u001B[0;34m\u001B[0m\u001B[0;34m\u001B[0m\u001B[0m\n",
      "\u001B[0;32m/usr/local/lib/python3.7/dist-packages/tensorflow/python/framework/ops.py\u001B[0m in \u001B[0;36mexecuting_eagerly_outside_functions\u001B[0;34m()\u001B[0m\n\u001B[1;32m   5977\u001B[0m \u001B[0;34m\u001B[0m\u001B[0m\n\u001B[1;32m   5978\u001B[0m \u001B[0;34m\u001B[0m\u001B[0m\n\u001B[0;32m-> 5979\u001B[0;31m \u001B[0;34m@\u001B[0m\u001B[0mtf_export\u001B[0m\u001B[0;34m(\u001B[0m\u001B[0mv1\u001B[0m\u001B[0;34m=\u001B[0m\u001B[0;34m[\u001B[0m\u001B[0;34m\"executing_eagerly_outside_functions\"\u001B[0m\u001B[0;34m]\u001B[0m\u001B[0;34m)\u001B[0m\u001B[0;34m\u001B[0m\u001B[0;34m\u001B[0m\u001B[0m\n\u001B[0m\u001B[1;32m   5980\u001B[0m \u001B[0;32mdef\u001B[0m \u001B[0mexecuting_eagerly_outside_functions\u001B[0m\u001B[0;34m(\u001B[0m\u001B[0;34m)\u001B[0m\u001B[0;34m:\u001B[0m\u001B[0;34m\u001B[0m\u001B[0;34m\u001B[0m\u001B[0m\n\u001B[1;32m   5981\u001B[0m   \"\"\"Returns True if executing eagerly, even if inside a graph function.\n",
      "\u001B[0;31mKeyboardInterrupt\u001B[0m: "
     ]
    }
   ],
   "source": [
    "max_epochs = 50\n",
    "verbose = 1\n",
    "batch_size = 1024\n",
    "\n",
    "hist = model.fit(\n",
    "        x = train_instances.sequences, \n",
    "        y = train_instances.targets,\n",
    "        \n",
    "        epochs=max_epochs,\n",
    "        verbose=verbose, \n",
    "        batch_size=batch_size,\n",
    "        # validation_split = 0.20,\n",
    "        validation_data=(\n",
    "            validation_instances.sequences, \n",
    "            validation_instances.targets\n",
    "        ),\n",
    "        validation_batch_size=batch_size,\n",
    "        # callbacks = tf.keras.callbacks.EarlyStopping(),\n",
    "    )"
   ]
  },
  {
   "cell_type": "code",
   "execution_count": null,
   "metadata": {
    "colab": {
     "base_uri": "https://localhost:8080/"
    },
    "executionInfo": {
     "elapsed": 881,
     "status": "ok",
     "timestamp": 1667052371205,
     "user": {
      "displayName": "Research Group",
      "userId": "07008499032580121461"
     },
     "user_tz": 240
    },
    "id": "QGv0Z23X-ozi",
    "outputId": "83089954-c73d-45ec-a0d8-424bac6a1438"
   },
   "outputs": [
    {
     "name": "stdout",
     "output_type": "stream",
     "text": [
      "item_embedding.shape: (None, 100, 200)\n",
      "gru_layer.shape: (None, 100)\n",
      "dropout_layer.shape: (None, 100)\n",
      "fully_connected_layer.shape: (None, 32)\n",
      "Model: \"model_1\"\n",
      "_________________________________________________________________\n",
      " Layer (type)                Output Shape              Param #   \n",
      "=================================================================\n",
      " input (InputLayer)          [(None, 100)]             0         \n",
      "                                                                 \n",
      " embedding_1 (Embedding)     (None, 100, 200)          683400    \n",
      "                                                                 \n",
      " dropout_3 (Dropout)         (None, 100, 200)          0         \n",
      "                                                                 \n",
      " gru_1 (GRU)                 (None, 100)               90600     \n",
      "                                                                 \n",
      " dropout_4 (Dropout)         (None, 100)               0         \n",
      "                                                                 \n",
      " dense_2 (Dense)             (None, 32)                3232      \n",
      "                                                                 \n",
      " dropout_5 (Dropout)         (None, 32)                0         \n",
      "                                                                 \n",
      " dense_3 (Dense)             (None, 3417)              112761    \n",
      "                                                                 \n",
      " softmax_output (Activation)  (None, 3417)             0         \n",
      "                                                                 \n",
      "=================================================================\n",
      "Total params: 889,993\n",
      "Trainable params: 889,993\n",
      "Non-trainable params: 0\n",
      "_________________________________________________________________\n"
     ]
    }
   ],
   "source": [
    "### Vanila GRU for Sequential Recommendation\n",
    "\n",
    "class GRU:\n",
    "    def __init__(self, data=None, sequence_length=10, T=10):\n",
    "        self.T = T\n",
    "        if not data:\n",
    "            self.sequence_length = sequence_length\n",
    "            self.num_users = 6040\n",
    "            self.num_items = 3417        # tf.keras.layers.InputLayer((28, 28, 1)),\n",
    "        else:\n",
    "            self.sequence_length = data.sequence_length\n",
    "            self.num_users = data.num_users\n",
    "            self.num_items = data.num_items + 1        # tf.keras.layers.InputLayer((28, 28, 1)),\n",
    "    \n",
    "    '''\n",
    "        dropout_flag is set to True when calculating epistemic uncertainty and it is set to False for aleatoric uncertainty calculations\n",
    "        \n",
    "    '''\n",
    "    def get_model(self, drop_prob = 0.5, dropout_flag=True):\n",
    "        embed_dim = 200\n",
    "\n",
    "        seq_input = tf.keras.Input(shape=self.sequence_length,name='input')\n",
    "        # item_input = tf.keras.layers.Input(shape=(1,), name='item_input')\n",
    "\n",
    "\n",
    "        # dropout = tf.keras.layers.Dropout(drop_prob)(seq_input, training=dropout_flag)\n",
    "        item_embedding = tf.keras.layers.Embedding(\n",
    "            input_dim=self.num_items, \n",
    "            output_dim=embed_dim, \n",
    "            mask_zero=True)(seq_input)\n",
    "\n",
    "        print('item_embedding.shape:', item_embedding.shape)\n",
    "\n",
    "        item_embedding_dropout = tf.keras.layers.Dropout(drop_prob)(item_embedding, training=dropout_flag)\n",
    "        gru_layer = tf.keras.layers.GRU(100)(item_embedding_dropout)\n",
    "        print('gru_layer.shape:', gru_layer.shape)\n",
    "\n",
    "        gru_dropout = tf.keras.layers.Dropout(drop_prob)(gru_layer, training=dropout_flag)\n",
    "        print('dropout_layer.shape:', gru_dropout.shape)\n",
    "\n",
    "        fully_connected_layer = tf.keras.layers.Dense(32, activation=tf.nn.relu)(gru_dropout)\n",
    "        print('fully_connected_layer.shape:', fully_connected_layer.shape)\n",
    "\n",
    "        fully_connected_dropout = tf.keras.layers.Dropout(drop_prob)(fully_connected_layer, training=dropout_flag)\n",
    "\n",
    "        variance_layer = tf.keras.layers.Dense(1, activation='softplus',name='variance')(fully_connected_dropout)\n",
    "\n",
    "        fully_connected_layer = tf.keras.layers.Dense(self.num_items)(fully_connected_dropout)\n",
    "        # fully_connected_dropout = tf.keras.layers.Dropout(drop_prob)(fully_connected_layer, training=dropout_flag)\n",
    "\n",
    "        softmax_output = tf.keras.layers.Activation(activation=tf.nn.softmax,name='softmax_output')(fully_connected_layer)\n",
    "\n",
    "        logits_variance = tf.keras.layers.concatenate([softmax_output, variance_layer], name='logits_variance')\n",
    "\n",
    "\n",
    "        model = tf.keras.Model(inputs=seq_input, outputs=softmax_output)\n",
    "        # model = tf.keras.Model(inputs=seq_input, outputs=[logits_variance,softmax_output])\n",
    "\n",
    "        model.compile(\n",
    "            optimizer=tf.keras.optimizers.Adam(learning_rate=2e-3, decay=1e-4),\n",
    "            loss=tf.keras.losses.SparseCategoricalCrossentropy(),\n",
    "                # 'logits_variance': bayesian_categorical_crossentropy(100, max_movieid),\n",
    "                # 'softmax_output': 'categorical_crossentropy'\n",
    "            # },\n",
    "            metrics=[tf.keras.metrics.SparseTopKCategoricalAccuracy(k=20)],\n",
    "            # loss_weights={\n",
    "            #     # 'logits_variance': 0.5, \n",
    "            #     'softmax_output': 1.\n",
    "            # }\n",
    "        )\n",
    "        \n",
    "        return model\n",
    "\n",
    "model = GRU(data, T=100).get_model()\n",
    "model.summary()"
   ]
  },
  {
   "cell_type": "code",
   "execution_count": null,
   "metadata": {
    "colab": {
     "base_uri": "https://localhost:8080/",
     "height": 1000
    },
    "executionInfo": {
     "elapsed": 6226726,
     "status": "error",
     "timestamp": 1667061296264,
     "user": {
      "displayName": "Research Group",
      "userId": "07008499032580121461"
     },
     "user_tz": 240
    },
    "id": "0x0qkIMzDyU6",
    "outputId": "8865c2c1-1d9d-457c-bd55-e8ff5bae6410"
   },
   "outputs": [
    {
     "name": "stdout",
     "output_type": "stream",
     "text": [
      "Epoch 1/50\n",
      "432/432 [==============================] - 280s 649ms/step - loss: 6.5768 - sparse_top_k_categorical_accuracy: 0.1517 - val_loss: 6.6560 - val_sparse_top_k_categorical_accuracy: 0.1474\n",
      "Epoch 2/50\n",
      "432/432 [==============================] - 277s 643ms/step - loss: 6.5562 - sparse_top_k_categorical_accuracy: 0.1552 - val_loss: 6.6445 - val_sparse_top_k_categorical_accuracy: 0.1491\n",
      "Epoch 3/50\n",
      "432/432 [==============================] - 278s 644ms/step - loss: 6.5428 - sparse_top_k_categorical_accuracy: 0.1567 - val_loss: 6.6313 - val_sparse_top_k_categorical_accuracy: 0.1512\n",
      "Epoch 4/50\n",
      "432/432 [==============================] - 275s 638ms/step - loss: 6.5267 - sparse_top_k_categorical_accuracy: 0.1591 - val_loss: 6.6247 - val_sparse_top_k_categorical_accuracy: 0.1515\n",
      "Epoch 5/50\n",
      "432/432 [==============================] - 275s 636ms/step - loss: 6.5142 - sparse_top_k_categorical_accuracy: 0.1602 - val_loss: 6.6070 - val_sparse_top_k_categorical_accuracy: 0.1544\n",
      "Epoch 6/50\n",
      "432/432 [==============================] - 279s 646ms/step - loss: 6.4999 - sparse_top_k_categorical_accuracy: 0.1616 - val_loss: 6.5992 - val_sparse_top_k_categorical_accuracy: 0.1556\n",
      "Epoch 7/50\n",
      "432/432 [==============================] - 281s 652ms/step - loss: 6.4910 - sparse_top_k_categorical_accuracy: 0.1634 - val_loss: 6.5874 - val_sparse_top_k_categorical_accuracy: 0.1568\n",
      "Epoch 8/50\n",
      "432/432 [==============================] - 283s 656ms/step - loss: 6.4793 - sparse_top_k_categorical_accuracy: 0.1639 - val_loss: 6.5765 - val_sparse_top_k_categorical_accuracy: 0.1554\n",
      "Epoch 9/50\n",
      "432/432 [==============================] - 280s 648ms/step - loss: 6.4687 - sparse_top_k_categorical_accuracy: 0.1652 - val_loss: 6.5705 - val_sparse_top_k_categorical_accuracy: 0.1571\n",
      "Epoch 10/50\n",
      "432/432 [==============================] - 278s 643ms/step - loss: 6.4552 - sparse_top_k_categorical_accuracy: 0.1660 - val_loss: 6.5670 - val_sparse_top_k_categorical_accuracy: 0.1580\n",
      "Epoch 11/50\n",
      "432/432 [==============================] - 278s 643ms/step - loss: 6.4452 - sparse_top_k_categorical_accuracy: 0.1676 - val_loss: 6.5574 - val_sparse_top_k_categorical_accuracy: 0.1602\n",
      "Epoch 12/50\n",
      "432/432 [==============================] - 279s 646ms/step - loss: 6.4362 - sparse_top_k_categorical_accuracy: 0.1687 - val_loss: 6.5528 - val_sparse_top_k_categorical_accuracy: 0.1588\n",
      "Epoch 13/50\n",
      "432/432 [==============================] - 278s 645ms/step - loss: 6.4296 - sparse_top_k_categorical_accuracy: 0.1692 - val_loss: 6.5511 - val_sparse_top_k_categorical_accuracy: 0.1606\n",
      "Epoch 14/50\n",
      "432/432 [==============================] - 280s 648ms/step - loss: 6.4213 - sparse_top_k_categorical_accuracy: 0.1699 - val_loss: 6.5426 - val_sparse_top_k_categorical_accuracy: 0.1605\n",
      "Epoch 15/50\n",
      "432/432 [==============================] - 278s 643ms/step - loss: 6.4153 - sparse_top_k_categorical_accuracy: 0.1706 - val_loss: 6.5357 - val_sparse_top_k_categorical_accuracy: 0.1614\n",
      "Epoch 16/50\n",
      "432/432 [==============================] - 277s 642ms/step - loss: 6.4067 - sparse_top_k_categorical_accuracy: 0.1717 - val_loss: 6.5343 - val_sparse_top_k_categorical_accuracy: 0.1620\n",
      "Epoch 17/50\n",
      "432/432 [==============================] - 278s 643ms/step - loss: 6.3990 - sparse_top_k_categorical_accuracy: 0.1714 - val_loss: 6.5310 - val_sparse_top_k_categorical_accuracy: 0.1626\n",
      "Epoch 18/50\n",
      "432/432 [==============================] - 278s 645ms/step - loss: 6.3938 - sparse_top_k_categorical_accuracy: 0.1726 - val_loss: 6.5242 - val_sparse_top_k_categorical_accuracy: 0.1612\n",
      "Epoch 19/50\n",
      "432/432 [==============================] - 277s 643ms/step - loss: 6.3884 - sparse_top_k_categorical_accuracy: 0.1733 - val_loss: 6.5189 - val_sparse_top_k_categorical_accuracy: 0.1640\n",
      "Epoch 20/50\n",
      "432/432 [==============================] - 275s 637ms/step - loss: 6.3804 - sparse_top_k_categorical_accuracy: 0.1734 - val_loss: 6.5184 - val_sparse_top_k_categorical_accuracy: 0.1633\n",
      "Epoch 21/50\n",
      "432/432 [==============================] - 274s 634ms/step - loss: 6.3787 - sparse_top_k_categorical_accuracy: 0.1744 - val_loss: 6.5135 - val_sparse_top_k_categorical_accuracy: 0.1634\n",
      "Epoch 22/50\n",
      "432/432 [==============================] - 277s 642ms/step - loss: 6.3736 - sparse_top_k_categorical_accuracy: 0.1751 - val_loss: 6.5086 - val_sparse_top_k_categorical_accuracy: 0.1637\n",
      "Epoch 23/50\n",
      "250/432 [================>.............] - ETA: 1:20 - loss: 6.3676 - sparse_top_k_categorical_accuracy: 0.1749"
     ]
    },
    {
     "ename": "KeyboardInterrupt",
     "evalue": "ignored",
     "output_type": "error",
     "traceback": [
      "\u001B[0;31m---------------------------------------------------------------------------\u001B[0m",
      "\u001B[0;31mKeyboardInterrupt\u001B[0m                         Traceback (most recent call last)",
      "\u001B[0;32m<ipython-input-10-78aff2e12834>\u001B[0m in \u001B[0;36m<module>\u001B[0;34m\u001B[0m\n\u001B[1;32m     15\u001B[0m             \u001B[0mvalidation_instances\u001B[0m\u001B[0;34m.\u001B[0m\u001B[0mtargets\u001B[0m\u001B[0;34m\u001B[0m\u001B[0;34m\u001B[0m\u001B[0m\n\u001B[1;32m     16\u001B[0m         ),\n\u001B[0;32m---> 17\u001B[0;31m         \u001B[0mvalidation_batch_size\u001B[0m\u001B[0;34m=\u001B[0m\u001B[0mbatch_size\u001B[0m\u001B[0;34m,\u001B[0m\u001B[0;34m\u001B[0m\u001B[0;34m\u001B[0m\u001B[0m\n\u001B[0m\u001B[1;32m     18\u001B[0m         \u001B[0;31m# callbacks = tf.keras.callbacks.EarlyStopping(),\u001B[0m\u001B[0;34m\u001B[0m\u001B[0;34m\u001B[0m\u001B[0;34m\u001B[0m\u001B[0m\n\u001B[1;32m     19\u001B[0m     )\n",
      "\u001B[0;32m/usr/local/lib/python3.7/dist-packages/keras/utils/traceback_utils.py\u001B[0m in \u001B[0;36merror_handler\u001B[0;34m(*args, **kwargs)\u001B[0m\n\u001B[1;32m     62\u001B[0m     \u001B[0mfiltered_tb\u001B[0m \u001B[0;34m=\u001B[0m \u001B[0;32mNone\u001B[0m\u001B[0;34m\u001B[0m\u001B[0;34m\u001B[0m\u001B[0m\n\u001B[1;32m     63\u001B[0m     \u001B[0;32mtry\u001B[0m\u001B[0;34m:\u001B[0m\u001B[0;34m\u001B[0m\u001B[0;34m\u001B[0m\u001B[0m\n\u001B[0;32m---> 64\u001B[0;31m       \u001B[0;32mreturn\u001B[0m \u001B[0mfn\u001B[0m\u001B[0;34m(\u001B[0m\u001B[0;34m*\u001B[0m\u001B[0margs\u001B[0m\u001B[0;34m,\u001B[0m \u001B[0;34m**\u001B[0m\u001B[0mkwargs\u001B[0m\u001B[0;34m)\u001B[0m\u001B[0;34m\u001B[0m\u001B[0;34m\u001B[0m\u001B[0m\n\u001B[0m\u001B[1;32m     65\u001B[0m     \u001B[0;32mexcept\u001B[0m \u001B[0mException\u001B[0m \u001B[0;32mas\u001B[0m \u001B[0me\u001B[0m\u001B[0;34m:\u001B[0m  \u001B[0;31m# pylint: disable=broad-except\u001B[0m\u001B[0;34m\u001B[0m\u001B[0;34m\u001B[0m\u001B[0m\n\u001B[1;32m     66\u001B[0m       \u001B[0mfiltered_tb\u001B[0m \u001B[0;34m=\u001B[0m \u001B[0m_process_traceback_frames\u001B[0m\u001B[0;34m(\u001B[0m\u001B[0me\u001B[0m\u001B[0;34m.\u001B[0m\u001B[0m__traceback__\u001B[0m\u001B[0;34m)\u001B[0m\u001B[0;34m\u001B[0m\u001B[0;34m\u001B[0m\u001B[0m\n",
      "\u001B[0;32m/usr/local/lib/python3.7/dist-packages/keras/engine/training.py\u001B[0m in \u001B[0;36mfit\u001B[0;34m(self, x, y, batch_size, epochs, verbose, callbacks, validation_split, validation_data, shuffle, class_weight, sample_weight, initial_epoch, steps_per_epoch, validation_steps, validation_batch_size, validation_freq, max_queue_size, workers, use_multiprocessing)\u001B[0m\n\u001B[1;32m   1407\u001B[0m                 _r=1):\n\u001B[1;32m   1408\u001B[0m               \u001B[0mcallbacks\u001B[0m\u001B[0;34m.\u001B[0m\u001B[0mon_train_batch_begin\u001B[0m\u001B[0;34m(\u001B[0m\u001B[0mstep\u001B[0m\u001B[0;34m)\u001B[0m\u001B[0;34m\u001B[0m\u001B[0;34m\u001B[0m\u001B[0m\n\u001B[0;32m-> 1409\u001B[0;31m               \u001B[0mtmp_logs\u001B[0m \u001B[0;34m=\u001B[0m \u001B[0mself\u001B[0m\u001B[0;34m.\u001B[0m\u001B[0mtrain_function\u001B[0m\u001B[0;34m(\u001B[0m\u001B[0miterator\u001B[0m\u001B[0;34m)\u001B[0m\u001B[0;34m\u001B[0m\u001B[0;34m\u001B[0m\u001B[0m\n\u001B[0m\u001B[1;32m   1410\u001B[0m               \u001B[0;32mif\u001B[0m \u001B[0mdata_handler\u001B[0m\u001B[0;34m.\u001B[0m\u001B[0mshould_sync\u001B[0m\u001B[0;34m:\u001B[0m\u001B[0;34m\u001B[0m\u001B[0;34m\u001B[0m\u001B[0m\n\u001B[1;32m   1411\u001B[0m                 \u001B[0mcontext\u001B[0m\u001B[0;34m.\u001B[0m\u001B[0masync_wait\u001B[0m\u001B[0;34m(\u001B[0m\u001B[0;34m)\u001B[0m\u001B[0;34m\u001B[0m\u001B[0;34m\u001B[0m\u001B[0m\n",
      "\u001B[0;32m/usr/local/lib/python3.7/dist-packages/keras/engine/training.py\u001B[0m in \u001B[0;36mtrain_function\u001B[0;34m(iterator)\u001B[0m\n\u001B[1;32m   1049\u001B[0m       \u001B[0;32mdef\u001B[0m \u001B[0mtrain_function\u001B[0m\u001B[0;34m(\u001B[0m\u001B[0miterator\u001B[0m\u001B[0;34m)\u001B[0m\u001B[0;34m:\u001B[0m\u001B[0;34m\u001B[0m\u001B[0;34m\u001B[0m\u001B[0m\n\u001B[1;32m   1050\u001B[0m         \u001B[0;34m\"\"\"Runs a training execution with a single step.\"\"\"\u001B[0m\u001B[0;34m\u001B[0m\u001B[0;34m\u001B[0m\u001B[0m\n\u001B[0;32m-> 1051\u001B[0;31m         \u001B[0;32mreturn\u001B[0m \u001B[0mstep_function\u001B[0m\u001B[0;34m(\u001B[0m\u001B[0mself\u001B[0m\u001B[0;34m,\u001B[0m \u001B[0miterator\u001B[0m\u001B[0;34m)\u001B[0m\u001B[0;34m\u001B[0m\u001B[0;34m\u001B[0m\u001B[0m\n\u001B[0m\u001B[1;32m   1052\u001B[0m \u001B[0;34m\u001B[0m\u001B[0m\n\u001B[1;32m   1053\u001B[0m       \u001B[0;32mif\u001B[0m \u001B[0;32mnot\u001B[0m \u001B[0mself\u001B[0m\u001B[0;34m.\u001B[0m\u001B[0mrun_eagerly\u001B[0m\u001B[0;34m:\u001B[0m\u001B[0;34m\u001B[0m\u001B[0;34m\u001B[0m\u001B[0m\n",
      "\u001B[0;32m/usr/local/lib/python3.7/dist-packages/keras/engine/training.py\u001B[0m in \u001B[0;36mstep_function\u001B[0;34m(model, iterator)\u001B[0m\n\u001B[1;32m   1038\u001B[0m             run_step, jit_compile=True, reduce_retracing=True)\n\u001B[1;32m   1039\u001B[0m       \u001B[0mdata\u001B[0m \u001B[0;34m=\u001B[0m \u001B[0mnext\u001B[0m\u001B[0;34m(\u001B[0m\u001B[0miterator\u001B[0m\u001B[0;34m)\u001B[0m\u001B[0;34m\u001B[0m\u001B[0;34m\u001B[0m\u001B[0m\n\u001B[0;32m-> 1040\u001B[0;31m       \u001B[0moutputs\u001B[0m \u001B[0;34m=\u001B[0m \u001B[0mmodel\u001B[0m\u001B[0;34m.\u001B[0m\u001B[0mdistribute_strategy\u001B[0m\u001B[0;34m.\u001B[0m\u001B[0mrun\u001B[0m\u001B[0;34m(\u001B[0m\u001B[0mrun_step\u001B[0m\u001B[0;34m,\u001B[0m \u001B[0margs\u001B[0m\u001B[0;34m=\u001B[0m\u001B[0;34m(\u001B[0m\u001B[0mdata\u001B[0m\u001B[0;34m,\u001B[0m\u001B[0;34m)\u001B[0m\u001B[0;34m)\u001B[0m\u001B[0;34m\u001B[0m\u001B[0;34m\u001B[0m\u001B[0m\n\u001B[0m\u001B[1;32m   1041\u001B[0m       outputs = reduce_per_replica(\n\u001B[1;32m   1042\u001B[0m           outputs, self.distribute_strategy, reduction='first')\n",
      "\u001B[0;32m/usr/local/lib/python3.7/dist-packages/tensorflow/python/distribute/distribute_lib.py\u001B[0m in \u001B[0;36mrun\u001B[0;34m(***failed resolving arguments***)\u001B[0m\n\u001B[1;32m   1310\u001B[0m       fn = autograph.tf_convert(\n\u001B[1;32m   1311\u001B[0m           fn, autograph_ctx.control_status_ctx(), convert_by_default=False)\n\u001B[0;32m-> 1312\u001B[0;31m       \u001B[0;32mreturn\u001B[0m \u001B[0mself\u001B[0m\u001B[0;34m.\u001B[0m\u001B[0m_extended\u001B[0m\u001B[0;34m.\u001B[0m\u001B[0mcall_for_each_replica\u001B[0m\u001B[0;34m(\u001B[0m\u001B[0mfn\u001B[0m\u001B[0;34m,\u001B[0m \u001B[0margs\u001B[0m\u001B[0;34m=\u001B[0m\u001B[0margs\u001B[0m\u001B[0;34m,\u001B[0m \u001B[0mkwargs\u001B[0m\u001B[0;34m=\u001B[0m\u001B[0mkwargs\u001B[0m\u001B[0;34m)\u001B[0m\u001B[0;34m\u001B[0m\u001B[0;34m\u001B[0m\u001B[0m\n\u001B[0m\u001B[1;32m   1313\u001B[0m \u001B[0;34m\u001B[0m\u001B[0m\n\u001B[1;32m   1314\u001B[0m   \u001B[0;32mdef\u001B[0m \u001B[0mreduce\u001B[0m\u001B[0;34m(\u001B[0m\u001B[0mself\u001B[0m\u001B[0;34m,\u001B[0m \u001B[0mreduce_op\u001B[0m\u001B[0;34m,\u001B[0m \u001B[0mvalue\u001B[0m\u001B[0;34m,\u001B[0m \u001B[0maxis\u001B[0m\u001B[0;34m)\u001B[0m\u001B[0;34m:\u001B[0m\u001B[0;34m\u001B[0m\u001B[0;34m\u001B[0m\u001B[0m\n",
      "\u001B[0;32m/usr/local/lib/python3.7/dist-packages/tensorflow/python/distribute/distribute_lib.py\u001B[0m in \u001B[0;36mcall_for_each_replica\u001B[0;34m(self, fn, args, kwargs)\u001B[0m\n\u001B[1;32m   2886\u001B[0m       \u001B[0mkwargs\u001B[0m \u001B[0;34m=\u001B[0m \u001B[0;34m{\u001B[0m\u001B[0;34m}\u001B[0m\u001B[0;34m\u001B[0m\u001B[0;34m\u001B[0m\u001B[0m\n\u001B[1;32m   2887\u001B[0m     \u001B[0;32mwith\u001B[0m \u001B[0mself\u001B[0m\u001B[0;34m.\u001B[0m\u001B[0m_container_strategy\u001B[0m\u001B[0;34m(\u001B[0m\u001B[0;34m)\u001B[0m\u001B[0;34m.\u001B[0m\u001B[0mscope\u001B[0m\u001B[0;34m(\u001B[0m\u001B[0;34m)\u001B[0m\u001B[0;34m:\u001B[0m\u001B[0;34m\u001B[0m\u001B[0;34m\u001B[0m\u001B[0m\n\u001B[0;32m-> 2888\u001B[0;31m       \u001B[0;32mreturn\u001B[0m \u001B[0mself\u001B[0m\u001B[0;34m.\u001B[0m\u001B[0m_call_for_each_replica\u001B[0m\u001B[0;34m(\u001B[0m\u001B[0mfn\u001B[0m\u001B[0;34m,\u001B[0m \u001B[0margs\u001B[0m\u001B[0;34m,\u001B[0m \u001B[0mkwargs\u001B[0m\u001B[0;34m)\u001B[0m\u001B[0;34m\u001B[0m\u001B[0;34m\u001B[0m\u001B[0m\n\u001B[0m\u001B[1;32m   2889\u001B[0m \u001B[0;34m\u001B[0m\u001B[0m\n\u001B[1;32m   2890\u001B[0m   \u001B[0;32mdef\u001B[0m \u001B[0m_call_for_each_replica\u001B[0m\u001B[0;34m(\u001B[0m\u001B[0mself\u001B[0m\u001B[0;34m,\u001B[0m \u001B[0mfn\u001B[0m\u001B[0;34m,\u001B[0m \u001B[0margs\u001B[0m\u001B[0;34m,\u001B[0m \u001B[0mkwargs\u001B[0m\u001B[0;34m)\u001B[0m\u001B[0;34m:\u001B[0m\u001B[0;34m\u001B[0m\u001B[0;34m\u001B[0m\u001B[0m\n",
      "\u001B[0;32m/usr/local/lib/python3.7/dist-packages/tensorflow/python/distribute/distribute_lib.py\u001B[0m in \u001B[0;36m_call_for_each_replica\u001B[0;34m(self, fn, args, kwargs)\u001B[0m\n\u001B[1;32m   3687\u001B[0m   \u001B[0;32mdef\u001B[0m \u001B[0m_call_for_each_replica\u001B[0m\u001B[0;34m(\u001B[0m\u001B[0mself\u001B[0m\u001B[0;34m,\u001B[0m \u001B[0mfn\u001B[0m\u001B[0;34m,\u001B[0m \u001B[0margs\u001B[0m\u001B[0;34m,\u001B[0m \u001B[0mkwargs\u001B[0m\u001B[0;34m)\u001B[0m\u001B[0;34m:\u001B[0m\u001B[0;34m\u001B[0m\u001B[0;34m\u001B[0m\u001B[0m\n\u001B[1;32m   3688\u001B[0m     \u001B[0;32mwith\u001B[0m \u001B[0mReplicaContext\u001B[0m\u001B[0;34m(\u001B[0m\u001B[0mself\u001B[0m\u001B[0;34m.\u001B[0m\u001B[0m_container_strategy\u001B[0m\u001B[0;34m(\u001B[0m\u001B[0;34m)\u001B[0m\u001B[0;34m,\u001B[0m \u001B[0mreplica_id_in_sync_group\u001B[0m\u001B[0;34m=\u001B[0m\u001B[0;36m0\u001B[0m\u001B[0;34m)\u001B[0m\u001B[0;34m:\u001B[0m\u001B[0;34m\u001B[0m\u001B[0;34m\u001B[0m\u001B[0m\n\u001B[0;32m-> 3689\u001B[0;31m       \u001B[0;32mreturn\u001B[0m \u001B[0mfn\u001B[0m\u001B[0;34m(\u001B[0m\u001B[0;34m*\u001B[0m\u001B[0margs\u001B[0m\u001B[0;34m,\u001B[0m \u001B[0;34m**\u001B[0m\u001B[0mkwargs\u001B[0m\u001B[0;34m)\u001B[0m\u001B[0;34m\u001B[0m\u001B[0;34m\u001B[0m\u001B[0m\n\u001B[0m\u001B[1;32m   3690\u001B[0m \u001B[0;34m\u001B[0m\u001B[0m\n\u001B[1;32m   3691\u001B[0m   \u001B[0;32mdef\u001B[0m \u001B[0m_reduce_to\u001B[0m\u001B[0;34m(\u001B[0m\u001B[0mself\u001B[0m\u001B[0;34m,\u001B[0m \u001B[0mreduce_op\u001B[0m\u001B[0;34m,\u001B[0m \u001B[0mvalue\u001B[0m\u001B[0;34m,\u001B[0m \u001B[0mdestinations\u001B[0m\u001B[0;34m,\u001B[0m \u001B[0moptions\u001B[0m\u001B[0;34m)\u001B[0m\u001B[0;34m:\u001B[0m\u001B[0;34m\u001B[0m\u001B[0;34m\u001B[0m\u001B[0m\n",
      "\u001B[0;32m/usr/local/lib/python3.7/dist-packages/tensorflow/python/autograph/impl/api.py\u001B[0m in \u001B[0;36mwrapper\u001B[0;34m(*args, **kwargs)\u001B[0m\n\u001B[1;32m    593\u001B[0m   \u001B[0;32mdef\u001B[0m \u001B[0mwrapper\u001B[0m\u001B[0;34m(\u001B[0m\u001B[0;34m*\u001B[0m\u001B[0margs\u001B[0m\u001B[0;34m,\u001B[0m \u001B[0;34m**\u001B[0m\u001B[0mkwargs\u001B[0m\u001B[0;34m)\u001B[0m\u001B[0;34m:\u001B[0m\u001B[0;34m\u001B[0m\u001B[0;34m\u001B[0m\u001B[0m\n\u001B[1;32m    594\u001B[0m     \u001B[0;32mwith\u001B[0m \u001B[0mag_ctx\u001B[0m\u001B[0;34m.\u001B[0m\u001B[0mControlStatusCtx\u001B[0m\u001B[0;34m(\u001B[0m\u001B[0mstatus\u001B[0m\u001B[0;34m=\u001B[0m\u001B[0mag_ctx\u001B[0m\u001B[0;34m.\u001B[0m\u001B[0mStatus\u001B[0m\u001B[0;34m.\u001B[0m\u001B[0mUNSPECIFIED\u001B[0m\u001B[0;34m)\u001B[0m\u001B[0;34m:\u001B[0m\u001B[0;34m\u001B[0m\u001B[0;34m\u001B[0m\u001B[0m\n\u001B[0;32m--> 595\u001B[0;31m       \u001B[0;32mreturn\u001B[0m \u001B[0mfunc\u001B[0m\u001B[0;34m(\u001B[0m\u001B[0;34m*\u001B[0m\u001B[0margs\u001B[0m\u001B[0;34m,\u001B[0m \u001B[0;34m**\u001B[0m\u001B[0mkwargs\u001B[0m\u001B[0;34m)\u001B[0m\u001B[0;34m\u001B[0m\u001B[0;34m\u001B[0m\u001B[0m\n\u001B[0m\u001B[1;32m    596\u001B[0m \u001B[0;34m\u001B[0m\u001B[0m\n\u001B[1;32m    597\u001B[0m   \u001B[0;32mif\u001B[0m \u001B[0minspect\u001B[0m\u001B[0;34m.\u001B[0m\u001B[0misfunction\u001B[0m\u001B[0;34m(\u001B[0m\u001B[0mfunc\u001B[0m\u001B[0;34m)\u001B[0m \u001B[0;32mor\u001B[0m \u001B[0minspect\u001B[0m\u001B[0;34m.\u001B[0m\u001B[0mismethod\u001B[0m\u001B[0;34m(\u001B[0m\u001B[0mfunc\u001B[0m\u001B[0;34m)\u001B[0m\u001B[0;34m:\u001B[0m\u001B[0;34m\u001B[0m\u001B[0;34m\u001B[0m\u001B[0m\n",
      "\u001B[0;32m/usr/local/lib/python3.7/dist-packages/keras/engine/training.py\u001B[0m in \u001B[0;36mrun_step\u001B[0;34m(data)\u001B[0m\n\u001B[1;32m   1028\u001B[0m \u001B[0;34m\u001B[0m\u001B[0m\n\u001B[1;32m   1029\u001B[0m       \u001B[0;32mdef\u001B[0m \u001B[0mrun_step\u001B[0m\u001B[0;34m(\u001B[0m\u001B[0mdata\u001B[0m\u001B[0;34m)\u001B[0m\u001B[0;34m:\u001B[0m\u001B[0;34m\u001B[0m\u001B[0;34m\u001B[0m\u001B[0m\n\u001B[0;32m-> 1030\u001B[0;31m         \u001B[0moutputs\u001B[0m \u001B[0;34m=\u001B[0m \u001B[0mmodel\u001B[0m\u001B[0;34m.\u001B[0m\u001B[0mtrain_step\u001B[0m\u001B[0;34m(\u001B[0m\u001B[0mdata\u001B[0m\u001B[0;34m)\u001B[0m\u001B[0;34m\u001B[0m\u001B[0;34m\u001B[0m\u001B[0m\n\u001B[0m\u001B[1;32m   1031\u001B[0m         \u001B[0;31m# Ensure counter is updated only if `train_step` succeeds.\u001B[0m\u001B[0;34m\u001B[0m\u001B[0;34m\u001B[0m\u001B[0;34m\u001B[0m\u001B[0m\n\u001B[1;32m   1032\u001B[0m         \u001B[0;32mwith\u001B[0m \u001B[0mtf\u001B[0m\u001B[0;34m.\u001B[0m\u001B[0mcontrol_dependencies\u001B[0m\u001B[0;34m(\u001B[0m\u001B[0m_minimum_control_deps\u001B[0m\u001B[0;34m(\u001B[0m\u001B[0moutputs\u001B[0m\u001B[0;34m)\u001B[0m\u001B[0;34m)\u001B[0m\u001B[0;34m:\u001B[0m\u001B[0;34m\u001B[0m\u001B[0;34m\u001B[0m\u001B[0m\n",
      "\u001B[0;32m/usr/local/lib/python3.7/dist-packages/keras/engine/training.py\u001B[0m in \u001B[0;36mtrain_step\u001B[0;34m(self, data)\u001B[0m\n\u001B[1;32m    891\u001B[0m     \u001B[0mself\u001B[0m\u001B[0;34m.\u001B[0m\u001B[0m_validate_target_and_loss\u001B[0m\u001B[0;34m(\u001B[0m\u001B[0my\u001B[0m\u001B[0;34m,\u001B[0m \u001B[0mloss\u001B[0m\u001B[0;34m)\u001B[0m\u001B[0;34m\u001B[0m\u001B[0;34m\u001B[0m\u001B[0m\n\u001B[1;32m    892\u001B[0m     \u001B[0;31m# Run backwards pass.\u001B[0m\u001B[0;34m\u001B[0m\u001B[0;34m\u001B[0m\u001B[0;34m\u001B[0m\u001B[0m\n\u001B[0;32m--> 893\u001B[0;31m     \u001B[0mself\u001B[0m\u001B[0;34m.\u001B[0m\u001B[0moptimizer\u001B[0m\u001B[0;34m.\u001B[0m\u001B[0mminimize\u001B[0m\u001B[0;34m(\u001B[0m\u001B[0mloss\u001B[0m\u001B[0;34m,\u001B[0m \u001B[0mself\u001B[0m\u001B[0;34m.\u001B[0m\u001B[0mtrainable_variables\u001B[0m\u001B[0;34m,\u001B[0m \u001B[0mtape\u001B[0m\u001B[0;34m=\u001B[0m\u001B[0mtape\u001B[0m\u001B[0;34m)\u001B[0m\u001B[0;34m\u001B[0m\u001B[0;34m\u001B[0m\u001B[0m\n\u001B[0m\u001B[1;32m    894\u001B[0m     \u001B[0;32mreturn\u001B[0m \u001B[0mself\u001B[0m\u001B[0;34m.\u001B[0m\u001B[0mcompute_metrics\u001B[0m\u001B[0;34m(\u001B[0m\u001B[0mx\u001B[0m\u001B[0;34m,\u001B[0m \u001B[0my\u001B[0m\u001B[0;34m,\u001B[0m \u001B[0my_pred\u001B[0m\u001B[0;34m,\u001B[0m \u001B[0msample_weight\u001B[0m\u001B[0;34m)\u001B[0m\u001B[0;34m\u001B[0m\u001B[0;34m\u001B[0m\u001B[0m\n\u001B[1;32m    895\u001B[0m \u001B[0;34m\u001B[0m\u001B[0m\n",
      "\u001B[0;32m/usr/local/lib/python3.7/dist-packages/keras/optimizers/optimizer_v2/optimizer_v2.py\u001B[0m in \u001B[0;36mminimize\u001B[0;34m(self, loss, var_list, grad_loss, name, tape)\u001B[0m\n\u001B[1;32m    536\u001B[0m     \"\"\"\n\u001B[1;32m    537\u001B[0m     grads_and_vars = self._compute_gradients(\n\u001B[0;32m--> 538\u001B[0;31m         loss, var_list=var_list, grad_loss=grad_loss, tape=tape)\n\u001B[0m\u001B[1;32m    539\u001B[0m     \u001B[0;32mreturn\u001B[0m \u001B[0mself\u001B[0m\u001B[0;34m.\u001B[0m\u001B[0mapply_gradients\u001B[0m\u001B[0;34m(\u001B[0m\u001B[0mgrads_and_vars\u001B[0m\u001B[0;34m,\u001B[0m \u001B[0mname\u001B[0m\u001B[0;34m=\u001B[0m\u001B[0mname\u001B[0m\u001B[0;34m)\u001B[0m\u001B[0;34m\u001B[0m\u001B[0;34m\u001B[0m\u001B[0m\n\u001B[1;32m    540\u001B[0m \u001B[0;34m\u001B[0m\u001B[0m\n",
      "\u001B[0;32m/usr/local/lib/python3.7/dist-packages/keras/optimizers/optimizer_v2/optimizer_v2.py\u001B[0m in \u001B[0;36m_compute_gradients\u001B[0;34m(self, loss, var_list, grad_loss, tape)\u001B[0m\n\u001B[1;32m    588\u001B[0m     \u001B[0mvar_list\u001B[0m \u001B[0;34m=\u001B[0m \u001B[0mtf\u001B[0m\u001B[0;34m.\u001B[0m\u001B[0mnest\u001B[0m\u001B[0;34m.\u001B[0m\u001B[0mflatten\u001B[0m\u001B[0;34m(\u001B[0m\u001B[0mvar_list\u001B[0m\u001B[0;34m)\u001B[0m\u001B[0;34m\u001B[0m\u001B[0;34m\u001B[0m\u001B[0m\n\u001B[1;32m    589\u001B[0m     \u001B[0;32mwith\u001B[0m \u001B[0mtf\u001B[0m\u001B[0;34m.\u001B[0m\u001B[0mname_scope\u001B[0m\u001B[0;34m(\u001B[0m\u001B[0mself\u001B[0m\u001B[0;34m.\u001B[0m\u001B[0m_name\u001B[0m \u001B[0;34m+\u001B[0m \u001B[0;34m\"/gradients\"\u001B[0m\u001B[0;34m)\u001B[0m\u001B[0;34m:\u001B[0m\u001B[0;34m\u001B[0m\u001B[0;34m\u001B[0m\u001B[0m\n\u001B[0;32m--> 590\u001B[0;31m       \u001B[0mgrads_and_vars\u001B[0m \u001B[0;34m=\u001B[0m \u001B[0mself\u001B[0m\u001B[0;34m.\u001B[0m\u001B[0m_get_gradients\u001B[0m\u001B[0;34m(\u001B[0m\u001B[0mtape\u001B[0m\u001B[0;34m,\u001B[0m \u001B[0mloss\u001B[0m\u001B[0;34m,\u001B[0m \u001B[0mvar_list\u001B[0m\u001B[0;34m,\u001B[0m \u001B[0mgrad_loss\u001B[0m\u001B[0;34m)\u001B[0m\u001B[0;34m\u001B[0m\u001B[0;34m\u001B[0m\u001B[0m\n\u001B[0m\u001B[1;32m    591\u001B[0m \u001B[0;34m\u001B[0m\u001B[0m\n\u001B[1;32m    592\u001B[0m     self._assert_valid_dtypes([\n",
      "\u001B[0;32m/usr/local/lib/python3.7/dist-packages/keras/optimizers/optimizer_v2/optimizer_v2.py\u001B[0m in \u001B[0;36m_get_gradients\u001B[0;34m(self, tape, loss, var_list, grad_loss)\u001B[0m\n\u001B[1;32m    469\u001B[0m   \u001B[0;32mdef\u001B[0m \u001B[0m_get_gradients\u001B[0m\u001B[0;34m(\u001B[0m\u001B[0mself\u001B[0m\u001B[0;34m,\u001B[0m \u001B[0mtape\u001B[0m\u001B[0;34m,\u001B[0m \u001B[0mloss\u001B[0m\u001B[0;34m,\u001B[0m \u001B[0mvar_list\u001B[0m\u001B[0;34m,\u001B[0m \u001B[0mgrad_loss\u001B[0m\u001B[0;34m=\u001B[0m\u001B[0;32mNone\u001B[0m\u001B[0;34m)\u001B[0m\u001B[0;34m:\u001B[0m\u001B[0;34m\u001B[0m\u001B[0;34m\u001B[0m\u001B[0m\n\u001B[1;32m    470\u001B[0m     \u001B[0;34m\"\"\"Called in `minimize` to compute gradients from loss.\"\"\"\u001B[0m\u001B[0;34m\u001B[0m\u001B[0;34m\u001B[0m\u001B[0m\n\u001B[0;32m--> 471\u001B[0;31m     \u001B[0mgrads\u001B[0m \u001B[0;34m=\u001B[0m \u001B[0mtape\u001B[0m\u001B[0;34m.\u001B[0m\u001B[0mgradient\u001B[0m\u001B[0;34m(\u001B[0m\u001B[0mloss\u001B[0m\u001B[0;34m,\u001B[0m \u001B[0mvar_list\u001B[0m\u001B[0;34m,\u001B[0m \u001B[0mgrad_loss\u001B[0m\u001B[0;34m)\u001B[0m\u001B[0;34m\u001B[0m\u001B[0;34m\u001B[0m\u001B[0m\n\u001B[0m\u001B[1;32m    472\u001B[0m     \u001B[0;32mreturn\u001B[0m \u001B[0mlist\u001B[0m\u001B[0;34m(\u001B[0m\u001B[0mzip\u001B[0m\u001B[0;34m(\u001B[0m\u001B[0mgrads\u001B[0m\u001B[0;34m,\u001B[0m \u001B[0mvar_list\u001B[0m\u001B[0;34m)\u001B[0m\u001B[0;34m)\u001B[0m\u001B[0;34m\u001B[0m\u001B[0;34m\u001B[0m\u001B[0m\n\u001B[1;32m    473\u001B[0m \u001B[0;34m\u001B[0m\u001B[0m\n",
      "\u001B[0;32m/usr/local/lib/python3.7/dist-packages/tensorflow/python/eager/backprop.py\u001B[0m in \u001B[0;36mgradient\u001B[0;34m(self, target, sources, output_gradients, unconnected_gradients)\u001B[0m\n\u001B[1;32m   1104\u001B[0m         \u001B[0moutput_gradients\u001B[0m\u001B[0;34m=\u001B[0m\u001B[0moutput_gradients\u001B[0m\u001B[0;34m,\u001B[0m\u001B[0;34m\u001B[0m\u001B[0;34m\u001B[0m\u001B[0m\n\u001B[1;32m   1105\u001B[0m         \u001B[0msources_raw\u001B[0m\u001B[0;34m=\u001B[0m\u001B[0mflat_sources_raw\u001B[0m\u001B[0;34m,\u001B[0m\u001B[0;34m\u001B[0m\u001B[0;34m\u001B[0m\u001B[0m\n\u001B[0;32m-> 1106\u001B[0;31m         unconnected_gradients=unconnected_gradients)\n\u001B[0m\u001B[1;32m   1107\u001B[0m \u001B[0;34m\u001B[0m\u001B[0m\n\u001B[1;32m   1108\u001B[0m     \u001B[0;32mif\u001B[0m \u001B[0;32mnot\u001B[0m \u001B[0mself\u001B[0m\u001B[0;34m.\u001B[0m\u001B[0m_persistent\u001B[0m\u001B[0;34m:\u001B[0m\u001B[0;34m\u001B[0m\u001B[0;34m\u001B[0m\u001B[0m\n",
      "\u001B[0;32m/usr/local/lib/python3.7/dist-packages/tensorflow/python/eager/imperative_grad.py\u001B[0m in \u001B[0;36mimperative_grad\u001B[0;34m(tape, target, sources, output_gradients, sources_raw, unconnected_gradients)\u001B[0m\n\u001B[1;32m     71\u001B[0m       \u001B[0moutput_gradients\u001B[0m\u001B[0;34m,\u001B[0m\u001B[0;34m\u001B[0m\u001B[0;34m\u001B[0m\u001B[0m\n\u001B[1;32m     72\u001B[0m       \u001B[0msources_raw\u001B[0m\u001B[0;34m,\u001B[0m\u001B[0;34m\u001B[0m\u001B[0;34m\u001B[0m\u001B[0m\n\u001B[0;32m---> 73\u001B[0;31m       compat.as_str(unconnected_gradients.value))\n\u001B[0m",
      "\u001B[0;32m/usr/local/lib/python3.7/dist-packages/tensorflow/python/eager/backprop.py\u001B[0m in \u001B[0;36m_gradient_function\u001B[0;34m(op_name, attr_tuple, num_inputs, inputs, outputs, out_grads, skip_input_indices, forward_pass_name_scope)\u001B[0m\n\u001B[1;32m    155\u001B[0m       \u001B[0mgradient_name_scope\u001B[0m \u001B[0;34m+=\u001B[0m \u001B[0mforward_pass_name_scope\u001B[0m \u001B[0;34m+\u001B[0m \u001B[0;34m\"/\"\u001B[0m\u001B[0;34m\u001B[0m\u001B[0;34m\u001B[0m\u001B[0m\n\u001B[1;32m    156\u001B[0m     \u001B[0;32mwith\u001B[0m \u001B[0mops\u001B[0m\u001B[0;34m.\u001B[0m\u001B[0mname_scope\u001B[0m\u001B[0;34m(\u001B[0m\u001B[0mgradient_name_scope\u001B[0m\u001B[0;34m)\u001B[0m\u001B[0;34m:\u001B[0m\u001B[0;34m\u001B[0m\u001B[0;34m\u001B[0m\u001B[0m\n\u001B[0;32m--> 157\u001B[0;31m       \u001B[0;32mreturn\u001B[0m \u001B[0mgrad_fn\u001B[0m\u001B[0;34m(\u001B[0m\u001B[0mmock_op\u001B[0m\u001B[0;34m,\u001B[0m \u001B[0;34m*\u001B[0m\u001B[0mout_grads\u001B[0m\u001B[0;34m)\u001B[0m\u001B[0;34m\u001B[0m\u001B[0;34m\u001B[0m\u001B[0m\n\u001B[0m\u001B[1;32m    158\u001B[0m   \u001B[0;32melse\u001B[0m\u001B[0;34m:\u001B[0m\u001B[0;34m\u001B[0m\u001B[0;34m\u001B[0m\u001B[0m\n\u001B[1;32m    159\u001B[0m     \u001B[0;32mreturn\u001B[0m \u001B[0mgrad_fn\u001B[0m\u001B[0;34m(\u001B[0m\u001B[0mmock_op\u001B[0m\u001B[0;34m,\u001B[0m \u001B[0;34m*\u001B[0m\u001B[0mout_grads\u001B[0m\u001B[0;34m)\u001B[0m\u001B[0;34m\u001B[0m\u001B[0;34m\u001B[0m\u001B[0m\n",
      "\u001B[0;32m/usr/local/lib/python3.7/dist-packages/tensorflow/python/ops/math_grad.py\u001B[0m in \u001B[0;36m_MatMulGrad\u001B[0;34m(op, grad)\u001B[0m\n\u001B[1;32m   1738\u001B[0m   \u001B[0mb\u001B[0m \u001B[0;34m=\u001B[0m \u001B[0mmath_ops\u001B[0m\u001B[0;34m.\u001B[0m\u001B[0mconj\u001B[0m\u001B[0;34m(\u001B[0m\u001B[0mop\u001B[0m\u001B[0;34m.\u001B[0m\u001B[0minputs\u001B[0m\u001B[0;34m[\u001B[0m\u001B[0;36m1\u001B[0m\u001B[0;34m]\u001B[0m\u001B[0;34m)\u001B[0m\u001B[0;34m\u001B[0m\u001B[0;34m\u001B[0m\u001B[0m\n\u001B[1;32m   1739\u001B[0m   \u001B[0;32mif\u001B[0m \u001B[0;32mnot\u001B[0m \u001B[0mt_a\u001B[0m \u001B[0;32mand\u001B[0m \u001B[0;32mnot\u001B[0m \u001B[0mt_b\u001B[0m\u001B[0;34m:\u001B[0m\u001B[0;34m\u001B[0m\u001B[0;34m\u001B[0m\u001B[0m\n\u001B[0;32m-> 1740\u001B[0;31m     \u001B[0mgrad_a\u001B[0m \u001B[0;34m=\u001B[0m \u001B[0mgen_math_ops\u001B[0m\u001B[0;34m.\u001B[0m\u001B[0mmat_mul\u001B[0m\u001B[0;34m(\u001B[0m\u001B[0mgrad\u001B[0m\u001B[0;34m,\u001B[0m \u001B[0mb\u001B[0m\u001B[0;34m,\u001B[0m \u001B[0mtranspose_b\u001B[0m\u001B[0;34m=\u001B[0m\u001B[0;32mTrue\u001B[0m\u001B[0;34m)\u001B[0m\u001B[0;34m\u001B[0m\u001B[0;34m\u001B[0m\u001B[0m\n\u001B[0m\u001B[1;32m   1741\u001B[0m     \u001B[0mgrad_b\u001B[0m \u001B[0;34m=\u001B[0m \u001B[0mgen_math_ops\u001B[0m\u001B[0;34m.\u001B[0m\u001B[0mmat_mul\u001B[0m\u001B[0;34m(\u001B[0m\u001B[0ma\u001B[0m\u001B[0;34m,\u001B[0m \u001B[0mgrad\u001B[0m\u001B[0;34m,\u001B[0m \u001B[0mtranspose_a\u001B[0m\u001B[0;34m=\u001B[0m\u001B[0;32mTrue\u001B[0m\u001B[0;34m)\u001B[0m\u001B[0;34m\u001B[0m\u001B[0;34m\u001B[0m\u001B[0m\n\u001B[1;32m   1742\u001B[0m   \u001B[0;32melif\u001B[0m \u001B[0;32mnot\u001B[0m \u001B[0mt_a\u001B[0m \u001B[0;32mand\u001B[0m \u001B[0mt_b\u001B[0m\u001B[0;34m:\u001B[0m\u001B[0;34m\u001B[0m\u001B[0;34m\u001B[0m\u001B[0m\n",
      "\u001B[0;32m/usr/local/lib/python3.7/dist-packages/tensorflow/python/ops/gen_math_ops.py\u001B[0m in \u001B[0;36mmat_mul\u001B[0;34m(a, b, transpose_a, transpose_b, name)\u001B[0m\n\u001B[1;32m   6013\u001B[0m       _result = pywrap_tfe.TFE_Py_FastPathExecute(\n\u001B[1;32m   6014\u001B[0m         \u001B[0m_ctx\u001B[0m\u001B[0;34m,\u001B[0m \u001B[0;34m\"MatMul\"\u001B[0m\u001B[0;34m,\u001B[0m \u001B[0mname\u001B[0m\u001B[0;34m,\u001B[0m \u001B[0ma\u001B[0m\u001B[0;34m,\u001B[0m \u001B[0mb\u001B[0m\u001B[0;34m,\u001B[0m \u001B[0;34m\"transpose_a\"\u001B[0m\u001B[0;34m,\u001B[0m \u001B[0mtranspose_a\u001B[0m\u001B[0;34m,\u001B[0m \u001B[0;34m\"transpose_b\"\u001B[0m\u001B[0;34m,\u001B[0m\u001B[0;34m\u001B[0m\u001B[0;34m\u001B[0m\u001B[0m\n\u001B[0;32m-> 6015\u001B[0;31m         transpose_b)\n\u001B[0m\u001B[1;32m   6016\u001B[0m       \u001B[0;32mreturn\u001B[0m \u001B[0m_result\u001B[0m\u001B[0;34m\u001B[0m\u001B[0;34m\u001B[0m\u001B[0m\n\u001B[1;32m   6017\u001B[0m     \u001B[0;32mexcept\u001B[0m \u001B[0m_core\u001B[0m\u001B[0;34m.\u001B[0m\u001B[0m_NotOkStatusException\u001B[0m \u001B[0;32mas\u001B[0m \u001B[0me\u001B[0m\u001B[0;34m:\u001B[0m\u001B[0;34m\u001B[0m\u001B[0;34m\u001B[0m\u001B[0m\n",
      "\u001B[0;31mKeyboardInterrupt\u001B[0m: "
     ]
    }
   ],
   "source": [
    "max_epochs = 50\n",
    "verbose = 1\n",
    "batch_size = 1024\n",
    "\n",
    "history = model.fit(\n",
    "        x = train_instances.sequences, \n",
    "        y = train_instances.targets,\n",
    "        \n",
    "        epochs=max_epochs,\n",
    "        verbose=verbose, \n",
    "        batch_size=batch_size,\n",
    "        # validation_split = 0.20,\n",
    "        validation_data=(\n",
    "            validation_instances.sequences, \n",
    "            validation_instances.targets\n",
    "        ),\n",
    "        validation_batch_size=batch_size,\n",
    "        # callbacks = tf.keras.callbacks.EarlyStopping(),\n",
    "    )"
   ]
  },
  {
   "cell_type": "markdown",
   "metadata": {
    "id": "9K8H_Bm0M6uK"
   },
   "source": [
    "### Training"
   ]
  },
  {
   "cell_type": "code",
   "execution_count": null,
   "metadata": {
    "id": "0S9IGwSI3vcz"
   },
   "outputs": [],
   "source": [
    "def model_train(model, train, validation, verbose=1, max_epochs=10, batch_size=512):\n",
    "    model.fit(\n",
    "        [train_set.sequences, train_set.users, train_set.item_samples], \n",
    "        {\n",
    "            'logits_variance':train_set.y_true,\n",
    "            'sigmoid_output':train_set.y_true\n",
    "        },\n",
    "        # epochs=max_epochs,\n",
    "        verbose=verbose, \n",
    "        batch_size=batch_size,\n",
    "        # validation_split = 0.20,\n",
    "        validation_data=(\n",
    "            [validation_set.sequences, validation_set.users, validation_set.item_samples], \n",
    "            {\n",
    "                'logits_variance':validation_set.y_true,\n",
    "                'sigmoid_output':validation_set.y_true\n",
    "            },\n",
    "        ),\n",
    "        validation_batch_size=batch_size,\n",
    "        # callbacks = tf.keras.callbacks.EarlyStopping(),\n",
    "    )\n",
    "    return model\n",
    "\n",
    "\n"
   ]
  },
  {
   "cell_type": "code",
   "execution_count": null,
   "metadata": {
    "id": "az-_Yx4epNfo"
   },
   "outputs": [],
   "source": [
    "def predict(model, test_set, data, verbose=1):\n",
    "    y_pred_var, y_pred = model.predict(\n",
    "        [\n",
    "            test_set.sequences, \n",
    "            test_set.users, \n",
    "            np.repeat(np.atleast_2d(np.arange(data.num_items)), test_set.users.shape[0], axis=0)\n",
    "        ], \n",
    "        verbose=verbose\n",
    "    )\n",
    "    return y_pred\n",
    "\n",
    "def predict_mean(model, test_set, data, verbose=1):\n",
    "    y_pred_var, y_pred = model.predict(\n",
    "        [\n",
    "            test_set.sequences, \n",
    "            test_set.users, \n",
    "            np.repeat(np.atleast_2d(np.arange(data.num_items)), test_set.users.shape[0], axis=0)\n",
    "        ], \n",
    "        verbose=verbose\n",
    "    )\n",
    "    return y_pred\n",
    "    # return y_pred/np.sum(y_pred, axis=1).reshape(-1, 1)\n",
    "\n",
    "x = []\n",
    "def count_hit(predictions, targets, _k, hit_count):\n",
    "    for i, k in enumerate(_k):\n",
    "        if k == 20:\n",
    "            x.append(len(set(predictions[-k:]).intersection(set(targets))))\n",
    "        if len(set(predictions[-k:]).intersection(set(targets))) > 0:\n",
    "            hit_count[i] += 1\n",
    "\n",
    "def calculate_hit_rate(data, test_set, y_pred):\n",
    "    _k = [5, 10, 20, 25, 30, 50, 100]\n",
    "    hit_count = [0] * len(_k)\n",
    "    print(test_set.users.shape)\n",
    "    for test_set_index, user_id in enumerate(test_set.users.squeeze()):\n",
    "\n",
    "        # targets = data.test.targets[user_id] + data.user_interactions[user_id][:-(data.sequence_length+data.target_length)]\n",
    "        targets = data.test.targets[user_id]\n",
    "        predictions = np.argsort(y_pred[test_set_index].squeeze())\n",
    "        # rated = set(data.user_interactions[user_id][:-data.target_length])\n",
    "        rated = set(data.user_interactions[user_id]) - set(targets)\n",
    "        predictions = [p for p in predictions if p not in rated]\n",
    "\n",
    "        count_hit(predictions, targets, _k, hit_count)\n",
    "\n",
    "    hr = [0] * len(_k)\n",
    "    for i, k in enumerate(_k):\n",
    "        hr[i] = hit_count[i]/test_set.users.shape[0]\n",
    "        # print(hit_count[i], hr[i])\n",
    "    return hr\n",
    "    \n",
    "def evaluate_model(model, data, test, verbose=1, batch_size=512):\n",
    "    y_pred = predict(model, test, data, verbose)\n",
    "    hit_rate = calculate_hit_rate(data, test, y_pred)\n",
    "    return hit_rate\n",
    "\n",
    "def evaluate_model_by_loading_weights(model_location, data, test, isDropout=False, verbose=1, batch_size=512):\n",
    "    model = CosRec(data, T=10).get_model(isDropout)\n",
    "    model.load_weights(model_location)\n",
    "    return evaluate_model(model, data, test=test, verbose=verbose, batch_size=batch_size)\n",
    "\n",
    "## Training Model with Full Data\n",
    "model_saved_location = '/content/drive/My Drive/RuhaniRahman/UncertaintyRecommenderSystem/results/CosRec/epistemic_uncertainty/'\n",
    "def get_check_point_file_name(fold, epoch, folder_path='valina_full_model/'):\n",
    "\n",
    "    model_check_point_location = model_saved_location + folder_path + 'fold_%i_epoch_%i'%(fold, epoch)\n",
    "    print('Model saved at:', model_check_point_location)\n",
    "    return model_check_point_location\n",
    "\n",
    "\n",
    "\n"
   ]
  },
  {
   "cell_type": "markdown",
   "metadata": {
    "id": "lhYT0_X7AQS8"
   },
   "source": [
    "### Test Code Block"
   ]
  },
  {
   "cell_type": "code",
   "execution_count": null,
   "metadata": {
    "colab": {
     "base_uri": "https://localhost:8080/"
    },
    "executionInfo": {
     "elapsed": 38759,
     "status": "ok",
     "timestamp": 1666979793725,
     "user": {
      "displayName": "Research Group",
      "userId": "07008499032580121461"
     },
     "user_tz": 240
    },
    "id": "zci7DRp5i7ir",
    "outputId": "a534d860-d96d-4dd2-9d36-ec0fb46e76c0"
   },
   "outputs": [
    {
     "name": "stdout",
     "output_type": "stream",
     "text": [
      "Mounted at /content/drive\n",
      "Root /content/drive/My Drive/RuhaniRahman/UncertaintyRecommenderSystem/data\n"
     ]
    },
    {
     "name": "stderr",
     "output_type": "stream",
     "text": [
      "/usr/local/lib/python3.7/dist-packages/ipykernel_launcher.py:69: VisibleDeprecationWarning: Creating an ndarray from ragged nested sequences (which is a list-or-tuple of lists-or-tuples-or ndarrays with different lengths or shapes) is deprecated. If you meant to do this, you must specify 'dtype=object' when creating the ndarray.\n",
      "/usr/local/lib/python3.7/dist-packages/ipykernel_launcher.py:70: VisibleDeprecationWarning: Creating an ndarray from ragged nested sequences (which is a list-or-tuple of lists-or-tuples-or ndarrays with different lengths or shapes) is deprecated. If you meant to do this, you must specify 'dtype=object' when creating the ndarray.\n"
     ]
    },
    {
     "name": "stdout",
     "output_type": "stream",
     "text": [
      "num_users =  6040\n",
      "num_items =  3416\n",
      "test.targets.shape: (6040, 1)\n",
      "test.users.shape: (6040, 1)\n",
      "test.sequences.shape: (6040, 200)\n"
     ]
    },
    {
     "name": "stderr",
     "output_type": "stream",
     "text": [
      "/usr/local/lib/python3.7/dist-packages/ipykernel_launcher.py:203: VisibleDeprecationWarning: Creating an ndarray from ragged nested sequences (which is a list-or-tuple of lists-or-tuples-or ndarrays with different lengths or shapes) is deprecated. If you meant to do this, you must specify 'dtype=object' when creating the ndarray.\n"
     ]
    },
    {
     "name": "stdout",
     "output_type": "stream",
     "text": [
      "(271778, 1) (71456, 1) (4832,) (1208, 1)\n"
     ]
    }
   ],
   "source": [
    "data, spliter = init(\n",
    "                     sequence_length=200,\n",
    "                     target_length=1,\n",
    "                     seed=123,\n",
    "                     k_fold=5\n",
    ")\n",
    "train_instances, validation_instances, test_instances = spliter.split_data(fold_id=3)\n",
    "\n",
    "# model = NextItNet(data, T=100).get_model()\n"
   ]
  },
  {
   "cell_type": "code",
   "execution_count": null,
   "metadata": {
    "colab": {
     "base_uri": "https://localhost:8080/"
    },
    "executionInfo": {
     "elapsed": 6113,
     "status": "ok",
     "timestamp": 1666979438249,
     "user": {
      "displayName": "Research Group",
      "userId": "07008499032580121461"
     },
     "user_tz": 240
    },
    "id": "UneS_Z34STYa",
    "outputId": "68a96517-1a2f-46b7-e2c4-809b55f5223d"
   },
   "outputs": [
    {
     "name": "stdout",
     "output_type": "stream",
     "text": [
      "seq_embedding.shape =  (None, 200, 256)\n",
      "(256,)\n",
      "dilation = 1 conv_layer.shape = (None, 198, 256)\n",
      "dilation = 1 conv_layer.shape = (None, 194, 256)\n",
      "dilation = 4 conv_layer.shape = (None, 186, 256)\n",
      "dilation = 4 conv_layer.shape = (None, 170, 256)\n",
      "dilation = 1 conv_layer.shape = (None, 168, 256)\n",
      "dilation = 1 conv_layer.shape = (None, 164, 256)\n",
      "dilation = 4 conv_layer.shape = (None, 156, 256)\n",
      "dilation = 4 conv_layer.shape = (None, 140, 256)\n",
      "Model: \"model\"\n",
      "_________________________________________________________________\n",
      " Layer (type)                Output Shape              Param #   \n",
      "=================================================================\n",
      " seq_input (InputLayer)      [(None, 200)]             0         \n",
      "                                                                 \n",
      " seq_embedding (Embedding)   (None, 200, 256)          874496    \n",
      "                                                                 \n",
      " conv1d (Conv1D)             (None, 198, 256)          196864    \n",
      "                                                                 \n",
      " conv1d_1 (Conv1D)           (None, 194, 256)          196864    \n",
      "                                                                 \n",
      " conv1d_2 (Conv1D)           (None, 186, 256)          196864    \n",
      "                                                                 \n",
      " conv1d_3 (Conv1D)           (None, 170, 256)          196864    \n",
      "                                                                 \n",
      " conv1d_4 (Conv1D)           (None, 168, 256)          196864    \n",
      "                                                                 \n",
      " conv1d_5 (Conv1D)           (None, 164, 256)          196864    \n",
      "                                                                 \n",
      " conv1d_6 (Conv1D)           (None, 156, 256)          196864    \n",
      "                                                                 \n",
      " conv1d_7 (Conv1D)           (None, 140, 256)          196864    \n",
      "                                                                 \n",
      " dense (Dense)               (None, 140, 3416)         877912    \n",
      "                                                                 \n",
      " softmax_output (Activation)  (None, 140, 3416)        0         \n",
      "                                                                 \n",
      "=================================================================\n",
      "Total params: 3,327,320\n",
      "Trainable params: 3,327,320\n",
      "Non-trainable params: 0\n",
      "_________________________________________________________________\n"
     ]
    }
   ],
   "source": [
    "model = NextItNet(data, T=100).get_model()\n",
    "model.summary()"
   ]
  },
  {
   "cell_type": "code",
   "execution_count": null,
   "metadata": {
    "colab": {
     "base_uri": "https://localhost:8080/",
     "height": 487
    },
    "executionInfo": {
     "elapsed": 8146,
     "status": "error",
     "timestamp": 1666979448580,
     "user": {
      "displayName": "Research Group",
      "userId": "07008499032580121461"
     },
     "user_tz": 240
    },
    "id": "8UKKEITUr4Gl",
    "outputId": "c4a87295-f6cc-462e-8fe6-a8c6a883311f"
   },
   "outputs": [
    {
     "name": "stderr",
     "output_type": "stream",
     "text": [
      "/usr/local/lib/python3.7/dist-packages/tensorflow/python/data/ops/structured_function.py:265: UserWarning: Even though the `tf.config.experimental_run_functions_eagerly` option is set, this option does not apply to tf.data functions. To force eager execution of tf.data functions, please use `tf.data.experimental.enable_debug_mode()`.\n",
      "  \"Even though the `tf.config.experimental_run_functions_eagerly` \"\n"
     ]
    },
    {
     "name": "stdout",
     "output_type": "stream",
     "text": [
      "Epoch 1/50\n"
     ]
    },
    {
     "ename": "ValueError",
     "evalue": "ignored",
     "output_type": "error",
     "traceback": [
      "\u001B[0;31m---------------------------------------------------------------------------\u001B[0m",
      "\u001B[0;31mValueError\u001B[0m                                Traceback (most recent call last)",
      "\u001B[0;32m<ipython-input-11-5743afbe274c>\u001B[0m in \u001B[0;36m<module>\u001B[0;34m\u001B[0m\n\u001B[1;32m     14\u001B[0m             \u001B[0mvalidation_instances\u001B[0m\u001B[0;34m.\u001B[0m\u001B[0mtargets\u001B[0m\u001B[0;34m\u001B[0m\u001B[0;34m\u001B[0m\u001B[0m\n\u001B[1;32m     15\u001B[0m         ),\n\u001B[0;32m---> 16\u001B[0;31m         \u001B[0mvalidation_batch_size\u001B[0m\u001B[0;34m=\u001B[0m\u001B[0mbatch_size\u001B[0m\u001B[0;34m,\u001B[0m\u001B[0;34m\u001B[0m\u001B[0;34m\u001B[0m\u001B[0m\n\u001B[0m\u001B[1;32m     17\u001B[0m         \u001B[0;31m# callbacks = tf.keras.callbacks.EarlyStopping(),\u001B[0m\u001B[0;34m\u001B[0m\u001B[0;34m\u001B[0m\u001B[0;34m\u001B[0m\u001B[0m\n\u001B[1;32m     18\u001B[0m     )\n",
      "\u001B[0;32m/usr/local/lib/python3.7/dist-packages/keras/utils/traceback_utils.py\u001B[0m in \u001B[0;36merror_handler\u001B[0;34m(*args, **kwargs)\u001B[0m\n\u001B[1;32m     65\u001B[0m     \u001B[0;32mexcept\u001B[0m \u001B[0mException\u001B[0m \u001B[0;32mas\u001B[0m \u001B[0me\u001B[0m\u001B[0;34m:\u001B[0m  \u001B[0;31m# pylint: disable=broad-except\u001B[0m\u001B[0;34m\u001B[0m\u001B[0;34m\u001B[0m\u001B[0m\n\u001B[1;32m     66\u001B[0m       \u001B[0mfiltered_tb\u001B[0m \u001B[0;34m=\u001B[0m \u001B[0m_process_traceback_frames\u001B[0m\u001B[0;34m(\u001B[0m\u001B[0me\u001B[0m\u001B[0;34m.\u001B[0m\u001B[0m__traceback__\u001B[0m\u001B[0;34m)\u001B[0m\u001B[0;34m\u001B[0m\u001B[0;34m\u001B[0m\u001B[0m\n\u001B[0;32m---> 67\u001B[0;31m       \u001B[0;32mraise\u001B[0m \u001B[0me\u001B[0m\u001B[0;34m.\u001B[0m\u001B[0mwith_traceback\u001B[0m\u001B[0;34m(\u001B[0m\u001B[0mfiltered_tb\u001B[0m\u001B[0;34m)\u001B[0m \u001B[0;32mfrom\u001B[0m \u001B[0;32mNone\u001B[0m\u001B[0;34m\u001B[0m\u001B[0;34m\u001B[0m\u001B[0m\n\u001B[0m\u001B[1;32m     68\u001B[0m     \u001B[0;32mfinally\u001B[0m\u001B[0;34m:\u001B[0m\u001B[0;34m\u001B[0m\u001B[0;34m\u001B[0m\u001B[0m\n\u001B[1;32m     69\u001B[0m       \u001B[0;32mdel\u001B[0m \u001B[0mfiltered_tb\u001B[0m\u001B[0;34m\u001B[0m\u001B[0;34m\u001B[0m\u001B[0m\n",
      "\u001B[0;32m/usr/local/lib/python3.7/dist-packages/keras/backend.py\u001B[0m in \u001B[0;36msparse_categorical_crossentropy\u001B[0;34m(target, output, from_logits, axis)\u001B[0m\n\u001B[1;32m   5240\u001B[0m   \u001B[0;32melse\u001B[0m\u001B[0;34m:\u001B[0m\u001B[0;34m\u001B[0m\u001B[0;34m\u001B[0m\u001B[0m\n\u001B[1;32m   5241\u001B[0m     res = tf.nn.sparse_softmax_cross_entropy_with_logits(\n\u001B[0;32m-> 5242\u001B[0;31m         labels=target, logits=output)\n\u001B[0m\u001B[1;32m   5243\u001B[0m \u001B[0;34m\u001B[0m\u001B[0m\n\u001B[1;32m   5244\u001B[0m   \u001B[0;32mif\u001B[0m \u001B[0mupdate_shape\u001B[0m \u001B[0;32mand\u001B[0m \u001B[0moutput_rank\u001B[0m \u001B[0;34m>=\u001B[0m \u001B[0;36m3\u001B[0m\u001B[0;34m:\u001B[0m\u001B[0;34m\u001B[0m\u001B[0;34m\u001B[0m\u001B[0m\n",
      "\u001B[0;31mValueError\u001B[0m: `labels.shape` must equal `logits.shape` except for the last dimension. Received: labels.shape=(512, 1) and logits.shape=(512, 140, 3416)"
     ]
    }
   ],
   "source": [
    "max_epochs = 50\n",
    "verbose = 1\n",
    "batch_size = 512\n",
    "\n",
    "history = model.fit(\n",
    "        train_instances.sequences, train_instances.targets,\n",
    "        \n",
    "        epochs=max_epochs,\n",
    "        verbose=verbose, \n",
    "        batch_size=batch_size,\n",
    "        # validation_split = 0.20,\n",
    "        validation_data=(\n",
    "            validation_instances.sequences, \n",
    "            validation_instances.targets\n",
    "        ),\n",
    "        validation_batch_size=batch_size,\n",
    "        # callbacks = tf.keras.callbacks.EarlyStopping(),\n",
    "    )"
   ]
  },
  {
   "cell_type": "code",
   "execution_count": null,
   "metadata": {
    "colab": {
     "base_uri": "https://localhost:8080/"
    },
    "executionInfo": {
     "elapsed": 3,
     "status": "ok",
     "timestamp": 1666712451942,
     "user": {
      "displayName": "Research Group",
      "userId": "07008499032580121461"
     },
     "user_tz": 240
    },
    "id": "7YgbxVfrDYcP",
    "outputId": "0c7a87c2-6c53-4d68-894b-22e8825ca1d3"
   },
   "outputs": [
    {
     "name": "stdout",
     "output_type": "stream",
     "text": [
      "S: [[0.77514955 0.11593805 0.03859242 0.07031998]\n",
      " [0.77514955 0.11593805 0.03859242 0.07031998]]\n",
      "Y: [[0 1 0 0]\n",
      " [0 0 0 1]]\n"
     ]
    }
   ],
   "source": [
    "import numpy as np\n",
    "L = np.array([[3.2,1.3,0.2,0.8], [3.2,1.3,0.2,0.8]])\n",
    "S = np.exp(L)/np.sum(np.exp(L), axis=1).reshape(-1,1)\n",
    "S\n",
    "Y = np.array([[0, 1, 0, 0], [0, 0, 0, 1]])\n",
    "print('S:',S)\n",
    "print('Y:',Y)"
   ]
  },
  {
   "cell_type": "code",
   "execution_count": null,
   "metadata": {
    "colab": {
     "base_uri": "https://localhost:8080/"
    },
    "executionInfo": {
     "elapsed": 5,
     "status": "ok",
     "timestamp": 1666628365362,
     "user": {
      "displayName": "Research Group",
      "userId": "07008499032580121461"
     },
     "user_tz": 240
    },
    "id": "Kb5wEz-wyliu",
    "outputId": "32a83ade-4173-4fac-b254-60d0619c91da"
   },
   "outputs": [
    {
     "data": {
      "text/plain": [
       "-0.9123675324862264"
      ]
     },
     "execution_count": 17,
     "metadata": {},
     "output_type": "execute_result"
    }
   ],
   "source": [
    "np.log(np.exp(S[0]-np.log(np.sum(np.exp(S)))))"
   ]
  },
  {
   "cell_type": "code",
   "execution_count": null,
   "metadata": {
    "colab": {
     "base_uri": "https://localhost:8080/"
    },
    "executionInfo": {
     "elapsed": 5,
     "status": "ok",
     "timestamp": 1666627982864,
     "user": {
      "displayName": "Research Group",
      "userId": "07008499032580121461"
     },
     "user_tz": 240
    },
    "id": "0zQ7I3NfI-jk",
    "outputId": "d899bc64-152d-456e-b1e1-d5afe335ff37"
   },
   "outputs": [
    {
     "data": {
      "text/plain": [
       "-1.064207744147069"
      ]
     },
     "execution_count": 3,
     "metadata": {},
     "output_type": "execute_result"
    }
   ],
   "source": [
    "np.exp(S[0])-np.sum(np.exp(S[1:]))"
   ]
  },
  {
   "cell_type": "code",
   "execution_count": null,
   "metadata": {
    "colab": {
     "base_uri": "https://localhost:8080/"
    },
    "executionInfo": {
     "elapsed": 159,
     "status": "ok",
     "timestamp": 1666712354395,
     "user": {
      "displayName": "Research Group",
      "userId": "07008499032580121461"
     },
     "user_tz": 240
    },
    "id": "poMbpAvDE6kG",
    "outputId": "f9bcc928-95c8-4cd2-8c74-ed3151974d15"
   },
   "outputs": [
    {
     "data": {
      "text/plain": [
       "<tf.Tensor: shape=(2,), dtype=float64, numpy=array([2.1546993, 2.6546993])>"
      ]
     },
     "execution_count": 24,
     "metadata": {},
     "output_type": "execute_result"
    }
   ],
   "source": [
    "import tensorflow as tf\n",
    "tf.keras.losses.categorical_crossentropy(Y, S)"
   ]
  },
  {
   "cell_type": "code",
   "execution_count": null,
   "metadata": {
    "colab": {
     "base_uri": "https://localhost:8080/"
    },
    "executionInfo": {
     "elapsed": 189,
     "status": "ok",
     "timestamp": 1666712355772,
     "user": {
      "displayName": "Research Group",
      "userId": "07008499032580121461"
     },
     "user_tz": 240
    },
    "id": "yJTMZbE7xPM0",
    "outputId": "ce7c61f8-bab3-4cf8-db8a-c66b6357a033"
   },
   "outputs": [
    {
     "name": "stdout",
     "output_type": "stream",
     "text": [
      "[1 3]\n"
     ]
    },
    {
     "data": {
      "text/plain": [
       "<tf.Tensor: shape=(2,), dtype=float64, numpy=array([2.1546993, 2.6546993])>"
      ]
     },
     "execution_count": 25,
     "metadata": {},
     "output_type": "execute_result"
    }
   ],
   "source": [
    "Y_sparse = np.where(Y==1)[1]\n",
    "print(Y_sparse)\n",
    "import tensorflow as tf\n",
    "tf.keras.losses.sparse_categorical_crossentropy(Y_sparse, S)"
   ]
  },
  {
   "cell_type": "code",
   "execution_count": null,
   "metadata": {
    "colab": {
     "base_uri": "https://localhost:8080/"
    },
    "executionInfo": {
     "elapsed": 2016614,
     "status": "ok",
     "timestamp": 1666925151316,
     "user": {
      "displayName": "Research Group",
      "userId": "07008499032580121461"
     },
     "user_tz": 240
    },
    "id": "Z59O_RKSKtgm",
    "outputId": "21dee704-e921-46b9-bdc7-79b9e55e6e80"
   },
   "outputs": [
    {
     "name": "stderr",
     "output_type": "stream",
     "text": [
      "/usr/local/lib/python3.7/dist-packages/tensorflow/python/data/ops/structured_function.py:265: UserWarning: Even though the `tf.config.experimental_run_functions_eagerly` option is set, this option does not apply to tf.data functions. To force eager execution of tf.data functions, please use `tf.data.experimental.enable_debug_mode()`.\n",
      "  \"Even though the `tf.config.experimental_run_functions_eagerly` \"\n"
     ]
    },
    {
     "name": "stdout",
     "output_type": "stream",
     "text": [
      "Epoch 1/5\n",
      "864/864 [==============================] - 410s 472ms/step - loss: 6.7029 - sparse_top_k_categorical_accuracy: 0.1440 - val_loss: 6.1167 - val_sparse_top_k_categorical_accuracy: 0.2252\n",
      "Epoch 2/5\n",
      "864/864 [==============================] - 405s 468ms/step - loss: 5.8827 - sparse_top_k_categorical_accuracy: 0.2594 - val_loss: 5.8797 - val_sparse_top_k_categorical_accuracy: 0.2632\n",
      "Epoch 3/5\n",
      "864/864 [==============================] - 399s 462ms/step - loss: 5.6728 - sparse_top_k_categorical_accuracy: 0.2921 - val_loss: 5.8209 - val_sparse_top_k_categorical_accuracy: 0.2730\n",
      "Epoch 4/5\n",
      "864/864 [==============================] - 400s 463ms/step - loss: 5.5505 - sparse_top_k_categorical_accuracy: 0.3119 - val_loss: 5.8038 - val_sparse_top_k_categorical_accuracy: 0.2793\n",
      "Epoch 5/5\n",
      "864/864 [==============================] - 401s 464ms/step - loss: 5.4481 - sparse_top_k_categorical_accuracy: 0.3301 - val_loss: 5.8237 - val_sparse_top_k_categorical_accuracy: 0.2770\n"
     ]
    },
    {
     "data": {
      "text/plain": [
       "<keras.callbacks.History at 0x7f9228a44cd0>"
      ]
     },
     "execution_count": 9,
     "metadata": {},
     "output_type": "execute_result"
    }
   ],
   "source": [
    "max_epochs = 5\n",
    "verbose = 1\n",
    "batch_size = 512\n",
    "\n",
    "model.fit(\n",
    "        train_instances.sequences, train_instances.targets,\n",
    "        \n",
    "        epochs=max_epochs,\n",
    "        verbose=verbose, \n",
    "        batch_size=batch_size,\n",
    "        # validation_split = 0.20,\n",
    "        validation_data=(\n",
    "            validation_instances.sequences, \n",
    "            validation_instances.targets\n",
    "        ),\n",
    "        validation_batch_size=batch_size,\n",
    "        # callbacks = tf.keras.callbacks.EarlyStopping(),\n",
    "    )"
   ]
  },
  {
   "cell_type": "code",
   "execution_count": null,
   "metadata": {
    "colab": {
     "base_uri": "https://localhost:8080/",
     "height": 165
    },
    "executionInfo": {
     "elapsed": 11,
     "status": "error",
     "timestamp": 1666967123327,
     "user": {
      "displayName": "Research Group",
      "userId": "07008499032580121461"
     },
     "user_tz": 240
    },
    "id": "-XhP6O_Oh3BJ",
    "outputId": "65262456-9689-48f7-a59b-7774b61703af"
   },
   "outputs": [
    {
     "ename": "NameError",
     "evalue": "ignored",
     "output_type": "error",
     "traceback": [
      "\u001B[0;31m---------------------------------------------------------------------------\u001B[0m",
      "\u001B[0;31mNameError\u001B[0m                                 Traceback (most recent call last)",
      "\u001B[0;32m<ipython-input-1-786e99563a6e>\u001B[0m in \u001B[0;36m<module>\u001B[0;34m\u001B[0m\n\u001B[0;32m----> 1\u001B[0;31m \u001B[0my_pred\u001B[0m \u001B[0;34m=\u001B[0m \u001B[0mmodel\u001B[0m\u001B[0;34m.\u001B[0m\u001B[0mpredict\u001B[0m\u001B[0;34m(\u001B[0m\u001B[0mtest_instances\u001B[0m\u001B[0;34m.\u001B[0m\u001B[0msequences\u001B[0m\u001B[0;34m)\u001B[0m\u001B[0;34m\u001B[0m\u001B[0;34m\u001B[0m\u001B[0m\n\u001B[0m",
      "\u001B[0;31mNameError\u001B[0m: name 'model' is not defined"
     ]
    }
   ],
   "source": [
    "y_pred = model.predict(test_instances.sequences)"
   ]
  },
  {
   "cell_type": "code",
   "execution_count": null,
   "metadata": {
    "colab": {
     "base_uri": "https://localhost:8080/"
    },
    "executionInfo": {
     "elapsed": 5,
     "status": "ok",
     "timestamp": 1666926370405,
     "user": {
      "displayName": "Research Group",
      "userId": "07008499032580121461"
     },
     "user_tz": 240
    },
    "id": "Z_xQ0fLNjK1L",
    "outputId": "4bcd83ed-0d43-46b1-e7a6-0c506d0f9f9e"
   },
   "outputs": [
    {
     "data": {
      "text/plain": [
       "(2, 3)"
      ]
     },
     "execution_count": 28,
     "metadata": {},
     "output_type": "execute_result"
    }
   ],
   "source": [
    "np.array([[0.1, 0.9, 0.8], [0.05, 0.95, 0]]).shape"
   ]
  },
  {
   "cell_type": "code",
   "execution_count": null,
   "metadata": {
    "colab": {
     "base_uri": "https://localhost:8080/"
    },
    "executionInfo": {
     "elapsed": 423,
     "status": "ok",
     "timestamp": 1666926906351,
     "user": {
      "displayName": "Research Group",
      "userId": "07008499032580121461"
     },
     "user_tz": 240
    },
    "id": "4SWfrw3Wixvh",
    "outputId": "0b4640b5-57d2-4620-e277-8783d2ef5182"
   },
   "outputs": [
    {
     "data": {
      "text/plain": [
       "0.0049668876"
      ]
     },
     "execution_count": 45,
     "metadata": {},
     "output_type": "execute_result"
    }
   ],
   "source": [
    "m = tf.keras.metrics.SparseTopKCategoricalAccuracy(k=20)\n",
    "m.update_state(test_instances.targets,\n",
    "               y_pred)\n",
    "m.result().numpy()"
   ]
  },
  {
   "cell_type": "code",
   "execution_count": null,
   "metadata": {
    "colab": {
     "base_uri": "https://localhost:8080/"
    },
    "executionInfo": {
     "elapsed": 578,
     "status": "ok",
     "timestamp": 1666926775835,
     "user": {
      "displayName": "Research Group",
      "userId": "07008499032580121461"
     },
     "user_tz": 240
    },
    "id": "ZRemc9tVkOSz",
    "outputId": "7a8f5db5-25e4-481a-b5cc-9ca2a4e3f664"
   },
   "outputs": [
    {
     "data": {
      "text/plain": [
       "0.2769972147309784"
      ]
     },
     "execution_count": 39,
     "metadata": {},
     "output_type": "execute_result"
    }
   ],
   "source": [
    "x = count_hit/validation_instances.targets.shape[0]\n",
    "x"
   ]
  },
  {
   "cell_type": "code",
   "execution_count": null,
   "metadata": {
    "colab": {
     "base_uri": "https://localhost:8080/"
    },
    "executionInfo": {
     "elapsed": 5,
     "status": "ok",
     "timestamp": 1666926440881,
     "user": {
      "displayName": "Research Group",
      "userId": "07008499032580121461"
     },
     "user_tz": 240
    },
    "id": "vzeD1-cAiikJ",
    "outputId": "74854c48-1c67-4665-b3d0-b566421aae6f"
   },
   "outputs": [
    {
     "data": {
      "text/plain": [
       "3296"
      ]
     },
     "execution_count": 31,
     "metadata": {},
     "output_type": "execute_result"
    }
   ],
   "source": [
    "test_instances.targets[0][0]"
   ]
  },
  {
   "cell_type": "code",
   "execution_count": null,
   "metadata": {
    "colab": {
     "base_uri": "https://localhost:8080/"
    },
    "executionInfo": {
     "elapsed": 3,
     "status": "ok",
     "timestamp": 1666926360258,
     "user": {
      "displayName": "Research Group",
      "userId": "07008499032580121461"
     },
     "user_tz": 240
    },
    "id": "FYAckbS9jaAy",
    "outputId": "8eb535d7-0db4-41a3-8d3c-efe789cb43f9"
   },
   "outputs": [
    {
     "data": {
      "text/plain": [
       "(1208, 3416)"
      ]
     },
     "execution_count": 27,
     "metadata": {},
     "output_type": "execute_result"
    }
   ],
   "source": [
    "y_pred.shape"
   ]
  },
  {
   "cell_type": "code",
   "execution_count": null,
   "metadata": {
    "colab": {
     "base_uri": "https://localhost:8080/"
    },
    "executionInfo": {
     "elapsed": 23637,
     "status": "ok",
     "timestamp": 1666926771424,
     "user": {
      "displayName": "Research Group",
      "userId": "07008499032580121461"
     },
     "user_tz": 240
    },
    "id": "DEyqGCfpiQJR",
    "outputId": "fcc1df8f-c946-486e-f880-eaf8deea2bcb"
   },
   "outputs": [
    {
     "data": {
      "text/plain": [
       "31327"
      ]
     },
     "execution_count": 38,
     "metadata": {},
     "output_type": "execute_result"
    }
   ],
   "source": [
    "count_hit = 0\n",
    "for i in range(validation_instances.targets.shape[0]):\n",
    "    if validation_instances.targets[i][0] in np.argsort(y_pred[i])[-20:]:\n",
    "        count_hit += 1\n",
    "count_hit"
   ]
  },
  {
   "cell_type": "code",
   "execution_count": null,
   "metadata": {
    "colab": {
     "base_uri": "https://localhost:8080/",
     "height": 165
    },
    "executionInfo": {
     "elapsed": 511,
     "status": "error",
     "timestamp": 1666926047078,
     "user": {
      "displayName": "Research Group",
      "userId": "07008499032580121461"
     },
     "user_tz": 240
    },
    "id": "U3ALt-RUiHVQ",
    "outputId": "cff2496b-3c4d-4f0e-bd90-47ac341dee0a"
   },
   "outputs": [
    {
     "ename": "NameError",
     "evalue": "ignored",
     "output_type": "error",
     "traceback": [
      "\u001B[0;31m---------------------------------------------------------------------------\u001B[0m",
      "\u001B[0;31mNameError\u001B[0m                                 Traceback (most recent call last)",
      "\u001B[0;32m<ipython-input-11-bfd33b4df8d3>\u001B[0m in \u001B[0;36m<module>\u001B[0;34m\u001B[0m\n\u001B[0;32m----> 1\u001B[0;31m \u001B[0mhr\u001B[0m \u001B[0;34m=\u001B[0m \u001B[0mcount_hit_rate\u001B[0m\u001B[0;34m(\u001B[0m\u001B[0mdata\u001B[0m\u001B[0;34m,\u001B[0m \u001B[0mtest_instances\u001B[0m\u001B[0;34m.\u001B[0m\u001B[0mtargets\u001B[0m\u001B[0;34m,\u001B[0m \u001B[0my_pred\u001B[0m\u001B[0;34m)\u001B[0m\u001B[0;34m\u001B[0m\u001B[0;34m\u001B[0m\u001B[0m\n\u001B[0m",
      "\u001B[0;31mNameError\u001B[0m: name 'count_hit_rate' is not defined"
     ]
    }
   ],
   "source": [
    "hr = count_hit_rate(data, train_instances.targets, y_pred)"
   ]
  },
  {
   "cell_type": "code",
   "execution_count": null,
   "metadata": {
    "colab": {
     "base_uri": "https://localhost:8080/"
    },
    "executionInfo": {
     "elapsed": 527,
     "status": "ok",
     "timestamp": 1666802101613,
     "user": {
      "displayName": "Research Group",
      "userId": "07008499032580121461"
     },
     "user_tz": 240
    },
    "id": "jQEy9-XsPCdi",
    "outputId": "260e3464-4f8c-46ee-dc61-d911d3891608"
   },
   "outputs": [
    {
     "name": "stdout",
     "output_type": "stream",
     "text": [
      "(442354, 1) (113095, 1) (4832,) (1208, 1)\n"
     ]
    }
   ],
   "source": [
    "train_instances, validation_instances, test_instances = spliter.split_data(fold_id=3)"
   ]
  },
  {
   "cell_type": "code",
   "execution_count": null,
   "metadata": {
    "colab": {
     "base_uri": "https://localhost:8080/"
    },
    "executionInfo": {
     "elapsed": 165,
     "status": "ok",
     "timestamp": 1666802164149,
     "user": {
      "displayName": "Research Group",
      "userId": "07008499032580121461"
     },
     "user_tz": 240
    },
    "id": "NK_I9tWyJXiN",
    "outputId": "c033d01b-886e-4615-b233-657a057136ee"
   },
   "outputs": [
    {
     "data": {
      "text/plain": [
       "<__main__.Instances at 0x7efdbd1d5310>"
      ]
     },
     "execution_count": 16,
     "metadata": {},
     "output_type": "execute_result"
    }
   ],
   "source": [
    "train_instances"
   ]
  },
  {
   "cell_type": "code",
   "execution_count": null,
   "metadata": {
    "colab": {
     "base_uri": "https://localhost:8080/"
    },
    "executionInfo": {
     "elapsed": 125,
     "status": "ok",
     "timestamp": 1666802337814,
     "user": {
      "displayName": "Research Group",
      "userId": "07008499032580121461"
     },
     "user_tz": 240
    },
    "id": "kGoF2xRlJd50",
    "outputId": "52578cd7-2e9f-4d6f-e400-272fa5355f7d"
   },
   "outputs": [
    {
     "data": {
      "text/plain": [
       "(1208, 100)"
      ]
     },
     "execution_count": 17,
     "metadata": {},
     "output_type": "execute_result"
    }
   ],
   "source": [
    "test_instances.sequences.shape"
   ]
  },
  {
   "cell_type": "code",
   "execution_count": null,
   "metadata": {
    "colab": {
     "base_uri": "https://localhost:8080/",
     "height": 165
    },
    "executionInfo": {
     "elapsed": 567,
     "status": "error",
     "timestamp": 1666804406666,
     "user": {
      "displayName": "Research Group",
      "userId": "07008499032580121461"
     },
     "user_tz": 240
    },
    "id": "CVJZRqbBOx_b",
    "outputId": "4f6039c7-8b50-4c1c-ba7a-283ddb257d0d"
   },
   "outputs": [
    {
     "ename": "TypeError",
     "evalue": "ignored",
     "output_type": "error",
     "traceback": [
      "\u001B[0;31m---------------------------------------------------------------------------\u001B[0m",
      "\u001B[0;31mTypeError\u001B[0m                                 Traceback (most recent call last)",
      "\u001B[0;32m<ipython-input-19-96bc53268cce>\u001B[0m in \u001B[0;36m<module>\u001B[0;34m\u001B[0m\n\u001B[0;32m----> 1\u001B[0;31m \u001B[0mmodel\u001B[0m \u001B[0;34m=\u001B[0m \u001B[0mCosRec\u001B[0m\u001B[0;34m(\u001B[0m\u001B[0mdata\u001B[0m\u001B[0;34m,\u001B[0m \u001B[0mT\u001B[0m\u001B[0;34m=\u001B[0m\u001B[0;36m50\u001B[0m\u001B[0;34m)\u001B[0m\u001B[0;34m.\u001B[0m\u001B[0mget_model\u001B[0m\u001B[0;34m(\u001B[0m\u001B[0mdropout_flag\u001B[0m\u001B[0;34m=\u001B[0m\u001B[0;32mTrue\u001B[0m\u001B[0;34m)\u001B[0m\u001B[0;34m\u001B[0m\u001B[0;34m\u001B[0m\u001B[0m\n\u001B[0m",
      "\u001B[0;31mTypeError\u001B[0m: get_model() got an unexpected keyword argument 'dropout_flag'"
     ]
    }
   ],
   "source": [
    "model = CosRec(data, T=50).get_model(dropout_flag=True)"
   ]
  },
  {
   "cell_type": "code",
   "execution_count": null,
   "metadata": {
    "colab": {
     "base_uri": "https://localhost:8080/"
    },
    "executionInfo": {
     "elapsed": 862,
     "status": "ok",
     "timestamp": 1666501960146,
     "user": {
      "displayName": "Research Group",
      "userId": "07008499032580121461"
     },
     "user_tz": 240
    },
    "id": "EMvfXpxNoJl7",
    "outputId": "d73a1f5f-ee76-46be-97a4-d72905c80831"
   },
   "outputs": [
    {
     "name": "stdout",
     "output_type": "stream",
     "text": [
      "Model: \"model_4\"\n",
      "_________________________________________________________________\n",
      " Layer (type)                Output Shape              Param #   \n",
      "=================================================================\n",
      " input (InputLayer)          [(None, 100)]             0         \n",
      "                                                                 \n",
      " embedding_4 (Embedding)     (None, 100, 200)          1000000   \n",
      "                                                                 \n",
      " gru_4 (GRU)                 (None, 1000)              3606000   \n",
      "                                                                 \n",
      " dropout_8 (Dropout)         (None, 1000)              0         \n",
      "                                                                 \n",
      " dense_8 (Dense)             (None, 200)               200200    \n",
      "                                                                 \n",
      " dropout_9 (Dropout)         (None, 200)               0         \n",
      "                                                                 \n",
      " dense_9 (Dense)             (None, 3416)              686616    \n",
      "                                                                 \n",
      " softmax_output (Activation)  (None, 3416)             0         \n",
      "                                                                 \n",
      "=================================================================\n",
      "Total params: 5,492,816\n",
      "Trainable params: 5,492,816\n",
      "Non-trainable params: 0\n",
      "_________________________________________________________________\n"
     ]
    }
   ],
   "source": [
    "model.summary()"
   ]
  },
  {
   "cell_type": "code",
   "execution_count": null,
   "metadata": {
    "colab": {
     "base_uri": "https://localhost:8080/"
    },
    "executionInfo": {
     "elapsed": 5,
     "status": "ok",
     "timestamp": 1666498523762,
     "user": {
      "displayName": "Research Group",
      "userId": "07008499032580121461"
     },
     "user_tz": 240
    },
    "id": "cUKpqwr7X-Ox",
    "outputId": "f24dbc15-e898-41bf-dee2-e1e4c3b6279a"
   },
   "outputs": [
    {
     "data": {
      "text/plain": [
       "(6040, 1)"
      ]
     },
     "execution_count": 24,
     "metadata": {},
     "output_type": "execute_result"
    }
   ],
   "source": [
    "data.train.targets.shape"
   ]
  },
  {
   "cell_type": "code",
   "execution_count": null,
   "metadata": {
    "colab": {
     "base_uri": "https://localhost:8080/"
    },
    "executionInfo": {
     "elapsed": 5,
     "status": "ok",
     "timestamp": 1666500913214,
     "user": {
      "displayName": "Research Group",
      "userId": "07008499032580121461"
     },
     "user_tz": 240
    },
    "id": "jVjo7A7dMd3e",
    "outputId": "7020d95b-c36c-4499-9540-767cf6868c96"
   },
   "outputs": [
    {
     "data": {
      "text/plain": [
       "array([[2605],\n",
       "       [2322],\n",
       "       [2926],\n",
       "       ...,\n",
       "       [ 452],\n",
       "       [   6],\n",
       "       [1095]])"
      ]
     },
     "execution_count": 24,
     "metadata": {},
     "output_type": "execute_result"
    }
   ],
   "source": [
    "train_instances.targets"
   ]
  },
  {
   "cell_type": "code",
   "execution_count": null,
   "metadata": {
    "colab": {
     "base_uri": "https://localhost:8080/"
    },
    "executionInfo": {
     "elapsed": 6,
     "status": "ok",
     "timestamp": 1666501156011,
     "user": {
      "displayName": "Research Group",
      "userId": "07008499032580121461"
     },
     "user_tz": 240
    },
    "id": "TTFm-wwMNG9P",
    "outputId": "a167dc3b-bd6c-4c38-c17d-d32637f72c6f"
   },
   "outputs": [
    {
     "data": {
      "text/plain": [
       "(array([], dtype=int64), array([], dtype=int64))"
      ]
     },
     "execution_count": 41,
     "metadata": {},
     "output_type": "execute_result"
    }
   ],
   "source": [
    "np.where(train_instances.targets==3416)"
   ]
  },
  {
   "cell_type": "code",
   "execution_count": null,
   "metadata": {
    "id": "8ubmG7fYFQ04"
   },
   "outputs": [],
   "source": [
    "train_instances.targets = train_instances.targets.reshape(-1,)"
   ]
  },
  {
   "cell_type": "code",
   "execution_count": null,
   "metadata": {
    "colab": {
     "base_uri": "https://localhost:8080/"
    },
    "executionInfo": {
     "elapsed": 561,
     "status": "ok",
     "timestamp": 1666500974996,
     "user": {
      "displayName": "Research Group",
      "userId": "07008499032580121461"
     },
     "user_tz": 240
    },
    "id": "OdVlM11zMkqu",
    "outputId": "513e9759-d9be-4b62-8452-0b708afcf9f5"
   },
   "outputs": [
    {
     "data": {
      "text/plain": [
       "array([3340, 2412,  998, 1181, 2399, 2514, 1058, 2889, 1670, 1056, 1990,\n",
       "       3056, 1897, 3101, 1106, 2775, 2964, 1399, 3033, 1635, 1681, 2626,\n",
       "       3032, 1084, 2405, 2403, 2060, 2940, 1907, 2668, 2656, 2093, 2511,\n",
       "       2044, 1840, 1673, 1671, 1768, 2008, 2106, 2354, 1943, 1811, 1801,\n",
       "       2043, 2620, 2015, 1166, 1628, 2099, 2053, 3006, 2404, 2009, 2105,\n",
       "       1818, 2326, 2400, 2042, 2050, 1722, 2011, 1122, 2109, 3172,  921,\n",
       "       2114, 2906, 1740, 1890, 3194, 2344, 2055, 2402, 2907, 2602, 1756,\n",
       "       2913, 3319, 2012, 3199, 2104, 1169, 3173, 2094, 2020, 2019, 2016,\n",
       "       3174, 2018, 1664, 1138, 1113, 1057, 1931, 2325, 1765, 2091, 1653,\n",
       "       2604])"
      ]
     },
     "execution_count": 30,
     "metadata": {},
     "output_type": "execute_result"
    }
   ],
   "source": [
    "train_instances.sequences[0]"
   ]
  },
  {
   "cell_type": "code",
   "execution_count": null,
   "metadata": {
    "colab": {
     "base_uri": "https://localhost:8080/",
     "height": 452
    },
    "executionInfo": {
     "elapsed": 128629,
     "status": "error",
     "timestamp": 1666502096714,
     "user": {
      "displayName": "Research Group",
      "userId": "07008499032580121461"
     },
     "user_tz": 240
    },
    "id": "CaHW-YPdP3pc",
    "outputId": "3991809f-7415-447a-eb31-de75a507f70d"
   },
   "outputs": [
    {
     "name": "stderr",
     "output_type": "stream",
     "text": [
      "/usr/local/lib/python3.7/dist-packages/tensorflow/python/data/ops/structured_function.py:265: UserWarning: Even though the `tf.config.experimental_run_functions_eagerly` option is set, this option does not apply to tf.data functions. To force eager execution of tf.data functions, please use `tf.data.experimental.enable_debug_mode()`.\n",
      "  \"Even though the `tf.config.experimental_run_functions_eagerly` \"\n"
     ]
    },
    {
     "name": "stdout",
     "output_type": "stream",
     "text": [
      "255/864 [=======>......................] - ETA: 5:06 - loss: 8.1356"
     ]
    },
    {
     "ename": "KeyboardInterrupt",
     "evalue": "ignored",
     "output_type": "error",
     "traceback": [
      "\u001B[0;31m---------------------------------------------------------------------------\u001B[0m",
      "\u001B[0;31mKeyboardInterrupt\u001B[0m                         Traceback (most recent call last)",
      "\u001B[0;32m<ipython-input-59-dc58a0e1a146>\u001B[0m in \u001B[0;36m<module>\u001B[0;34m\u001B[0m\n\u001B[1;32m     11\u001B[0m         \u001B[0;31m# epochs=max_epochs,\u001B[0m\u001B[0;34m\u001B[0m\u001B[0;34m\u001B[0m\u001B[0;34m\u001B[0m\u001B[0m\n\u001B[1;32m     12\u001B[0m         \u001B[0mverbose\u001B[0m\u001B[0;34m=\u001B[0m\u001B[0mverbose\u001B[0m\u001B[0;34m,\u001B[0m\u001B[0;34m\u001B[0m\u001B[0;34m\u001B[0m\u001B[0m\n\u001B[0;32m---> 13\u001B[0;31m         \u001B[0mbatch_size\u001B[0m\u001B[0;34m=\u001B[0m\u001B[0mbatch_size\u001B[0m\u001B[0;34m,\u001B[0m\u001B[0;34m\u001B[0m\u001B[0;34m\u001B[0m\u001B[0m\n\u001B[0m\u001B[1;32m     14\u001B[0m         \u001B[0;31m# validation_split = 0.25,\u001B[0m\u001B[0;34m\u001B[0m\u001B[0;34m\u001B[0m\u001B[0;34m\u001B[0m\u001B[0m\n\u001B[1;32m     15\u001B[0m         \u001B[0;31m# validation_data=(validation_instances.sequences, validation_instances.targets),\u001B[0m\u001B[0;34m\u001B[0m\u001B[0;34m\u001B[0m\u001B[0;34m\u001B[0m\u001B[0m\n",
      "\u001B[0;32m/usr/local/lib/python3.7/dist-packages/keras/utils/traceback_utils.py\u001B[0m in \u001B[0;36merror_handler\u001B[0;34m(*args, **kwargs)\u001B[0m\n\u001B[1;32m     62\u001B[0m     \u001B[0mfiltered_tb\u001B[0m \u001B[0;34m=\u001B[0m \u001B[0;32mNone\u001B[0m\u001B[0;34m\u001B[0m\u001B[0;34m\u001B[0m\u001B[0m\n\u001B[1;32m     63\u001B[0m     \u001B[0;32mtry\u001B[0m\u001B[0;34m:\u001B[0m\u001B[0;34m\u001B[0m\u001B[0;34m\u001B[0m\u001B[0m\n\u001B[0;32m---> 64\u001B[0;31m       \u001B[0;32mreturn\u001B[0m \u001B[0mfn\u001B[0m\u001B[0;34m(\u001B[0m\u001B[0;34m*\u001B[0m\u001B[0margs\u001B[0m\u001B[0;34m,\u001B[0m \u001B[0;34m**\u001B[0m\u001B[0mkwargs\u001B[0m\u001B[0;34m)\u001B[0m\u001B[0;34m\u001B[0m\u001B[0;34m\u001B[0m\u001B[0m\n\u001B[0m\u001B[1;32m     65\u001B[0m     \u001B[0;32mexcept\u001B[0m \u001B[0mException\u001B[0m \u001B[0;32mas\u001B[0m \u001B[0me\u001B[0m\u001B[0;34m:\u001B[0m  \u001B[0;31m# pylint: disable=broad-except\u001B[0m\u001B[0;34m\u001B[0m\u001B[0;34m\u001B[0m\u001B[0m\n\u001B[1;32m     66\u001B[0m       \u001B[0mfiltered_tb\u001B[0m \u001B[0;34m=\u001B[0m \u001B[0m_process_traceback_frames\u001B[0m\u001B[0;34m(\u001B[0m\u001B[0me\u001B[0m\u001B[0;34m.\u001B[0m\u001B[0m__traceback__\u001B[0m\u001B[0;34m)\u001B[0m\u001B[0;34m\u001B[0m\u001B[0;34m\u001B[0m\u001B[0m\n",
      "\u001B[0;32m/usr/local/lib/python3.7/dist-packages/keras/engine/training.py\u001B[0m in \u001B[0;36mfit\u001B[0;34m(self, x, y, batch_size, epochs, verbose, callbacks, validation_split, validation_data, shuffle, class_weight, sample_weight, initial_epoch, steps_per_epoch, validation_steps, validation_batch_size, validation_freq, max_queue_size, workers, use_multiprocessing)\u001B[0m\n\u001B[1;32m   1407\u001B[0m                 _r=1):\n\u001B[1;32m   1408\u001B[0m               \u001B[0mcallbacks\u001B[0m\u001B[0;34m.\u001B[0m\u001B[0mon_train_batch_begin\u001B[0m\u001B[0;34m(\u001B[0m\u001B[0mstep\u001B[0m\u001B[0;34m)\u001B[0m\u001B[0;34m\u001B[0m\u001B[0;34m\u001B[0m\u001B[0m\n\u001B[0;32m-> 1409\u001B[0;31m               \u001B[0mtmp_logs\u001B[0m \u001B[0;34m=\u001B[0m \u001B[0mself\u001B[0m\u001B[0;34m.\u001B[0m\u001B[0mtrain_function\u001B[0m\u001B[0;34m(\u001B[0m\u001B[0miterator\u001B[0m\u001B[0;34m)\u001B[0m\u001B[0;34m\u001B[0m\u001B[0;34m\u001B[0m\u001B[0m\n\u001B[0m\u001B[1;32m   1410\u001B[0m               \u001B[0;32mif\u001B[0m \u001B[0mdata_handler\u001B[0m\u001B[0;34m.\u001B[0m\u001B[0mshould_sync\u001B[0m\u001B[0;34m:\u001B[0m\u001B[0;34m\u001B[0m\u001B[0;34m\u001B[0m\u001B[0m\n\u001B[1;32m   1411\u001B[0m                 \u001B[0mcontext\u001B[0m\u001B[0;34m.\u001B[0m\u001B[0masync_wait\u001B[0m\u001B[0;34m(\u001B[0m\u001B[0;34m)\u001B[0m\u001B[0;34m\u001B[0m\u001B[0;34m\u001B[0m\u001B[0m\n",
      "\u001B[0;32m/usr/local/lib/python3.7/dist-packages/keras/engine/training.py\u001B[0m in \u001B[0;36mtrain_function\u001B[0;34m(iterator)\u001B[0m\n\u001B[1;32m   1049\u001B[0m       \u001B[0;32mdef\u001B[0m \u001B[0mtrain_function\u001B[0m\u001B[0;34m(\u001B[0m\u001B[0miterator\u001B[0m\u001B[0;34m)\u001B[0m\u001B[0;34m:\u001B[0m\u001B[0;34m\u001B[0m\u001B[0;34m\u001B[0m\u001B[0m\n\u001B[1;32m   1050\u001B[0m         \u001B[0;34m\"\"\"Runs a training execution with a single step.\"\"\"\u001B[0m\u001B[0;34m\u001B[0m\u001B[0;34m\u001B[0m\u001B[0m\n\u001B[0;32m-> 1051\u001B[0;31m         \u001B[0;32mreturn\u001B[0m \u001B[0mstep_function\u001B[0m\u001B[0;34m(\u001B[0m\u001B[0mself\u001B[0m\u001B[0;34m,\u001B[0m \u001B[0miterator\u001B[0m\u001B[0;34m)\u001B[0m\u001B[0;34m\u001B[0m\u001B[0;34m\u001B[0m\u001B[0m\n\u001B[0m\u001B[1;32m   1052\u001B[0m \u001B[0;34m\u001B[0m\u001B[0m\n\u001B[1;32m   1053\u001B[0m       \u001B[0;32mif\u001B[0m \u001B[0;32mnot\u001B[0m \u001B[0mself\u001B[0m\u001B[0;34m.\u001B[0m\u001B[0mrun_eagerly\u001B[0m\u001B[0;34m:\u001B[0m\u001B[0;34m\u001B[0m\u001B[0;34m\u001B[0m\u001B[0m\n",
      "\u001B[0;32m/usr/local/lib/python3.7/dist-packages/keras/engine/training.py\u001B[0m in \u001B[0;36mstep_function\u001B[0;34m(model, iterator)\u001B[0m\n\u001B[1;32m   1038\u001B[0m             run_step, jit_compile=True, reduce_retracing=True)\n\u001B[1;32m   1039\u001B[0m       \u001B[0mdata\u001B[0m \u001B[0;34m=\u001B[0m \u001B[0mnext\u001B[0m\u001B[0;34m(\u001B[0m\u001B[0miterator\u001B[0m\u001B[0;34m)\u001B[0m\u001B[0;34m\u001B[0m\u001B[0;34m\u001B[0m\u001B[0m\n\u001B[0;32m-> 1040\u001B[0;31m       \u001B[0moutputs\u001B[0m \u001B[0;34m=\u001B[0m \u001B[0mmodel\u001B[0m\u001B[0;34m.\u001B[0m\u001B[0mdistribute_strategy\u001B[0m\u001B[0;34m.\u001B[0m\u001B[0mrun\u001B[0m\u001B[0;34m(\u001B[0m\u001B[0mrun_step\u001B[0m\u001B[0;34m,\u001B[0m \u001B[0margs\u001B[0m\u001B[0;34m=\u001B[0m\u001B[0;34m(\u001B[0m\u001B[0mdata\u001B[0m\u001B[0;34m,\u001B[0m\u001B[0;34m)\u001B[0m\u001B[0;34m)\u001B[0m\u001B[0;34m\u001B[0m\u001B[0;34m\u001B[0m\u001B[0m\n\u001B[0m\u001B[1;32m   1041\u001B[0m       outputs = reduce_per_replica(\n\u001B[1;32m   1042\u001B[0m           outputs, self.distribute_strategy, reduction='first')\n",
      "\u001B[0;32m/usr/local/lib/python3.7/dist-packages/tensorflow/python/distribute/distribute_lib.py\u001B[0m in \u001B[0;36mrun\u001B[0;34m(***failed resolving arguments***)\u001B[0m\n\u001B[1;32m   1310\u001B[0m       fn = autograph.tf_convert(\n\u001B[1;32m   1311\u001B[0m           fn, autograph_ctx.control_status_ctx(), convert_by_default=False)\n\u001B[0;32m-> 1312\u001B[0;31m       \u001B[0;32mreturn\u001B[0m \u001B[0mself\u001B[0m\u001B[0;34m.\u001B[0m\u001B[0m_extended\u001B[0m\u001B[0;34m.\u001B[0m\u001B[0mcall_for_each_replica\u001B[0m\u001B[0;34m(\u001B[0m\u001B[0mfn\u001B[0m\u001B[0;34m,\u001B[0m \u001B[0margs\u001B[0m\u001B[0;34m=\u001B[0m\u001B[0margs\u001B[0m\u001B[0;34m,\u001B[0m \u001B[0mkwargs\u001B[0m\u001B[0;34m=\u001B[0m\u001B[0mkwargs\u001B[0m\u001B[0;34m)\u001B[0m\u001B[0;34m\u001B[0m\u001B[0;34m\u001B[0m\u001B[0m\n\u001B[0m\u001B[1;32m   1313\u001B[0m \u001B[0;34m\u001B[0m\u001B[0m\n\u001B[1;32m   1314\u001B[0m   \u001B[0;32mdef\u001B[0m \u001B[0mreduce\u001B[0m\u001B[0;34m(\u001B[0m\u001B[0mself\u001B[0m\u001B[0;34m,\u001B[0m \u001B[0mreduce_op\u001B[0m\u001B[0;34m,\u001B[0m \u001B[0mvalue\u001B[0m\u001B[0;34m,\u001B[0m \u001B[0maxis\u001B[0m\u001B[0;34m)\u001B[0m\u001B[0;34m:\u001B[0m\u001B[0;34m\u001B[0m\u001B[0;34m\u001B[0m\u001B[0m\n",
      "\u001B[0;32m/usr/local/lib/python3.7/dist-packages/tensorflow/python/distribute/distribute_lib.py\u001B[0m in \u001B[0;36mcall_for_each_replica\u001B[0;34m(self, fn, args, kwargs)\u001B[0m\n\u001B[1;32m   2886\u001B[0m       \u001B[0mkwargs\u001B[0m \u001B[0;34m=\u001B[0m \u001B[0;34m{\u001B[0m\u001B[0;34m}\u001B[0m\u001B[0;34m\u001B[0m\u001B[0;34m\u001B[0m\u001B[0m\n\u001B[1;32m   2887\u001B[0m     \u001B[0;32mwith\u001B[0m \u001B[0mself\u001B[0m\u001B[0;34m.\u001B[0m\u001B[0m_container_strategy\u001B[0m\u001B[0;34m(\u001B[0m\u001B[0;34m)\u001B[0m\u001B[0;34m.\u001B[0m\u001B[0mscope\u001B[0m\u001B[0;34m(\u001B[0m\u001B[0;34m)\u001B[0m\u001B[0;34m:\u001B[0m\u001B[0;34m\u001B[0m\u001B[0;34m\u001B[0m\u001B[0m\n\u001B[0;32m-> 2888\u001B[0;31m       \u001B[0;32mreturn\u001B[0m \u001B[0mself\u001B[0m\u001B[0;34m.\u001B[0m\u001B[0m_call_for_each_replica\u001B[0m\u001B[0;34m(\u001B[0m\u001B[0mfn\u001B[0m\u001B[0;34m,\u001B[0m \u001B[0margs\u001B[0m\u001B[0;34m,\u001B[0m \u001B[0mkwargs\u001B[0m\u001B[0;34m)\u001B[0m\u001B[0;34m\u001B[0m\u001B[0;34m\u001B[0m\u001B[0m\n\u001B[0m\u001B[1;32m   2889\u001B[0m \u001B[0;34m\u001B[0m\u001B[0m\n\u001B[1;32m   2890\u001B[0m   \u001B[0;32mdef\u001B[0m \u001B[0m_call_for_each_replica\u001B[0m\u001B[0;34m(\u001B[0m\u001B[0mself\u001B[0m\u001B[0;34m,\u001B[0m \u001B[0mfn\u001B[0m\u001B[0;34m,\u001B[0m \u001B[0margs\u001B[0m\u001B[0;34m,\u001B[0m \u001B[0mkwargs\u001B[0m\u001B[0;34m)\u001B[0m\u001B[0;34m:\u001B[0m\u001B[0;34m\u001B[0m\u001B[0;34m\u001B[0m\u001B[0m\n",
      "\u001B[0;32m/usr/local/lib/python3.7/dist-packages/tensorflow/python/distribute/distribute_lib.py\u001B[0m in \u001B[0;36m_call_for_each_replica\u001B[0;34m(self, fn, args, kwargs)\u001B[0m\n\u001B[1;32m   3687\u001B[0m   \u001B[0;32mdef\u001B[0m \u001B[0m_call_for_each_replica\u001B[0m\u001B[0;34m(\u001B[0m\u001B[0mself\u001B[0m\u001B[0;34m,\u001B[0m \u001B[0mfn\u001B[0m\u001B[0;34m,\u001B[0m \u001B[0margs\u001B[0m\u001B[0;34m,\u001B[0m \u001B[0mkwargs\u001B[0m\u001B[0;34m)\u001B[0m\u001B[0;34m:\u001B[0m\u001B[0;34m\u001B[0m\u001B[0;34m\u001B[0m\u001B[0m\n\u001B[1;32m   3688\u001B[0m     \u001B[0;32mwith\u001B[0m \u001B[0mReplicaContext\u001B[0m\u001B[0;34m(\u001B[0m\u001B[0mself\u001B[0m\u001B[0;34m.\u001B[0m\u001B[0m_container_strategy\u001B[0m\u001B[0;34m(\u001B[0m\u001B[0;34m)\u001B[0m\u001B[0;34m,\u001B[0m \u001B[0mreplica_id_in_sync_group\u001B[0m\u001B[0;34m=\u001B[0m\u001B[0;36m0\u001B[0m\u001B[0;34m)\u001B[0m\u001B[0;34m:\u001B[0m\u001B[0;34m\u001B[0m\u001B[0;34m\u001B[0m\u001B[0m\n\u001B[0;32m-> 3689\u001B[0;31m       \u001B[0;32mreturn\u001B[0m \u001B[0mfn\u001B[0m\u001B[0;34m(\u001B[0m\u001B[0;34m*\u001B[0m\u001B[0margs\u001B[0m\u001B[0;34m,\u001B[0m \u001B[0;34m**\u001B[0m\u001B[0mkwargs\u001B[0m\u001B[0;34m)\u001B[0m\u001B[0;34m\u001B[0m\u001B[0;34m\u001B[0m\u001B[0m\n\u001B[0m\u001B[1;32m   3690\u001B[0m \u001B[0;34m\u001B[0m\u001B[0m\n\u001B[1;32m   3691\u001B[0m   \u001B[0;32mdef\u001B[0m \u001B[0m_reduce_to\u001B[0m\u001B[0;34m(\u001B[0m\u001B[0mself\u001B[0m\u001B[0;34m,\u001B[0m \u001B[0mreduce_op\u001B[0m\u001B[0;34m,\u001B[0m \u001B[0mvalue\u001B[0m\u001B[0;34m,\u001B[0m \u001B[0mdestinations\u001B[0m\u001B[0;34m,\u001B[0m \u001B[0moptions\u001B[0m\u001B[0;34m)\u001B[0m\u001B[0;34m:\u001B[0m\u001B[0;34m\u001B[0m\u001B[0;34m\u001B[0m\u001B[0m\n",
      "\u001B[0;32m/usr/local/lib/python3.7/dist-packages/tensorflow/python/autograph/impl/api.py\u001B[0m in \u001B[0;36mwrapper\u001B[0;34m(*args, **kwargs)\u001B[0m\n\u001B[1;32m    593\u001B[0m   \u001B[0;32mdef\u001B[0m \u001B[0mwrapper\u001B[0m\u001B[0;34m(\u001B[0m\u001B[0;34m*\u001B[0m\u001B[0margs\u001B[0m\u001B[0;34m,\u001B[0m \u001B[0;34m**\u001B[0m\u001B[0mkwargs\u001B[0m\u001B[0;34m)\u001B[0m\u001B[0;34m:\u001B[0m\u001B[0;34m\u001B[0m\u001B[0;34m\u001B[0m\u001B[0m\n\u001B[1;32m    594\u001B[0m     \u001B[0;32mwith\u001B[0m \u001B[0mag_ctx\u001B[0m\u001B[0;34m.\u001B[0m\u001B[0mControlStatusCtx\u001B[0m\u001B[0;34m(\u001B[0m\u001B[0mstatus\u001B[0m\u001B[0;34m=\u001B[0m\u001B[0mag_ctx\u001B[0m\u001B[0;34m.\u001B[0m\u001B[0mStatus\u001B[0m\u001B[0;34m.\u001B[0m\u001B[0mUNSPECIFIED\u001B[0m\u001B[0;34m)\u001B[0m\u001B[0;34m:\u001B[0m\u001B[0;34m\u001B[0m\u001B[0;34m\u001B[0m\u001B[0m\n\u001B[0;32m--> 595\u001B[0;31m       \u001B[0;32mreturn\u001B[0m \u001B[0mfunc\u001B[0m\u001B[0;34m(\u001B[0m\u001B[0;34m*\u001B[0m\u001B[0margs\u001B[0m\u001B[0;34m,\u001B[0m \u001B[0;34m**\u001B[0m\u001B[0mkwargs\u001B[0m\u001B[0;34m)\u001B[0m\u001B[0;34m\u001B[0m\u001B[0;34m\u001B[0m\u001B[0m\n\u001B[0m\u001B[1;32m    596\u001B[0m \u001B[0;34m\u001B[0m\u001B[0m\n\u001B[1;32m    597\u001B[0m   \u001B[0;32mif\u001B[0m \u001B[0minspect\u001B[0m\u001B[0;34m.\u001B[0m\u001B[0misfunction\u001B[0m\u001B[0;34m(\u001B[0m\u001B[0mfunc\u001B[0m\u001B[0;34m)\u001B[0m \u001B[0;32mor\u001B[0m \u001B[0minspect\u001B[0m\u001B[0;34m.\u001B[0m\u001B[0mismethod\u001B[0m\u001B[0;34m(\u001B[0m\u001B[0mfunc\u001B[0m\u001B[0;34m)\u001B[0m\u001B[0;34m:\u001B[0m\u001B[0;34m\u001B[0m\u001B[0;34m\u001B[0m\u001B[0m\n",
      "\u001B[0;32m/usr/local/lib/python3.7/dist-packages/keras/engine/training.py\u001B[0m in \u001B[0;36mrun_step\u001B[0;34m(data)\u001B[0m\n\u001B[1;32m   1028\u001B[0m \u001B[0;34m\u001B[0m\u001B[0m\n\u001B[1;32m   1029\u001B[0m       \u001B[0;32mdef\u001B[0m \u001B[0mrun_step\u001B[0m\u001B[0;34m(\u001B[0m\u001B[0mdata\u001B[0m\u001B[0;34m)\u001B[0m\u001B[0;34m:\u001B[0m\u001B[0;34m\u001B[0m\u001B[0;34m\u001B[0m\u001B[0m\n\u001B[0;32m-> 1030\u001B[0;31m         \u001B[0moutputs\u001B[0m \u001B[0;34m=\u001B[0m \u001B[0mmodel\u001B[0m\u001B[0;34m.\u001B[0m\u001B[0mtrain_step\u001B[0m\u001B[0;34m(\u001B[0m\u001B[0mdata\u001B[0m\u001B[0;34m)\u001B[0m\u001B[0;34m\u001B[0m\u001B[0;34m\u001B[0m\u001B[0m\n\u001B[0m\u001B[1;32m   1031\u001B[0m         \u001B[0;31m# Ensure counter is updated only if `train_step` succeeds.\u001B[0m\u001B[0;34m\u001B[0m\u001B[0;34m\u001B[0m\u001B[0;34m\u001B[0m\u001B[0m\n\u001B[1;32m   1032\u001B[0m         \u001B[0;32mwith\u001B[0m \u001B[0mtf\u001B[0m\u001B[0;34m.\u001B[0m\u001B[0mcontrol_dependencies\u001B[0m\u001B[0;34m(\u001B[0m\u001B[0m_minimum_control_deps\u001B[0m\u001B[0;34m(\u001B[0m\u001B[0moutputs\u001B[0m\u001B[0;34m)\u001B[0m\u001B[0;34m)\u001B[0m\u001B[0;34m:\u001B[0m\u001B[0;34m\u001B[0m\u001B[0;34m\u001B[0m\u001B[0m\n",
      "\u001B[0;32m/usr/local/lib/python3.7/dist-packages/keras/engine/training.py\u001B[0m in \u001B[0;36mtrain_step\u001B[0;34m(self, data)\u001B[0m\n\u001B[1;32m    887\u001B[0m     \u001B[0;31m# Run forward pass.\u001B[0m\u001B[0;34m\u001B[0m\u001B[0;34m\u001B[0m\u001B[0;34m\u001B[0m\u001B[0m\n\u001B[1;32m    888\u001B[0m     \u001B[0;32mwith\u001B[0m \u001B[0mtf\u001B[0m\u001B[0;34m.\u001B[0m\u001B[0mGradientTape\u001B[0m\u001B[0;34m(\u001B[0m\u001B[0;34m)\u001B[0m \u001B[0;32mas\u001B[0m \u001B[0mtape\u001B[0m\u001B[0;34m:\u001B[0m\u001B[0;34m\u001B[0m\u001B[0;34m\u001B[0m\u001B[0m\n\u001B[0;32m--> 889\u001B[0;31m       \u001B[0my_pred\u001B[0m \u001B[0;34m=\u001B[0m \u001B[0mself\u001B[0m\u001B[0;34m(\u001B[0m\u001B[0mx\u001B[0m\u001B[0;34m,\u001B[0m \u001B[0mtraining\u001B[0m\u001B[0;34m=\u001B[0m\u001B[0;32mTrue\u001B[0m\u001B[0;34m)\u001B[0m\u001B[0;34m\u001B[0m\u001B[0;34m\u001B[0m\u001B[0m\n\u001B[0m\u001B[1;32m    890\u001B[0m       \u001B[0mloss\u001B[0m \u001B[0;34m=\u001B[0m \u001B[0mself\u001B[0m\u001B[0;34m.\u001B[0m\u001B[0mcompute_loss\u001B[0m\u001B[0;34m(\u001B[0m\u001B[0mx\u001B[0m\u001B[0;34m,\u001B[0m \u001B[0my\u001B[0m\u001B[0;34m,\u001B[0m \u001B[0my_pred\u001B[0m\u001B[0;34m,\u001B[0m \u001B[0msample_weight\u001B[0m\u001B[0;34m)\u001B[0m\u001B[0;34m\u001B[0m\u001B[0;34m\u001B[0m\u001B[0m\n\u001B[1;32m    891\u001B[0m     \u001B[0mself\u001B[0m\u001B[0;34m.\u001B[0m\u001B[0m_validate_target_and_loss\u001B[0m\u001B[0;34m(\u001B[0m\u001B[0my\u001B[0m\u001B[0;34m,\u001B[0m \u001B[0mloss\u001B[0m\u001B[0;34m)\u001B[0m\u001B[0;34m\u001B[0m\u001B[0;34m\u001B[0m\u001B[0m\n",
      "\u001B[0;32m/usr/local/lib/python3.7/dist-packages/keras/utils/traceback_utils.py\u001B[0m in \u001B[0;36merror_handler\u001B[0;34m(*args, **kwargs)\u001B[0m\n\u001B[1;32m     62\u001B[0m     \u001B[0mfiltered_tb\u001B[0m \u001B[0;34m=\u001B[0m \u001B[0;32mNone\u001B[0m\u001B[0;34m\u001B[0m\u001B[0;34m\u001B[0m\u001B[0m\n\u001B[1;32m     63\u001B[0m     \u001B[0;32mtry\u001B[0m\u001B[0;34m:\u001B[0m\u001B[0;34m\u001B[0m\u001B[0;34m\u001B[0m\u001B[0m\n\u001B[0;32m---> 64\u001B[0;31m       \u001B[0;32mreturn\u001B[0m \u001B[0mfn\u001B[0m\u001B[0;34m(\u001B[0m\u001B[0;34m*\u001B[0m\u001B[0margs\u001B[0m\u001B[0;34m,\u001B[0m \u001B[0;34m**\u001B[0m\u001B[0mkwargs\u001B[0m\u001B[0;34m)\u001B[0m\u001B[0;34m\u001B[0m\u001B[0;34m\u001B[0m\u001B[0m\n\u001B[0m\u001B[1;32m     65\u001B[0m     \u001B[0;32mexcept\u001B[0m \u001B[0mException\u001B[0m \u001B[0;32mas\u001B[0m \u001B[0me\u001B[0m\u001B[0;34m:\u001B[0m  \u001B[0;31m# pylint: disable=broad-except\u001B[0m\u001B[0;34m\u001B[0m\u001B[0;34m\u001B[0m\u001B[0m\n\u001B[1;32m     66\u001B[0m       \u001B[0mfiltered_tb\u001B[0m \u001B[0;34m=\u001B[0m \u001B[0m_process_traceback_frames\u001B[0m\u001B[0;34m(\u001B[0m\u001B[0me\u001B[0m\u001B[0;34m.\u001B[0m\u001B[0m__traceback__\u001B[0m\u001B[0;34m)\u001B[0m\u001B[0;34m\u001B[0m\u001B[0;34m\u001B[0m\u001B[0m\n",
      "\u001B[0;32m/usr/local/lib/python3.7/dist-packages/keras/engine/training.py\u001B[0m in \u001B[0;36m__call__\u001B[0;34m(self, *args, **kwargs)\u001B[0m\n\u001B[1;32m    488\u001B[0m       \u001B[0mlayout_map_lib\u001B[0m\u001B[0;34m.\u001B[0m\u001B[0m_map_subclass_model_variable\u001B[0m\u001B[0;34m(\u001B[0m\u001B[0mself\u001B[0m\u001B[0;34m,\u001B[0m \u001B[0mself\u001B[0m\u001B[0;34m.\u001B[0m\u001B[0m_layout_map\u001B[0m\u001B[0;34m)\u001B[0m\u001B[0;34m\u001B[0m\u001B[0;34m\u001B[0m\u001B[0m\n\u001B[1;32m    489\u001B[0m \u001B[0;34m\u001B[0m\u001B[0m\n\u001B[0;32m--> 490\u001B[0;31m     \u001B[0;32mreturn\u001B[0m \u001B[0msuper\u001B[0m\u001B[0;34m(\u001B[0m\u001B[0;34m)\u001B[0m\u001B[0;34m.\u001B[0m\u001B[0m__call__\u001B[0m\u001B[0;34m(\u001B[0m\u001B[0;34m*\u001B[0m\u001B[0margs\u001B[0m\u001B[0;34m,\u001B[0m \u001B[0;34m**\u001B[0m\u001B[0mkwargs\u001B[0m\u001B[0;34m)\u001B[0m\u001B[0;34m\u001B[0m\u001B[0;34m\u001B[0m\u001B[0m\n\u001B[0m\u001B[1;32m    491\u001B[0m \u001B[0;34m\u001B[0m\u001B[0m\n\u001B[1;32m    492\u001B[0m   \u001B[0;34m@\u001B[0m\u001B[0mdoc_controls\u001B[0m\u001B[0;34m.\u001B[0m\u001B[0mdoc_in_current_and_subclasses\u001B[0m\u001B[0;34m\u001B[0m\u001B[0;34m\u001B[0m\u001B[0m\n",
      "\u001B[0;32m/usr/local/lib/python3.7/dist-packages/keras/utils/traceback_utils.py\u001B[0m in \u001B[0;36merror_handler\u001B[0;34m(*args, **kwargs)\u001B[0m\n\u001B[1;32m     62\u001B[0m     \u001B[0mfiltered_tb\u001B[0m \u001B[0;34m=\u001B[0m \u001B[0;32mNone\u001B[0m\u001B[0;34m\u001B[0m\u001B[0;34m\u001B[0m\u001B[0m\n\u001B[1;32m     63\u001B[0m     \u001B[0;32mtry\u001B[0m\u001B[0;34m:\u001B[0m\u001B[0;34m\u001B[0m\u001B[0;34m\u001B[0m\u001B[0m\n\u001B[0;32m---> 64\u001B[0;31m       \u001B[0;32mreturn\u001B[0m \u001B[0mfn\u001B[0m\u001B[0;34m(\u001B[0m\u001B[0;34m*\u001B[0m\u001B[0margs\u001B[0m\u001B[0;34m,\u001B[0m \u001B[0;34m**\u001B[0m\u001B[0mkwargs\u001B[0m\u001B[0;34m)\u001B[0m\u001B[0;34m\u001B[0m\u001B[0;34m\u001B[0m\u001B[0m\n\u001B[0m\u001B[1;32m     65\u001B[0m     \u001B[0;32mexcept\u001B[0m \u001B[0mException\u001B[0m \u001B[0;32mas\u001B[0m \u001B[0me\u001B[0m\u001B[0;34m:\u001B[0m  \u001B[0;31m# pylint: disable=broad-except\u001B[0m\u001B[0;34m\u001B[0m\u001B[0;34m\u001B[0m\u001B[0m\n\u001B[1;32m     66\u001B[0m       \u001B[0mfiltered_tb\u001B[0m \u001B[0;34m=\u001B[0m \u001B[0m_process_traceback_frames\u001B[0m\u001B[0;34m(\u001B[0m\u001B[0me\u001B[0m\u001B[0;34m.\u001B[0m\u001B[0m__traceback__\u001B[0m\u001B[0;34m)\u001B[0m\u001B[0;34m\u001B[0m\u001B[0;34m\u001B[0m\u001B[0m\n",
      "\u001B[0;32m/usr/local/lib/python3.7/dist-packages/keras/engine/base_layer.py\u001B[0m in \u001B[0;36m__call__\u001B[0;34m(self, *args, **kwargs)\u001B[0m\n\u001B[1;32m   1012\u001B[0m         with autocast_variable.enable_auto_cast_variables(\n\u001B[1;32m   1013\u001B[0m             self._compute_dtype_object):\n\u001B[0;32m-> 1014\u001B[0;31m           \u001B[0moutputs\u001B[0m \u001B[0;34m=\u001B[0m \u001B[0mcall_fn\u001B[0m\u001B[0;34m(\u001B[0m\u001B[0minputs\u001B[0m\u001B[0;34m,\u001B[0m \u001B[0;34m*\u001B[0m\u001B[0margs\u001B[0m\u001B[0;34m,\u001B[0m \u001B[0;34m**\u001B[0m\u001B[0mkwargs\u001B[0m\u001B[0;34m)\u001B[0m\u001B[0;34m\u001B[0m\u001B[0;34m\u001B[0m\u001B[0m\n\u001B[0m\u001B[1;32m   1015\u001B[0m \u001B[0;34m\u001B[0m\u001B[0m\n\u001B[1;32m   1016\u001B[0m         \u001B[0;32mif\u001B[0m \u001B[0mself\u001B[0m\u001B[0;34m.\u001B[0m\u001B[0m_activity_regularizer\u001B[0m\u001B[0;34m:\u001B[0m\u001B[0;34m\u001B[0m\u001B[0;34m\u001B[0m\u001B[0m\n",
      "\u001B[0;32m/usr/local/lib/python3.7/dist-packages/keras/utils/traceback_utils.py\u001B[0m in \u001B[0;36merror_handler\u001B[0;34m(*args, **kwargs)\u001B[0m\n\u001B[1;32m     90\u001B[0m     \u001B[0mbound_signature\u001B[0m \u001B[0;34m=\u001B[0m \u001B[0;32mNone\u001B[0m\u001B[0;34m\u001B[0m\u001B[0;34m\u001B[0m\u001B[0m\n\u001B[1;32m     91\u001B[0m     \u001B[0;32mtry\u001B[0m\u001B[0;34m:\u001B[0m\u001B[0;34m\u001B[0m\u001B[0;34m\u001B[0m\u001B[0m\n\u001B[0;32m---> 92\u001B[0;31m       \u001B[0;32mreturn\u001B[0m \u001B[0mfn\u001B[0m\u001B[0;34m(\u001B[0m\u001B[0;34m*\u001B[0m\u001B[0margs\u001B[0m\u001B[0;34m,\u001B[0m \u001B[0;34m**\u001B[0m\u001B[0mkwargs\u001B[0m\u001B[0;34m)\u001B[0m\u001B[0;34m\u001B[0m\u001B[0;34m\u001B[0m\u001B[0m\n\u001B[0m\u001B[1;32m     93\u001B[0m     \u001B[0;32mexcept\u001B[0m \u001B[0mException\u001B[0m \u001B[0;32mas\u001B[0m \u001B[0me\u001B[0m\u001B[0;34m:\u001B[0m  \u001B[0;31m# pylint: disable=broad-except\u001B[0m\u001B[0;34m\u001B[0m\u001B[0;34m\u001B[0m\u001B[0m\n\u001B[1;32m     94\u001B[0m       \u001B[0;32mif\u001B[0m \u001B[0mhasattr\u001B[0m\u001B[0;34m(\u001B[0m\u001B[0me\u001B[0m\u001B[0;34m,\u001B[0m \u001B[0;34m'_keras_call_info_injected'\u001B[0m\u001B[0;34m)\u001B[0m\u001B[0;34m:\u001B[0m\u001B[0;34m\u001B[0m\u001B[0;34m\u001B[0m\u001B[0m\n",
      "\u001B[0;32m/usr/local/lib/python3.7/dist-packages/keras/engine/functional.py\u001B[0m in \u001B[0;36mcall\u001B[0;34m(self, inputs, training, mask)\u001B[0m\n\u001B[1;32m    457\u001B[0m     \"\"\"\n\u001B[1;32m    458\u001B[0m     return self._run_internal_graph(\n\u001B[0;32m--> 459\u001B[0;31m         inputs, training=training, mask=mask)\n\u001B[0m\u001B[1;32m    460\u001B[0m \u001B[0;34m\u001B[0m\u001B[0m\n\u001B[1;32m    461\u001B[0m   \u001B[0;32mdef\u001B[0m \u001B[0mcompute_output_shape\u001B[0m\u001B[0;34m(\u001B[0m\u001B[0mself\u001B[0m\u001B[0;34m,\u001B[0m \u001B[0minput_shape\u001B[0m\u001B[0;34m)\u001B[0m\u001B[0;34m:\u001B[0m\u001B[0;34m\u001B[0m\u001B[0;34m\u001B[0m\u001B[0m\n",
      "\u001B[0;32m/usr/local/lib/python3.7/dist-packages/keras/engine/functional.py\u001B[0m in \u001B[0;36m_run_internal_graph\u001B[0;34m(self, inputs, training, mask)\u001B[0m\n\u001B[1;32m    594\u001B[0m \u001B[0;34m\u001B[0m\u001B[0m\n\u001B[1;32m    595\u001B[0m         \u001B[0margs\u001B[0m\u001B[0;34m,\u001B[0m \u001B[0mkwargs\u001B[0m \u001B[0;34m=\u001B[0m \u001B[0mnode\u001B[0m\u001B[0;34m.\u001B[0m\u001B[0mmap_arguments\u001B[0m\u001B[0;34m(\u001B[0m\u001B[0mtensor_dict\u001B[0m\u001B[0;34m)\u001B[0m\u001B[0;34m\u001B[0m\u001B[0;34m\u001B[0m\u001B[0m\n\u001B[0;32m--> 596\u001B[0;31m         \u001B[0moutputs\u001B[0m \u001B[0;34m=\u001B[0m \u001B[0mnode\u001B[0m\u001B[0;34m.\u001B[0m\u001B[0mlayer\u001B[0m\u001B[0;34m(\u001B[0m\u001B[0;34m*\u001B[0m\u001B[0margs\u001B[0m\u001B[0;34m,\u001B[0m \u001B[0;34m**\u001B[0m\u001B[0mkwargs\u001B[0m\u001B[0;34m)\u001B[0m\u001B[0;34m\u001B[0m\u001B[0;34m\u001B[0m\u001B[0m\n\u001B[0m\u001B[1;32m    597\u001B[0m \u001B[0;34m\u001B[0m\u001B[0m\n\u001B[1;32m    598\u001B[0m         \u001B[0;31m# Update tensor_dict.\u001B[0m\u001B[0;34m\u001B[0m\u001B[0;34m\u001B[0m\u001B[0;34m\u001B[0m\u001B[0m\n",
      "\u001B[0;32m/usr/local/lib/python3.7/dist-packages/keras/layers/rnn/base_rnn.py\u001B[0m in \u001B[0;36m__call__\u001B[0;34m(self, inputs, initial_state, constants, **kwargs)\u001B[0m\n\u001B[1;32m    513\u001B[0m \u001B[0;34m\u001B[0m\u001B[0m\n\u001B[1;32m    514\u001B[0m     \u001B[0;32mif\u001B[0m \u001B[0minitial_state\u001B[0m \u001B[0;32mis\u001B[0m \u001B[0;32mNone\u001B[0m \u001B[0;32mand\u001B[0m \u001B[0mconstants\u001B[0m \u001B[0;32mis\u001B[0m \u001B[0;32mNone\u001B[0m\u001B[0;34m:\u001B[0m\u001B[0;34m\u001B[0m\u001B[0;34m\u001B[0m\u001B[0m\n\u001B[0;32m--> 515\u001B[0;31m       \u001B[0;32mreturn\u001B[0m \u001B[0msuper\u001B[0m\u001B[0;34m(\u001B[0m\u001B[0mRNN\u001B[0m\u001B[0;34m,\u001B[0m \u001B[0mself\u001B[0m\u001B[0;34m)\u001B[0m\u001B[0;34m.\u001B[0m\u001B[0m__call__\u001B[0m\u001B[0;34m(\u001B[0m\u001B[0minputs\u001B[0m\u001B[0;34m,\u001B[0m \u001B[0;34m**\u001B[0m\u001B[0mkwargs\u001B[0m\u001B[0;34m)\u001B[0m\u001B[0;34m\u001B[0m\u001B[0;34m\u001B[0m\u001B[0m\n\u001B[0m\u001B[1;32m    516\u001B[0m \u001B[0;34m\u001B[0m\u001B[0m\n\u001B[1;32m    517\u001B[0m     \u001B[0;31m# If any of `initial_state` or `constants` are specified and are Keras\u001B[0m\u001B[0;34m\u001B[0m\u001B[0;34m\u001B[0m\u001B[0;34m\u001B[0m\u001B[0m\n",
      "\u001B[0;32m/usr/local/lib/python3.7/dist-packages/keras/utils/traceback_utils.py\u001B[0m in \u001B[0;36merror_handler\u001B[0;34m(*args, **kwargs)\u001B[0m\n\u001B[1;32m     62\u001B[0m     \u001B[0mfiltered_tb\u001B[0m \u001B[0;34m=\u001B[0m \u001B[0;32mNone\u001B[0m\u001B[0;34m\u001B[0m\u001B[0;34m\u001B[0m\u001B[0m\n\u001B[1;32m     63\u001B[0m     \u001B[0;32mtry\u001B[0m\u001B[0;34m:\u001B[0m\u001B[0;34m\u001B[0m\u001B[0;34m\u001B[0m\u001B[0m\n\u001B[0;32m---> 64\u001B[0;31m       \u001B[0;32mreturn\u001B[0m \u001B[0mfn\u001B[0m\u001B[0;34m(\u001B[0m\u001B[0;34m*\u001B[0m\u001B[0margs\u001B[0m\u001B[0;34m,\u001B[0m \u001B[0;34m**\u001B[0m\u001B[0mkwargs\u001B[0m\u001B[0;34m)\u001B[0m\u001B[0;34m\u001B[0m\u001B[0;34m\u001B[0m\u001B[0m\n\u001B[0m\u001B[1;32m     65\u001B[0m     \u001B[0;32mexcept\u001B[0m \u001B[0mException\u001B[0m \u001B[0;32mas\u001B[0m \u001B[0me\u001B[0m\u001B[0;34m:\u001B[0m  \u001B[0;31m# pylint: disable=broad-except\u001B[0m\u001B[0;34m\u001B[0m\u001B[0;34m\u001B[0m\u001B[0m\n\u001B[1;32m     66\u001B[0m       \u001B[0mfiltered_tb\u001B[0m \u001B[0;34m=\u001B[0m \u001B[0m_process_traceback_frames\u001B[0m\u001B[0;34m(\u001B[0m\u001B[0me\u001B[0m\u001B[0;34m.\u001B[0m\u001B[0m__traceback__\u001B[0m\u001B[0;34m)\u001B[0m\u001B[0;34m\u001B[0m\u001B[0;34m\u001B[0m\u001B[0m\n",
      "\u001B[0;32m/usr/local/lib/python3.7/dist-packages/keras/engine/base_layer.py\u001B[0m in \u001B[0;36m__call__\u001B[0;34m(self, *args, **kwargs)\u001B[0m\n\u001B[1;32m   1012\u001B[0m         with autocast_variable.enable_auto_cast_variables(\n\u001B[1;32m   1013\u001B[0m             self._compute_dtype_object):\n\u001B[0;32m-> 1014\u001B[0;31m           \u001B[0moutputs\u001B[0m \u001B[0;34m=\u001B[0m \u001B[0mcall_fn\u001B[0m\u001B[0;34m(\u001B[0m\u001B[0minputs\u001B[0m\u001B[0;34m,\u001B[0m \u001B[0;34m*\u001B[0m\u001B[0margs\u001B[0m\u001B[0;34m,\u001B[0m \u001B[0;34m**\u001B[0m\u001B[0mkwargs\u001B[0m\u001B[0;34m)\u001B[0m\u001B[0;34m\u001B[0m\u001B[0;34m\u001B[0m\u001B[0m\n\u001B[0m\u001B[1;32m   1015\u001B[0m \u001B[0;34m\u001B[0m\u001B[0m\n\u001B[1;32m   1016\u001B[0m         \u001B[0;32mif\u001B[0m \u001B[0mself\u001B[0m\u001B[0;34m.\u001B[0m\u001B[0m_activity_regularizer\u001B[0m\u001B[0;34m:\u001B[0m\u001B[0;34m\u001B[0m\u001B[0;34m\u001B[0m\u001B[0m\n",
      "\u001B[0;32m/usr/local/lib/python3.7/dist-packages/keras/utils/traceback_utils.py\u001B[0m in \u001B[0;36merror_handler\u001B[0;34m(*args, **kwargs)\u001B[0m\n\u001B[1;32m     90\u001B[0m     \u001B[0mbound_signature\u001B[0m \u001B[0;34m=\u001B[0m \u001B[0;32mNone\u001B[0m\u001B[0;34m\u001B[0m\u001B[0;34m\u001B[0m\u001B[0m\n\u001B[1;32m     91\u001B[0m     \u001B[0;32mtry\u001B[0m\u001B[0;34m:\u001B[0m\u001B[0;34m\u001B[0m\u001B[0;34m\u001B[0m\u001B[0m\n\u001B[0;32m---> 92\u001B[0;31m       \u001B[0;32mreturn\u001B[0m \u001B[0mfn\u001B[0m\u001B[0;34m(\u001B[0m\u001B[0;34m*\u001B[0m\u001B[0margs\u001B[0m\u001B[0;34m,\u001B[0m \u001B[0;34m**\u001B[0m\u001B[0mkwargs\u001B[0m\u001B[0;34m)\u001B[0m\u001B[0;34m\u001B[0m\u001B[0;34m\u001B[0m\u001B[0m\n\u001B[0m\u001B[1;32m     93\u001B[0m     \u001B[0;32mexcept\u001B[0m \u001B[0mException\u001B[0m \u001B[0;32mas\u001B[0m \u001B[0me\u001B[0m\u001B[0;34m:\u001B[0m  \u001B[0;31m# pylint: disable=broad-except\u001B[0m\u001B[0;34m\u001B[0m\u001B[0;34m\u001B[0m\u001B[0m\n\u001B[1;32m     94\u001B[0m       \u001B[0;32mif\u001B[0m \u001B[0mhasattr\u001B[0m\u001B[0;34m(\u001B[0m\u001B[0me\u001B[0m\u001B[0;34m,\u001B[0m \u001B[0;34m'_keras_call_info_injected'\u001B[0m\u001B[0;34m)\u001B[0m\u001B[0;34m:\u001B[0m\u001B[0;34m\u001B[0m\u001B[0;34m\u001B[0m\u001B[0m\n",
      "\u001B[0;32m/usr/local/lib/python3.7/dist-packages/keras/layers/rnn/gru.py\u001B[0m in \u001B[0;36mcall\u001B[0;34m(self, inputs, mask, training, initial_state)\u001B[0m\n\u001B[1;32m    605\u001B[0m     \u001B[0;32melse\u001B[0m\u001B[0;34m:\u001B[0m\u001B[0;34m\u001B[0m\u001B[0;34m\u001B[0m\u001B[0m\n\u001B[1;32m    606\u001B[0m       last_output, outputs, runtime, states = self._defun_gru_call(\n\u001B[0;32m--> 607\u001B[0;31m           inputs, initial_state, training, mask, row_lengths)\n\u001B[0m\u001B[1;32m    608\u001B[0m \u001B[0;34m\u001B[0m\u001B[0m\n\u001B[1;32m    609\u001B[0m     \u001B[0;32mif\u001B[0m \u001B[0mself\u001B[0m\u001B[0;34m.\u001B[0m\u001B[0mstateful\u001B[0m\u001B[0;34m:\u001B[0m\u001B[0;34m\u001B[0m\u001B[0;34m\u001B[0m\u001B[0m\n",
      "\u001B[0;32m/usr/local/lib/python3.7/dist-packages/keras/layers/rnn/gru.py\u001B[0m in \u001B[0;36m_defun_gru_call\u001B[0;34m(self, inputs, initial_state, training, mask, sequence_lengths)\u001B[0m\n\u001B[1;32m    821\u001B[0m         \u001B[0;32melse\u001B[0m\u001B[0;34m:\u001B[0m\u001B[0;34m\u001B[0m\u001B[0;34m\u001B[0m\u001B[0m\n\u001B[1;32m    822\u001B[0m           last_output, outputs, new_h, runtime = standard_gru(\n\u001B[0;32m--> 823\u001B[0;31m               **normal_gru_kwargs)\n\u001B[0m\u001B[1;32m    824\u001B[0m       \u001B[0;32melse\u001B[0m\u001B[0;34m:\u001B[0m\u001B[0;34m\u001B[0m\u001B[0;34m\u001B[0m\u001B[0m\n\u001B[1;32m    825\u001B[0m         last_output, outputs, new_h, runtime = gru_with_backend_selection(\n",
      "\u001B[0;32m/usr/local/lib/python3.7/dist-packages/keras/layers/rnn/gru.py\u001B[0m in \u001B[0;36mstandard_gru\u001B[0;34m(inputs, init_h, kernel, recurrent_kernel, bias, mask, time_major, go_backwards, sequence_lengths, zero_output_for_mask, return_sequences)\u001B[0m\n\u001B[1;32m    915\u001B[0m       \u001B[0;32mif\u001B[0m \u001B[0msequence_lengths\u001B[0m \u001B[0;32mis\u001B[0m \u001B[0;32mnot\u001B[0m \u001B[0;32mNone\u001B[0m \u001B[0;32melse\u001B[0m \u001B[0mtimesteps\u001B[0m\u001B[0;34m,\u001B[0m\u001B[0;34m\u001B[0m\u001B[0;34m\u001B[0m\u001B[0m\n\u001B[1;32m    916\u001B[0m       \u001B[0mzero_output_for_mask\u001B[0m\u001B[0;34m=\u001B[0m\u001B[0mzero_output_for_mask\u001B[0m\u001B[0;34m,\u001B[0m\u001B[0;34m\u001B[0m\u001B[0;34m\u001B[0m\u001B[0m\n\u001B[0;32m--> 917\u001B[0;31m       return_all_outputs=return_sequences)\n\u001B[0m\u001B[1;32m    918\u001B[0m   return last_output, outputs, new_states[0], gru_lstm_utils.runtime(\n\u001B[1;32m    919\u001B[0m       gru_lstm_utils.RUNTIME_CPU)\n",
      "\u001B[0;32m/usr/local/lib/python3.7/dist-packages/tensorflow/python/util/traceback_utils.py\u001B[0m in \u001B[0;36merror_handler\u001B[0;34m(*args, **kwargs)\u001B[0m\n\u001B[1;32m    148\u001B[0m     \u001B[0mfiltered_tb\u001B[0m \u001B[0;34m=\u001B[0m \u001B[0;32mNone\u001B[0m\u001B[0;34m\u001B[0m\u001B[0;34m\u001B[0m\u001B[0m\n\u001B[1;32m    149\u001B[0m     \u001B[0;32mtry\u001B[0m\u001B[0;34m:\u001B[0m\u001B[0;34m\u001B[0m\u001B[0;34m\u001B[0m\u001B[0m\n\u001B[0;32m--> 150\u001B[0;31m       \u001B[0;32mreturn\u001B[0m \u001B[0mfn\u001B[0m\u001B[0;34m(\u001B[0m\u001B[0;34m*\u001B[0m\u001B[0margs\u001B[0m\u001B[0;34m,\u001B[0m \u001B[0;34m**\u001B[0m\u001B[0mkwargs\u001B[0m\u001B[0;34m)\u001B[0m\u001B[0;34m\u001B[0m\u001B[0;34m\u001B[0m\u001B[0m\n\u001B[0m\u001B[1;32m    151\u001B[0m     \u001B[0;32mexcept\u001B[0m \u001B[0mException\u001B[0m \u001B[0;32mas\u001B[0m \u001B[0me\u001B[0m\u001B[0;34m:\u001B[0m\u001B[0;34m\u001B[0m\u001B[0;34m\u001B[0m\u001B[0m\n\u001B[1;32m    152\u001B[0m       \u001B[0mfiltered_tb\u001B[0m \u001B[0;34m=\u001B[0m \u001B[0m_process_traceback_frames\u001B[0m\u001B[0;34m(\u001B[0m\u001B[0me\u001B[0m\u001B[0;34m.\u001B[0m\u001B[0m__traceback__\u001B[0m\u001B[0;34m)\u001B[0m\u001B[0;34m\u001B[0m\u001B[0;34m\u001B[0m\u001B[0m\n",
      "\u001B[0;32m/usr/local/lib/python3.7/dist-packages/tensorflow/python/util/dispatch.py\u001B[0m in \u001B[0;36mop_dispatch_handler\u001B[0;34m(*args, **kwargs)\u001B[0m\n\u001B[1;32m   1080\u001B[0m       \u001B[0;31m# Fallback dispatch system (dispatch v1):\u001B[0m\u001B[0;34m\u001B[0m\u001B[0;34m\u001B[0m\u001B[0;34m\u001B[0m\u001B[0m\n\u001B[1;32m   1081\u001B[0m       \u001B[0;32mtry\u001B[0m\u001B[0;34m:\u001B[0m\u001B[0;34m\u001B[0m\u001B[0;34m\u001B[0m\u001B[0m\n\u001B[0;32m-> 1082\u001B[0;31m         \u001B[0;32mreturn\u001B[0m \u001B[0mdispatch_target\u001B[0m\u001B[0;34m(\u001B[0m\u001B[0;34m*\u001B[0m\u001B[0margs\u001B[0m\u001B[0;34m,\u001B[0m \u001B[0;34m**\u001B[0m\u001B[0mkwargs\u001B[0m\u001B[0;34m)\u001B[0m\u001B[0;34m\u001B[0m\u001B[0;34m\u001B[0m\u001B[0m\n\u001B[0m\u001B[1;32m   1083\u001B[0m       \u001B[0;32mexcept\u001B[0m \u001B[0;34m(\u001B[0m\u001B[0mTypeError\u001B[0m\u001B[0;34m,\u001B[0m \u001B[0mValueError\u001B[0m\u001B[0;34m)\u001B[0m\u001B[0;34m:\u001B[0m\u001B[0;34m\u001B[0m\u001B[0;34m\u001B[0m\u001B[0m\n\u001B[1;32m   1084\u001B[0m         \u001B[0;31m# Note: convert_to_eager_tensor currently raises a ValueError, not a\u001B[0m\u001B[0;34m\u001B[0m\u001B[0;34m\u001B[0m\u001B[0;34m\u001B[0m\u001B[0m\n",
      "\u001B[0;32m/usr/local/lib/python3.7/dist-packages/keras/backend.py\u001B[0m in \u001B[0;36mrnn\u001B[0;34m(step_function, inputs, initial_states, go_backwards, mask, constants, unroll, input_length, time_major, zero_output_for_mask, return_all_outputs)\u001B[0m\n\u001B[1;32m   4740\u001B[0m           \u001B[0mbody\u001B[0m\u001B[0;34m=\u001B[0m\u001B[0m_step\u001B[0m\u001B[0;34m,\u001B[0m\u001B[0;34m\u001B[0m\u001B[0;34m\u001B[0m\u001B[0m\n\u001B[1;32m   4741\u001B[0m           \u001B[0mloop_vars\u001B[0m\u001B[0;34m=\u001B[0m\u001B[0;34m(\u001B[0m\u001B[0mtime\u001B[0m\u001B[0;34m,\u001B[0m \u001B[0moutput_ta\u001B[0m\u001B[0;34m,\u001B[0m \u001B[0mflat_zero_output\u001B[0m\u001B[0;34m)\u001B[0m \u001B[0;34m+\u001B[0m \u001B[0mstates\u001B[0m\u001B[0;34m,\u001B[0m\u001B[0;34m\u001B[0m\u001B[0;34m\u001B[0m\u001B[0m\n\u001B[0;32m-> 4742\u001B[0;31m           **while_loop_kwargs)\n\u001B[0m\u001B[1;32m   4743\u001B[0m       \u001B[0;31m# Skip final_outputs[2] which is the output for final timestep.\u001B[0m\u001B[0;34m\u001B[0m\u001B[0;34m\u001B[0m\u001B[0;34m\u001B[0m\u001B[0m\n\u001B[1;32m   4744\u001B[0m       \u001B[0mnew_states\u001B[0m \u001B[0;34m=\u001B[0m \u001B[0mfinal_outputs\u001B[0m\u001B[0;34m[\u001B[0m\u001B[0;36m3\u001B[0m\u001B[0;34m:\u001B[0m\u001B[0;34m]\u001B[0m\u001B[0;34m\u001B[0m\u001B[0;34m\u001B[0m\u001B[0m\n",
      "\u001B[0;32m/usr/local/lib/python3.7/dist-packages/tensorflow/python/ops/control_flow_ops.py\u001B[0m in \u001B[0;36mwhile_loop\u001B[0;34m(cond, body, loop_vars, shape_invariants, parallel_iterations, back_prop, swap_memory, name, maximum_iterations, return_same_structure)\u001B[0m\n\u001B[1;32m   2752\u001B[0m                                               list(loop_vars))\n\u001B[1;32m   2753\u001B[0m       \u001B[0;32mwhile\u001B[0m \u001B[0mcond\u001B[0m\u001B[0;34m(\u001B[0m\u001B[0;34m*\u001B[0m\u001B[0mloop_vars\u001B[0m\u001B[0;34m)\u001B[0m\u001B[0;34m:\u001B[0m\u001B[0;34m\u001B[0m\u001B[0;34m\u001B[0m\u001B[0m\n\u001B[0;32m-> 2754\u001B[0;31m         \u001B[0mloop_vars\u001B[0m \u001B[0;34m=\u001B[0m \u001B[0mbody\u001B[0m\u001B[0;34m(\u001B[0m\u001B[0;34m*\u001B[0m\u001B[0mloop_vars\u001B[0m\u001B[0;34m)\u001B[0m\u001B[0;34m\u001B[0m\u001B[0;34m\u001B[0m\u001B[0m\n\u001B[0m\u001B[1;32m   2755\u001B[0m         \u001B[0;32mif\u001B[0m \u001B[0mtry_to_pack\u001B[0m \u001B[0;32mand\u001B[0m \u001B[0;32mnot\u001B[0m \u001B[0misinstance\u001B[0m\u001B[0;34m(\u001B[0m\u001B[0mloop_vars\u001B[0m\u001B[0;34m,\u001B[0m \u001B[0;34m(\u001B[0m\u001B[0mlist\u001B[0m\u001B[0;34m,\u001B[0m \u001B[0m_basetuple\u001B[0m\u001B[0;34m)\u001B[0m\u001B[0;34m)\u001B[0m\u001B[0;34m:\u001B[0m\u001B[0;34m\u001B[0m\u001B[0;34m\u001B[0m\u001B[0m\n\u001B[1;32m   2756\u001B[0m           \u001B[0mpacked\u001B[0m \u001B[0;34m=\u001B[0m \u001B[0;32mTrue\u001B[0m\u001B[0;34m\u001B[0m\u001B[0;34m\u001B[0m\u001B[0m\n",
      "\u001B[0;32m/usr/local/lib/python3.7/dist-packages/keras/backend.py\u001B[0m in \u001B[0;36m_step\u001B[0;34m(time, output_ta_t, prev_output, *states)\u001B[0m\n\u001B[1;32m   4711\u001B[0m         \u001B[0mmask_t\u001B[0m \u001B[0;34m=\u001B[0m \u001B[0mmasking_fn\u001B[0m\u001B[0;34m(\u001B[0m\u001B[0mtime\u001B[0m\u001B[0;34m)\u001B[0m\u001B[0;34m\u001B[0m\u001B[0;34m\u001B[0m\u001B[0m\n\u001B[1;32m   4712\u001B[0m         output, new_states = step_function(current_input,\n\u001B[0;32m-> 4713\u001B[0;31m                                            tuple(states) + tuple(constants))\n\u001B[0m\u001B[1;32m   4714\u001B[0m         \u001B[0;31m# mask output\u001B[0m\u001B[0;34m\u001B[0m\u001B[0;34m\u001B[0m\u001B[0;34m\u001B[0m\u001B[0m\n\u001B[1;32m   4715\u001B[0m         \u001B[0mflat_output\u001B[0m \u001B[0;34m=\u001B[0m \u001B[0mtf\u001B[0m\u001B[0;34m.\u001B[0m\u001B[0mnest\u001B[0m\u001B[0;34m.\u001B[0m\u001B[0mflatten\u001B[0m\u001B[0;34m(\u001B[0m\u001B[0moutput\u001B[0m\u001B[0;34m)\u001B[0m\u001B[0;34m\u001B[0m\u001B[0;34m\u001B[0m\u001B[0m\n",
      "\u001B[0;32m/usr/local/lib/python3.7/dist-packages/keras/layers/rnn/gru.py\u001B[0m in \u001B[0;36mstep\u001B[0;34m(cell_inputs, cell_states)\u001B[0m\n\u001B[1;32m    898\u001B[0m     \u001B[0mz\u001B[0m \u001B[0;34m=\u001B[0m \u001B[0mtf\u001B[0m\u001B[0;34m.\u001B[0m\u001B[0msigmoid\u001B[0m\u001B[0;34m(\u001B[0m\u001B[0mx_z\u001B[0m \u001B[0;34m+\u001B[0m \u001B[0mrecurrent_z\u001B[0m\u001B[0;34m)\u001B[0m\u001B[0;34m\u001B[0m\u001B[0;34m\u001B[0m\u001B[0m\n\u001B[1;32m    899\u001B[0m     \u001B[0mr\u001B[0m \u001B[0;34m=\u001B[0m \u001B[0mtf\u001B[0m\u001B[0;34m.\u001B[0m\u001B[0msigmoid\u001B[0m\u001B[0;34m(\u001B[0m\u001B[0mx_r\u001B[0m \u001B[0;34m+\u001B[0m \u001B[0mrecurrent_r\u001B[0m\u001B[0;34m)\u001B[0m\u001B[0;34m\u001B[0m\u001B[0;34m\u001B[0m\u001B[0m\n\u001B[0;32m--> 900\u001B[0;31m     \u001B[0mhh\u001B[0m \u001B[0;34m=\u001B[0m \u001B[0mtf\u001B[0m\u001B[0;34m.\u001B[0m\u001B[0mtanh\u001B[0m\u001B[0;34m(\u001B[0m\u001B[0mx_h\u001B[0m \u001B[0;34m+\u001B[0m \u001B[0mr\u001B[0m \u001B[0;34m*\u001B[0m \u001B[0mrecurrent_h\u001B[0m\u001B[0;34m)\u001B[0m\u001B[0;34m\u001B[0m\u001B[0;34m\u001B[0m\u001B[0m\n\u001B[0m\u001B[1;32m    901\u001B[0m \u001B[0;34m\u001B[0m\u001B[0m\n\u001B[1;32m    902\u001B[0m     \u001B[0;31m# previous and candidate state mixed by update gate\u001B[0m\u001B[0;34m\u001B[0m\u001B[0;34m\u001B[0m\u001B[0;34m\u001B[0m\u001B[0m\n",
      "\u001B[0;32m/usr/local/lib/python3.7/dist-packages/tensorflow/python/util/traceback_utils.py\u001B[0m in \u001B[0;36merror_handler\u001B[0;34m(*args, **kwargs)\u001B[0m\n\u001B[1;32m    148\u001B[0m     \u001B[0mfiltered_tb\u001B[0m \u001B[0;34m=\u001B[0m \u001B[0;32mNone\u001B[0m\u001B[0;34m\u001B[0m\u001B[0;34m\u001B[0m\u001B[0m\n\u001B[1;32m    149\u001B[0m     \u001B[0;32mtry\u001B[0m\u001B[0;34m:\u001B[0m\u001B[0;34m\u001B[0m\u001B[0;34m\u001B[0m\u001B[0m\n\u001B[0;32m--> 150\u001B[0;31m       \u001B[0;32mreturn\u001B[0m \u001B[0mfn\u001B[0m\u001B[0;34m(\u001B[0m\u001B[0;34m*\u001B[0m\u001B[0margs\u001B[0m\u001B[0;34m,\u001B[0m \u001B[0;34m**\u001B[0m\u001B[0mkwargs\u001B[0m\u001B[0;34m)\u001B[0m\u001B[0;34m\u001B[0m\u001B[0;34m\u001B[0m\u001B[0m\n\u001B[0m\u001B[1;32m    151\u001B[0m     \u001B[0;32mexcept\u001B[0m \u001B[0mException\u001B[0m \u001B[0;32mas\u001B[0m \u001B[0me\u001B[0m\u001B[0;34m:\u001B[0m\u001B[0;34m\u001B[0m\u001B[0;34m\u001B[0m\u001B[0m\n\u001B[1;32m    152\u001B[0m       \u001B[0mfiltered_tb\u001B[0m \u001B[0;34m=\u001B[0m \u001B[0m_process_traceback_frames\u001B[0m\u001B[0;34m(\u001B[0m\u001B[0me\u001B[0m\u001B[0;34m.\u001B[0m\u001B[0m__traceback__\u001B[0m\u001B[0;34m)\u001B[0m\u001B[0;34m\u001B[0m\u001B[0;34m\u001B[0m\u001B[0m\n",
      "\u001B[0;32m/usr/local/lib/python3.7/dist-packages/tensorflow/python/ops/math_ops.py\u001B[0m in \u001B[0;36mbinary_op_wrapper\u001B[0;34m(x, y)\u001B[0m\n\u001B[1;32m   1398\u001B[0m   \u001B[0;34m@\u001B[0m\u001B[0mtraceback_utils\u001B[0m\u001B[0;34m.\u001B[0m\u001B[0mfilter_traceback\u001B[0m\u001B[0;34m\u001B[0m\u001B[0;34m\u001B[0m\u001B[0m\n\u001B[1;32m   1399\u001B[0m   \u001B[0;32mdef\u001B[0m \u001B[0mbinary_op_wrapper\u001B[0m\u001B[0;34m(\u001B[0m\u001B[0mx\u001B[0m\u001B[0;34m,\u001B[0m \u001B[0my\u001B[0m\u001B[0;34m)\u001B[0m\u001B[0;34m:\u001B[0m\u001B[0;34m\u001B[0m\u001B[0;34m\u001B[0m\u001B[0m\n\u001B[0;32m-> 1400\u001B[0;31m     \u001B[0;32mwith\u001B[0m \u001B[0mops\u001B[0m\u001B[0;34m.\u001B[0m\u001B[0mname_scope\u001B[0m\u001B[0;34m(\u001B[0m\u001B[0;32mNone\u001B[0m\u001B[0;34m,\u001B[0m \u001B[0mop_name\u001B[0m\u001B[0;34m,\u001B[0m \u001B[0;34m[\u001B[0m\u001B[0mx\u001B[0m\u001B[0;34m,\u001B[0m \u001B[0my\u001B[0m\u001B[0;34m]\u001B[0m\u001B[0;34m)\u001B[0m \u001B[0;32mas\u001B[0m \u001B[0mname\u001B[0m\u001B[0;34m:\u001B[0m\u001B[0;34m\u001B[0m\u001B[0;34m\u001B[0m\u001B[0m\n\u001B[0m\u001B[1;32m   1401\u001B[0m       \u001B[0;32mtry\u001B[0m\u001B[0;34m:\u001B[0m\u001B[0;34m\u001B[0m\u001B[0;34m\u001B[0m\u001B[0m\n\u001B[1;32m   1402\u001B[0m         \u001B[0;31m# force_same_dtype=False to preserve existing TF behavior\u001B[0m\u001B[0;34m\u001B[0m\u001B[0;34m\u001B[0m\u001B[0;34m\u001B[0m\u001B[0m\n",
      "\u001B[0;31mKeyboardInterrupt\u001B[0m: "
     ]
    }
   ],
   "source": [
    "max_epochs=5\n",
    "verbose=1\n",
    "batch_size=1024\n",
    "model.fit(\n",
    "        x=train_instances.sequences, \n",
    "        y=train_instances.targets,\n",
    "        # {\n",
    "        #     # 'logits_variance':train_set.y_true,\n",
    "        #     'softmax_output':train_instances.y_true\n",
    "        # },\n",
    "        # epochs=max_epochs,\n",
    "        verbose=verbose, \n",
    "        batch_size=batch_size,\n",
    "        # validation_split = 0.25,\n",
    "        # validation_data=(validation_instances.sequences, validation_instances.targets),\n",
    "        # validation_batch_size=batch_size,\n",
    "        # callbacks = tf.keras.callbacks.EarlyStopping(),\n",
    "    )"
   ]
  },
  {
   "cell_type": "code",
   "execution_count": null,
   "metadata": {
    "colab": {
     "base_uri": "https://localhost:8080/"
    },
    "executionInfo": {
     "elapsed": 7679,
     "status": "ok",
     "timestamp": 1666501625888,
     "user": {
      "displayName": "Research Group",
      "userId": "07008499032580121461"
     },
     "user_tz": 240
    },
    "id": "kdCiEBJ7lSc3",
    "outputId": "d4695bb6-b246-4995-ed20-bb725ddc66d3"
   },
   "outputs": [
    {
     "name": "stderr",
     "output_type": "stream",
     "text": [
      "/usr/local/lib/python3.7/dist-packages/tensorflow/python/data/ops/structured_function.py:265: UserWarning: Even though the `tf.config.experimental_run_functions_eagerly` option is set, this option does not apply to tf.data functions. To force eager execution of tf.data functions, please use `tf.data.experimental.enable_debug_mode()`.\n",
      "  \"Even though the `tf.config.experimental_run_functions_eagerly` \"\n"
     ]
    },
    {
     "name": "stdout",
     "output_type": "stream",
     "text": [
      "38/38 [==============================] - 7s 192ms/step\n"
     ]
    }
   ],
   "source": [
    "y_pred = model.predict(test_instances.sequences)"
   ]
  },
  {
   "cell_type": "code",
   "execution_count": null,
   "metadata": {
    "colab": {
     "base_uri": "https://localhost:8080/"
    },
    "executionInfo": {
     "elapsed": 4,
     "status": "ok",
     "timestamp": 1666501684424,
     "user": {
      "displayName": "Research Group",
      "userId": "07008499032580121461"
     },
     "user_tz": 240
    },
    "id": "PM30is-oPYMF",
    "outputId": "dc291067-4189-4ddb-82c5-6eec862cb4bb"
   },
   "outputs": [
    {
     "data": {
      "text/plain": [
       "1208"
      ]
     },
     "execution_count": 47,
     "metadata": {},
     "output_type": "execute_result"
    }
   ],
   "source": [
    "test_instances.targets.shape[0]"
   ]
  },
  {
   "cell_type": "code",
   "execution_count": null,
   "metadata": {
    "colab": {
     "base_uri": "https://localhost:8080/"
    },
    "executionInfo": {
     "elapsed": 389,
     "status": "ok",
     "timestamp": 1666501850094,
     "user": {
      "displayName": "Research Group",
      "userId": "07008499032580121461"
     },
     "user_tz": 240
    },
    "id": "a_8UIAyqLJvN",
    "outputId": "73c26202-87ea-452c-b7cf-292765cc3894"
   },
   "outputs": [
    {
     "name": "stdout",
     "output_type": "stream",
     "text": [
      "25 0.020695364238410598\n"
     ]
    }
   ],
   "source": [
    "hr20 = 0\n",
    "for i in range(test_instances.targets.shape[0]):\n",
    "    hr20 += test_instances.targets[i] in np.argsort(y_pred[i])[-20:]\n",
    "print(hr20, hr20/test_instances.targets.shape[0])"
   ]
  },
  {
   "cell_type": "code",
   "execution_count": null,
   "metadata": {
    "colab": {
     "base_uri": "https://localhost:8080/"
    },
    "executionInfo": {
     "elapsed": 8,
     "status": "ok",
     "timestamp": 1666491109592,
     "user": {
      "displayName": "Research Group",
      "userId": "07008499032580121461"
     },
     "user_tz": 240
    },
    "id": "WYONo3Bjlg2Q",
    "outputId": "891e7d90-0ee6-4733-a1e5-e9a1790421b1"
   },
   "outputs": [
    {
     "data": {
      "text/plain": [
       "90"
      ]
     },
     "execution_count": 26,
     "metadata": {},
     "output_type": "execute_result"
    }
   ],
   "source": [
    "x = 0\n",
    "for i in range(1000):\n",
    "    # print(np.where(data.test.targets[i]==1)[0])\n",
    "    # print(np.argsort(y_pred[i])[-20:])\n",
    "    if np.where(data.test.targets[i]==1)[0][0] in np.argsort(y_pred[i])[-20:]:\n",
    "        x += 1\n",
    "x"
   ]
  },
  {
   "cell_type": "code",
   "execution_count": null,
   "metadata": {
    "colab": {
     "base_uri": "https://localhost:8080/"
    },
    "executionInfo": {
     "elapsed": 1455643,
     "status": "ok",
     "timestamp": 1665949286541,
     "user": {
      "displayName": "Research Group",
      "userId": "07008499032580121461"
     },
     "user_tz": 240
    },
    "id": "iTUhunyr89GG",
    "outputId": "1db3f2b4-0da9-43dd-fd68-fa1df28b5b5e"
   },
   "outputs": [
    {
     "name": "stderr",
     "output_type": "stream",
     "text": [
      "/usr/local/lib/python3.7/dist-packages/tensorflow/python/data/ops/structured_function.py:265: UserWarning: Even though the `tf.config.experimental_run_functions_eagerly` option is set, this option does not apply to tf.data functions. To force eager execution of tf.data functions, please use `tf.data.experimental.enable_debug_mode()`.\n",
      "  \"Even though the `tf.config.experimental_run_functions_eagerly` \"\n"
     ]
    },
    {
     "name": "stdout",
     "output_type": "stream",
     "text": [
      "Epoch 1/10\n",
      "1495/1495 [==============================] - 151s 96ms/step - loss: 0.5293 - logits_variance_loss: 0.0904 - sigmoid_output_loss: 0.4841 - val_loss: 0.4704 - val_logits_variance_loss: 0.0827 - val_sigmoid_output_loss: 0.4291\n",
      "Epoch 2/10\n",
      "1495/1495 [==============================] - 142s 95ms/step - loss: 0.4287 - logits_variance_loss: 0.0760 - sigmoid_output_loss: 0.3907 - val_loss: 0.4161 - val_logits_variance_loss: 0.0743 - val_sigmoid_output_loss: 0.3790\n",
      "Epoch 3/10\n",
      "1495/1495 [==============================] - 147s 98ms/step - loss: 0.3812 - logits_variance_loss: 0.0693 - sigmoid_output_loss: 0.3466 - val_loss: 0.3962 - val_logits_variance_loss: 0.0699 - val_sigmoid_output_loss: 0.3613\n",
      "Epoch 4/10\n",
      "1495/1495 [==============================] - 143s 96ms/step - loss: 0.3529 - logits_variance_loss: 0.0652 - sigmoid_output_loss: 0.3203 - val_loss: 0.3852 - val_logits_variance_loss: 0.0673 - val_sigmoid_output_loss: 0.3516\n",
      "Epoch 5/10\n",
      "1495/1495 [==============================] - 143s 96ms/step - loss: 0.3340 - logits_variance_loss: 0.0625 - sigmoid_output_loss: 0.3028 - val_loss: 0.3797 - val_logits_variance_loss: 0.0660 - val_sigmoid_output_loss: 0.3467\n",
      "Epoch 6/10\n",
      "1495/1495 [==============================] - 145s 97ms/step - loss: 0.3194 - logits_variance_loss: 0.0605 - sigmoid_output_loss: 0.2892 - val_loss: 0.3766 - val_logits_variance_loss: 0.0645 - val_sigmoid_output_loss: 0.3443\n",
      "Epoch 7/10\n",
      "1495/1495 [==============================] - 145s 97ms/step - loss: 0.3067 - logits_variance_loss: 0.0587 - sigmoid_output_loss: 0.2774 - val_loss: 0.3767 - val_logits_variance_loss: 0.0633 - val_sigmoid_output_loss: 0.3451\n",
      "Epoch 8/10\n",
      "1495/1495 [==============================] - 146s 98ms/step - loss: 0.2958 - logits_variance_loss: 0.0572 - sigmoid_output_loss: 0.2672 - val_loss: 0.3759 - val_logits_variance_loss: 0.0628 - val_sigmoid_output_loss: 0.3446\n",
      "Epoch 9/10\n",
      "1495/1495 [==============================] - 143s 96ms/step - loss: 0.2861 - logits_variance_loss: 0.0559 - sigmoid_output_loss: 0.2581 - val_loss: 0.3764 - val_logits_variance_loss: 0.0628 - val_sigmoid_output_loss: 0.3450\n",
      "Epoch 10/10\n",
      "1495/1495 [==============================] - 144s 96ms/step - loss: 0.2772 - logits_variance_loss: 0.0548 - sigmoid_output_loss: 0.2498 - val_loss: 0.3792 - val_logits_variance_loss: 0.0627 - val_sigmoid_output_loss: 0.3479\n"
     ]
    },
    {
     "data": {
      "text/plain": [
       "<keras.engine.functional.Functional at 0x7ff2343e7490>"
      ]
     },
     "execution_count": 15,
     "metadata": {},
     "output_type": "execute_result"
    }
   ],
   "source": [
    "model = CosRec(data, T=50).get_model()\n",
    "model_train(model, train_set, validation_set, max_epochs=10, batch_size=512)\n"
   ]
  },
  {
   "cell_type": "code",
   "execution_count": null,
   "metadata": {
    "colab": {
     "base_uri": "https://localhost:8080/"
    },
    "executionInfo": {
     "elapsed": 11254,
     "status": "ok",
     "timestamp": 1666203899126,
     "user": {
      "displayName": "Research Group",
      "userId": "07008499032580121461"
     },
     "user_tz": 240
    },
    "id": "PW9PCmqcTNyG",
    "outputId": "6db9b56f-0623-4819-fb2f-f1cec7cba651"
   },
   "outputs": [
    {
     "name": "stdout",
     "output_type": "stream",
     "text": [
      "Drive already mounted at /content/drive; to attempt to forcibly remount, call drive.mount(\"/content/drive\", force_remount=True).\n",
      "Root /content/drive/My Drive/RuhaniRahman/UncertaintyRecommenderSystem/data\n"
     ]
    },
    {
     "name": "stderr",
     "output_type": "stream",
     "text": [
      "/usr/local/lib/python3.7/dist-packages/ipykernel_launcher.py:43: VisibleDeprecationWarning: Creating an ndarray from ragged nested sequences (which is a list-or-tuple of lists-or-tuples-or ndarrays with different lengths or shapes) is deprecated. If you meant to do this, you must specify 'dtype=object' when creating the ndarray.\n",
      "/usr/local/lib/python3.7/dist-packages/ipykernel_launcher.py:44: VisibleDeprecationWarning: Creating an ndarray from ragged nested sequences (which is a list-or-tuple of lists-or-tuples-or ndarrays with different lengths or shapes) is deprecated. If you meant to do this, you must specify 'dtype=object' when creating the ndarray.\n"
     ]
    },
    {
     "name": "stdout",
     "output_type": "stream",
     "text": [
      "num_users =  6040\n",
      "num_items =  3416\n"
     ]
    },
    {
     "name": "stderr",
     "output_type": "stream",
     "text": [
      "/usr/local/lib/python3.7/dist-packages/ipykernel_launcher.py:163: VisibleDeprecationWarning: Creating an ndarray from ragged nested sequences (which is a list-or-tuple of lists-or-tuples-or ndarrays with different lengths or shapes) is deprecated. If you meant to do this, you must specify 'dtype=object' when creating the ndarray.\n"
     ]
    },
    {
     "name": "stdout",
     "output_type": "stream",
     "text": [
      "test.targets.shape: (6040, 1)\n",
      "test.users.shape: (6040, 1)\n",
      "test.sequences.shape: (6040, 5)\n",
      "Technique: nicest --> Retained Parcentage: 0.5\n",
      "Fold Id: 0\n",
      "nicest 7.5 True [8.37735849 7.42635659 7.80392157 ... 8.16528926 7.625      6.92134831]\n",
      "Well Done\n",
      "(622206, 1) (72177, 1) (3648,) (554, 1)\n",
      "Fold Id: 1\n",
      "nicest 7.5 True [8.37735849 7.42635659 7.80392157 ... 8.16528926 7.625      6.92134831]\n",
      "Well Done\n",
      "(632293, 1) (75550, 1) (3678,) (615, 1)\n",
      "Fold Id: 2\n",
      "nicest 7.5 True [8.37735849 7.42635659 7.80392157 ... 8.16528926 7.625      6.92134831]\n",
      "Well Done\n",
      "(644098, 1) (64614, 1) (3665,) (589, 1)\n",
      "Fold Id: 3\n",
      "nicest 7.5 True [8.37735849 7.42635659 7.80392157 ... 8.16528926 7.625      6.92134831]\n",
      "Well Done\n",
      "(620170, 1) (70740, 1) (3655,) (568, 1)\n",
      "Fold Id: 4\n",
      "nicest 7.5 True [8.37735849 7.42635659 7.80392157 ... 8.16528926 7.625      6.92134831]\n",
      "Well Done\n",
      "(635209, 1) (73254, 1) (3669,) (596, 1)\n"
     ]
    }
   ],
   "source": [
    "data, test_train_split = init(sequence_length=5)\n",
    "for between_user_technique in between_user_data_reduction_techniques:\n",
    "    k_fold = 5\n",
    "    for retained_parcent in retained_user_parcentages:\n",
    "        print('Technique:', between_user_technique, '--> Retained Parcentage:', retained_parcent)\n",
    "        x = np.zeros(data.num_users)\n",
    "        for fold in range(k_fold):\n",
    "            print('Fold Id:', fold)\n",
    "            train_set, validation_set, test_set = test_train_split.split(\n",
    "                                                            data=data, \n",
    "                                                            fold_id=fold, \n",
    "                                                            retained_parcent=retained_parcent,\n",
    "                                                            name=between_user_technique)\n",
    "            x[test_set.users.squeeze()] = 1\n"
   ]
  },
  {
   "cell_type": "markdown",
   "metadata": {
    "id": "OPJTlBbfN3zk"
   },
   "source": [
    "## Aleatoric Uncertainty"
   ]
  },
  {
   "cell_type": "markdown",
   "metadata": {
    "id": "8nIVmc4WmKMD"
   },
   "source": [
    "### Initialize System"
   ]
  },
  {
   "cell_type": "code",
   "execution_count": null,
   "metadata": {
    "colab": {
     "base_uri": "https://localhost:8080/"
    },
    "executionInfo": {
     "elapsed": 41738,
     "status": "ok",
     "timestamp": 1666316650213,
     "user": {
      "displayName": "Research Group",
      "userId": "07008499032580121461"
     },
     "user_tz": 240
    },
    "id": "enyTvfErUyHf",
    "outputId": "b21d29c6-df02-4ad3-b579-ced78b19faf6"
   },
   "outputs": [
    {
     "name": "stdout",
     "output_type": "stream",
     "text": [
      "Mounted at /content/drive\n",
      "Root /content/drive/My Drive/RuhaniRahman/UncertaintyRecommenderSystem/data\n"
     ]
    },
    {
     "name": "stderr",
     "output_type": "stream",
     "text": [
      "/usr/local/lib/python3.7/dist-packages/ipykernel_launcher.py:66: VisibleDeprecationWarning: Creating an ndarray from ragged nested sequences (which is a list-or-tuple of lists-or-tuples-or ndarrays with different lengths or shapes) is deprecated. If you meant to do this, you must specify 'dtype=object' when creating the ndarray.\n",
      "/usr/local/lib/python3.7/dist-packages/ipykernel_launcher.py:67: VisibleDeprecationWarning: Creating an ndarray from ragged nested sequences (which is a list-or-tuple of lists-or-tuples-or ndarrays with different lengths or shapes) is deprecated. If you meant to do this, you must specify 'dtype=object' when creating the ndarray.\n"
     ]
    },
    {
     "name": "stdout",
     "output_type": "stream",
     "text": [
      "num_users =  6040\n",
      "num_items =  3416\n"
     ]
    },
    {
     "name": "stderr",
     "output_type": "stream",
     "text": [
      "/usr/local/lib/python3.7/dist-packages/ipykernel_launcher.py:186: VisibleDeprecationWarning: Creating an ndarray from ragged nested sequences (which is a list-or-tuple of lists-or-tuples-or ndarrays with different lengths or shapes) is deprecated. If you meant to do this, you must specify 'dtype=object' when creating the ndarray.\n"
     ]
    },
    {
     "name": "stdout",
     "output_type": "stream",
     "text": [
      "test.targets.shape: (6040, 1)\n",
      "test.users.shape: (6040, 1)\n",
      "test.sequences.shape: (6040, 20)\n"
     ]
    }
   ],
   "source": [
    "data, spliter = init(\n",
    "                        sequence_length=20,\n",
    "                        target_length=1,\n",
    "                        seed=2022,\n",
    "                        k_fold=5\n",
    "                )\n",
    "\n",
    "within_users = {\n",
    "\n",
    "        'random':{\n",
    "            'split_array':data.x_n_ratings,\n",
    "            'isModelTrained': False,\n",
    "            'isEvaluationMetricsCalculated': False,\n",
    "            'isGraphsPloted':False,\n",
    "        },\n",
    "\n",
    "        'most_recent':{\n",
    "            'split_array':data.x_n_ratings,\n",
    "            'isModelTrained': False,\n",
    "            'isEvaluationMetricsCalculated': False,\n",
    "            'isGraphsPloted':False,\n",
    "        },\n",
    "\n",
    "        'least_recent':{\n",
    "            'split_array':data.x_n_ratings,\n",
    "            'isModelTrained': False,\n",
    "            'isEvaluationMetricsCalculated': False,\n",
    "            'isGraphsPloted':False,\n",
    "        },\n",
    "\n",
    "        'most_favorite':{\n",
    "            'split_array':data.x_n_ratings,\n",
    "            'isModelTrained': False,\n",
    "            'isEvaluationMetricsCalculated': False,\n",
    "            'isGraphsPloted':False,\n",
    "        },\n",
    "\n",
    "        'least_favorite':{\n",
    "            'split_array':data.x_n_ratings,\n",
    "            'isModelTrained': False,\n",
    "            'isEvaluationMetricsCalculated': False,\n",
    "            'isGraphsPloted':False,\n",
    "        },\n",
    "\n",
    "        'most_rated':{\n",
    "            'split_array':data.x_n_ratings,\n",
    "            'isModelTrained': False,\n",
    "            'isEvaluationMetricsCalculated': False,\n",
    "            'isGraphsPloted':False,\n",
    "        },\n",
    "\n",
    "        'least_rated':{\n",
    "            'split_array':data.x_n_ratings,\n",
    "            'isModelTrained': False,\n",
    "            'isEvaluationMetricsCalculated': False,\n",
    "            'isGraphsPloted':False,\n",
    "        },\n",
    "    }\n",
    "    \n",
    "characteristices={\n",
    "    'varience':{\n",
    "        'x_val':data.x_var_ratings,\n",
    "        'x_label':'Varience of Ratings'\n",
    "    },\n",
    "\n",
    "    'activeness':{\n",
    "        'x_val':data.x_n_ratings,\n",
    "        'x_label':'Number of Ratings'\n",
    "    },\n",
    "\n",
    "    'diverse':{\n",
    "        'x_val':data.x_n_genres,\n",
    "        'x_label':'Average Value of Ratings'\n",
    "    },\n",
    "\n",
    "    'similarity':{\n",
    "        'x_val':data.x_similarity,\n",
    "        'x_label':'Average user similarity of all other users'\n",
    "    },\n",
    "\n",
    "    'average':{\n",
    "        'x_val':data.x_avg_ratings,\n",
    "        'x_label':'Number of Genres'\n",
    "    },\n",
    "}\n",
    "\n",
    "within_user_data_reduction_techniques = [\n",
    "    'random', \n",
    "    'most_recent',\n",
    "    'least_recent',\n",
    "    'most_favorite',\n",
    "    'least_favorite',\n",
    "    'most_rated',\n",
    "    'least_rated',\n",
    "]\n",
    "\n",
    "n_kept = [\n",
    "    1, \n",
    "    2, \n",
    "    3, \n",
    "    5, \n",
    "    7, \n",
    "    15, \n",
    "    100,\n",
    "]\n",
    "\n",
    "model_saved_location = '/content/drive/My Drive/RuhaniRahman/UncertaintyRecommenderSystem/results/CosRec/aleatoric_uncertainty/'\n",
    "\n"
   ]
  },
  {
   "cell_type": "code",
   "execution_count": null,
   "metadata": {
    "colab": {
     "base_uri": "https://localhost:8080/"
    },
    "executionInfo": {
     "elapsed": 2385334,
     "status": "ok",
     "timestamp": 1666305894080,
     "user": {
      "displayName": "Research Group",
      "userId": "07008499032580121461"
     },
     "user_tz": 240
    },
    "id": "pdPhZlKNCkmV",
    "outputId": "7f60a6a3-d47c-4cec-e9ab-b18b3a65a170"
   },
   "outputs": [
    {
     "name": "stdout",
     "output_type": "stream",
     "text": [
      "Fold Id: 0\n",
      "343/343 [==============================] - 235s 685ms/step - loss: 0.2125 - logits_variance_loss: 0.0242 - sigmoid_output_loss: 0.2004 - val_loss: 0.4512 - val_logits_variance_loss: 0.0317 - val_sigmoid_output_loss: 0.4354\n",
      "38/38 [==============================] - 1s 15ms/step\n",
      "model_saved\n",
      "Fold: 0  Epochs: 30  Evaluation: HR@5:  0.04304635761589404  HR@10:  0.07119205298013245 HR@20:  0.11009933774834436\n",
      "Model saved at: /content/drive/My Drive/RuhaniRahman/UncertaintyRecommenderSystem/results/CosRec/aleatoric_uncertainty/full_model/fold_0_epoch_30\n",
      "343/343 [==============================] - 237s 690ms/step - loss: 0.2095 - logits_variance_loss: 0.0240 - sigmoid_output_loss: 0.1975 - val_loss: 0.4527 - val_logits_variance_loss: 0.0316 - val_sigmoid_output_loss: 0.4369\n",
      "38/38 [==============================] - 1s 15ms/step\n",
      "Fold: 0  Epochs: 31  Evaluation: HR@5:  0.0380794701986755  HR@10:  0.07036423841059603 HR@20:  0.10596026490066225\n",
      "Model saved at: /content/drive/My Drive/RuhaniRahman/UncertaintyRecommenderSystem/results/CosRec/aleatoric_uncertainty/full_model/fold_0_epoch_31\n",
      "343/343 [==============================] - 237s 690ms/step - loss: 0.2073 - logits_variance_loss: 0.0239 - sigmoid_output_loss: 0.1954 - val_loss: 0.4580 - val_logits_variance_loss: 0.0316 - val_sigmoid_output_loss: 0.4422\n",
      "38/38 [==============================] - 1s 15ms/step\n",
      "model_saved\n",
      "Fold: 0  Epochs: 32  Evaluation: HR@5:  0.041390728476821195  HR@10:  0.06622516556291391 HR@20:  0.11754966887417219\n",
      "Model saved at: /content/drive/My Drive/RuhaniRahman/UncertaintyRecommenderSystem/results/CosRec/aleatoric_uncertainty/full_model/fold_0_epoch_32\n",
      "343/343 [==============================] - 237s 690ms/step - loss: 0.2042 - logits_variance_loss: 0.0237 - sigmoid_output_loss: 0.1924 - val_loss: 0.4680 - val_logits_variance_loss: 0.0313 - val_sigmoid_output_loss: 0.4524\n",
      "38/38 [==============================] - 1s 15ms/step\n",
      "Fold: 0  Epochs: 33  Evaluation: HR@5:  0.04470198675496689  HR@10:  0.07119205298013245 HR@20:  0.11423841059602649\n",
      "Model saved at: /content/drive/My Drive/RuhaniRahman/UncertaintyRecommenderSystem/results/CosRec/aleatoric_uncertainty/full_model/fold_0_epoch_33\n",
      "343/343 [==============================] - 237s 690ms/step - loss: 0.2004 - logits_variance_loss: 0.0234 - sigmoid_output_loss: 0.1887 - val_loss: 0.4773 - val_logits_variance_loss: 0.0310 - val_sigmoid_output_loss: 0.4618\n",
      "38/38 [==============================] - 1s 15ms/step\n",
      "Fold: 0  Epochs: 34  Evaluation: HR@5:  0.04056291390728477  HR@10:  0.06456953642384106 HR@20:  0.10844370860927152\n",
      "Model saved at: /content/drive/My Drive/RuhaniRahman/UncertaintyRecommenderSystem/results/CosRec/aleatoric_uncertainty/full_model/fold_0_epoch_34\n",
      "343/343 [==============================] - 237s 692ms/step - loss: 0.1979 - logits_variance_loss: 0.0233 - sigmoid_output_loss: 0.1863 - val_loss: 0.4773 - val_logits_variance_loss: 0.0310 - val_sigmoid_output_loss: 0.4618\n",
      "38/38 [==============================] - 1s 15ms/step\n",
      "Fold: 0  Epochs: 35  Evaluation: HR@5:  0.03394039735099338  HR@10:  0.06870860927152318 HR@20:  0.10927152317880795\n",
      "Model saved at: /content/drive/My Drive/RuhaniRahman/UncertaintyRecommenderSystem/results/CosRec/aleatoric_uncertainty/full_model/fold_0_epoch_35\n",
      "343/343 [==============================] - 237s 692ms/step - loss: 0.1954 - logits_variance_loss: 0.0231 - sigmoid_output_loss: 0.1839 - val_loss: 0.4812 - val_logits_variance_loss: 0.0312 - val_sigmoid_output_loss: 0.4656\n",
      "38/38 [==============================] - 1s 15ms/step\n",
      "Fold: 0  Epochs: 36  Evaluation: HR@5:  0.04056291390728477  HR@10:  0.07119205298013245 HR@20:  0.10099337748344371\n",
      "Model saved at: /content/drive/My Drive/RuhaniRahman/UncertaintyRecommenderSystem/results/CosRec/aleatoric_uncertainty/full_model/fold_0_epoch_36\n",
      "343/343 [==============================] - 237s 690ms/step - loss: 0.1922 - logits_variance_loss: 0.0229 - sigmoid_output_loss: 0.1808 - val_loss: 0.4900 - val_logits_variance_loss: 0.0310 - val_sigmoid_output_loss: 0.4745\n",
      "38/38 [==============================] - 1s 15ms/step\n",
      "Fold: 0  Epochs: 37  Evaluation: HR@5:  0.03642384105960265  HR@10:  0.06539735099337748 HR@20:  0.09933774834437085\n",
      "Model saved at: /content/drive/My Drive/RuhaniRahman/UncertaintyRecommenderSystem/results/CosRec/aleatoric_uncertainty/full_model/fold_0_epoch_37\n",
      "343/343 [==============================] - 237s 690ms/step - loss: 0.1895 - logits_variance_loss: 0.0227 - sigmoid_output_loss: 0.1782 - val_loss: 0.4948 - val_logits_variance_loss: 0.0309 - val_sigmoid_output_loss: 0.4794\n",
      "38/38 [==============================] - 1s 15ms/step\n",
      "Fold: 0  Epochs: 38  Evaluation: HR@5:  0.03228476821192053  HR@10:  0.057119205298013245 HR@20:  0.10099337748344371\n",
      "Model saved at: /content/drive/My Drive/RuhaniRahman/UncertaintyRecommenderSystem/results/CosRec/aleatoric_uncertainty/full_model/fold_0_epoch_38\n",
      "343/343 [==============================] - 237s 690ms/step - loss: 0.1870 - logits_variance_loss: 0.0226 - sigmoid_output_loss: 0.1757 - val_loss: 0.4963 - val_logits_variance_loss: 0.0308 - val_sigmoid_output_loss: 0.4809\n",
      "38/38 [==============================] - 1s 15ms/step\n",
      "Fold: 0  Epochs: 39  Evaluation: HR@5:  0.033112582781456956  HR@10:  0.057947019867549666 HR@20:  0.10430463576158941\n",
      "Model saved at: /content/drive/My Drive/RuhaniRahman/UncertaintyRecommenderSystem/results/CosRec/aleatoric_uncertainty/full_model/fold_0_epoch_39\n"
     ]
    }
   ],
   "source": [
    "### Training Full Model\n",
    "max_epochs = 40\n",
    "batch_size = 2048\n",
    "\n",
    "for fold in range(spliter.k_fold):\n",
    "    print('Fold Id:', fold)\n",
    "    # train_set, validation_set, test_set = spliter.split_data(fold_id=fold)\n",
    "    \n",
    "    # model_base = CosRec(data).get_model()\n",
    "    max_HR = 0\n",
    "\n",
    "    for epochs in range(30, max_epochs):\n",
    "\n",
    "        model_base = model_train(model_base, train_set, validation_set, batch_size=batch_size)\n",
    "        y_pred = predict(model_base, test_set, data)\n",
    "        hit_rate = calculate_hit_rate(data, test_set, y_pred)\n",
    "\n",
    "        if hit_rate[2] > max_HR:\n",
    "            max_HR = hit_rate[2]\n",
    "            model_base.save_weights(model_saved_location + 'full_model' + '/best_models/' + 'fold_%i_best_model'%(fold))\n",
    "            print('model_saved')\n",
    "\n",
    "        # hr_metrics[fold, epochs, :] = np.array(hit_rate)\n",
    "        print('Fold:', fold, ' Epochs:', epochs, ' Evaluation: HR@5: ', hit_rate[0], ' HR@10: ', hit_rate[1],  'HR@20: ', hit_rate[2])\n",
    "\n",
    "        model_base.save_weights(get_check_point_file_name(fold, epochs, folder_path='full_model' + '/'))\n",
    "\n",
    "    break"
   ]
  },
  {
   "cell_type": "code",
   "execution_count": null,
   "metadata": {
    "colab": {
     "base_uri": "https://localhost:8080/"
    },
    "executionInfo": {
     "elapsed": 5848482,
     "status": "ok",
     "timestamp": 1665981473994,
     "user": {
      "displayName": "Research Group",
      "userId": "07008499032580121461"
     },
     "user_tz": 240
    },
    "id": "iEV1z3W2TQZ2",
    "outputId": "ae5a53eb-e437-4326-c173-6186526101dc"
   },
   "outputs": [
    {
     "name": "stdout",
     "output_type": "stream",
     "text": [
      "Fold: 0\n",
      "(699548, 1) (173495, 1)\n"
     ]
    },
    {
     "name": "stderr",
     "output_type": "stream",
     "text": [
      "/usr/local/lib/python3.7/dist-packages/tensorflow/python/data/ops/structured_function.py:265: UserWarning: Even though the `tf.config.experimental_run_functions_eagerly` option is set, this option does not apply to tf.data functions. To force eager execution of tf.data functions, please use `tf.data.experimental.enable_debug_mode()`.\n",
      "  \"Even though the `tf.config.experimental_run_functions_eagerly` \"\n"
     ]
    },
    {
     "name": "stdout",
     "output_type": "stream",
     "text": [
      "342/342 [==============================] - 243s 688ms/step - loss: 0.5478 - logits_variance_loss: 0.0487 - sigmoid_output_loss: 0.5234 - val_loss: 0.5162 - val_logits_variance_loss: 0.0454 - val_sigmoid_output_loss: 0.4934\n",
      "189/189 [==============================] - 3s 15ms/step\n",
      "model_saved\n",
      "Fold: 0  Epochs: 0  Evaluation: HR@5:  0.060430463576158944  HR@10:  0.12086092715231789 HR@20:  0.2077814569536424\n",
      "Model saved at: /content/drive/My Drive/RuhaniRahman/UncertaintyRecommenderSystem/results/CosRec/cosrec_full_model/fold_0_epoch_0\n",
      "342/342 [==============================] - 229s 670ms/step - loss: 0.4733 - logits_variance_loss: 0.0430 - sigmoid_output_loss: 0.4518 - val_loss: 0.4454 - val_logits_variance_loss: 0.0402 - val_sigmoid_output_loss: 0.4253\n",
      "189/189 [==============================] - 3s 14ms/step\n",
      "Fold: 0  Epochs: 1  Evaluation: HR@5:  0.08278145695364239  HR@10:  0.13245033112582782 HR@20:  0.2052980132450331\n",
      "Model saved at: /content/drive/My Drive/RuhaniRahman/UncertaintyRecommenderSystem/results/CosRec/cosrec_full_model/fold_0_epoch_1\n",
      "342/342 [==============================] - 228s 668ms/step - loss: 0.4105 - logits_variance_loss: 0.0386 - sigmoid_output_loss: 0.3912 - val_loss: 0.4117 - val_logits_variance_loss: 0.0374 - val_sigmoid_output_loss: 0.3930\n",
      "189/189 [==============================] - 3s 15ms/step\n",
      "model_saved\n",
      "Fold: 0  Epochs: 2  Evaluation: HR@5:  0.06291390728476821  HR@10:  0.12996688741721854 HR@20:  0.2144039735099338\n",
      "Model saved at: /content/drive/My Drive/RuhaniRahman/UncertaintyRecommenderSystem/results/CosRec/cosrec_full_model/fold_0_epoch_2\n",
      "342/342 [==============================] - 228s 668ms/step - loss: 0.3786 - logits_variance_loss: 0.0362 - sigmoid_output_loss: 0.3605 - val_loss: 0.3954 - val_logits_variance_loss: 0.0366 - val_sigmoid_output_loss: 0.3772\n",
      "189/189 [==============================] - 3s 14ms/step\n",
      "model_saved\n",
      "Fold: 0  Epochs: 3  Evaluation: HR@5:  0.07864238410596026  HR@10:  0.13493377483443708 HR@20:  0.22102649006622516\n",
      "Model saved at: /content/drive/My Drive/RuhaniRahman/UncertaintyRecommenderSystem/results/CosRec/cosrec_full_model/fold_0_epoch_3\n",
      "342/342 [==============================] - 228s 667ms/step - loss: 0.3583 - logits_variance_loss: 0.0347 - sigmoid_output_loss: 0.3409 - val_loss: 0.3868 - val_logits_variance_loss: 0.0350 - val_sigmoid_output_loss: 0.3693\n",
      "189/189 [==============================] - 3s 14ms/step\n",
      "model_saved\n",
      "Fold: 0  Epochs: 4  Evaluation: HR@5:  0.07201986754966887  HR@10:  0.14486754966887416 HR@20:  0.23758278145695363\n",
      "Model saved at: /content/drive/My Drive/RuhaniRahman/UncertaintyRecommenderSystem/results/CosRec/cosrec_full_model/fold_0_epoch_4\n",
      "Fold: 1\n",
      "(699548, 1) (173495, 1)\n",
      "342/342 [==============================] - 230s 674ms/step - loss: 0.5449 - logits_variance_loss: 0.0485 - sigmoid_output_loss: 0.5207 - val_loss: 0.5061 - val_logits_variance_loss: 0.0441 - val_sigmoid_output_loss: 0.4841\n",
      "189/189 [==============================] - 3s 14ms/step\n",
      "model_saved\n",
      "Fold: 1  Epochs: 0  Evaluation: HR@5:  0.0695364238410596  HR@10:  0.11175496688741722 HR@20:  0.2052980132450331\n",
      "Model saved at: /content/drive/My Drive/RuhaniRahman/UncertaintyRecommenderSystem/results/CosRec/cosrec_full_model/fold_1_epoch_0\n",
      "342/342 [==============================] - 229s 671ms/step - loss: 0.4652 - logits_variance_loss: 0.0422 - sigmoid_output_loss: 0.4441 - val_loss: 0.4400 - val_logits_variance_loss: 0.0411 - val_sigmoid_output_loss: 0.4195\n",
      "189/189 [==============================] - 3s 14ms/step\n",
      "Fold: 1  Epochs: 1  Evaluation: HR@5:  0.061258278145695365  HR@10:  0.11341059602649006 HR@20:  0.20198675496688742\n",
      "Model saved at: /content/drive/My Drive/RuhaniRahman/UncertaintyRecommenderSystem/results/CosRec/cosrec_full_model/fold_1_epoch_1\n",
      "342/342 [==============================] - 229s 670ms/step - loss: 0.4081 - logits_variance_loss: 0.0384 - sigmoid_output_loss: 0.3889 - val_loss: 0.4083 - val_logits_variance_loss: 0.0382 - val_sigmoid_output_loss: 0.3892\n",
      "189/189 [==============================] - 3s 15ms/step\n",
      "model_saved\n",
      "Fold: 1  Epochs: 2  Evaluation: HR@5:  0.0802980132450331  HR@10:  0.1357615894039735 HR@20:  0.22350993377483444\n",
      "Model saved at: /content/drive/My Drive/RuhaniRahman/UncertaintyRecommenderSystem/results/CosRec/cosrec_full_model/fold_1_epoch_2\n",
      "342/342 [==============================] - 229s 671ms/step - loss: 0.3769 - logits_variance_loss: 0.0361 - sigmoid_output_loss: 0.3589 - val_loss: 0.3940 - val_logits_variance_loss: 0.0366 - val_sigmoid_output_loss: 0.3757\n",
      "189/189 [==============================] - 3s 15ms/step\n",
      "model_saved\n",
      "Fold: 1  Epochs: 3  Evaluation: HR@5:  0.08112582781456953  HR@10:  0.13990066225165562 HR@20:  0.22847682119205298\n",
      "Model saved at: /content/drive/My Drive/RuhaniRahman/UncertaintyRecommenderSystem/results/CosRec/cosrec_full_model/fold_1_epoch_3\n",
      "342/342 [==============================] - 229s 671ms/step - loss: 0.3561 - logits_variance_loss: 0.0345 - sigmoid_output_loss: 0.3389 - val_loss: 0.3847 - val_logits_variance_loss: 0.0360 - val_sigmoid_output_loss: 0.3667\n",
      "189/189 [==============================] - 3s 15ms/step\n",
      "model_saved\n",
      "Fold: 1  Epochs: 4  Evaluation: HR@5:  0.08526490066225166  HR@10:  0.152317880794702 HR@20:  0.23344370860927152\n",
      "Model saved at: /content/drive/My Drive/RuhaniRahman/UncertaintyRecommenderSystem/results/CosRec/cosrec_full_model/fold_1_epoch_4\n",
      "Fold: 2\n",
      "(699548, 1) (173495, 1)\n",
      "342/342 [==============================] - 231s 675ms/step - loss: 0.5508 - logits_variance_loss: 0.0490 - sigmoid_output_loss: 0.5263 - val_loss: 0.5236 - val_logits_variance_loss: 0.0468 - val_sigmoid_output_loss: 0.5002\n",
      "189/189 [==============================] - 3s 14ms/step\n",
      "model_saved\n",
      "Fold: 2  Epochs: 0  Evaluation: HR@5:  0.0695364238410596  HR@10:  0.12086092715231789 HR@20:  0.19288079470198677\n",
      "Model saved at: /content/drive/My Drive/RuhaniRahman/UncertaintyRecommenderSystem/results/CosRec/cosrec_full_model/fold_2_epoch_0\n",
      "342/342 [==============================] - 230s 672ms/step - loss: 0.4855 - logits_variance_loss: 0.0440 - sigmoid_output_loss: 0.4635 - val_loss: 0.4573 - val_logits_variance_loss: 0.0418 - val_sigmoid_output_loss: 0.4364\n",
      "189/189 [==============================] - 3s 15ms/step\n",
      "Fold: 2  Epochs: 1  Evaluation: HR@5:  0.0695364238410596  HR@10:  0.11754966887417219 HR@20:  0.19039735099337748\n",
      "Model saved at: /content/drive/My Drive/RuhaniRahman/UncertaintyRecommenderSystem/results/CosRec/cosrec_full_model/fold_2_epoch_1\n",
      "342/342 [==============================] - 229s 669ms/step - loss: 0.4235 - logits_variance_loss: 0.0397 - sigmoid_output_loss: 0.4037 - val_loss: 0.4216 - val_logits_variance_loss: 0.0396 - val_sigmoid_output_loss: 0.4018\n",
      "189/189 [==============================] - 3s 14ms/step\n",
      "model_saved\n",
      "Fold: 2  Epochs: 2  Evaluation: HR@5:  0.06870860927152318  HR@10:  0.12086092715231789 HR@20:  0.2077814569536424\n",
      "Model saved at: /content/drive/My Drive/RuhaniRahman/UncertaintyRecommenderSystem/results/CosRec/cosrec_full_model/fold_2_epoch_2\n",
      "342/342 [==============================] - 227s 664ms/step - loss: 0.3879 - logits_variance_loss: 0.0370 - sigmoid_output_loss: 0.3694 - val_loss: 0.4036 - val_logits_variance_loss: 0.0370 - val_sigmoid_output_loss: 0.3852\n",
      "189/189 [==============================] - 3s 14ms/step\n",
      "model_saved\n",
      "Fold: 2  Epochs: 3  Evaluation: HR@5:  0.08857615894039735  HR@10:  0.14403973509933773 HR@20:  0.2326158940397351\n",
      "Model saved at: /content/drive/My Drive/RuhaniRahman/UncertaintyRecommenderSystem/results/CosRec/cosrec_full_model/fold_2_epoch_3\n",
      "342/342 [==============================] - 227s 665ms/step - loss: 0.3643 - logits_variance_loss: 0.0352 - sigmoid_output_loss: 0.3467 - val_loss: 0.3905 - val_logits_variance_loss: 0.0360 - val_sigmoid_output_loss: 0.3725\n",
      "189/189 [==============================] - 3s 14ms/step\n",
      "Fold: 2  Epochs: 4  Evaluation: HR@5:  0.07367549668874172  HR@10:  0.13410596026490065 HR@20:  0.20695364238410596\n",
      "Model saved at: /content/drive/My Drive/RuhaniRahman/UncertaintyRecommenderSystem/results/CosRec/cosrec_full_model/fold_2_epoch_4\n",
      "Fold: 3\n",
      "(699548, 1) (173495, 1)\n",
      "342/342 [==============================] - 230s 671ms/step - loss: 0.5489 - logits_variance_loss: 0.0488 - sigmoid_output_loss: 0.5245 - val_loss: 0.5172 - val_logits_variance_loss: 0.0459 - val_sigmoid_output_loss: 0.4943\n",
      "189/189 [==============================] - 3s 14ms/step\n",
      "model_saved\n",
      "Fold: 3  Epochs: 0  Evaluation: HR@5:  0.07367549668874172  HR@10:  0.12748344370860928 HR@20:  0.2052980132450331\n",
      "Model saved at: /content/drive/My Drive/RuhaniRahman/UncertaintyRecommenderSystem/results/CosRec/cosrec_full_model/fold_3_epoch_0\n",
      "342/342 [==============================] - 228s 666ms/step - loss: 0.4707 - logits_variance_loss: 0.0428 - sigmoid_output_loss: 0.4494 - val_loss: 0.4459 - val_logits_variance_loss: 0.0417 - val_sigmoid_output_loss: 0.4251\n",
      "189/189 [==============================] - 3s 14ms/step\n",
      "model_saved\n",
      "Fold: 3  Epochs: 1  Evaluation: HR@5:  0.06788079470198675  HR@10:  0.11672185430463576 HR@20:  0.20695364238410596\n",
      "Model saved at: /content/drive/My Drive/RuhaniRahman/UncertaintyRecommenderSystem/results/CosRec/cosrec_full_model/fold_3_epoch_1\n",
      "342/342 [==============================] - 227s 665ms/step - loss: 0.4111 - logits_variance_loss: 0.0386 - sigmoid_output_loss: 0.3918 - val_loss: 0.4121 - val_logits_variance_loss: 0.0380 - val_sigmoid_output_loss: 0.3931\n",
      "189/189 [==============================] - 3s 14ms/step\n",
      "model_saved\n",
      "Fold: 3  Epochs: 2  Evaluation: HR@5:  0.08112582781456953  HR@10:  0.13079470198675497 HR@20:  0.222682119205298\n",
      "Model saved at: /content/drive/My Drive/RuhaniRahman/UncertaintyRecommenderSystem/results/CosRec/cosrec_full_model/fold_3_epoch_2\n",
      "342/342 [==============================] - 227s 664ms/step - loss: 0.3791 - logits_variance_loss: 0.0362 - sigmoid_output_loss: 0.3609 - val_loss: 0.3961 - val_logits_variance_loss: 0.0367 - val_sigmoid_output_loss: 0.3778\n",
      "189/189 [==============================] - 3s 14ms/step\n",
      "model_saved\n",
      "Fold: 3  Epochs: 3  Evaluation: HR@5:  0.08443708609271523  HR@10:  0.14735099337748345 HR@20:  0.23344370860927152\n",
      "Model saved at: /content/drive/My Drive/RuhaniRahman/UncertaintyRecommenderSystem/results/CosRec/cosrec_full_model/fold_3_epoch_3\n",
      "342/342 [==============================] - 227s 664ms/step - loss: 0.3585 - logits_variance_loss: 0.0346 - sigmoid_output_loss: 0.3412 - val_loss: 0.3870 - val_logits_variance_loss: 0.0354 - val_sigmoid_output_loss: 0.3693\n",
      "189/189 [==============================] - 3s 14ms/step\n",
      "Fold: 3  Epochs: 4  Evaluation: HR@5:  0.0695364238410596  HR@10:  0.14321192052980133 HR@20:  0.2259933774834437\n",
      "Model saved at: /content/drive/My Drive/RuhaniRahman/UncertaintyRecommenderSystem/results/CosRec/cosrec_full_model/fold_3_epoch_4\n",
      "Fold: 4\n",
      "(699548, 1) (173495, 1)\n",
      "342/342 [==============================] - 230s 673ms/step - loss: 0.5426 - logits_variance_loss: 0.0484 - sigmoid_output_loss: 0.5184 - val_loss: 0.4996 - val_logits_variance_loss: 0.0451 - val_sigmoid_output_loss: 0.4771\n",
      "189/189 [==============================] - 3s 14ms/step\n",
      "model_saved\n",
      "Fold: 4  Epochs: 0  Evaluation: HR@5:  0.07036423841059603  HR@10:  0.10844370860927152 HR@20:  0.1912251655629139\n",
      "Model saved at: /content/drive/My Drive/RuhaniRahman/UncertaintyRecommenderSystem/results/CosRec/cosrec_full_model/fold_4_epoch_0\n",
      "342/342 [==============================] - 228s 667ms/step - loss: 0.4622 - logits_variance_loss: 0.0419 - sigmoid_output_loss: 0.4413 - val_loss: 0.4422 - val_logits_variance_loss: 0.0390 - val_sigmoid_output_loss: 0.4227\n",
      "189/189 [==============================] - 3s 14ms/step\n",
      "model_saved\n",
      "Fold: 4  Epochs: 1  Evaluation: HR@5:  0.07947019867549669  HR@10:  0.1357615894039735 HR@20:  0.21771523178807947\n",
      "Model saved at: /content/drive/My Drive/RuhaniRahman/UncertaintyRecommenderSystem/results/CosRec/cosrec_full_model/fold_4_epoch_1\n",
      "342/342 [==============================] - 227s 665ms/step - loss: 0.4054 - logits_variance_loss: 0.0381 - sigmoid_output_loss: 0.3864 - val_loss: 0.4064 - val_logits_variance_loss: 0.0370 - val_sigmoid_output_loss: 0.3879\n",
      "189/189 [==============================] - 3s 14ms/step\n",
      "model_saved\n",
      "Fold: 4  Epochs: 2  Evaluation: HR@5:  0.08195364238410596  HR@10:  0.13990066225165562 HR@20:  0.23427152317880795\n",
      "Model saved at: /content/drive/My Drive/RuhaniRahman/UncertaintyRecommenderSystem/results/CosRec/cosrec_full_model/fold_4_epoch_2\n",
      "342/342 [==============================] - 227s 664ms/step - loss: 0.3721 - logits_variance_loss: 0.0357 - sigmoid_output_loss: 0.3542 - val_loss: 0.3901 - val_logits_variance_loss: 0.0355 - val_sigmoid_output_loss: 0.3723\n",
      "189/189 [==============================] - 3s 14ms/step\n",
      "Fold: 4  Epochs: 3  Evaluation: HR@5:  0.09105960264900662  HR@10:  0.14486754966887416 HR@20:  0.2259933774834437\n",
      "Model saved at: /content/drive/My Drive/RuhaniRahman/UncertaintyRecommenderSystem/results/CosRec/cosrec_full_model/fold_4_epoch_3\n",
      "342/342 [==============================] - 227s 665ms/step - loss: 0.3489 - logits_variance_loss: 0.0339 - sigmoid_output_loss: 0.3320 - val_loss: 0.3755 - val_logits_variance_loss: 0.0348 - val_sigmoid_output_loss: 0.3581\n",
      "189/189 [==============================] - 3s 15ms/step\n",
      "Fold: 4  Epochs: 4  Evaluation: HR@5:  0.07781456953642384  HR@10:  0.13245033112582782 HR@20:  0.22102649006622516\n",
      "Model saved at: /content/drive/My Drive/RuhaniRahman/UncertaintyRecommenderSystem/results/CosRec/cosrec_full_model/fold_4_epoch_4\n"
     ]
    }
   ],
   "source": [
    "k_fold = 5\n",
    "max_epochs = 5\n",
    "hr_metrics = np.zeros((k_fold, max_epochs, 3))\n",
    "batch_size = 2048\n",
    "\n",
    "### Training Base Model\n",
    "for fold in range(k_fold):\n",
    "    print('Fold:', fold)\n",
    "    train_set, validation_set, test_set = test_train_split.get_k_folds(data, 3)\n",
    "    model_base = CosRec(data.sequence_length).get_model()\n",
    "    max_HR = 0\n",
    "    for epochs in range(max_epochs):\n",
    "        model_base = model_train(model_base, train_set, validation_set, max_epochs, batch_size)\n",
    "        y_pred = predict(model_base, data.test, data)\n",
    "        hit_rate = calculate_hit_rate(data, test_set, y_pred)\n",
    "        if hit_rate[2] > max_HR:\n",
    "            max_HR = hit_rate[2]\n",
    "            model_base.save_weights(model_saved_location + 'cosrec_full_model/best_models/' + 'fold_%i_best_model'%(fold))\n",
    "            print('model_saved')\n",
    "\n",
    "        hr_metrics[fold, epochs, :] = np.array(hit_rate)\n",
    "        print('Fold:', fold, ' Epochs:', epochs, ' Evaluation: HR@5: ', hit_rate[0], ' HR@10: ', hit_rate[1],  'HR@20: ', hit_rate[2])\n",
    "\n",
    "        model_base.save_weights(get_check_point_file_name(fold, epochs, folder_path='cosrec_full_model/'))"
   ]
  },
  {
   "cell_type": "code",
   "execution_count": null,
   "metadata": {
    "colab": {
     "base_uri": "https://localhost:8080/"
    },
    "executionInfo": {
     "elapsed": 32355,
     "status": "ok",
     "timestamp": 1666019704628,
     "user": {
      "displayName": "Research Group",
      "userId": "07008499032580121461"
     },
     "user_tz": 240
    },
    "id": "7v-KLi09b4Cd",
    "outputId": "6558d51e-0a8b-4c6f-ff07-83fcb5c3cb3a"
   },
   "outputs": [
    {
     "name": "stdout",
     "output_type": "stream",
     "text": [
      "Drive already mounted at /content/drive; to attempt to forcibly remount, call drive.mount(\"/content/drive\", force_remount=True).\n",
      "Root /content/drive/My Drive/RuhaniRahman/UncertaintyRecommenderSystem/data\n"
     ]
    },
    {
     "name": "stderr",
     "output_type": "stream",
     "text": [
      "/usr/local/lib/python3.7/dist-packages/ipykernel_launcher.py:43: VisibleDeprecationWarning: Creating an ndarray from ragged nested sequences (which is a list-or-tuple of lists-or-tuples-or ndarrays with different lengths or shapes) is deprecated. If you meant to do this, you must specify 'dtype=object' when creating the ndarray.\n",
      "/usr/local/lib/python3.7/dist-packages/ipykernel_launcher.py:44: VisibleDeprecationWarning: Creating an ndarray from ragged nested sequences (which is a list-or-tuple of lists-or-tuples-or ndarrays with different lengths or shapes) is deprecated. If you meant to do this, you must specify 'dtype=object' when creating the ndarray.\n"
     ]
    },
    {
     "name": "stdout",
     "output_type": "stream",
     "text": [
      "num_users =  6040\n",
      "num_items =  3416\n"
     ]
    },
    {
     "name": "stderr",
     "output_type": "stream",
     "text": [
      "/usr/local/lib/python3.7/dist-packages/ipykernel_launcher.py:131: VisibleDeprecationWarning: Creating an ndarray from ragged nested sequences (which is a list-or-tuple of lists-or-tuples-or ndarrays with different lengths or shapes) is deprecated. If you meant to do this, you must specify 'dtype=object' when creating the ndarray.\n"
     ]
    },
    {
     "name": "stdout",
     "output_type": "stream",
     "text": [
      "test.targets.shape: (6040, 1)\n",
      "test.users.shape: (6040, 1)\n",
      "test.sequences.shape: (6040, 20)\n"
     ]
    },
    {
     "name": "stderr",
     "output_type": "stream",
     "text": [
      "/usr/local/lib/python3.7/dist-packages/ipykernel_launcher.py:24: VisibleDeprecationWarning: Creating an ndarray from ragged nested sequences (which is a list-or-tuple of lists-or-tuples-or ndarrays with different lengths or shapes) is deprecated. If you meant to do this, you must specify 'dtype=object' when creating the ndarray.\n"
     ]
    },
    {
     "name": "stdout",
     "output_type": "stream",
     "text": [
      "Fold: 0\n",
      "(687836, 1) (185207, 1)\n",
      "  1/189 [..............................] - ETA: 5s"
     ]
    },
    {
     "name": "stderr",
     "output_type": "stream",
     "text": [
      "/usr/local/lib/python3.7/dist-packages/tensorflow/python/data/ops/structured_function.py:265: UserWarning: Even though the `tf.config.experimental_run_functions_eagerly` option is set, this option does not apply to tf.data functions. To force eager execution of tf.data functions, please use `tf.data.experimental.enable_debug_mode()`.\n",
      "  \"Even though the `tf.config.experimental_run_functions_eagerly` \"\n"
     ]
    },
    {
     "name": "stdout",
     "output_type": "stream",
     "text": [
      "189/189 [==============================] - 3s 16ms/step\n",
      "Fold: 0  Best Model Evaluation: HR@5:  0.03559602649006623  HR@10:  0.06374172185430464 HR@20:  0.11672185430463576\n",
      "Fold: 1\n",
      "(697713, 1) (175330, 1)\n",
      "189/189 [==============================] - 3s 15ms/step\n",
      "Fold: 1  Best Model Evaluation: HR@5:  0.03145695364238411  HR@10:  0.06291390728476821 HR@20:  0.12334437086092716\n",
      "Fold: 2\n",
      "(698534, 1) (174509, 1)\n",
      "189/189 [==============================] - 3s 15ms/step\n",
      "Fold: 2  Best Model Evaluation: HR@5:  0.03642384105960265  HR@10:  0.060430463576158944 HR@20:  0.09933774834437085\n",
      "Fold: 3\n",
      "(699548, 1) (173495, 1)\n",
      "189/189 [==============================] - 3s 15ms/step\n",
      "Fold: 3  Best Model Evaluation: HR@5:  0.03228476821192053  HR@10:  0.059602649006622516 HR@20:  0.10347682119205298\n",
      "Fold: 4\n",
      "(708541, 1) (164502, 1)\n",
      "189/189 [==============================] - 3s 15ms/step\n",
      "Fold: 4  Best Model Evaluation: HR@5:  0.024006622516556293  HR@10:  0.05132450331125828 HR@20:  0.0836092715231788\n"
     ]
    }
   ],
   "source": [
    "k_fold = 5\n",
    "max_epochs = 5\n",
    "hr_metrics = np.zeros((k_fold, 3))\n",
    "batch_size = 2048\n",
    "data, test_train_split = initialize(sequence_length=20)\n",
    "for fold in range (k_fold):\n",
    "    print('Fold:', fold)\n",
    "    train_set, validation_set, test_set = test_train_split.get_k_folds(data, fold)\n",
    "    model_base = CosRec(data.sequence_length).get_model()\n",
    "\n",
    "    model_location = '/content/drive/MyDrive/RuhaniRahman/UncertaintyRecommenderSystem/results/CosRec/cosrec_full_model_Seq_20/best_models/fold_%i_best_model'%(fold)\n",
    "    model_base.load_weights(model_location)\n",
    "\n",
    "    y_pred = predict(model_base, data.test, data)\n",
    "    hit_rate = calculate_hit_rate(data, test_set, y_pred)\n",
    "    hr_metrics[fold, :] = np.array(hit_rate)\n",
    "    print('Fold:', fold, ' Best Model Evaluation: HR@5: ', hit_rate[0], ' HR@10: ', hit_rate[1],  'HR@20: ', hit_rate[2])"
   ]
  },
  {
   "cell_type": "code",
   "execution_count": null,
   "metadata": {
    "id": "bNIFG-waSdSO"
   },
   "outputs": [],
   "source": [
    "hr_metrics = np.zeros((k_fold, max_epochs, 3))\n",
    "\n",
    "for fold in range(k_fold):\n",
    "    print('Fold:', fold)\n",
    "    train_set, validation_set, test_set = test_train_split.get_k_folds(data, fold)\n",
    "\n",
    "    model = CosRec(sequence_length=data.sequence_length, T=5).get_model()\n",
    "\n",
    "    for epochs in range(max_epochs):\n",
    "        model = model_train(model, train_set, validation_set, max_epochs=1, batch_size=512)\n",
    "        \n",
    "        y_pred = predict(model, test_set, data)\n",
    "        hit_rate = calculate_hit_rate(data, test_set, y_pred)\n",
    "        hr_metrics[fold, epochs, :] = np.array(hit_rate)\n",
    "        print('Fold:', fold, ' Epochs:', epochs, ' Evaluation: HR@5: ', hit_rate[0], ' HR@10: ', hit_rate[1],  'HR@20: ', hit_rate[2])\n"
   ]
  },
  {
   "cell_type": "markdown",
   "metadata": {
    "id": "r380VjnAMpYQ"
   },
   "source": [
    "### Evaluation"
   ]
  },
  {
   "cell_type": "code",
   "execution_count": null,
   "metadata": {
    "colab": {
     "base_uri": "https://localhost:8080/"
    },
    "executionInfo": {
     "elapsed": 10198,
     "status": "ok",
     "timestamp": 1666319465873,
     "user": {
      "displayName": "Research Group",
      "userId": "07008499032580121461"
     },
     "user_tz": 240
    },
    "id": "8KSkxHhGOHcp",
    "outputId": "ff54ec5e-c9dc-4ea4-a5a7-5ad85f8e786d"
   },
   "outputs": [
    {
     "name": "stdout",
     "output_type": "stream",
     "text": [
      "Drive already mounted at /content/drive; to attempt to forcibly remount, call drive.mount(\"/content/drive\", force_remount=True).\n",
      "Root /content/drive/My Drive/RuhaniRahman/UncertaintyRecommenderSystem/data\n"
     ]
    },
    {
     "name": "stderr",
     "output_type": "stream",
     "text": [
      "/usr/local/lib/python3.7/dist-packages/ipykernel_launcher.py:66: VisibleDeprecationWarning: Creating an ndarray from ragged nested sequences (which is a list-or-tuple of lists-or-tuples-or ndarrays with different lengths or shapes) is deprecated. If you meant to do this, you must specify 'dtype=object' when creating the ndarray.\n",
      "/usr/local/lib/python3.7/dist-packages/ipykernel_launcher.py:67: VisibleDeprecationWarning: Creating an ndarray from ragged nested sequences (which is a list-or-tuple of lists-or-tuples-or ndarrays with different lengths or shapes) is deprecated. If you meant to do this, you must specify 'dtype=object' when creating the ndarray.\n"
     ]
    },
    {
     "name": "stdout",
     "output_type": "stream",
     "text": [
      "num_users =  6040\n",
      "num_items =  3416\n"
     ]
    },
    {
     "name": "stderr",
     "output_type": "stream",
     "text": [
      "/usr/local/lib/python3.7/dist-packages/ipykernel_launcher.py:187: VisibleDeprecationWarning: Creating an ndarray from ragged nested sequences (which is a list-or-tuple of lists-or-tuples-or ndarrays with different lengths or shapes) is deprecated. If you meant to do this, you must specify 'dtype=object' when creating the ndarray.\n"
     ]
    },
    {
     "name": "stdout",
     "output_type": "stream",
     "text": [
      "test.targets.shape: 6040\n",
      "test.targets.shape: (6040, 1)\n",
      "test.users.shape: (6040, 1)\n",
      "test.sequences.shape: (6040, 20)\n"
     ]
    }
   ],
   "source": [
    "data, spliter = init(\n",
    "                        sequence_length=20,\n",
    "                        target_length=1,\n",
    "                        seed=2022,\n",
    "                        k_fold=5\n",
    "                )\n",
    "\n",
    "model_saved_location = '/content/drive/My Drive/RuhaniRahman/UncertaintyRecommenderSystem/results/CosRec/aleatoric_uncertainty/'\n",
    "x = []"
   ]
  },
  {
   "cell_type": "code",
   "execution_count": null,
   "metadata": {
    "colab": {
     "base_uri": "https://localhost:8080/"
    },
    "executionInfo": {
     "elapsed": 7179,
     "status": "ok",
     "timestamp": 1666319473033,
     "user": {
      "displayName": "Research Group",
      "userId": "07008499032580121461"
     },
     "user_tz": 240
    },
    "id": "0Twmt5MfMsEv",
    "outputId": "f8d31f3c-bd0e-44d8-b376-89943096a411"
   },
   "outputs": [
    {
     "name": "stdout",
     "output_type": "stream",
     "text": [
      "Well Done\n",
      "(701943, 1) (171100, 1) (4832,) (1208, 1)\n",
      "189/189 [==============================] - 3s 14ms/step\n",
      "(6040, 1)\n"
     ]
    }
   ],
   "source": [
    "fold = 0\n",
    "train, validation, test = spliter.split_data(fold_id=fold)\n",
    "model_location = model_saved_location + 'full_model/best_models/fold_%i_best_model'%(fold)\n",
    "hr = evaluate_model_by_loading_weights(model_location, data, data.test, isDropout=False, verbose=1, batch_size=512)"
   ]
  },
  {
   "cell_type": "code",
   "execution_count": null,
   "metadata": {
    "colab": {
     "base_uri": "https://localhost:8080/"
    },
    "executionInfo": {
     "elapsed": 11,
     "status": "ok",
     "timestamp": 1666319473034,
     "user": {
      "displayName": "Research Group",
      "userId": "07008499032580121461"
     },
     "user_tz": 240
    },
    "id": "PKeFbYzoPJ3i",
    "outputId": "f74dc932-d9c3-40dc-ece9-dfdd6b84c15f"
   },
   "outputs": [
    {
     "data": {
      "text/plain": [
       "(6040, 1)"
      ]
     },
     "execution_count": 110,
     "metadata": {},
     "output_type": "execute_result"
    }
   ],
   "source": [
    "data.test.users.shape"
   ]
  },
  {
   "cell_type": "code",
   "execution_count": null,
   "metadata": {
    "colab": {
     "base_uri": "https://localhost:8080/"
    },
    "executionInfo": {
     "elapsed": 4,
     "status": "ok",
     "timestamp": 1666319476065,
     "user": {
      "displayName": "Research Group",
      "userId": "07008499032580121461"
     },
     "user_tz": 240
    },
    "id": "NZawp1oCTiXq",
    "outputId": "475cde82-7f96-4208-9f6f-707e0e0e4fe1"
   },
   "outputs": [
    {
     "data": {
      "text/plain": [
       "0.17516556291390728"
      ]
     },
     "execution_count": 113,
     "metadata": {},
     "output_type": "execute_result"
    }
   ],
   "source": [
    "np.sum(np.array(x))/(len(x)*1)"
   ]
  },
  {
   "cell_type": "code",
   "execution_count": null,
   "metadata": {
    "colab": {
     "base_uri": "https://localhost:8080/"
    },
    "executionInfo": {
     "elapsed": 8,
     "status": "ok",
     "timestamp": 1666319473035,
     "user": {
      "displayName": "Research Group",
      "userId": "07008499032580121461"
     },
     "user_tz": 240
    },
    "id": "HiXeaFgHNwLt",
    "outputId": "940e04d9-6528-4315-ba30-f600d940bb1b"
   },
   "outputs": [
    {
     "data": {
      "text/plain": [
       "[0.06307947019867549,\n",
       " 0.10529801324503311,\n",
       " 0.17516556291390728,\n",
       " 0.20248344370860927,\n",
       " 0.2240066225165563,\n",
       " 0.30943708609271525,\n",
       " 0.44304635761589406]"
      ]
     },
     "execution_count": 112,
     "metadata": {},
     "output_type": "execute_result"
    }
   ],
   "source": [
    "hr"
   ]
  },
  {
   "cell_type": "code",
   "execution_count": null,
   "metadata": {
    "colab": {
     "base_uri": "https://localhost:8080/"
    },
    "executionInfo": {
     "elapsed": 3,
     "status": "ok",
     "timestamp": 1666316943024,
     "user": {
      "displayName": "Research Group",
      "userId": "07008499032580121461"
     },
     "user_tz": 240
    },
    "id": "e6RHLpbkOdyy",
    "outputId": "3734b533-6272-4d85-b7ce-481a95c5c689"
   },
   "outputs": [
    {
     "data": {
      "text/plain": [
       "array([2758, 1445, 1069,  862, 1979, 1520, 2926, 1008, 2412,  242,  634,\n",
       "        995,  768,  562, 2303, 1631, 1698, 2686,  787,  875, 1632,  868,\n",
       "       1688,  135,  927,  763, 1086, 2405, 1045, 2370,  596, 2514,  497,\n",
       "       2695, 2399,  869, 1960,  998,  551, 2035, 1302,  494,  649,  552,\n",
       "        546,    1, 2298,  674, 1937, 1993, 1579, 1315,   47])"
      ]
     },
     "execution_count": 22,
     "metadata": {},
     "output_type": "execute_result"
    }
   ],
   "source": [
    "data.user_interactions[0]"
   ]
  },
  {
   "cell_type": "markdown",
   "metadata": {
    "id": "Zt-WBrsr5WxK"
   },
   "source": [
    "## Epistemic Uncertainty"
   ]
  },
  {
   "cell_type": "markdown",
   "metadata": {
    "id": "7UB8PiUvG1Pa"
   },
   "source": [
    "Epistemic uncertainty with sequence length 5 and target length 1 is trained with the random seed 123."
   ]
  },
  {
   "cell_type": "markdown",
   "metadata": {
    "id": "IEdD7lynK7Py"
   },
   "source": [
    "### Initialize System"
   ]
  },
  {
   "cell_type": "code",
   "execution_count": null,
   "metadata": {
    "id": "g7FCbS4ZIxVQ"
   },
   "outputs": [],
   "source": [
    "### Sequence Length = 5 initialize\n",
    "'''\n",
    "data, spliter = init(\n",
    "                     sequence_length=5,\n",
    "                     target_length=1,\n",
    "                     seed=123,\n",
    "                     k_fold=5\n",
    ")\n",
    "'''"
   ]
  },
  {
   "cell_type": "code",
   "execution_count": null,
   "metadata": {
    "colab": {
     "base_uri": "https://localhost:8080/"
    },
    "executionInfo": {
     "elapsed": 4795,
     "status": "ok",
     "timestamp": 1667530764424,
     "user": {
      "displayName": "Research Group",
      "userId": "07008499032580121461"
     },
     "user_tz": 240
    },
    "id": "wPccuuwQleD7",
    "outputId": "06568a2a-3596-4daf-f777-7435910a573e"
   },
   "outputs": [
    {
     "name": "stdout",
     "output_type": "stream",
     "text": [
      "Drive already mounted at /content/drive; to attempt to forcibly remount, call drive.mount(\"/content/drive\", force_remount=True).\n",
      "Root /content/drive/My Drive/RuhaniRahman/UncertaintyRecommenderSystem//data/\n"
     ]
    },
    {
     "name": "stderr",
     "output_type": "stream",
     "text": [
      "/usr/local/lib/python3.7/dist-packages/ipykernel_launcher.py:70: VisibleDeprecationWarning: Creating an ndarray from ragged nested sequences (which is a list-or-tuple of lists-or-tuples-or ndarrays with different lengths or shapes) is deprecated. If you meant to do this, you must specify 'dtype=object' when creating the ndarray.\n",
      "/usr/local/lib/python3.7/dist-packages/ipykernel_launcher.py:71: VisibleDeprecationWarning: Creating an ndarray from ragged nested sequences (which is a list-or-tuple of lists-or-tuples-or ndarrays with different lengths or shapes) is deprecated. If you meant to do this, you must specify 'dtype=object' when creating the ndarray.\n"
     ]
    },
    {
     "name": "stdout",
     "output_type": "stream",
     "text": [
      "num_users =  6040\n",
      "num_items =  3416\n",
      "test.targets.shape: (6040, 1)\n",
      "test.users.shape: (6040, 1)\n",
      "test.sequences.shape: (6040, 100)\n"
     ]
    },
    {
     "name": "stderr",
     "output_type": "stream",
     "text": [
      "/usr/local/lib/python3.7/dist-packages/ipykernel_launcher.py:204: VisibleDeprecationWarning: Creating an ndarray from ragged nested sequences (which is a list-or-tuple of lists-or-tuples-or ndarrays with different lengths or shapes) is deprecated. If you meant to do this, you must specify 'dtype=object' when creating the ndarray.\n"
     ]
    }
   ],
   "source": [
    "data, spliter = init(\n",
    "                     sequence_length=100,\n",
    "                     target_length=1,\n",
    "                     seed=2022,\n",
    "                     k_fold=5\n",
    ")"
   ]
  },
  {
   "cell_type": "code",
   "execution_count": null,
   "metadata": {
    "id": "RImYD8_TXkmj"
   },
   "outputs": [],
   "source": [
    "between_users = {\n",
    "        'nicest':{\n",
    "            'threshold':7.50, \n",
    "            'isMost':True, \n",
    "            'split_array':data.x_avg_ratings,\n",
    "            'isModelTrained': False,\n",
    "            'isEvaluationMetricsCalculated': False,\n",
    "            'isGraphsPloted':False,\n",
    "            'x_label':'Average Value of Ratings',\n",
    "        },\n",
    "                 \n",
    "        'harshest':{\n",
    "            'threshold':7.50, \n",
    "            'isMost':False, \n",
    "            'split_array':data.x_avg_ratings,\n",
    "            'isModelTrained': False,\n",
    "            'isEvaluationMetricsCalculated': False,\n",
    "            'isGraphsPloted':False,\n",
    "            'x_label':'Average Value of Ratings',\n",
    "        },\n",
    "\n",
    "        'most_active':{\n",
    "            'threshold':100.00, \n",
    "            'isMost':True, \n",
    "            'split_array':data.x_n_ratings,\n",
    "            'isModelTrained': False,\n",
    "            'isEvaluationMetricsCalculated': False,\n",
    "            'isGraphsPloted':False,\n",
    "            'x_label':'Number of Rated Movies',\n",
    "        },\n",
    "\n",
    "        'least_active':{\n",
    "            'threshold':100.00, \n",
    "            'isMost':False, \n",
    "            'split_array':data.x_n_ratings,\n",
    "            'isModelTrained': False,\n",
    "            'isEvaluationMetricsCalculated': False,\n",
    "            'isGraphsPloted':False,\n",
    "            'x_label':'Number of Rated Movies',\n",
    "        },\n",
    "\n",
    "        'most_typical':{\n",
    "            'threshold':0.13, \n",
    "            'isMost':True, \n",
    "            'split_array':data.x_similarity,\n",
    "            'isModelTrained': False,\n",
    "            'isEvaluationMetricsCalculated': False,\n",
    "            'isGraphsPloted':False,\n",
    "            'x_label':'Average User Similarities to All Others',\n",
    "        },\n",
    "\n",
    "        'least_typical':{\n",
    "            'threshold':0.13, \n",
    "            'isMost':False, \n",
    "            'split_array':data.x_similarity,\n",
    "            'isModelTrained': False,\n",
    "            'isEvaluationMetricsCalculated': False,\n",
    "            'isGraphsPloted':False,\n",
    "            'x_label':'Average User Similarities to All Others',\n",
    "        },\n",
    "\n",
    "        'most_consistent':{\n",
    "            'threshold':4.00, \n",
    "            'isMost':True, \n",
    "            'split_array':data.x_var_ratings,\n",
    "            'isModelTrained': False,\n",
    "            'isEvaluationMetricsCalculated': False,\n",
    "            'isGraphsPloted':False,\n",
    "            'x_label':'None',\n",
    "        },\n",
    "\n",
    "        'least_consistent':{\n",
    "            'threshold':4.00, \n",
    "            'isMost':False, \n",
    "            'split_array':data.x_var_ratings,\n",
    "            'isModelTrained': False,\n",
    "            'isEvaluationMetricsCalculated': False,\n",
    "            'isGraphsPloted':False,\n",
    "            'x_label':'None',\n",
    "        },\n",
    "\n",
    "        'most_open_minded':{\n",
    "            'threshold':16, \n",
    "            'isMost':True, \n",
    "            'split_array':data.x_n_genres,\n",
    "            'isModelTrained': False,\n",
    "            'isEvaluationMetricsCalculated': False,\n",
    "            'isGraphsPloted':False,\n",
    "            'x_label':'None',\n",
    "        },\n",
    "\n",
    "        'least_open_minded':{\n",
    "            'threshold':16, \n",
    "            'isMost':False, \n",
    "            'split_array':data.x_n_genres,\n",
    "            'isModelTrained': False,\n",
    "            'isEvaluationMetricsCalculated': False,\n",
    "            'isGraphsPloted':False,\n",
    "            'x_label':'None',\n",
    "        },\n",
    "\n",
    "    }\n",
    "    \n",
    "between_user_data_reduction_techniques = [\n",
    "    'most_open_minded', #[Done]\n",
    "    'least_open_minded', #[Done]\n",
    "    'most_consistent', #[Done]\n",
    "    'least_consistent', #[Done]\n",
    "    'most_active', #[Done]\n",
    "    'least_active', #[Done]\n",
    "    'nicest', #[Done]\n",
    "    'harshest', #[Done]\n",
    "    # 'most_typical', \n",
    "    # 'least_typical',\n",
    "]\n",
    "\n",
    "retained_user_parcentages = [\n",
    "    1.00, \n",
    "    0.75, \n",
    "    0.50, \n",
    "    0.25, \n",
    "    0.00\n",
    "]\n"
   ]
  },
  {
   "cell_type": "markdown",
   "metadata": {
    "id": "gYdFQeFsEIPD"
   },
   "source": [
    "### Training\n",
    "Epistemic Uncertainty Model Training [Don't Run unless otherwise stated]"
   ]
  },
  {
   "cell_type": "code",
   "execution_count": null,
   "metadata": {
    "id": "6yPbjAhWodHP"
   },
   "outputs": [],
   "source": [
    "model_saved_location = '/content/drive/My Drive/RuhaniRahman/UncertaintyRecommenderSystem/results/NextItNet/epistemic_uncertainty/'\n",
    "# model_saved_location = '/content/drive/My Drive/Colab Notebooks/RuhaniRahman/UncertaintyRecommenderSystem/results/NextItNet/epistemic_uncertainty/'\n",
    "\n",
    "def get_check_point_file_name(fold, epoch, folder_path='valina_full_model/'):\n",
    "\n",
    "    model_check_point_location = model_saved_location + folder_path + 'fold_%i_epoch_%i'%(fold, epoch)\n",
    "    print('Model saved at:', model_check_point_location)\n",
    "    return model_check_point_location"
   ]
  },
  {
   "cell_type": "code",
   "execution_count": null,
   "metadata": {
    "id": "ixi4m3V9oJy1"
   },
   "outputs": [],
   "source": [
    "# max_epochs = 5\n",
    "verbose = 1\n",
    "# batch_size = 512\n",
    "def model_train(model, train_set, validation_set, max_epochs, batch_size):\n",
    "    model.fit(\n",
    "        x = train_set.sequences, \n",
    "        y = train_set.targets,\n",
    "        \n",
    "        # epochs=max_epochs,\n",
    "        verbose=verbose, \n",
    "        batch_size=batch_size,\n",
    "        # validation_split = 0.20,\n",
    "        validation_data=(\n",
    "            validation_set.sequences, \n",
    "            validation_set.targets\n",
    "        ),\n",
    "        validation_batch_size=batch_size,\n",
    "        # callbacks = tf.keras.callbacks.EarlyStopping(),\n",
    "    )\n",
    "    return model"
   ]
  },
  {
   "cell_type": "code",
   "execution_count": null,
   "metadata": {
    "id": "TDPxUS4AsuE2"
   },
   "outputs": [],
   "source": [
    "# T = 100\n",
    "def getHitRate(model, test_instances, T=1):\n",
    "    m = tf.keras.metrics.SparseTopKCategoricalAccuracy(k=20)\n",
    "    hrT = np.zeros(T)\n",
    "    for i in range(T):\n",
    "        y_pred = model.predict(test_instances.sequences, verbose=0)\n",
    "        m.update_state(test_instances.targets, tf.nn.softmax(y_pred[:, :-1]))\n",
    "        # print('HR@20:', m.result().numpy())\n",
    "        hrT[i] = m.result().numpy()\n",
    "    return np.mean(hrT)"
   ]
  },
  {
   "cell_type": "code",
   "execution_count": null,
   "metadata": {
    "colab": {
     "background_save": true,
     "base_uri": "https://localhost:8080/"
    },
    "id": "ONZOkBssVcS3",
    "outputId": "42ebef40-c709-409e-b5a8-1e50546e6460"
   },
   "outputs": [
    {
     "name": "stdout",
     "output_type": "stream",
     "text": [
      "---------------------------------------------------------------------------------------\n",
      "Technique: most_consistent --> Retained Parcentage: 1.0\n",
      "---------------------------------------------------------------------------------------\n",
      "Fold Id: 0\n",
      "most_consistent 4.0 True [1.81986472 3.98101076 3.8046905  ... 2.68342326 3.859375   2.88145436]\n",
      "(442262, 1) (59552, 1) (4832,) (576, 1)\n"
     ]
    },
    {
     "name": "stderr",
     "output_type": "stream",
     "text": [
      "/usr/local/lib/python3.7/dist-packages/tensorflow_probability/python/layers/util.py:102: UserWarning: `layer.add_variable` is deprecated and will be removed in a future version. Please use the `layer.add_weight()` method instead.\n",
      "  trainable=trainable)\n",
      "/usr/local/lib/python3.7/dist-packages/tensorflow_probability/python/layers/util.py:112: UserWarning: `layer.add_variable` is deprecated and will be removed in a future version. Please use the `layer.add_weight()` method instead.\n",
      "  trainable=trainable)\n",
      "/usr/local/lib/python3.7/dist-packages/tensorflow/python/data/ops/structured_function.py:265: UserWarning: Even though the `tf.config.experimental_run_functions_eagerly` option is set, this option does not apply to tf.data functions. To force eager execution of tf.data functions, please use `tf.data.experimental.enable_debug_mode()`.\n",
      "  \"Even though the `tf.config.experimental_run_functions_eagerly` \"\n"
     ]
    },
    {
     "name": "stdout",
     "output_type": "stream",
     "text": [
      "864/864 [==============================] - 153s 175ms/step - loss: 7.3412 - CustomSparseTopKCategoricalAccuracy: 0.0614 - val_loss: 7.0567 - val_CustomSparseTopKCategoricalAccuracy: 0.0990\n",
      "model_saved\n",
      "Fold: 0  Epochs: 0  Evaluation: HR@20:  0.12842344641685485\n",
      "Model saved at: /content/drive/My Drive/RuhaniRahman/UncertaintyRecommenderSystem/results/NextItNet/epistemic_uncertainty/most_consistent/1.00/fold_0_epoch_0\n",
      "864/864 [==============================] - 148s 171ms/step - loss: 6.7127 - CustomSparseTopKCategoricalAccuracy: 0.1426 - val_loss: 6.6863 - val_CustomSparseTopKCategoricalAccuracy: 0.1568\n",
      "model_saved\n",
      "Fold: 0  Epochs: 1  Evaluation: HR@20:  0.24856750071048736\n",
      "Model saved at: /content/drive/My Drive/RuhaniRahman/UncertaintyRecommenderSystem/results/NextItNet/epistemic_uncertainty/most_consistent/1.00/fold_0_epoch_1\n",
      "864/864 [==============================] - 151s 175ms/step - loss: 6.4350 - CustomSparseTopKCategoricalAccuracy: 0.1817 - val_loss: 6.5354 - val_CustomSparseTopKCategoricalAccuracy: 0.1804\n",
      "model_saved\n",
      "Fold: 0  Epochs: 2  Evaluation: HR@20:  0.32587577402591705\n",
      "Model saved at: /content/drive/My Drive/RuhaniRahman/UncertaintyRecommenderSystem/results/NextItNet/epistemic_uncertainty/most_consistent/1.00/fold_0_epoch_2\n",
      "864/864 [==============================] - 149s 173ms/step - loss: 6.2793 - CustomSparseTopKCategoricalAccuracy: 0.2060 - val_loss: 6.4507 - val_CustomSparseTopKCategoricalAccuracy: 0.1984\n",
      "model_saved\n",
      "Fold: 0  Epochs: 3  Evaluation: HR@20:  0.3273595929145813\n",
      "Model saved at: /content/drive/My Drive/RuhaniRahman/UncertaintyRecommenderSystem/results/NextItNet/epistemic_uncertainty/most_consistent/1.00/fold_0_epoch_3\n",
      "864/864 [==============================] - 146s 170ms/step - loss: 6.1775 - CustomSparseTopKCategoricalAccuracy: 0.2222 - val_loss: 6.4033 - val_CustomSparseTopKCategoricalAccuracy: 0.2043\n",
      "model_saved\n",
      "Fold: 0  Epochs: 4  Evaluation: HR@20:  0.35992373526096344\n",
      "Model saved at: /content/drive/My Drive/RuhaniRahman/UncertaintyRecommenderSystem/results/NextItNet/epistemic_uncertainty/most_consistent/1.00/fold_0_epoch_4\n",
      "Fold Id: 1\n",
      "most_consistent 4.0 True [1.81986472 3.98101076 3.8046905  ... 2.68342326 3.859375   2.88145436]\n",
      "(440818, 1) (55422, 1) (4832,) (564, 1)\n",
      "861/861 [==============================] - 148s 171ms/step - loss: 7.3515 - CustomSparseTopKCategoricalAccuracy: 0.0590 - val_loss: 7.0586 - val_CustomSparseTopKCategoricalAccuracy: 0.0991\n",
      "model_saved\n",
      "Fold: 1  Epochs: 0  Evaluation: HR@20:  0.11548695489764213\n",
      "Model saved at: /content/drive/My Drive/RuhaniRahman/UncertaintyRecommenderSystem/results/NextItNet/epistemic_uncertainty/most_consistent/1.00/fold_1_epoch_0\n",
      "861/861 [==============================] - 146s 170ms/step - loss: 6.7724 - CustomSparseTopKCategoricalAccuracy: 0.1334 - val_loss: 6.6354 - val_CustomSparseTopKCategoricalAccuracy: 0.1693\n",
      "model_saved\n",
      "Fold: 1  Epochs: 1  Evaluation: HR@20:  0.22023936063051225\n",
      "Model saved at: /content/drive/My Drive/RuhaniRahman/UncertaintyRecommenderSystem/results/NextItNet/epistemic_uncertainty/most_consistent/1.00/fold_1_epoch_1\n",
      "861/861 [==============================] - 144s 167ms/step - loss: 6.4660 - CustomSparseTopKCategoricalAccuracy: 0.1788 - val_loss: 6.4350 - val_CustomSparseTopKCategoricalAccuracy: 0.1982\n",
      "model_saved\n",
      "Fold: 1  Epochs: 2  Evaluation: HR@20:  0.2855745553970337\n",
      "Model saved at: /content/drive/My Drive/RuhaniRahman/UncertaintyRecommenderSystem/results/NextItNet/epistemic_uncertainty/most_consistent/1.00/fold_1_epoch_2\n",
      "861/861 [==============================] - 144s 167ms/step - loss: 6.2961 - CustomSparseTopKCategoricalAccuracy: 0.2043 - val_loss: 6.3319 - val_CustomSparseTopKCategoricalAccuracy: 0.2158\n",
      "model_saved\n",
      "Fold: 1  Epochs: 3  Evaluation: HR@20:  0.3167449772357941\n",
      "Model saved at: /content/drive/My Drive/RuhaniRahman/UncertaintyRecommenderSystem/results/NextItNet/epistemic_uncertainty/most_consistent/1.00/fold_1_epoch_3\n",
      "861/861 [==============================] - 143s 166ms/step - loss: 6.1926 - CustomSparseTopKCategoricalAccuracy: 0.2193 - val_loss: 6.2778 - val_CustomSparseTopKCategoricalAccuracy: 0.2269\n",
      "model_saved\n",
      "Fold: 1  Epochs: 4  Evaluation: HR@20:  0.33798287212848666\n",
      "Model saved at: /content/drive/My Drive/RuhaniRahman/UncertaintyRecommenderSystem/results/NextItNet/epistemic_uncertainty/most_consistent/1.00/fold_1_epoch_4\n",
      "Fold Id: 2\n",
      "most_consistent 4.0 True [1.81986472 3.98101076 3.8046905  ... 2.68342326 3.859375   2.88145436]\n",
      "(436066, 1) (59468, 1) (4832,) (569, 1)\n",
      "852/852 [==============================] - 144s 169ms/step - loss: 7.3326 - CustomSparseTopKCategoricalAccuracy: 0.0616 - val_loss: 6.9507 - val_CustomSparseTopKCategoricalAccuracy: 0.1038\n",
      "model_saved\n",
      "Fold: 2  Epochs: 0  Evaluation: HR@20:  0.13486198335886002\n",
      "Model saved at: /content/drive/My Drive/RuhaniRahman/UncertaintyRecommenderSystem/results/NextItNet/epistemic_uncertainty/most_consistent/1.00/fold_2_epoch_0\n",
      "852/852 [==============================] - 145s 170ms/step - loss: 6.7799 - CustomSparseTopKCategoricalAccuracy: 0.1334 - val_loss: 6.5584 - val_CustomSparseTopKCategoricalAccuracy: 0.1668\n",
      "model_saved\n",
      "Fold: 2  Epochs: 1  Evaluation: HR@20:  0.22625240981578826\n",
      "Model saved at: /content/drive/My Drive/RuhaniRahman/UncertaintyRecommenderSystem/results/NextItNet/epistemic_uncertainty/most_consistent/1.00/fold_2_epoch_1\n",
      "852/852 [==============================] - 144s 169ms/step - loss: 6.4466 - CustomSparseTopKCategoricalAccuracy: 0.1830 - val_loss: 6.3123 - val_CustomSparseTopKCategoricalAccuracy: 0.2030\n",
      "model_saved\n",
      "Fold: 2  Epochs: 2  Evaluation: HR@20:  0.31330570876598357\n",
      "Model saved at: /content/drive/My Drive/RuhaniRahman/UncertaintyRecommenderSystem/results/NextItNet/epistemic_uncertainty/most_consistent/1.00/fold_2_epoch_2\n",
      "852/852 [==============================] - 143s 168ms/step - loss: 6.2600 - CustomSparseTopKCategoricalAccuracy: 0.2115 - val_loss: 6.2036 - val_CustomSparseTopKCategoricalAccuracy: 0.2202\n",
      "model_saved\n",
      "Fold: 2  Epochs: 3  Evaluation: HR@20:  0.33436891436576843\n",
      "Model saved at: /content/drive/My Drive/RuhaniRahman/UncertaintyRecommenderSystem/results/NextItNet/epistemic_uncertainty/most_consistent/1.00/fold_2_epoch_3\n",
      "852/852 [==============================] - 143s 168ms/step - loss: nan - CustomSparseTopKCategoricalAccuracy: 0.1786 - val_loss: nan - val_CustomSparseTopKCategoricalAccuracy: 0.0000e+00\n",
      "Fold: 2  Epochs: 4  Evaluation: HR@20:  0.0\n",
      "Model saved at: /content/drive/My Drive/RuhaniRahman/UncertaintyRecommenderSystem/results/NextItNet/epistemic_uncertainty/most_consistent/1.00/fold_2_epoch_4\n",
      "Fold Id: 3\n",
      "most_consistent 4.0 True [1.81986472 3.98101076 3.8046905  ... 2.68342326 3.859375   2.88145436]\n",
      "(450972, 1) (56632, 1) (4832,) (595, 1)\n",
      "881/881 [==============================] - 150s 170ms/step - loss: 7.3809 - CustomSparseTopKCategoricalAccuracy: 0.0568 - val_loss: 7.0267 - val_CustomSparseTopKCategoricalAccuracy: 0.0911\n",
      "model_saved\n",
      "Fold: 3  Epochs: 0  Evaluation: HR@20:  0.11215839684009551\n",
      "Model saved at: /content/drive/My Drive/RuhaniRahman/UncertaintyRecommenderSystem/results/NextItNet/epistemic_uncertainty/most_consistent/1.00/fold_3_epoch_0\n",
      "881/881 [==============================] - 149s 169ms/step - loss: 6.8075 - CustomSparseTopKCategoricalAccuracy: 0.1263 - val_loss: 6.6251 - val_CustomSparseTopKCategoricalAccuracy: 0.1607\n",
      "model_saved\n",
      "Fold: 3  Epochs: 1  Evaluation: HR@20:  0.21982986479997635\n",
      "Model saved at: /content/drive/My Drive/RuhaniRahman/UncertaintyRecommenderSystem/results/NextItNet/epistemic_uncertainty/most_consistent/1.00/fold_3_epoch_1\n",
      "881/881 [==============================] - 146s 165ms/step - loss: 6.4729 - CustomSparseTopKCategoricalAccuracy: 0.1784 - val_loss: 6.3973 - val_CustomSparseTopKCategoricalAccuracy: 0.1954\n",
      "model_saved\n",
      "Fold: 3  Epochs: 2  Evaluation: HR@20:  0.2881081849336624\n",
      "Model saved at: /content/drive/My Drive/RuhaniRahman/UncertaintyRecommenderSystem/results/NextItNet/epistemic_uncertainty/most_consistent/1.00/fold_3_epoch_2\n",
      "881/881 [==============================] - 146s 166ms/step - loss: 6.2997 - CustomSparseTopKCategoricalAccuracy: 0.2039 - val_loss: 6.2998 - val_CustomSparseTopKCategoricalAccuracy: 0.2102\n",
      "model_saved\n",
      "Fold: 3  Epochs: 3  Evaluation: HR@20:  0.31969948410987853\n",
      "Model saved at: /content/drive/My Drive/RuhaniRahman/UncertaintyRecommenderSystem/results/NextItNet/epistemic_uncertainty/most_consistent/1.00/fold_3_epoch_3\n",
      "881/881 [==============================] - 146s 166ms/step - loss: nan - CustomSparseTopKCategoricalAccuracy: 0.0897 - val_loss: nan - val_CustomSparseTopKCategoricalAccuracy: 0.0000e+00\n",
      "Fold: 3  Epochs: 4  Evaluation: HR@20:  0.0\n",
      "Model saved at: /content/drive/My Drive/RuhaniRahman/UncertaintyRecommenderSystem/results/NextItNet/epistemic_uncertainty/most_consistent/1.00/fold_3_epoch_4\n",
      "Fold Id: 4\n",
      "most_consistent 4.0 True [1.81986472 3.98101076 3.8046905  ... 2.68342326 3.859375   2.88145436]\n",
      "(451678, 1) (58605, 1) (4832,) (586, 1)\n",
      "883/883 [==============================] - 148s 167ms/step - loss: 7.3458 - CustomSparseTopKCategoricalAccuracy: 0.0604 - val_loss: 7.0092 - val_CustomSparseTopKCategoricalAccuracy: 0.0989\n",
      "model_saved\n",
      "Fold: 4  Epochs: 0  Evaluation: HR@20:  0.10602896884083748\n",
      "Model saved at: /content/drive/My Drive/RuhaniRahman/UncertaintyRecommenderSystem/results/NextItNet/epistemic_uncertainty/most_consistent/1.00/fold_4_epoch_0\n",
      "883/883 [==============================] - 146s 166ms/step - loss: 6.7997 - CustomSparseTopKCategoricalAccuracy: 0.1291 - val_loss: 6.5784 - val_CustomSparseTopKCategoricalAccuracy: 0.1683\n",
      "model_saved\n",
      "Fold: 4  Epochs: 1  Evaluation: HR@20:  0.21623889207839966\n",
      "Model saved at: /content/drive/My Drive/RuhaniRahman/UncertaintyRecommenderSystem/results/NextItNet/epistemic_uncertainty/most_consistent/1.00/fold_4_epoch_1\n",
      "883/883 [==============================] - 148s 168ms/step - loss: 6.4693 - CustomSparseTopKCategoricalAccuracy: 0.1795 - val_loss: 6.3309 - val_CustomSparseTopKCategoricalAccuracy: 0.2044\n",
      "model_saved\n",
      "Fold: 4  Epochs: 2  Evaluation: HR@20:  0.27936941385269165\n",
      "Model saved at: /content/drive/My Drive/RuhaniRahman/UncertaintyRecommenderSystem/results/NextItNet/epistemic_uncertainty/most_consistent/1.00/fold_4_epoch_2\n",
      "883/883 [==============================] - 148s 167ms/step - loss: 6.2866 - CustomSparseTopKCategoricalAccuracy: 0.2063 - val_loss: 6.2258 - val_CustomSparseTopKCategoricalAccuracy: 0.2221\n",
      "model_saved\n",
      "Fold: 4  Epochs: 3  Evaluation: HR@20:  0.32003344893455504\n",
      "Model saved at: /content/drive/My Drive/RuhaniRahman/UncertaintyRecommenderSystem/results/NextItNet/epistemic_uncertainty/most_consistent/1.00/fold_4_epoch_3\n",
      "883/883 [==============================] - 149s 168ms/step - loss: 6.1838 - CustomSparseTopKCategoricalAccuracy: 0.2216 - val_loss: 6.1725 - val_CustomSparseTopKCategoricalAccuracy: 0.2303\n",
      "model_saved\n",
      "Fold: 4  Epochs: 4  Evaluation: HR@20:  0.3504845827817917\n",
      "Model saved at: /content/drive/My Drive/RuhaniRahman/UncertaintyRecommenderSystem/results/NextItNet/epistemic_uncertainty/most_consistent/1.00/fold_4_epoch_4\n",
      "---------------------------------------------------------------------------------------\n",
      "Technique: most_consistent --> Retained Parcentage: 0.75\n",
      "---------------------------------------------------------------------------------------\n",
      "Fold Id: 0\n",
      "most_consistent 4.0 True [1.81986472 3.98101076 3.8046905  ... 2.68342326 3.859375   2.88145436]\n",
      "(383599, 1) (59552, 1) (4253,) (576, 1)\n",
      "750/750 [==============================] - 128s 170ms/step - loss: 7.3781 - CustomSparseTopKCategoricalAccuracy: 0.0564 - val_loss: 7.1333 - val_CustomSparseTopKCategoricalAccuracy: 0.0841\n",
      "model_saved\n",
      "Fold: 0  Epochs: 0  Evaluation: HR@20:  0.08759279921650887\n",
      "Model saved at: /content/drive/My Drive/RuhaniRahman/UncertaintyRecommenderSystem/results/NextItNet/epistemic_uncertainty/most_consistent/0.75/fold_0_epoch_0\n",
      "750/750 [==============================] - 128s 171ms/step - loss: 6.8229 - CustomSparseTopKCategoricalAccuracy: 0.1248 - val_loss: 6.7734 - val_CustomSparseTopKCategoricalAccuracy: 0.1455\n",
      "model_saved\n",
      "Fold: 0  Epochs: 1  Evaluation: HR@20:  0.21478085070848466\n",
      "Model saved at: /content/drive/My Drive/RuhaniRahman/UncertaintyRecommenderSystem/results/NextItNet/epistemic_uncertainty/most_consistent/0.75/fold_0_epoch_1\n",
      "750/750 [==============================] - 127s 169ms/step - loss: 6.5052 - CustomSparseTopKCategoricalAccuracy: 0.1719 - val_loss: 6.5798 - val_CustomSparseTopKCategoricalAccuracy: 0.1742\n",
      "model_saved\n",
      "Fold: 0  Epochs: 2  Evaluation: HR@20:  0.27427772581577303\n",
      "Model saved at: /content/drive/My Drive/RuhaniRahman/UncertaintyRecommenderSystem/results/NextItNet/epistemic_uncertainty/most_consistent/0.75/fold_0_epoch_2\n",
      "750/750 [==============================] - 127s 169ms/step - loss: 6.3144 - CustomSparseTopKCategoricalAccuracy: 0.2002 - val_loss: 6.4838 - val_CustomSparseTopKCategoricalAccuracy: 0.1895\n",
      "model_saved\n",
      "Fold: 0  Epochs: 3  Evaluation: HR@20:  0.31269262731075287\n",
      "Model saved at: /content/drive/My Drive/RuhaniRahman/UncertaintyRecommenderSystem/results/NextItNet/epistemic_uncertainty/most_consistent/0.75/fold_0_epoch_3\n",
      "750/750 [==============================] - 128s 171ms/step - loss: 6.1896 - CustomSparseTopKCategoricalAccuracy: 0.2189 - val_loss: 6.4274 - val_CustomSparseTopKCategoricalAccuracy: 0.2012\n",
      "model_saved\n",
      "Fold: 0  Epochs: 4  Evaluation: HR@20:  0.33112371563911436\n",
      "Model saved at: /content/drive/My Drive/RuhaniRahman/UncertaintyRecommenderSystem/results/NextItNet/epistemic_uncertainty/most_consistent/0.75/fold_0_epoch_4\n",
      "Fold Id: 1\n",
      "most_consistent 4.0 True [1.81986472 3.98101076 3.8046905  ... 2.68342326 3.859375   2.88145436]\n",
      "(376743, 1) (55422, 1) (4250,) (564, 1)\n",
      "736/736 [==============================] - 123s 168ms/step - loss: 7.4305 - CustomSparseTopKCategoricalAccuracy: 0.0520 - val_loss: 7.1150 - val_CustomSparseTopKCategoricalAccuracy: 0.0851\n",
      "model_saved\n",
      "Fold: 1  Epochs: 0  Evaluation: HR@20:  0.09719710350036621\n",
      "Model saved at: /content/drive/My Drive/RuhaniRahman/UncertaintyRecommenderSystem/results/NextItNet/epistemic_uncertainty/most_consistent/0.75/fold_1_epoch_0\n",
      "736/736 [==============================] - 122s 166ms/step - loss: 6.9540 - CustomSparseTopKCategoricalAccuracy: 0.1012 - val_loss: 6.8791 - val_CustomSparseTopKCategoricalAccuracy: 0.1257\n",
      "model_saved\n",
      "Fold: 1  Epochs: 1  Evaluation: HR@20:  0.17842740267515184\n",
      "Model saved at: /content/drive/My Drive/RuhaniRahman/UncertaintyRecommenderSystem/results/NextItNet/epistemic_uncertainty/most_consistent/0.75/fold_1_epoch_1\n",
      "736/736 [==============================] - 123s 167ms/step - loss: 6.6682 - CustomSparseTopKCategoricalAccuracy: 0.1481 - val_loss: 6.6057 - val_CustomSparseTopKCategoricalAccuracy: 0.1735\n",
      "model_saved\n",
      "Fold: 1  Epochs: 2  Evaluation: HR@20:  0.22849318832159043\n",
      "Model saved at: /content/drive/My Drive/RuhaniRahman/UncertaintyRecommenderSystem/results/NextItNet/epistemic_uncertainty/most_consistent/0.75/fold_1_epoch_2\n",
      "736/736 [==============================] - 124s 168ms/step - loss: 6.4507 - CustomSparseTopKCategoricalAccuracy: 0.1807 - val_loss: 6.4733 - val_CustomSparseTopKCategoricalAccuracy: 0.1937\n",
      "model_saved\n",
      "Fold: 1  Epochs: 3  Evaluation: HR@20:  0.2757279336452484\n",
      "Model saved at: /content/drive/My Drive/RuhaniRahman/UncertaintyRecommenderSystem/results/NextItNet/epistemic_uncertainty/most_consistent/0.75/fold_1_epoch_3\n",
      "736/736 [==============================] - 125s 170ms/step - loss: 6.3262 - CustomSparseTopKCategoricalAccuracy: 0.1983 - val_loss: 6.3962 - val_CustomSparseTopKCategoricalAccuracy: 0.2081\n",
      "model_saved\n",
      "Fold: 1  Epochs: 4  Evaluation: HR@20:  0.29490979611873624\n",
      "Model saved at: /content/drive/My Drive/RuhaniRahman/UncertaintyRecommenderSystem/results/NextItNet/epistemic_uncertainty/most_consistent/0.75/fold_1_epoch_4\n",
      "Fold Id: 2\n",
      "most_consistent 4.0 True [1.81986472 3.98101076 3.8046905  ... 2.68342326 3.859375   2.88145436]\n",
      "(384672, 1) (59468, 1) (4251,) (569, 1)\n",
      "752/752 [==============================] - 131s 175ms/step - loss: 7.4556 - CustomSparseTopKCategoricalAccuracy: 0.0500 - val_loss: 7.0640 - val_CustomSparseTopKCategoricalAccuracy: 0.0849\n",
      "model_saved\n",
      "Fold: 2  Epochs: 0  Evaluation: HR@20:  0.10746652483940125\n",
      "Model saved at: /content/drive/My Drive/RuhaniRahman/UncertaintyRecommenderSystem/results/NextItNet/epistemic_uncertainty/most_consistent/0.75/fold_2_epoch_0\n",
      "752/752 [==============================] - 129s 172ms/step - loss: 6.9416 - CustomSparseTopKCategoricalAccuracy: 0.1062 - val_loss: 6.7414 - val_CustomSparseTopKCategoricalAccuracy: 0.1392\n",
      "model_saved\n",
      "Fold: 2  Epochs: 1  Evaluation: HR@20:  0.22759951949119567\n",
      "Model saved at: /content/drive/My Drive/RuhaniRahman/UncertaintyRecommenderSystem/results/NextItNet/epistemic_uncertainty/most_consistent/0.75/fold_2_epoch_1\n",
      "752/752 [==============================] - 129s 171ms/step - loss: 6.5969 - CustomSparseTopKCategoricalAccuracy: 0.1616 - val_loss: 6.4516 - val_CustomSparseTopKCategoricalAccuracy: 0.1834\n",
      "model_saved\n",
      "Fold: 2  Epochs: 2  Evaluation: HR@20:  0.28848648369312285\n",
      "Model saved at: /content/drive/My Drive/RuhaniRahman/UncertaintyRecommenderSystem/results/NextItNet/epistemic_uncertainty/most_consistent/0.75/fold_2_epoch_2\n",
      "752/752 [==============================] - 129s 172ms/step - loss: 6.3739 - CustomSparseTopKCategoricalAccuracy: 0.1935 - val_loss: 6.3080 - val_CustomSparseTopKCategoricalAccuracy: 0.2044\n",
      "model_saved\n",
      "Fold: 2  Epochs: 3  Evaluation: HR@20:  0.3297563910484314\n",
      "Model saved at: /content/drive/My Drive/RuhaniRahman/UncertaintyRecommenderSystem/results/NextItNet/epistemic_uncertainty/most_consistent/0.75/fold_2_epoch_3\n",
      "752/752 [==============================] - 129s 171ms/step - loss: 6.2544 - CustomSparseTopKCategoricalAccuracy: 0.2105 - val_loss: 6.2383 - val_CustomSparseTopKCategoricalAccuracy: 0.2172\n",
      "model_saved\n",
      "Fold: 2  Epochs: 4  Evaluation: HR@20:  0.33283461928367614\n",
      "Model saved at: /content/drive/My Drive/RuhaniRahman/UncertaintyRecommenderSystem/results/NextItNet/epistemic_uncertainty/most_consistent/0.75/fold_2_epoch_4\n",
      "Fold Id: 3\n",
      "most_consistent 4.0 True [1.81986472 3.98101076 3.8046905  ... 2.68342326 3.859375   2.88145436]\n",
      "(389511, 1) (56632, 1) (4258,) (595, 1)\n",
      "761/761 [==============================] - 130s 171ms/step - loss: 7.4441 - CustomSparseTopKCategoricalAccuracy: 0.0509 - val_loss: 7.0826 - val_CustomSparseTopKCategoricalAccuracy: 0.0840\n",
      "model_saved\n",
      "Fold: 3  Epochs: 0  Evaluation: HR@20:  0.0987031489610672\n",
      "Model saved at: /content/drive/My Drive/RuhaniRahman/UncertaintyRecommenderSystem/results/NextItNet/epistemic_uncertainty/most_consistent/0.75/fold_3_epoch_0\n",
      "761/761 [==============================] - 130s 170ms/step - loss: 6.9095 - CustomSparseTopKCategoricalAccuracy: 0.1097 - val_loss: 6.7595 - val_CustomSparseTopKCategoricalAccuracy: 0.1328\n",
      "model_saved\n",
      "Fold: 3  Epochs: 1  Evaluation: HR@20:  0.1914709910750389\n",
      "Model saved at: /content/drive/My Drive/RuhaniRahman/UncertaintyRecommenderSystem/results/NextItNet/epistemic_uncertainty/most_consistent/0.75/fold_3_epoch_1\n",
      "761/761 [==============================] - 131s 173ms/step - loss: 6.6380 - CustomSparseTopKCategoricalAccuracy: 0.1503 - val_loss: 6.5740 - val_CustomSparseTopKCategoricalAccuracy: 0.1685\n",
      "model_saved\n",
      "Fold: 3  Epochs: 2  Evaluation: HR@20:  0.2639804035425186\n",
      "Model saved at: /content/drive/My Drive/RuhaniRahman/UncertaintyRecommenderSystem/results/NextItNet/epistemic_uncertainty/most_consistent/0.75/fold_3_epoch_2\n",
      "761/761 [==============================] - 130s 171ms/step - loss: 6.4314 - CustomSparseTopKCategoricalAccuracy: 0.1851 - val_loss: 6.3829 - val_CustomSparseTopKCategoricalAccuracy: 0.2023\n",
      "model_saved\n",
      "Fold: 3  Epochs: 3  Evaluation: HR@20:  0.2993485450744629\n",
      "Model saved at: /content/drive/My Drive/RuhaniRahman/UncertaintyRecommenderSystem/results/NextItNet/epistemic_uncertainty/most_consistent/0.75/fold_3_epoch_3\n",
      "761/761 [==============================] - 130s 171ms/step - loss: 6.2768 - CustomSparseTopKCategoricalAccuracy: 0.2070 - val_loss: 6.3130 - val_CustomSparseTopKCategoricalAccuracy: 0.2120\n",
      "model_saved\n",
      "Fold: 3  Epochs: 4  Evaluation: HR@20:  0.33859837651252744\n",
      "Model saved at: /content/drive/My Drive/RuhaniRahman/UncertaintyRecommenderSystem/results/NextItNet/epistemic_uncertainty/most_consistent/0.75/fold_3_epoch_4\n",
      "Fold Id: 4\n",
      "most_consistent 4.0 True [1.81986472 3.98101076 3.8046905  ... 2.68342326 3.859375   2.88145436]\n",
      "(395990, 1) (58605, 1) (4256,) (586, 1)\n",
      "774/774 [==============================] - 133s 172ms/step - loss: 7.3686 - CustomSparseTopKCategoricalAccuracy: 0.0575 - val_loss: 7.0102 - val_CustomSparseTopKCategoricalAccuracy: 0.0983\n",
      "model_saved\n",
      "Fold: 4  Epochs: 0  Evaluation: HR@20:  0.12881243526935576\n",
      "Model saved at: /content/drive/My Drive/RuhaniRahman/UncertaintyRecommenderSystem/results/NextItNet/epistemic_uncertainty/most_consistent/0.75/fold_4_epoch_0\n",
      "774/774 [==============================] - 133s 172ms/step - loss: 6.7976 - CustomSparseTopKCategoricalAccuracy: 0.1302 - val_loss: 6.6076 - val_CustomSparseTopKCategoricalAccuracy: 0.1655\n",
      "model_saved\n",
      "Fold: 4  Epochs: 1  Evaluation: HR@20:  0.19502438008785247\n",
      "Model saved at: /content/drive/My Drive/RuhaniRahman/UncertaintyRecommenderSystem/results/NextItNet/epistemic_uncertainty/most_consistent/0.75/fold_4_epoch_1\n",
      "774/774 [==============================] - 132s 171ms/step - loss: 6.4962 - CustomSparseTopKCategoricalAccuracy: 0.1767 - val_loss: 6.3780 - val_CustomSparseTopKCategoricalAccuracy: 0.2009\n",
      "model_saved\n",
      "Fold: 4  Epochs: 2  Evaluation: HR@20:  0.2726938039064407\n",
      "Model saved at: /content/drive/My Drive/RuhaniRahman/UncertaintyRecommenderSystem/results/NextItNet/epistemic_uncertainty/most_consistent/0.75/fold_4_epoch_2\n",
      "774/774 [==============================] - 132s 171ms/step - loss: 6.3256 - CustomSparseTopKCategoricalAccuracy: 0.2008 - val_loss: 6.2818 - val_CustomSparseTopKCategoricalAccuracy: 0.2136\n",
      "model_saved\n",
      "Fold: 4  Epochs: 3  Evaluation: HR@20:  0.3039297252893448\n",
      "Model saved at: /content/drive/My Drive/RuhaniRahman/UncertaintyRecommenderSystem/results/NextItNet/epistemic_uncertainty/most_consistent/0.75/fold_4_epoch_3\n",
      "774/774 [==============================] - 133s 171ms/step - loss: 6.2227 - CustomSparseTopKCategoricalAccuracy: 0.2157 - val_loss: 6.2227 - val_CustomSparseTopKCategoricalAccuracy: 0.2243\n",
      "model_saved\n",
      "Fold: 4  Epochs: 4  Evaluation: HR@20:  0.3489096760749817\n",
      "Model saved at: /content/drive/My Drive/RuhaniRahman/UncertaintyRecommenderSystem/results/NextItNet/epistemic_uncertainty/most_consistent/0.75/fold_4_epoch_4\n",
      "---------------------------------------------------------------------------------------\n",
      "Technique: most_consistent --> Retained Parcentage: 0.5\n",
      "---------------------------------------------------------------------------------------\n",
      "Fold Id: 0\n",
      "most_consistent 4.0 True [1.81986472 3.98101076 3.8046905  ... 2.68342326 3.859375   2.88145436]\n",
      "(324034, 1) (59552, 1) (3675,) (576, 1)\n",
      "633/633 [==============================] - 110s 174ms/step - loss: 7.4285 - CustomSparseTopKCategoricalAccuracy: 0.0522 - val_loss: 7.1582 - val_CustomSparseTopKCategoricalAccuracy: 0.0825\n",
      "model_saved\n",
      "Fold: 0  Epochs: 0  Evaluation: HR@20:  0.08978691250085831\n",
      "Model saved at: /content/drive/My Drive/RuhaniRahman/UncertaintyRecommenderSystem/results/NextItNet/epistemic_uncertainty/most_consistent/0.50/fold_0_epoch_0\n",
      "633/633 [==============================] - 110s 175ms/step - loss: 6.8889 - CustomSparseTopKCategoricalAccuracy: 0.1139 - val_loss: 6.8791 - val_CustomSparseTopKCategoricalAccuracy: 0.1261\n",
      "model_saved\n",
      "Fold: 0  Epochs: 1  Evaluation: HR@20:  0.19435701966285707\n",
      "Model saved at: /content/drive/My Drive/RuhaniRahman/UncertaintyRecommenderSystem/results/NextItNet/epistemic_uncertainty/most_consistent/0.50/fold_0_epoch_1\n",
      "633/633 [==============================] - 110s 174ms/step - loss: 6.6293 - CustomSparseTopKCategoricalAccuracy: 0.1511 - val_loss: 6.7028 - val_CustomSparseTopKCategoricalAccuracy: 0.1591\n",
      "model_saved\n",
      "Fold: 0  Epochs: 2  Evaluation: HR@20:  0.24487392753362655\n",
      "Model saved at: /content/drive/My Drive/RuhaniRahman/UncertaintyRecommenderSystem/results/NextItNet/epistemic_uncertainty/most_consistent/0.50/fold_0_epoch_2\n",
      "633/633 [==============================] - 110s 173ms/step - loss: 6.4174 - CustomSparseTopKCategoricalAccuracy: 0.1849 - val_loss: 6.5706 - val_CustomSparseTopKCategoricalAccuracy: 0.1764\n",
      "model_saved\n",
      "Fold: 0  Epochs: 3  Evaluation: HR@20:  0.29383811354637146\n",
      "Model saved at: /content/drive/My Drive/RuhaniRahman/UncertaintyRecommenderSystem/results/NextItNet/epistemic_uncertainty/most_consistent/0.50/fold_0_epoch_3\n",
      "633/633 [==============================] - 110s 173ms/step - loss: 6.2832 - CustomSparseTopKCategoricalAccuracy: 0.2049 - val_loss: 6.5103 - val_CustomSparseTopKCategoricalAccuracy: 0.1893\n",
      "model_saved\n",
      "Fold: 0  Epochs: 4  Evaluation: HR@20:  0.30231694877147675\n",
      "Model saved at: /content/drive/My Drive/RuhaniRahman/UncertaintyRecommenderSystem/results/NextItNet/epistemic_uncertainty/most_consistent/0.50/fold_0_epoch_4\n",
      "Fold Id: 1\n",
      "most_consistent 4.0 True [1.81986472 3.98101076 3.8046905  ... 2.68342326 3.859375   2.88145436]\n",
      "(320966, 1) (55422, 1) (3669,) (564, 1)\n",
      "627/627 [==============================] - 109s 174ms/step - loss: 7.4537 - CustomSparseTopKCategoricalAccuracy: 0.0480 - val_loss: 7.1676 - val_CustomSparseTopKCategoricalAccuracy: 0.0783\n",
      "model_saved\n",
      "Fold: 1  Epochs: 0  Evaluation: HR@20:  0.07965488880872726\n",
      "Model saved at: /content/drive/My Drive/RuhaniRahman/UncertaintyRecommenderSystem/results/NextItNet/epistemic_uncertainty/most_consistent/0.50/fold_1_epoch_0\n",
      "627/627 [==============================] - 108s 172ms/step - loss: 6.9037 - CustomSparseTopKCategoricalAccuracy: 0.1113 - val_loss: 6.7816 - val_CustomSparseTopKCategoricalAccuracy: 0.1453\n",
      "model_saved\n",
      "Fold: 1  Epochs: 1  Evaluation: HR@20:  0.17578647285699844\n",
      "Model saved at: /content/drive/My Drive/RuhaniRahman/UncertaintyRecommenderSystem/results/NextItNet/epistemic_uncertainty/most_consistent/0.50/fold_1_epoch_1\n",
      "627/627 [==============================] - 108s 173ms/step - loss: 6.5678 - CustomSparseTopKCategoricalAccuracy: 0.1637 - val_loss: 6.5495 - val_CustomSparseTopKCategoricalAccuracy: 0.1845\n",
      "model_saved\n",
      "Fold: 1  Epochs: 2  Evaluation: HR@20:  0.24196991473436355\n",
      "Model saved at: /content/drive/My Drive/RuhaniRahman/UncertaintyRecommenderSystem/results/NextItNet/epistemic_uncertainty/most_consistent/0.50/fold_1_epoch_2\n",
      "627/627 [==============================] - 108s 171ms/step - loss: 6.3666 - CustomSparseTopKCategoricalAccuracy: 0.1928 - val_loss: 6.4308 - val_CustomSparseTopKCategoricalAccuracy: 0.2041\n",
      "model_saved\n",
      "Fold: 1  Epochs: 3  Evaluation: HR@20:  0.29927473664283755\n",
      "Model saved at: /content/drive/My Drive/RuhaniRahman/UncertaintyRecommenderSystem/results/NextItNet/epistemic_uncertainty/most_consistent/0.50/fold_1_epoch_3\n",
      "627/627 [==============================] - 108s 172ms/step - loss: 6.2399 - CustomSparseTopKCategoricalAccuracy: 0.2137 - val_loss: 6.3603 - val_CustomSparseTopKCategoricalAccuracy: 0.2146\n",
      "model_saved\n",
      "Fold: 1  Epochs: 4  Evaluation: HR@20:  0.3091828465461731\n",
      "Model saved at: /content/drive/My Drive/RuhaniRahman/UncertaintyRecommenderSystem/results/NextItNet/epistemic_uncertainty/most_consistent/0.50/fold_1_epoch_4\n",
      "Fold Id: 2\n",
      "most_consistent 4.0 True [1.81986472 3.98101076 3.8046905  ... 2.68342326 3.859375   2.88145436]\n",
      "(318280, 1) (59468, 1) (3671,) (569, 1)\n",
      "622/622 [==============================] - 108s 174ms/step - loss: 7.4878 - CustomSparseTopKCategoricalAccuracy: 0.0467 - val_loss: 7.1093 - val_CustomSparseTopKCategoricalAccuracy: 0.0815\n",
      "model_saved\n",
      "Fold: 2  Epochs: 0  Evaluation: HR@20:  0.1119302861392498\n",
      "Model saved at: /content/drive/My Drive/RuhaniRahman/UncertaintyRecommenderSystem/results/NextItNet/epistemic_uncertainty/most_consistent/0.50/fold_2_epoch_0\n",
      "622/622 [==============================] - 108s 174ms/step - loss: 6.9766 - CustomSparseTopKCategoricalAccuracy: 0.0988 - val_loss: 6.8458 - val_CustomSparseTopKCategoricalAccuracy: 0.1223\n",
      "model_saved\n",
      "Fold: 2  Epochs: 1  Evaluation: HR@20:  0.1801221862435341\n",
      "Model saved at: /content/drive/My Drive/RuhaniRahman/UncertaintyRecommenderSystem/results/NextItNet/epistemic_uncertainty/most_consistent/0.50/fold_2_epoch_1\n",
      "622/622 [==============================] - 108s 174ms/step - loss: 6.7075 - CustomSparseTopKCategoricalAccuracy: 0.1401 - val_loss: 6.6235 - val_CustomSparseTopKCategoricalAccuracy: 0.1583\n",
      "model_saved\n",
      "Fold: 2  Epochs: 2  Evaluation: HR@20:  0.21234280467033387\n",
      "Model saved at: /content/drive/My Drive/RuhaniRahman/UncertaintyRecommenderSystem/results/NextItNet/epistemic_uncertainty/most_consistent/0.50/fold_2_epoch_2\n",
      "622/622 [==============================] - 108s 174ms/step - loss: 6.4829 - CustomSparseTopKCategoricalAccuracy: 0.1776 - val_loss: 6.4320 - val_CustomSparseTopKCategoricalAccuracy: 0.1893\n",
      "model_saved\n",
      "Fold: 2  Epochs: 3  Evaluation: HR@20:  0.2742938011884689\n",
      "Model saved at: /content/drive/My Drive/RuhaniRahman/UncertaintyRecommenderSystem/results/NextItNet/epistemic_uncertainty/most_consistent/0.50/fold_2_epoch_3\n",
      "622/622 [==============================] - 108s 174ms/step - loss: 6.3141 - CustomSparseTopKCategoricalAccuracy: 0.2027 - val_loss: 6.3257 - val_CustomSparseTopKCategoricalAccuracy: 0.2065\n",
      "model_saved\n",
      "Fold: 2  Epochs: 4  Evaluation: HR@20:  0.3169455617666245\n",
      "Model saved at: /content/drive/My Drive/RuhaniRahman/UncertaintyRecommenderSystem/results/NextItNet/epistemic_uncertainty/most_consistent/0.50/fold_2_epoch_4\n",
      "Fold Id: 3\n",
      "most_consistent 4.0 True [1.81986472 3.98101076 3.8046905  ... 2.68342326 3.859375   2.88145436]\n",
      "(331561, 1) (56632, 1) (3684,) (595, 1)\n",
      "648/648 [==============================] - 112s 173ms/step - loss: 7.4977 - CustomSparseTopKCategoricalAccuracy: 0.0455 - val_loss: 7.1261 - val_CustomSparseTopKCategoricalAccuracy: 0.0786\n",
      "model_saved\n",
      "Fold: 3  Epochs: 0  Evaluation: HR@20:  0.09245745167136192\n",
      "Model saved at: /content/drive/My Drive/RuhaniRahman/UncertaintyRecommenderSystem/results/NextItNet/epistemic_uncertainty/most_consistent/0.50/fold_3_epoch_0\n",
      "648/648 [==============================] - 112s 173ms/step - loss: 6.9719 - CustomSparseTopKCategoricalAccuracy: 0.0999 - val_loss: 6.8552 - val_CustomSparseTopKCategoricalAccuracy: 0.1212\n",
      "model_saved\n",
      "Fold: 3  Epochs: 1  Evaluation: HR@20:  0.16457850188016893\n",
      "Model saved at: /content/drive/My Drive/RuhaniRahman/UncertaintyRecommenderSystem/results/NextItNet/epistemic_uncertainty/most_consistent/0.50/fold_3_epoch_1\n",
      "648/648 [==============================] - 111s 171ms/step - loss: 6.6896 - CustomSparseTopKCategoricalAccuracy: 0.1451 - val_loss: 6.6067 - val_CustomSparseTopKCategoricalAccuracy: 0.1676\n",
      "model_saved\n",
      "Fold: 3  Epochs: 2  Evaluation: HR@20:  0.22881279289722442\n",
      "Model saved at: /content/drive/My Drive/RuhaniRahman/UncertaintyRecommenderSystem/results/NextItNet/epistemic_uncertainty/most_consistent/0.50/fold_3_epoch_2\n",
      "648/648 [==============================] - 111s 171ms/step - loss: 6.4653 - CustomSparseTopKCategoricalAccuracy: 0.1779 - val_loss: 6.4468 - val_CustomSparseTopKCategoricalAccuracy: 0.1919\n",
      "model_saved\n",
      "Fold: 3  Epochs: 3  Evaluation: HR@20:  0.27611545026302337\n",
      "Model saved at: /content/drive/My Drive/RuhaniRahman/UncertaintyRecommenderSystem/results/NextItNet/epistemic_uncertainty/most_consistent/0.50/fold_3_epoch_3\n",
      "648/648 [==============================] - 110s 170ms/step - loss: 6.3082 - CustomSparseTopKCategoricalAccuracy: 0.2014 - val_loss: 6.3595 - val_CustomSparseTopKCategoricalAccuracy: 0.2047\n",
      "Fold: 3  Epochs: 4  Evaluation: HR@20:  0.27160711884498595\n",
      "Model saved at: /content/drive/My Drive/RuhaniRahman/UncertaintyRecommenderSystem/results/NextItNet/epistemic_uncertainty/most_consistent/0.50/fold_3_epoch_4\n",
      "Fold Id: 4\n",
      "most_consistent 4.0 True [1.81986472 3.98101076 3.8046905  ... 2.68342326 3.859375   2.88145436]\n",
      "(332873, 1) (58605, 1) (3680,) (586, 1)\n",
      "651/651 [==============================] - 113s 173ms/step - loss: 7.4630 - CustomSparseTopKCategoricalAccuracy: 0.0475 - val_loss: 7.1162 - val_CustomSparseTopKCategoricalAccuracy: 0.0831\n",
      "model_saved\n",
      "Fold: 4  Epochs: 0  Evaluation: HR@20:  0.09164018854498863\n",
      "Model saved at: /content/drive/My Drive/RuhaniRahman/UncertaintyRecommenderSystem/results/NextItNet/epistemic_uncertainty/most_consistent/0.50/fold_4_epoch_0\n",
      "651/651 [==============================] - 113s 174ms/step - loss: 6.9688 - CustomSparseTopKCategoricalAccuracy: 0.1001 - val_loss: 6.8295 - val_CustomSparseTopKCategoricalAccuracy: 0.1290\n",
      "model_saved\n",
      "Fold: 4  Epochs: 1  Evaluation: HR@20:  0.14534698575735092\n",
      "Model saved at: /content/drive/My Drive/RuhaniRahman/UncertaintyRecommenderSystem/results/NextItNet/epistemic_uncertainty/most_consistent/0.50/fold_4_epoch_1\n",
      "651/651 [==============================] - 111s 171ms/step - loss: 6.6713 - CustomSparseTopKCategoricalAccuracy: 0.1485 - val_loss: 6.5216 - val_CustomSparseTopKCategoricalAccuracy: 0.1794\n",
      "model_saved\n",
      "Fold: 4  Epochs: 2  Evaluation: HR@20:  0.2324400708079338\n",
      "Model saved at: /content/drive/My Drive/RuhaniRahman/UncertaintyRecommenderSystem/results/NextItNet/epistemic_uncertainty/most_consistent/0.50/fold_4_epoch_2\n",
      "651/651 [==============================] - 111s 171ms/step - loss: 6.4202 - CustomSparseTopKCategoricalAccuracy: 0.1856 - val_loss: 6.3543 - val_CustomSparseTopKCategoricalAccuracy: 0.2067\n",
      "model_saved\n",
      "Fold: 4  Epochs: 3  Evaluation: HR@20:  0.26077204644680024\n",
      "Model saved at: /content/drive/My Drive/RuhaniRahman/UncertaintyRecommenderSystem/results/NextItNet/epistemic_uncertainty/most_consistent/0.50/fold_4_epoch_3\n",
      "651/651 [==============================] - 112s 172ms/step - loss: 6.2699 - CustomSparseTopKCategoricalAccuracy: 0.2076 - val_loss: 6.2753 - val_CustomSparseTopKCategoricalAccuracy: 0.2189\n",
      "model_saved\n",
      "Fold: 4  Epochs: 4  Evaluation: HR@20:  0.3029190391302109\n",
      "Model saved at: /content/drive/My Drive/RuhaniRahman/UncertaintyRecommenderSystem/results/NextItNet/epistemic_uncertainty/most_consistent/0.50/fold_4_epoch_4\n",
      "---------------------------------------------------------------------------------------\n",
      "Technique: most_consistent --> Retained Parcentage: 0.25\n",
      "---------------------------------------------------------------------------------------\n",
      "Fold Id: 0\n",
      "most_consistent 4.0 True [1.81986472 3.98101076 3.8046905  ... 2.68342326 3.859375   2.88145436]\n",
      "(264109, 1) (59552, 1) (3096,) (576, 1)\n",
      "516/516 [==============================] - 92s 178ms/step - loss: 7.5642 - CustomSparseTopKCategoricalAccuracy: 0.0395 - val_loss: 7.2803 - val_CustomSparseTopKCategoricalAccuracy: 0.0660\n",
      "model_saved\n",
      "Fold: 0  Epochs: 0  Evaluation: HR@20:  0.06887200996279716\n",
      "Model saved at: /content/drive/My Drive/RuhaniRahman/UncertaintyRecommenderSystem/results/NextItNet/epistemic_uncertainty/most_consistent/0.25/fold_0_epoch_0\n",
      "516/516 [==============================] - 93s 180ms/step - loss: 7.0491 - CustomSparseTopKCategoricalAccuracy: 0.0873 - val_loss: 7.0595 - val_CustomSparseTopKCategoricalAccuracy: 0.0968\n",
      "model_saved\n",
      "Fold: 0  Epochs: 1  Evaluation: HR@20:  0.11421165391802787\n",
      "Model saved at: /content/drive/My Drive/RuhaniRahman/UncertaintyRecommenderSystem/results/NextItNet/epistemic_uncertainty/most_consistent/0.25/fold_0_epoch_1\n",
      "516/516 [==============================] - 92s 179ms/step - loss: 6.8318 - CustomSparseTopKCategoricalAccuracy: 0.1163 - val_loss: 6.8974 - val_CustomSparseTopKCategoricalAccuracy: 0.1210\n",
      "model_saved\n",
      "Fold: 0  Epochs: 2  Evaluation: HR@20:  0.17959201484918594\n",
      "Model saved at: /content/drive/My Drive/RuhaniRahman/UncertaintyRecommenderSystem/results/NextItNet/epistemic_uncertainty/most_consistent/0.25/fold_0_epoch_2\n",
      "516/516 [==============================] - 91s 177ms/step - loss: 6.6346 - CustomSparseTopKCategoricalAccuracy: 0.1496 - val_loss: 6.7177 - val_CustomSparseTopKCategoricalAccuracy: 0.1583\n",
      "model_saved\n",
      "Fold: 0  Epochs: 3  Evaluation: HR@20:  0.2338375613093376\n",
      "Model saved at: /content/drive/My Drive/RuhaniRahman/UncertaintyRecommenderSystem/results/NextItNet/epistemic_uncertainty/most_consistent/0.25/fold_0_epoch_3\n",
      "516/516 [==============================] - 91s 177ms/step - loss: 6.4338 - CustomSparseTopKCategoricalAccuracy: 0.1804 - val_loss: 6.6038 - val_CustomSparseTopKCategoricalAccuracy: 0.1753\n",
      "model_saved\n",
      "Fold: 0  Epochs: 4  Evaluation: HR@20:  0.27795007824897766\n",
      "Model saved at: /content/drive/My Drive/RuhaniRahman/UncertaintyRecommenderSystem/results/NextItNet/epistemic_uncertainty/most_consistent/0.25/fold_0_epoch_4\n",
      "Fold Id: 1\n",
      "most_consistent 4.0 True [1.81986472 3.98101076 3.8046905  ... 2.68342326 3.859375   2.88145436]\n",
      "(263535, 1) (55422, 1) (3087,) (564, 1)\n",
      "515/515 [==============================] - 91s 177ms/step - loss: 7.5656 - CustomSparseTopKCategoricalAccuracy: 0.0369 - val_loss: 7.2832 - val_CustomSparseTopKCategoricalAccuracy: 0.0695\n",
      "model_saved\n",
      "Fold: 1  Epochs: 0  Evaluation: HR@20:  0.06417687050998211\n",
      "Model saved at: /content/drive/My Drive/RuhaniRahman/UncertaintyRecommenderSystem/results/NextItNet/epistemic_uncertainty/most_consistent/0.25/fold_1_epoch_0\n",
      "515/515 [==============================] - 91s 176ms/step - loss: 7.0386 - CustomSparseTopKCategoricalAccuracy: 0.0905 - val_loss: 6.9789 - val_CustomSparseTopKCategoricalAccuracy: 0.1158\n",
      "model_saved\n",
      "Fold: 1  Epochs: 1  Evaluation: HR@20:  0.17352998852729798\n",
      "Model saved at: /content/drive/My Drive/RuhaniRahman/UncertaintyRecommenderSystem/results/NextItNet/epistemic_uncertainty/most_consistent/0.25/fold_1_epoch_1\n",
      "515/515 [==============================] - 90s 176ms/step - loss: 6.7250 - CustomSparseTopKCategoricalAccuracy: 0.1376 - val_loss: 6.6949 - val_CustomSparseTopKCategoricalAccuracy: 0.1596\n",
      "model_saved\n",
      "Fold: 1  Epochs: 2  Evaluation: HR@20:  0.20658237636089324\n",
      "Model saved at: /content/drive/My Drive/RuhaniRahman/UncertaintyRecommenderSystem/results/NextItNet/epistemic_uncertainty/most_consistent/0.25/fold_1_epoch_2\n",
      "515/515 [==============================] - 91s 177ms/step - loss: 6.4976 - CustomSparseTopKCategoricalAccuracy: 0.1703 - val_loss: 6.5489 - val_CustomSparseTopKCategoricalAccuracy: 0.1840\n",
      "model_saved\n",
      "Fold: 1  Epochs: 3  Evaluation: HR@20:  0.2600849956274033\n",
      "Model saved at: /content/drive/My Drive/RuhaniRahman/UncertaintyRecommenderSystem/results/NextItNet/epistemic_uncertainty/most_consistent/0.25/fold_1_epoch_3\n",
      "515/515 [==============================] - 91s 176ms/step - loss: 6.3462 - CustomSparseTopKCategoricalAccuracy: 0.1939 - val_loss: 6.4729 - val_CustomSparseTopKCategoricalAccuracy: 0.1983\n",
      "model_saved\n",
      "Fold: 1  Epochs: 4  Evaluation: HR@20:  0.2843508690595627\n",
      "Model saved at: /content/drive/My Drive/RuhaniRahman/UncertaintyRecommenderSystem/results/NextItNet/epistemic_uncertainty/most_consistent/0.25/fold_1_epoch_4\n",
      "Fold Id: 2\n",
      "most_consistent 4.0 True [1.81986472 3.98101076 3.8046905  ... 2.68342326 3.859375   2.88145436]\n",
      "(263005, 1) (59468, 1) (3091,) (569, 1)\n",
      "514/514 [==============================] - 92s 179ms/step - loss: 7.4880 - CustomSparseTopKCategoricalAccuracy: 0.0457 - val_loss: 7.1329 - val_CustomSparseTopKCategoricalAccuracy: 0.0794\n",
      "model_saved\n",
      "Fold: 2  Epochs: 0  Evaluation: HR@20:  0.1040680542588234\n",
      "Model saved at: /content/drive/My Drive/RuhaniRahman/UncertaintyRecommenderSystem/results/NextItNet/epistemic_uncertainty/most_consistent/0.25/fold_2_epoch_0\n",
      "514/514 [==============================] - 91s 178ms/step - loss: 6.9928 - CustomSparseTopKCategoricalAccuracy: 0.0954 - val_loss: 6.8978 - val_CustomSparseTopKCategoricalAccuracy: 0.1131\n",
      "model_saved\n",
      "Fold: 2  Epochs: 1  Evaluation: HR@20:  0.1648762807250023\n",
      "Model saved at: /content/drive/My Drive/RuhaniRahman/UncertaintyRecommenderSystem/results/NextItNet/epistemic_uncertainty/most_consistent/0.25/fold_2_epoch_1\n",
      "514/514 [==============================] - 91s 177ms/step - loss: 6.7575 - CustomSparseTopKCategoricalAccuracy: 0.1312 - val_loss: 6.6902 - val_CustomSparseTopKCategoricalAccuracy: 0.1505\n",
      "model_saved\n",
      "Fold: 2  Epochs: 2  Evaluation: HR@20:  0.22372039556503295\n",
      "Model saved at: /content/drive/My Drive/RuhaniRahman/UncertaintyRecommenderSystem/results/NextItNet/epistemic_uncertainty/most_consistent/0.25/fold_2_epoch_2\n",
      "514/514 [==============================] - 91s 177ms/step - loss: 6.5564 - CustomSparseTopKCategoricalAccuracy: 0.1612 - val_loss: 6.5245 - val_CustomSparseTopKCategoricalAccuracy: 0.1756\n",
      "model_saved\n",
      "Fold: 2  Epochs: 3  Evaluation: HR@20:  0.2550774782896042\n",
      "Model saved at: /content/drive/My Drive/RuhaniRahman/UncertaintyRecommenderSystem/results/NextItNet/epistemic_uncertainty/most_consistent/0.25/fold_2_epoch_3\n",
      "514/514 [==============================] - 91s 177ms/step - loss: 6.3886 - CustomSparseTopKCategoricalAccuracy: 0.1856 - val_loss: 6.4211 - val_CustomSparseTopKCategoricalAccuracy: 0.1903\n",
      "model_saved\n",
      "Fold: 2  Epochs: 4  Evaluation: HR@20:  0.2829104244709015\n",
      "Model saved at: /content/drive/My Drive/RuhaniRahman/UncertaintyRecommenderSystem/results/NextItNet/epistemic_uncertainty/most_consistent/0.25/fold_2_epoch_4\n",
      "Fold Id: 3\n",
      "most_consistent 4.0 True [1.81986472 3.98101076 3.8046905  ... 2.68342326 3.859375   2.88145436]\n",
      "(278352, 1) (56632, 1) (3110,) (595, 1)\n",
      "544/544 [==============================] - 96s 177ms/step - loss: 7.5088 - CustomSparseTopKCategoricalAccuracy: 0.0442 - val_loss: 7.1401 - val_CustomSparseTopKCategoricalAccuracy: 0.0763\n",
      "model_saved\n",
      "Fold: 3  Epochs: 0  Evaluation: HR@20:  0.06768420934677125\n",
      "Model saved at: /content/drive/My Drive/RuhaniRahman/UncertaintyRecommenderSystem/results/NextItNet/epistemic_uncertainty/most_consistent/0.25/fold_3_epoch_0\n",
      "544/544 [==============================] - 95s 175ms/step - loss: 7.0064 - CustomSparseTopKCategoricalAccuracy: 0.0921 - val_loss: 6.9232 - val_CustomSparseTopKCategoricalAccuracy: 0.1103\n",
      "model_saved\n",
      "Fold: 3  Epochs: 1  Evaluation: HR@20:  0.16209904253482818\n",
      "Model saved at: /content/drive/My Drive/RuhaniRahman/UncertaintyRecommenderSystem/results/NextItNet/epistemic_uncertainty/most_consistent/0.25/fold_3_epoch_1\n",
      "544/544 [==============================] - 95s 175ms/step - loss: 6.7517 - CustomSparseTopKCategoricalAccuracy: 0.1318 - val_loss: 6.7050 - val_CustomSparseTopKCategoricalAccuracy: 0.1513\n",
      "model_saved\n",
      "Fold: 3  Epochs: 2  Evaluation: HR@20:  0.24544217735528945\n",
      "Model saved at: /content/drive/My Drive/RuhaniRahman/UncertaintyRecommenderSystem/results/NextItNet/epistemic_uncertainty/most_consistent/0.25/fold_3_epoch_2\n",
      "544/544 [==============================] - 96s 177ms/step - loss: 6.5285 - CustomSparseTopKCategoricalAccuracy: 0.1679 - val_loss: 6.5205 - val_CustomSparseTopKCategoricalAccuracy: 0.1818\n",
      "model_saved\n",
      "Fold: 3  Epochs: 3  Evaluation: HR@20:  0.26416967809200287\n",
      "Model saved at: /content/drive/My Drive/RuhaniRahman/UncertaintyRecommenderSystem/results/NextItNet/epistemic_uncertainty/most_consistent/0.25/fold_3_epoch_3\n",
      "544/544 [==============================] - 96s 176ms/step - loss: 6.3403 - CustomSparseTopKCategoricalAccuracy: 0.1958 - val_loss: 6.4097 - val_CustomSparseTopKCategoricalAccuracy: 0.1995\n",
      "model_saved\n",
      "Fold: 3  Epochs: 4  Evaluation: HR@20:  0.30041917264461515\n",
      "Model saved at: /content/drive/My Drive/RuhaniRahman/UncertaintyRecommenderSystem/results/NextItNet/epistemic_uncertainty/most_consistent/0.25/fold_3_epoch_4\n",
      "Fold Id: 4\n",
      "most_consistent 4.0 True [1.81986472 3.98101076 3.8046905  ... 2.68342326 3.859375   2.88145436]\n",
      "(277384, 1) (58605, 1) (3104,) (586, 1)\n",
      "542/542 [==============================] - 98s 180ms/step - loss: 7.5027 - CustomSparseTopKCategoricalAccuracy: 0.0437 - val_loss: 7.1513 - val_CustomSparseTopKCategoricalAccuracy: 0.0777\n",
      "model_saved\n",
      "Fold: 4  Epochs: 0  Evaluation: HR@20:  0.07565720081329345\n",
      "Model saved at: /content/drive/My Drive/RuhaniRahman/UncertaintyRecommenderSystem/results/NextItNet/epistemic_uncertainty/most_consistent/0.25/fold_4_epoch_0\n",
      "542/542 [==============================] - 96s 178ms/step - loss: 7.0078 - CustomSparseTopKCategoricalAccuracy: 0.0929 - val_loss: 6.9237 - val_CustomSparseTopKCategoricalAccuracy: 0.1141\n",
      "model_saved\n",
      "Fold: 4  Epochs: 1  Evaluation: HR@20:  0.11808135583996773\n",
      "Model saved at: /content/drive/My Drive/RuhaniRahman/UncertaintyRecommenderSystem/results/NextItNet/epistemic_uncertainty/most_consistent/0.25/fold_4_epoch_1\n",
      "542/542 [==============================] - 97s 180ms/step - loss: 6.7477 - CustomSparseTopKCategoricalAccuracy: 0.1313 - val_loss: 6.6615 - val_CustomSparseTopKCategoricalAccuracy: 0.1588\n",
      "model_saved\n",
      "Fold: 4  Epochs: 2  Evaluation: HR@20:  0.18170946538448335\n",
      "Model saved at: /content/drive/My Drive/RuhaniRahman/UncertaintyRecommenderSystem/results/NextItNet/epistemic_uncertainty/most_consistent/0.25/fold_4_epoch_2\n",
      "542/542 [==============================] - 97s 180ms/step - loss: 6.5127 - CustomSparseTopKCategoricalAccuracy: 0.1681 - val_loss: 6.4791 - val_CustomSparseTopKCategoricalAccuracy: 0.1860\n",
      "model_saved\n",
      "Fold: 4  Epochs: 3  Evaluation: HR@20:  0.23468782156705856\n",
      "Model saved at: /content/drive/My Drive/RuhaniRahman/UncertaintyRecommenderSystem/results/NextItNet/epistemic_uncertainty/most_consistent/0.25/fold_4_epoch_3\n",
      "542/542 [==============================] - 97s 179ms/step - loss: 6.3483 - CustomSparseTopKCategoricalAccuracy: 0.1922 - val_loss: 6.3864 - val_CustomSparseTopKCategoricalAccuracy: 0.2029\n",
      "model_saved\n",
      "Fold: 4  Epochs: 4  Evaluation: HR@20:  0.2685172528028488\n",
      "Model saved at: /content/drive/My Drive/RuhaniRahman/UncertaintyRecommenderSystem/results/NextItNet/epistemic_uncertainty/most_consistent/0.25/fold_4_epoch_4\n",
      "---------------------------------------------------------------------------------------\n",
      "Technique: most_consistent --> Retained Parcentage: 0.0\n",
      "---------------------------------------------------------------------------------------\n",
      "Fold Id: 0\n",
      "most_consistent 4.0 True [1.81986472 3.98101076 3.8046905  ... 2.68342326 3.859375   2.88145436]\n",
      "(212135, 1) (59552, 1) (2518,) (576, 1)\n",
      "415/415 [==============================] - 78s 187ms/step - loss: 7.5786 - CustomSparseTopKCategoricalAccuracy: 0.0370 - val_loss: 7.3219 - val_CustomSparseTopKCategoricalAccuracy: 0.0657\n",
      "model_saved\n",
      "Fold: 0  Epochs: 0  Evaluation: HR@20:  0.05741209201514721\n",
      "Model saved at: /content/drive/My Drive/RuhaniRahman/UncertaintyRecommenderSystem/results/NextItNet/epistemic_uncertainty/most_consistent/0.00/fold_0_epoch_0\n",
      "415/415 [==============================] - 77s 186ms/step - loss: 7.0595 - CustomSparseTopKCategoricalAccuracy: 0.0853 - val_loss: 7.1201 - val_CustomSparseTopKCategoricalAccuracy: 0.0917\n",
      "model_saved\n",
      "Fold: 0  Epochs: 1  Evaluation: HR@20:  0.11535066589713097\n",
      "Model saved at: /content/drive/My Drive/RuhaniRahman/UncertaintyRecommenderSystem/results/NextItNet/epistemic_uncertainty/most_consistent/0.00/fold_0_epoch_1\n",
      "415/415 [==============================] - 76s 184ms/step - loss: 6.8505 - CustomSparseTopKCategoricalAccuracy: 0.1148 - val_loss: 6.9512 - val_CustomSparseTopKCategoricalAccuracy: 0.1218\n",
      "model_saved\n",
      "Fold: 0  Epochs: 2  Evaluation: HR@20:  0.18748552948236466\n",
      "Model saved at: /content/drive/My Drive/RuhaniRahman/UncertaintyRecommenderSystem/results/NextItNet/epistemic_uncertainty/most_consistent/0.00/fold_0_epoch_2\n",
      "415/415 [==============================] - 77s 185ms/step - loss: 6.6456 - CustomSparseTopKCategoricalAccuracy: 0.1463 - val_loss: 6.8004 - val_CustomSparseTopKCategoricalAccuracy: 0.1453\n",
      "model_saved\n",
      "Fold: 0  Epochs: 3  Evaluation: HR@20:  0.21281980276107787\n",
      "Model saved at: /content/drive/My Drive/RuhaniRahman/UncertaintyRecommenderSystem/results/NextItNet/epistemic_uncertainty/most_consistent/0.00/fold_0_epoch_3\n",
      "415/415 [==============================] - 76s 184ms/step - loss: 6.4683 - CustomSparseTopKCategoricalAccuracy: 0.1709 - val_loss: 6.7142 - val_CustomSparseTopKCategoricalAccuracy: 0.1594\n",
      "model_saved\n",
      "Fold: 0  Epochs: 4  Evaluation: HR@20:  0.2617250859737396\n",
      "Model saved at: /content/drive/My Drive/RuhaniRahman/UncertaintyRecommenderSystem/results/NextItNet/epistemic_uncertainty/most_consistent/0.00/fold_0_epoch_4\n",
      "Fold Id: 1\n",
      "most_consistent 4.0 True [1.81986472 3.98101076 3.8046905  ... 2.68342326 3.859375   2.88145436]\n",
      "(206561, 1) (55422, 1) (2506,) (564, 1)\n",
      "404/404 [==============================] - 74s 183ms/step - loss: 7.5774 - CustomSparseTopKCategoricalAccuracy: 0.0375 - val_loss: 7.3062 - val_CustomSparseTopKCategoricalAccuracy: 0.0661\n",
      "model_saved\n",
      "Fold: 1  Epochs: 0  Evaluation: HR@20:  0.06339215338230134\n",
      "Model saved at: /content/drive/My Drive/RuhaniRahman/UncertaintyRecommenderSystem/results/NextItNet/epistemic_uncertainty/most_consistent/0.00/fold_1_epoch_0\n",
      "404/404 [==============================] - 73s 181ms/step - loss: 7.0651 - CustomSparseTopKCategoricalAccuracy: 0.0824 - val_loss: 7.1154 - val_CustomSparseTopKCategoricalAccuracy: 0.0898\n",
      "model_saved\n",
      "Fold: 1  Epochs: 1  Evaluation: HR@20:  0.12678423747420312\n",
      "Model saved at: /content/drive/My Drive/RuhaniRahman/UncertaintyRecommenderSystem/results/NextItNet/epistemic_uncertainty/most_consistent/0.00/fold_1_epoch_1\n",
      "404/404 [==============================] - 73s 180ms/step - loss: 6.8836 - CustomSparseTopKCategoricalAccuracy: 0.1083 - val_loss: 6.9572 - val_CustomSparseTopKCategoricalAccuracy: 0.1182\n",
      "model_saved\n",
      "Fold: 1  Epochs: 2  Evaluation: HR@20:  0.1662008211016655\n",
      "Model saved at: /content/drive/My Drive/RuhaniRahman/UncertaintyRecommenderSystem/results/NextItNet/epistemic_uncertainty/most_consistent/0.00/fold_1_epoch_2\n",
      "404/404 [==============================] - 73s 181ms/step - loss: 6.6883 - CustomSparseTopKCategoricalAccuracy: 0.1406 - val_loss: 6.7690 - val_CustomSparseTopKCategoricalAccuracy: 0.1546\n",
      "model_saved\n",
      "Fold: 1  Epochs: 3  Evaluation: HR@20:  0.20235695987939833\n",
      "Model saved at: /content/drive/My Drive/RuhaniRahman/UncertaintyRecommenderSystem/results/NextItNet/epistemic_uncertainty/most_consistent/0.00/fold_1_epoch_3\n",
      "404/404 [==============================] - 73s 181ms/step - loss: 6.4867 - CustomSparseTopKCategoricalAccuracy: 0.1685 - val_loss: 6.6496 - val_CustomSparseTopKCategoricalAccuracy: 0.1726\n",
      "model_saved\n",
      "Fold: 1  Epochs: 4  Evaluation: HR@20:  0.2388031914830208\n",
      "Model saved at: /content/drive/My Drive/RuhaniRahman/UncertaintyRecommenderSystem/results/NextItNet/epistemic_uncertainty/most_consistent/0.00/fold_1_epoch_4\n",
      "Fold Id: 2\n",
      "most_consistent 4.0 True [1.81986472 3.98101076 3.8046905  ... 2.68342326 3.859375   2.88145436]\n",
      "(205855, 1) (59468, 1) (2511,) (569, 1)\n",
      "403/403 [==============================] - 74s 183ms/step - loss: 7.6033 - CustomSparseTopKCategoricalAccuracy: 0.0352 - val_loss: 7.3016 - val_CustomSparseTopKCategoricalAccuracy: 0.0644\n",
      "model_saved\n",
      "Fold: 2  Epochs: 0  Evaluation: HR@20:  0.07511130720376968\n",
      "Model saved at: /content/drive/My Drive/RuhaniRahman/UncertaintyRecommenderSystem/results/NextItNet/epistemic_uncertainty/most_consistent/0.00/fold_2_epoch_0\n",
      "403/403 [==============================] - 74s 184ms/step - loss: 7.1044 - CustomSparseTopKCategoricalAccuracy: 0.0787 - val_loss: 7.0645 - val_CustomSparseTopKCategoricalAccuracy: 0.0878\n",
      "model_saved\n",
      "Fold: 2  Epochs: 1  Evaluation: HR@20:  0.1201756775379181\n",
      "Model saved at: /content/drive/My Drive/RuhaniRahman/UncertaintyRecommenderSystem/results/NextItNet/epistemic_uncertainty/most_consistent/0.00/fold_2_epoch_1\n",
      "403/403 [==============================] - 74s 183ms/step - loss: 6.9358 - CustomSparseTopKCategoricalAccuracy: 0.1004 - val_loss: 6.9132 - val_CustomSparseTopKCategoricalAccuracy: 0.1158\n",
      "model_saved\n",
      "Fold: 2  Epochs: 2  Evaluation: HR@20:  0.17078604698181152\n",
      "Model saved at: /content/drive/My Drive/RuhaniRahman/UncertaintyRecommenderSystem/results/NextItNet/epistemic_uncertainty/most_consistent/0.00/fold_2_epoch_2\n",
      "403/403 [==============================] - 74s 183ms/step - loss: 6.7284 - CustomSparseTopKCategoricalAccuracy: 0.1342 - val_loss: 6.7454 - val_CustomSparseTopKCategoricalAccuracy: 0.1459\n",
      "model_saved\n",
      "Fold: 2  Epochs: 3  Evaluation: HR@20:  0.19268586188554765\n",
      "Model saved at: /content/drive/My Drive/RuhaniRahman/UncertaintyRecommenderSystem/results/NextItNet/epistemic_uncertainty/most_consistent/0.00/fold_2_epoch_3\n",
      "403/403 [==============================] - 74s 183ms/step - loss: 6.5542 - CustomSparseTopKCategoricalAccuracy: 0.1608 - val_loss: 6.6296 - val_CustomSparseTopKCategoricalAccuracy: 0.1652\n",
      "model_saved\n",
      "Fold: 2  Epochs: 4  Evaluation: HR@20:  0.2413595974445343\n",
      "Model saved at: /content/drive/My Drive/RuhaniRahman/UncertaintyRecommenderSystem/results/NextItNet/epistemic_uncertainty/most_consistent/0.00/fold_2_epoch_4\n",
      "Fold Id: 3\n",
      "most_consistent 4.0 True [1.81986472 3.98101076 3.8046905  ... 2.68342326 3.859375   2.88145436]\n",
      "(217925, 1) (56632, 1) (2537,) (595, 1)\n",
      "426/426 [==============================] - 77s 182ms/step - loss: 7.5666 - CustomSparseTopKCategoricalAccuracy: 0.0382 - val_loss: 7.2176 - val_CustomSparseTopKCategoricalAccuracy: 0.0711\n",
      "model_saved\n",
      "Fold: 3  Epochs: 0  Evaluation: HR@20:  0.06833013445138932\n",
      "Model saved at: /content/drive/My Drive/RuhaniRahman/UncertaintyRecommenderSystem/results/NextItNet/epistemic_uncertainty/most_consistent/0.00/fold_3_epoch_0\n",
      "426/426 [==============================] - 77s 181ms/step - loss: 7.0555 - CustomSparseTopKCategoricalAccuracy: 0.0858 - val_loss: 7.0095 - val_CustomSparseTopKCategoricalAccuracy: 0.1000\n",
      "model_saved\n",
      "Fold: 3  Epochs: 1  Evaluation: HR@20:  0.13662778884172438\n",
      "Model saved at: /content/drive/My Drive/RuhaniRahman/UncertaintyRecommenderSystem/results/NextItNet/epistemic_uncertainty/most_consistent/0.00/fold_3_epoch_1\n",
      "426/426 [==============================] - 77s 181ms/step - loss: 6.8166 - CustomSparseTopKCategoricalAccuracy: 0.1219 - val_loss: 6.7845 - val_CustomSparseTopKCategoricalAccuracy: 0.1384\n",
      "model_saved\n",
      "Fold: 3  Epochs: 2  Evaluation: HR@20:  0.172502002120018\n",
      "Model saved at: /content/drive/My Drive/RuhaniRahman/UncertaintyRecommenderSystem/results/NextItNet/epistemic_uncertainty/most_consistent/0.00/fold_3_epoch_2\n",
      "426/426 [==============================] - 77s 180ms/step - loss: 6.6058 - CustomSparseTopKCategoricalAccuracy: 0.1537 - val_loss: 6.6532 - val_CustomSparseTopKCategoricalAccuracy: 0.1640\n",
      "model_saved\n",
      "Fold: 3  Epochs: 3  Evaluation: HR@20:  0.24221868962049484\n",
      "Model saved at: /content/drive/My Drive/RuhaniRahman/UncertaintyRecommenderSystem/results/NextItNet/epistemic_uncertainty/most_consistent/0.00/fold_3_epoch_3\n",
      "426/426 [==============================] - 78s 183ms/step - loss: 6.4605 - CustomSparseTopKCategoricalAccuracy: 0.1752 - val_loss: 6.5732 - val_CustomSparseTopKCategoricalAccuracy: 0.1789\n",
      "model_saved\n",
      "Fold: 3  Epochs: 4  Evaluation: HR@20:  0.2531868815422058\n",
      "Model saved at: /content/drive/My Drive/RuhaniRahman/UncertaintyRecommenderSystem/results/NextItNet/epistemic_uncertainty/most_consistent/0.00/fold_3_epoch_4\n",
      "Fold Id: 4\n",
      "most_consistent 4.0 True [1.81986472 3.98101076 3.8046905  ... 2.68342326 3.859375   2.88145436]\n",
      "(220604, 1) (58605, 1) (2528,) (586, 1)\n",
      "431/431 [==============================] - 80s 186ms/step - loss: 7.6096 - CustomSparseTopKCategoricalAccuracy: 0.0353 - val_loss: 7.2817 - val_CustomSparseTopKCategoricalAccuracy: 0.0653\n",
      "model_saved\n",
      "Fold: 4  Epochs: 0  Evaluation: HR@20:  0.07186887189745902\n",
      "Model saved at: /content/drive/My Drive/RuhaniRahman/UncertaintyRecommenderSystem/results/NextItNet/epistemic_uncertainty/most_consistent/0.00/fold_4_epoch_0\n",
      "431/431 [==============================] - 78s 182ms/step - loss: 7.0838 - CustomSparseTopKCategoricalAccuracy: 0.0810 - val_loss: 7.0626 - val_CustomSparseTopKCategoricalAccuracy: 0.0917\n",
      "model_saved\n",
      "Fold: 4  Epochs: 1  Evaluation: HR@20:  0.11859540045261383\n",
      "Model saved at: /content/drive/My Drive/RuhaniRahman/UncertaintyRecommenderSystem/results/NextItNet/epistemic_uncertainty/most_consistent/0.00/fold_4_epoch_1\n",
      "431/431 [==============================] - 79s 183ms/step - loss: 6.8729 - CustomSparseTopKCategoricalAccuracy: 0.1115 - val_loss: 6.8278 - val_CustomSparseTopKCategoricalAccuracy: 0.1332\n",
      "model_saved\n",
      "Fold: 4  Epochs: 2  Evaluation: HR@20:  0.15494223535060883\n",
      "Model saved at: /content/drive/My Drive/RuhaniRahman/UncertaintyRecommenderSystem/results/NextItNet/epistemic_uncertainty/most_consistent/0.00/fold_4_epoch_2\n",
      "431/431 [==============================] - 80s 185ms/step - loss: 6.6683 - CustomSparseTopKCategoricalAccuracy: 0.1443 - val_loss: 6.6892 - val_CustomSparseTopKCategoricalAccuracy: 0.1585\n",
      "model_saved\n",
      "Fold: 4  Epochs: 3  Evaluation: HR@20:  0.20041957944631578\n",
      "Model saved at: /content/drive/My Drive/RuhaniRahman/UncertaintyRecommenderSystem/results/NextItNet/epistemic_uncertainty/most_consistent/0.00/fold_4_epoch_3\n",
      "431/431 [==============================] - 79s 184ms/step - loss: 6.5235 - CustomSparseTopKCategoricalAccuracy: 0.1653 - val_loss: 6.5968 - val_CustomSparseTopKCategoricalAccuracy: 0.1736\n",
      "model_saved\n",
      "Fold: 4  Epochs: 4  Evaluation: HR@20:  0.22169368714094162\n",
      "Model saved at: /content/drive/My Drive/RuhaniRahman/UncertaintyRecommenderSystem/results/NextItNet/epistemic_uncertainty/most_consistent/0.00/fold_4_epoch_4\n",
      "---------------------------------------------------------------------------------------\n",
      "Technique: most_open_minded --> Retained Parcentage: 1.0\n",
      "---------------------------------------------------------------------------------------\n",
      "Fold Id: 0\n",
      "most_open_minded 16 True [13. 14. 15. ... 17. 14. 17.]\n",
      "(442262, 1) (106944, 1) (4832,) (553, 1)\n",
      "864/864 [==============================] - 157s 181ms/step - loss: 7.3329 - CustomSparseTopKCategoricalAccuracy: 0.0619 - val_loss: 7.0263 - val_CustomSparseTopKCategoricalAccuracy: 0.0986\n",
      "model_saved\n",
      "Fold: 0  Epochs: 0  Evaluation: HR@20:  0.10902630686759948\n",
      "Model saved at: /content/drive/My Drive/RuhaniRahman/UncertaintyRecommenderSystem/results/NextItNet/epistemic_uncertainty/most_open_minded/1.00/fold_0_epoch_0\n",
      "864/864 [==============================] - 156s 181ms/step - loss: 6.6731 - CustomSparseTopKCategoricalAccuracy: 0.1476 - val_loss: 6.6563 - val_CustomSparseTopKCategoricalAccuracy: 0.1596\n",
      "model_saved\n",
      "Fold: 0  Epochs: 1  Evaluation: HR@20:  0.24252274632453918\n",
      "Model saved at: /content/drive/My Drive/RuhaniRahman/UncertaintyRecommenderSystem/results/NextItNet/epistemic_uncertainty/most_open_minded/1.00/fold_0_epoch_1\n",
      "864/864 [==============================] - 156s 180ms/step - loss: 6.3973 - CustomSparseTopKCategoricalAccuracy: 0.1872 - val_loss: 6.5146 - val_CustomSparseTopKCategoricalAccuracy: 0.1816\n",
      "model_saved\n",
      "Fold: 0  Epochs: 2  Evaluation: HR@20:  0.26523242592811586\n",
      "Model saved at: /content/drive/My Drive/RuhaniRahman/UncertaintyRecommenderSystem/results/NextItNet/epistemic_uncertainty/most_open_minded/1.00/fold_0_epoch_2\n",
      "864/864 [==============================] - 154s 179ms/step - loss: 6.2331 - CustomSparseTopKCategoricalAccuracy: 0.2120 - val_loss: 6.4087 - val_CustomSparseTopKCategoricalAccuracy: 0.2000\n",
      "model_saved\n",
      "Fold: 0  Epochs: 3  Evaluation: HR@20:  0.2877295553684235\n",
      "Model saved at: /content/drive/My Drive/RuhaniRahman/UncertaintyRecommenderSystem/results/NextItNet/epistemic_uncertainty/most_open_minded/1.00/fold_0_epoch_3\n",
      "864/864 [==============================] - 157s 182ms/step - loss: 6.1270 - CustomSparseTopKCategoricalAccuracy: 0.2291 - val_loss: 6.3637 - val_CustomSparseTopKCategoricalAccuracy: 0.2085\n",
      "model_saved\n",
      "Fold: 0  Epochs: 4  Evaluation: HR@20:  0.3101439505815506\n",
      "Model saved at: /content/drive/My Drive/RuhaniRahman/UncertaintyRecommenderSystem/results/NextItNet/epistemic_uncertainty/most_open_minded/1.00/fold_0_epoch_4\n",
      "Fold Id: 1\n",
      "most_open_minded 16 True [13. 14. 15. ... 17. 14. 17.]\n",
      "(440818, 1) (106938, 1) (4832,) (541, 1)\n",
      "861/861 [==============================] - 154s 179ms/step - loss: 7.3678 - CustomSparseTopKCategoricalAccuracy: 0.0585 - val_loss: 7.0642 - val_CustomSparseTopKCategoricalAccuracy: 0.0910\n",
      "model_saved\n",
      "Fold: 1  Epochs: 0  Evaluation: HR@20:  0.11682458966970444\n",
      "Model saved at: /content/drive/My Drive/RuhaniRahman/UncertaintyRecommenderSystem/results/NextItNet/epistemic_uncertainty/most_open_minded/1.00/fold_1_epoch_0\n",
      "861/861 [==============================] - 155s 180ms/step - loss: 6.8054 - CustomSparseTopKCategoricalAccuracy: 0.1265 - val_loss: 6.7258 - val_CustomSparseTopKCategoricalAccuracy: 0.1474\n",
      "model_saved\n",
      "Fold: 1  Epochs: 1  Evaluation: HR@20:  0.1816301390528679\n",
      "Model saved at: /content/drive/My Drive/RuhaniRahman/UncertaintyRecommenderSystem/results/NextItNet/epistemic_uncertainty/most_open_minded/1.00/fold_1_epoch_1\n",
      "861/861 [==============================] - 152s 177ms/step - loss: 6.4610 - CustomSparseTopKCategoricalAccuracy: 0.1808 - val_loss: 6.4847 - val_CustomSparseTopKCategoricalAccuracy: 0.1882\n",
      "model_saved\n",
      "Fold: 1  Epochs: 2  Evaluation: HR@20:  0.23144889026880264\n",
      "Model saved at: /content/drive/My Drive/RuhaniRahman/UncertaintyRecommenderSystem/results/NextItNet/epistemic_uncertainty/most_open_minded/1.00/fold_1_epoch_2\n",
      "861/861 [==============================] - 154s 179ms/step - loss: 6.2666 - CustomSparseTopKCategoricalAccuracy: 0.2100 - val_loss: 6.3875 - val_CustomSparseTopKCategoricalAccuracy: 0.2021\n",
      "model_saved\n",
      "Fold: 1  Epochs: 3  Evaluation: HR@20:  0.27193996906280515\n",
      "Model saved at: /content/drive/My Drive/RuhaniRahman/UncertaintyRecommenderSystem/results/NextItNet/epistemic_uncertainty/most_open_minded/1.00/fold_1_epoch_3\n",
      "861/861 [==============================] - 154s 178ms/step - loss: 6.1618 - CustomSparseTopKCategoricalAccuracy: 0.2248 - val_loss: 6.3441 - val_CustomSparseTopKCategoricalAccuracy: 0.2095\n",
      "model_saved\n",
      "Fold: 1  Epochs: 4  Evaluation: HR@20:  0.2773940831422806\n",
      "Model saved at: /content/drive/My Drive/RuhaniRahman/UncertaintyRecommenderSystem/results/NextItNet/epistemic_uncertainty/most_open_minded/1.00/fold_1_epoch_4\n",
      "Fold Id: 2\n",
      "most_open_minded 16 True [13. 14. 15. ... 17. 14. 17.]\n",
      "(436066, 1) (111856, 1) (4832,) (561, 1)\n",
      "852/852 [==============================] - 154s 181ms/step - loss: 7.3930 - CustomSparseTopKCategoricalAccuracy: 0.0561 - val_loss: 7.0159 - val_CustomSparseTopKCategoricalAccuracy: 0.0913\n",
      "model_saved\n",
      "Fold: 2  Epochs: 0  Evaluation: HR@20:  0.10805456489324569\n",
      "Model saved at: /content/drive/My Drive/RuhaniRahman/UncertaintyRecommenderSystem/results/NextItNet/epistemic_uncertainty/most_open_minded/1.00/fold_2_epoch_0\n",
      "852/852 [==============================] - 152s 179ms/step - loss: 6.8425 - CustomSparseTopKCategoricalAccuracy: 0.1229 - val_loss: 6.6590 - val_CustomSparseTopKCategoricalAccuracy: 0.1526\n",
      "model_saved\n",
      "Fold: 2  Epochs: 1  Evaluation: HR@20:  0.1862211763858795\n",
      "Model saved at: /content/drive/My Drive/RuhaniRahman/UncertaintyRecommenderSystem/results/NextItNet/epistemic_uncertainty/most_open_minded/1.00/fold_2_epoch_1\n",
      "852/852 [==============================] - 157s 184ms/step - loss: 6.5035 - CustomSparseTopKCategoricalAccuracy: 0.1756 - val_loss: 6.4028 - val_CustomSparseTopKCategoricalAccuracy: 0.1939\n",
      "model_saved\n",
      "Fold: 2  Epochs: 2  Evaluation: HR@20:  0.24892361909151078\n",
      "Model saved at: /content/drive/My Drive/RuhaniRahman/UncertaintyRecommenderSystem/results/NextItNet/epistemic_uncertainty/most_open_minded/1.00/fold_2_epoch_2\n",
      "852/852 [==============================] - 157s 184ms/step - loss: 6.3069 - CustomSparseTopKCategoricalAccuracy: 0.2046 - val_loss: 6.2972 - val_CustomSparseTopKCategoricalAccuracy: 0.2127\n",
      "model_saved\n",
      "Fold: 2  Epochs: 3  Evaluation: HR@20:  0.2727655410766602\n",
      "Model saved at: /content/drive/My Drive/RuhaniRahman/UncertaintyRecommenderSystem/results/NextItNet/epistemic_uncertainty/most_open_minded/1.00/fold_2_epoch_3\n",
      "852/852 [==============================] - 157s 185ms/step - loss: 6.1964 - CustomSparseTopKCategoricalAccuracy: 0.2224 - val_loss: 6.2418 - val_CustomSparseTopKCategoricalAccuracy: 0.2209\n",
      "model_saved\n",
      "Fold: 2  Epochs: 4  Evaluation: HR@20:  0.30145629942417146\n",
      "Model saved at: /content/drive/My Drive/RuhaniRahman/UncertaintyRecommenderSystem/results/NextItNet/epistemic_uncertainty/most_open_minded/1.00/fold_2_epoch_4\n",
      "Fold Id: 3\n",
      "most_open_minded 16 True [13. 14. 15. ... 17. 14. 17.]\n",
      "(450972, 1) (98421, 1) (4832,) (546, 1)\n",
      "881/881 [==============================] - 160s 181ms/step - loss: 7.3640 - CustomSparseTopKCategoricalAccuracy: 0.0586 - val_loss: 6.9955 - val_CustomSparseTopKCategoricalAccuracy: 0.0954\n",
      "model_saved\n",
      "Fold: 3  Epochs: 0  Evaluation: HR@20:  0.09187263920903206\n",
      "Model saved at: /content/drive/My Drive/RuhaniRahman/UncertaintyRecommenderSystem/results/NextItNet/epistemic_uncertainty/most_open_minded/1.00/fold_3_epoch_0\n",
      "881/881 [==============================] - 157s 179ms/step - loss: 6.8175 - CustomSparseTopKCategoricalAccuracy: 0.1246 - val_loss: 6.6581 - val_CustomSparseTopKCategoricalAccuracy: 0.1522\n",
      "model_saved\n",
      "Fold: 3  Epochs: 1  Evaluation: HR@20:  0.18498161435127258\n",
      "Model saved at: /content/drive/My Drive/RuhaniRahman/UncertaintyRecommenderSystem/results/NextItNet/epistemic_uncertainty/most_open_minded/1.00/fold_3_epoch_1\n",
      "881/881 [==============================] - 157s 178ms/step - loss: 6.5079 - CustomSparseTopKCategoricalAccuracy: 0.1728 - val_loss: 6.4518 - val_CustomSparseTopKCategoricalAccuracy: 0.1872\n",
      "model_saved\n",
      "Fold: 3  Epochs: 2  Evaluation: HR@20:  0.2290513277053833\n",
      "Model saved at: /content/drive/My Drive/RuhaniRahman/UncertaintyRecommenderSystem/results/NextItNet/epistemic_uncertainty/most_open_minded/1.00/fold_3_epoch_2\n",
      "881/881 [==============================] - 157s 178ms/step - loss: 6.3300 - CustomSparseTopKCategoricalAccuracy: 0.2004 - val_loss: 6.3564 - val_CustomSparseTopKCategoricalAccuracy: 0.2014\n",
      "model_saved\n",
      "Fold: 3  Epochs: 3  Evaluation: HR@20:  0.2575172305107117\n",
      "Model saved at: /content/drive/My Drive/RuhaniRahman/UncertaintyRecommenderSystem/results/NextItNet/epistemic_uncertainty/most_open_minded/1.00/fold_3_epoch_3\n",
      "881/881 [==============================] - 157s 178ms/step - loss: nan - CustomSparseTopKCategoricalAccuracy: 0.2064 - val_loss: nan - val_CustomSparseTopKCategoricalAccuracy: 0.0000e+00\n",
      "Fold: 3  Epochs: 4  Evaluation: HR@20:  0.0\n",
      "Model saved at: /content/drive/My Drive/RuhaniRahman/UncertaintyRecommenderSystem/results/NextItNet/epistemic_uncertainty/most_open_minded/1.00/fold_3_epoch_4\n",
      "Fold Id: 4\n",
      "most_open_minded 16 True [13. 14. 15. ... 17. 14. 17.]\n",
      "(451678, 1) (96791, 1) (4832,) (533, 1)\n",
      "883/883 [==============================] - 158s 178ms/step - loss: 7.3535 - CustomSparseTopKCategoricalAccuracy: 0.0584 - val_loss: 7.0211 - val_CustomSparseTopKCategoricalAccuracy: 0.0927\n",
      "model_saved\n",
      "Fold: 4  Epochs: 0  Evaluation: HR@20:  0.10660718083381653\n",
      "Model saved at: /content/drive/My Drive/RuhaniRahman/UncertaintyRecommenderSystem/results/NextItNet/epistemic_uncertainty/most_open_minded/1.00/fold_4_epoch_0\n",
      "883/883 [==============================] - 158s 179ms/step - loss: 6.8072 - CustomSparseTopKCategoricalAccuracy: 0.1276 - val_loss: 6.5722 - val_CustomSparseTopKCategoricalAccuracy: 0.1672\n",
      "model_saved\n",
      "Fold: 4  Epochs: 1  Evaluation: HR@20:  0.195178759098053\n",
      "Model saved at: /content/drive/My Drive/RuhaniRahman/UncertaintyRecommenderSystem/results/NextItNet/epistemic_uncertainty/most_open_minded/1.00/fold_4_epoch_1\n",
      "883/883 [==============================] - 157s 178ms/step - loss: 6.4439 - CustomSparseTopKCategoricalAccuracy: 0.1820 - val_loss: 6.3658 - val_CustomSparseTopKCategoricalAccuracy: 0.1996\n",
      "model_saved\n",
      "Fold: 4  Epochs: 2  Evaluation: HR@20:  0.24466437548398973\n",
      "Model saved at: /content/drive/My Drive/RuhaniRahman/UncertaintyRecommenderSystem/results/NextItNet/epistemic_uncertainty/most_open_minded/1.00/fold_4_epoch_2\n",
      "883/883 [==============================] - 157s 178ms/step - loss: 6.2822 - CustomSparseTopKCategoricalAccuracy: 0.2063 - val_loss: 6.2741 - val_CustomSparseTopKCategoricalAccuracy: 0.2140\n",
      "model_saved\n",
      "Fold: 4  Epochs: 3  Evaluation: HR@20:  0.27532148361206055\n",
      "Model saved at: /content/drive/My Drive/RuhaniRahman/UncertaintyRecommenderSystem/results/NextItNet/epistemic_uncertainty/most_open_minded/1.00/fold_4_epoch_3\n",
      "883/883 [==============================] - 158s 178ms/step - loss: 6.1809 - CustomSparseTopKCategoricalAccuracy: 0.2213 - val_loss: 6.2154 - val_CustomSparseTopKCategoricalAccuracy: 0.2251\n",
      "model_saved\n",
      "Fold: 4  Epochs: 4  Evaluation: HR@20:  0.29474477767944335\n",
      "Model saved at: /content/drive/My Drive/RuhaniRahman/UncertaintyRecommenderSystem/results/NextItNet/epistemic_uncertainty/most_open_minded/1.00/fold_4_epoch_4\n",
      "---------------------------------------------------------------------------------------\n",
      "Technique: most_open_minded --> Retained Parcentage: 0.75\n",
      "---------------------------------------------------------------------------------------\n",
      "Fold Id: 0\n",
      "most_open_minded 16 True [13. 14. 15. ... 17. 14. 17.]\n",
      "(344565, 1) (106944, 1) (4286,) (553, 1)\n",
      "673/673 [==============================] - 127s 188ms/step - loss: 7.4270 - CustomSparseTopKCategoricalAccuracy: 0.0518 - val_loss: 7.1267 - val_CustomSparseTopKCategoricalAccuracy: 0.0803\n",
      "model_saved\n",
      "Fold: 0  Epochs: 0  Evaluation: HR@20:  0.08002002015709878\n",
      "Model saved at: /content/drive/My Drive/RuhaniRahman/UncertaintyRecommenderSystem/results/NextItNet/epistemic_uncertainty/most_open_minded/0.75/fold_0_epoch_0\n",
      "673/673 [==============================] - 126s 187ms/step - loss: 6.8879 - CustomSparseTopKCategoricalAccuracy: 0.1118 - val_loss: 6.8475 - val_CustomSparseTopKCategoricalAccuracy: 0.1281\n",
      "model_saved\n",
      "Fold: 0  Epochs: 1  Evaluation: HR@20:  0.15410129576921464\n",
      "Model saved at: /content/drive/My Drive/RuhaniRahman/UncertaintyRecommenderSystem/results/NextItNet/epistemic_uncertainty/most_open_minded/0.75/fold_0_epoch_1\n",
      "673/673 [==============================] - 125s 186ms/step - loss: 6.5938 - CustomSparseTopKCategoricalAccuracy: 0.1570 - val_loss: 6.6443 - val_CustomSparseTopKCategoricalAccuracy: 0.1623\n",
      "model_saved\n",
      "Fold: 0  Epochs: 2  Evaluation: HR@20:  0.22664377391338347\n",
      "Model saved at: /content/drive/My Drive/RuhaniRahman/UncertaintyRecommenderSystem/results/NextItNet/epistemic_uncertainty/most_open_minded/0.75/fold_0_epoch_2\n",
      "673/673 [==============================] - 126s 187ms/step - loss: 6.3810 - CustomSparseTopKCategoricalAccuracy: 0.1901 - val_loss: 6.5162 - val_CustomSparseTopKCategoricalAccuracy: 0.1844\n",
      "model_saved\n",
      "Fold: 0  Epochs: 3  Evaluation: HR@20:  0.27327197790145874\n",
      "Model saved at: /content/drive/My Drive/RuhaniRahman/UncertaintyRecommenderSystem/results/NextItNet/epistemic_uncertainty/most_open_minded/0.75/fold_0_epoch_3\n",
      "641/673 [===========================>..] - ETA: 5s - loss: 6.2418 - CustomSparseTopKCategoricalAccuracy: 0.2115"
     ]
    }
   ],
   "source": [
    "k_fold = 5\n",
    "max_epochs = 5\n",
    "batch_size = 512\n",
    "\n",
    "for between_user_technique in between_user_data_reduction_techniques:\n",
    "    for retained_parcent in retained_user_parcentages:\n",
    "        print('---------------------------------------------------------------------------------------')\n",
    "        print('Technique:', between_user_technique, '--> Retained Parcentage:', retained_parcent)\n",
    "        print('---------------------------------------------------------------------------------------')\n",
    "        for fold in range(k_fold):\n",
    "            print('Fold Id:', fold)\n",
    "            train_set, validation_set, test_set = spliter.split_between_user_strategy(\n",
    "                                                            fold_id=fold, \n",
    "                                                            retained_parcent=retained_parcent,\n",
    "                                                            name=between_user_technique, \n",
    "                                                            between_users=between_users\n",
    "                                                        )\n",
    "            \n",
    "            # model_base = CosRec(data, T=10).get_model()\n",
    "            \n",
    "            model_base = NextItNet(data, T=10).get_model()\n",
    "            max_HR = 0\n",
    "\n",
    "            for epochs in range(max_epochs):\n",
    "\n",
    "                model_base = model_train(model_base, train_set, validation_set, max_epochs, batch_size)\n",
    "\n",
    "                hr = getHitRate(model_base, test_set, T=10)\n",
    "                if hr > max_HR:\n",
    "                    max_HR = hr\n",
    "                    model_base.save_weights(model_saved_location + between_user_technique + '/%.2f/best_models/'%(retained_parcent) + 'fold_%i_best_model'%(fold))\n",
    "                    print('model_saved')\n",
    "\n",
    "                # hr_metrics[fold, epochs, :] = np.array(hr)\n",
    "                print('Fold:', fold, ' Epochs:', epochs, ' Evaluation: HR@20: ', hr)\n",
    "\n",
    "                # y_pred = predict(model_base, data.test, data)\n",
    "                # hit_rate = calculate_hit_rate(data, test_set, y_pred)\n",
    "\n",
    "                # if hit_rate[2] > max_HR:\n",
    "                #     max_HR = hit_rate[2]\n",
    "                #     model_base.save_weights(model_saved_location + between_user_technique + '/%.2f/best_models/'%(retained_parcent) + 'fold_%i_best_model'%(fold))\n",
    "                #     print('model_saved')\n",
    "\n",
    "                # hr_metrics[fold, epochs, :] = np.array(hit_rate)\n",
    "                # print('Fold:', fold, ' Epochs:', epochs, ' Evaluation: HR@5: ', hit_rate[0], ' HR@10: ', hit_rate[1],  'HR@20: ', hit_rate[2])\n",
    "\n",
    "                model_base.save_weights(get_check_point_file_name(fold, epochs, folder_path=between_user_technique + '/%.2f/'%(retained_parcent)))"
   ]
  },
  {
   "cell_type": "markdown",
   "metadata": {
    "id": "j5LVPPp4OZrV"
   },
   "source": [
    "### Evaluation"
   ]
  },
  {
   "cell_type": "code",
   "execution_count": null,
   "metadata": {
    "colab": {
     "base_uri": "https://localhost:8080/"
    },
    "executionInfo": {
     "elapsed": 11797,
     "status": "ok",
     "timestamp": 1666285617870,
     "user": {
      "displayName": "Research Group",
      "userId": "07008499032580121461"
     },
     "user_tz": 240
    },
    "id": "zk-Ih5mEVerm",
    "outputId": "11267eb0-51d0-42cc-955b-7b066e6254cb"
   },
   "outputs": [
    {
     "name": "stdout",
     "output_type": "stream",
     "text": [
      "Drive already mounted at /content/drive; to attempt to forcibly remount, call drive.mount(\"/content/drive\", force_remount=True).\n",
      "Root /content/drive/My Drive/RuhaniRahman/UncertaintyRecommenderSystem/data\n"
     ]
    },
    {
     "name": "stderr",
     "output_type": "stream",
     "text": [
      "/usr/local/lib/python3.7/dist-packages/ipykernel_launcher.py:66: VisibleDeprecationWarning: Creating an ndarray from ragged nested sequences (which is a list-or-tuple of lists-or-tuples-or ndarrays with different lengths or shapes) is deprecated. If you meant to do this, you must specify 'dtype=object' when creating the ndarray.\n",
      "/usr/local/lib/python3.7/dist-packages/ipykernel_launcher.py:67: VisibleDeprecationWarning: Creating an ndarray from ragged nested sequences (which is a list-or-tuple of lists-or-tuples-or ndarrays with different lengths or shapes) is deprecated. If you meant to do this, you must specify 'dtype=object' when creating the ndarray.\n"
     ]
    },
    {
     "name": "stdout",
     "output_type": "stream",
     "text": [
      "num_users =  6040\n",
      "num_items =  3416\n"
     ]
    },
    {
     "name": "stderr",
     "output_type": "stream",
     "text": [
      "/usr/local/lib/python3.7/dist-packages/ipykernel_launcher.py:186: VisibleDeprecationWarning: Creating an ndarray from ragged nested sequences (which is a list-or-tuple of lists-or-tuples-or ndarrays with different lengths or shapes) is deprecated. If you meant to do this, you must specify 'dtype=object' when creating the ndarray.\n"
     ]
    },
    {
     "name": "stdout",
     "output_type": "stream",
     "text": [
      "test.targets.shape: (6040, 1)\n",
      "test.users.shape: (6040, 1)\n",
      "test.sequences.shape: (6040, 5)\n"
     ]
    }
   ],
   "source": [
    "### Sequence Length = 5 initialize\n",
    "'''\n",
    "data, spliter = init(\n",
    "                     sequence_length=5,\n",
    "                     target_length=1,\n",
    "                     seed=123,\n",
    "                     k_fold=5\n",
    ")\n",
    "'''"
   ]
  },
  {
   "cell_type": "code",
   "execution_count": null,
   "metadata": {
    "id": "2HIVGssIXKnG"
   },
   "outputs": [],
   "source": [
    "between_user_data_reduction_techniques = [\n",
    "    # 'nicest', #[Done]\n",
    "    # 'harshest', #[Done]\n",
    "    # 'most_active', #[Done]\n",
    "    # 'least_active', #[Done]\n",
    "    'most_consistent', #[Done]\n",
    "    # 'least_consistent', #[Done]\n",
    "    'most_open_minded', #[Done]\n",
    "    # 'least_open_minded', #[Done]\n",
    "    # 'most_typical', \n",
    "    # 'least_typical',\n",
    "]\n",
    "\n",
    "retained_user_parcentages = [\n",
    "    1.00, \n",
    "    0.75, \n",
    "    0.50, \n",
    "    0.25, \n",
    "    0.00\n",
    "]\n",
    "\n",
    "data, spliter = init(\n",
    "                     sequence_length=100,\n",
    "                     target_length=1,\n",
    "                     seed=2022,\n",
    "                     k_fold=5\n",
    ")\n"
   ]
  },
  {
   "cell_type": "code",
   "execution_count": null,
   "metadata": {
    "id": "bJYf0irMnNf7"
   },
   "outputs": [],
   "source": [
    "batch_size = 512\n",
    "\n",
    "# Load Model and Evaluate\n",
    "for between_user_technique in between_user_data_reduction_techniques:\n",
    "    hr_metrics = np.zeros((len(retained_user_parcentages), spliter.k_fold, 2))\n",
    "    for ind, retained_parcent in enumerate(retained_user_parcentages):\n",
    "        print('---------------------------------------------------------------------------------------')\n",
    "        print('Technique:', between_user_technique, '--> Retained Parcentage:', retained_parcent)\n",
    "        print('---------------------------------------------------------------------------------------')\n",
    "\n",
    "        user_epistemic_uncertainty = np.zeros(data.num_users)\n",
    "        for fold in range(spliter.k_fold):\n",
    "            print('Fold Id:', fold)\n",
    "\n",
    "            # Getting train, validation and test instances from the data using the between user data reduction startegy\n",
    "            train_set, validation_set, test_set = spliter.split_between_user_strategy(\n",
    "                                                            fold_id=fold, \n",
    "                                                            retained_parcent=retained_parcent,\n",
    "                                                            name=between_user_technique,\n",
    "                                                            between_users=between_users\n",
    "                                                        )\n",
    "            # Model initialization\n",
    "            model_base = NextItNet(data, T=10).get_model()\n",
    "\n",
    "            # Get savevd model location\n",
    "            model_location = model_saved_location + between_user_technique + '/%.2f/best_models/fold_%i_best_model'%(retained_parcent, fold)\n",
    "            # Load weights to model\n",
    "            print(model_location)\n",
    "            model_base.load_weights(model_location)\n",
    "\n",
    "            # model_base.predict(test_set.se)\n",
    "            prediction_probabilities, prediction_variances = montecarlo_prediction(model_base, test_set, T=10)\n",
    "            # print(test_set.users.squeeze().shape)\n",
    "            # print(test_set.users.squeeze())\n",
    "            user_epistemic_uncertainty[test_set.users.squeeze()] = prediction_variances\n",
    "\n",
    "            # hit_rate = calculate_hit_rate(data, test_set, prediction_probabilities)\n",
    "            hr = getHitRate(model_base, test_set, T=10)\n",
    "\n",
    "            hr_metrics[ind, fold, :] = np.array([hr, np.average(prediction_variances)])\n",
    "                                                \n",
    "            # print('Retained User:', retained_parcent, 'Fold:', fold, ' Evaluation: HR@20: ', hit_rate[2], ' Epistemic Uncertainty: ', np.average(prediction_variances))\n",
    "        \n",
    "        location = model_saved_location + between_user_technique +'_user_ep_un_%.2f'%(retained_parcent)\n",
    "        with open(location,'wb') as f:\n",
    "            pickle.dump(user_epistemic_uncertainty,f)\n",
    "\n",
    "    with open(model_saved_location + between_user_technique + '_metrics', 'wb') as f:\n",
    "        pickle.dump(hr_metrics,f)"
   ]
  },
  {
   "cell_type": "code",
   "execution_count": null,
   "metadata": {
    "colab": {
     "base_uri": "https://localhost:8080/"
    },
    "executionInfo": {
     "elapsed": 6,
     "status": "ok",
     "timestamp": 1667531396001,
     "user": {
      "displayName": "Research Group",
      "userId": "07008499032580121461"
     },
     "user_tz": 240
    },
    "id": "dT2JgJhFEyHa",
    "outputId": "030d9275-41d1-4de1-e279-3a013798421c"
   },
   "outputs": [
    {
     "data": {
      "text/plain": [
       "array([[[0.27209753, 6.48334491],\n",
       "        [0.2810612 , 6.50283888],\n",
       "        [0.29378231, 6.42969043],\n",
       "        [0.2945322 , 6.51456569],\n",
       "        [0.27290562, 6.42028243]],\n",
       "\n",
       "       [[0.25446831, 6.4656677 ],\n",
       "        [0.24939868, 6.52972521],\n",
       "        [0.26684053, 6.47130551],\n",
       "        [0.28523976, 6.49623305],\n",
       "        [0.25460317, 6.43073793]],\n",
       "\n",
       "       [[0.20468664, 6.64821211],\n",
       "        [0.2049211 , 6.64702376],\n",
       "        [0.21896215, 6.66377618],\n",
       "        [0.19543727, 6.66573698],\n",
       "        [0.22845163, 6.55845391]],\n",
       "\n",
       "       [[0.13808041, 6.9594059 ],\n",
       "        [0.12793116, 6.8950372 ],\n",
       "        [0.13223788, 6.94764452],\n",
       "        [0.09956425, 7.00637828],\n",
       "        [0.13057151, 6.92893838]],\n",
       "\n",
       "       [[0.04180273, 8.0225098 ],\n",
       "        [0.03196268, 7.84141588],\n",
       "        [0.03456535, 7.97385203],\n",
       "        [0.02394453, 7.8796126 ],\n",
       "        [0.02716618, 7.64015899]]])"
      ]
     },
     "execution_count": 16,
     "metadata": {},
     "output_type": "execute_result"
    }
   ],
   "source": [
    "hr_metrics"
   ]
  },
  {
   "cell_type": "markdown",
   "metadata": {
    "id": "u3rpHathee7D"
   },
   "source": [
    "## Graphs"
   ]
  },
  {
   "cell_type": "markdown",
   "metadata": {
    "id": "KOPdyrhxKXmZ"
   },
   "source": [
    "### Figure *2*"
   ]
  },
  {
   "cell_type": "code",
   "execution_count": null,
   "metadata": {
    "id": "rQ1oK_z2KfNN"
   },
   "outputs": [],
   "source": []
  },
  {
   "cell_type": "markdown",
   "metadata": {
    "id": "IiI4gE6-KgC6"
   },
   "source": [
    "### Figure 3"
   ]
  },
  {
   "cell_type": "code",
   "execution_count": null,
   "metadata": {
    "id": "WrOtIUJUV_mb"
   },
   "outputs": [],
   "source": []
  },
  {
   "cell_type": "markdown",
   "metadata": {
    "id": "Hd1rrQyh0-ok"
   },
   "source": [
    "### Figure 5"
   ]
  },
  {
   "cell_type": "code",
   "execution_count": null,
   "metadata": {
    "id": "3dcD_hKTei4w"
   },
   "outputs": [],
   "source": [
    "## https://stackoverflow.com/questions/52314094/grouped-boxplot-with-2-y-axes-2-plotted-variables-per-x-tick\n",
    "\n",
    "def model_un_plots(model_name, un_low=5.0, un_high=8, hr_low=0.0, hr_high=1.00):\n",
    "    with open(model_saved_location + model_name + '_metrics','rb') as f:\n",
    "        metrics = pickle.load(f)\n",
    "\n",
    "    fig, ax1 = plt.subplots(figsize=(7,4))\n",
    "\n",
    "    retained_perc = ['0%', '25%', '50%', '75%', '100%']\n",
    "\n",
    "\n",
    "    ax1.set_ylabel('Epistemic uncertainty', color='tab:orange',fontsize=25)\n",
    "    ax1.set_ylim(un_low,un_high)\n",
    "    res1 = ax1.boxplot(\n",
    "            metrics[:,:,1], positions = np.arange(5)-0.25, widths=0.4,\n",
    "            patch_artist=True,\n",
    "            meanline=True, \n",
    "            showmeans=True\n",
    "    )\n",
    "\n",
    "    for patch in res1['boxes']:\n",
    "        patch.set_facecolor('tab:orange')\n",
    "\n",
    "    ax2 = ax1.twinx()  # instantiate a second axes that shares the same x-axis\n",
    "    ax2.set_ylabel('HR@20', color='tab:blue',fontsize=25)\n",
    "    ax2.set_ylim(hr_low,hr_high)\n",
    "    res2 = ax2.boxplot(\n",
    "        metrics[:,:,0], positions = np.arange(5)+0.25, widths=0.4,\n",
    "        patch_artist=True,\n",
    "        meanline=True, \n",
    "        showmeans=True\n",
    "    )\n",
    "\n",
    "    for patch in res2['boxes']:\n",
    "        patch.set_facecolor('tab:blue')\n",
    "\n",
    "    ax1.set_xlim([-0.55, 4.55])\n",
    "    ax1.set_xticks(np.arange(5))\n",
    "    ax1.set_xticklabels(retained_perc)\n",
    "\n",
    "    fig.tight_layout()  # otherwise the right y-label is slightly clipped\n",
    "    plt.show()"
   ]
  },
  {
   "cell_type": "code",
   "execution_count": null,
   "metadata": {
    "colab": {
     "base_uri": "https://localhost:8080/",
     "height": 681
    },
    "executionInfo": {
     "elapsed": 1228,
     "status": "ok",
     "timestamp": 1667531397601,
     "user": {
      "displayName": "Research Group",
      "userId": "07008499032580121461"
     },
     "user_tz": 240
    },
    "id": "juWWMQRp3vft",
    "outputId": "2ddd9f79-eac4-4132-e368-89337ea1297d"
   },
   "outputs": [
    {
     "name": "stdout",
     "output_type": "stream",
     "text": [
      "---------------------------------------------------------------------------------------\n",
      "Between User Data Reduction Technique: nicest\n",
      "---------------------------------------------------------------------------------------\n"
     ]
    },
    {
     "data": {
      "image/png": "[encoded data removed]",
      "text/plain": [
       "<Figure size 504x288 with 2 Axes>"
      ]
     },
     "metadata": {},
     "output_type": "display_data"
    },
    {
     "name": "stdout",
     "output_type": "stream",
     "text": [
      "---------------------------------------------------------------------------------------\n",
      "Between User Data Reduction Technique: most_active\n",
      "---------------------------------------------------------------------------------------\n"
     ]
    },
    {
     "data": {
      "image/png": "[encoded data removed]",
      "text/plain": [
       "<Figure size 504x288 with 2 Axes>"
      ]
     },
     "metadata": {},
     "output_type": "display_data"
    }
   ],
   "source": [
    "### Which Between User Data Reduction Strategy Graphs will be generated\n",
    "model_saved_location = '/content/drive/My Drive/RuhaniRahman/UncertaintyRecommenderSystem/results/NextItNet/epistemic_uncertainty/'\n",
    "\n",
    "between_user_data_reduction_techniques = [\n",
    "    'nicest', #[Done]\n",
    "    # 'harshest', #[Done]\n",
    "    'most_active', #[Done]\n",
    "    # 'least_active', #[Done]\n",
    "    # 'most_consistent', #[Done]\n",
    "    # 'least_consistent', #[Done]\n",
    "    # 'most_open_minded', #[Done]\n",
    "    # 'least_open_minded', #[Done]\n",
    "    # 'most_typical', \n",
    "    # 'least_typical',\n",
    "]\n",
    "\n",
    "for between_user_technique in between_user_data_reduction_techniques:\n",
    "    print('---------------------------------------------------------------------------------------')\n",
    "    print('Between User Data Reduction Technique:', between_user_technique)\n",
    "    print('---------------------------------------------------------------------------------------')\n",
    "\n",
    "    model_un_plots(between_user_technique, un_low=5.0, un_high=8, hr_low=0.00, hr_high=1.00)"
   ]
  },
  {
   "cell_type": "code",
   "execution_count": null,
   "metadata": {
    "id": "WxQnJotpiqd2"
   },
   "outputs": [],
   "source": [
    "# @deprecated(\"use the new function\")\n",
    "# def model_un_plots(model_name):\n",
    "#     with open(model_saved_location + model_name,'rb') as f:\n",
    "#         metrics = pickle.load(f)\n",
    "#     plt.figure(figsize=(15,5))\n",
    "#     plt.subplot(121)\n",
    "#     plt.title('%s_model_un'%model_name)\n",
    "#     plt.boxplot([metrics[0,:,1], metrics[1,:,1], metrics[2,:,1], metrics[3,:,1], metrics[4,:,1]], meanline=True, showmeans=True)\n",
    "#     plt.subplot(122)\n",
    "#     plt.title('%s_hr@20'%model_name)\n",
    "#     plt.boxplot([metrics[0,:,0], metrics[1,:,0], metrics[2,:,0], metrics[3,:,0], metrics[4,:,0]], meanline=True, showmeans=True)\n",
    "#     plt.show()"
   ]
  },
  {
   "cell_type": "markdown",
   "metadata": {
    "id": "0XRm4vtywDiE"
   },
   "source": [
    "### Figure 6: \n",
    "Epistemic Uncertainty Change vs. user characteristics\n",
    "\n",
    "\n",
    "> Take each users uncertainty results caculated in the montecarlo_prediction method. The non-targeted users uncertainty results would be 0. e.g. for nicest users, non-targeted users are those whose average rating is less the threshold (7.5). The nicest users will have some epistemic uncertainty. Save that information in a file and plot the graphs with their average ratings.\n",
    "> * x-axis is the uncertainty value of the user<br>\n",
    "> np.log(model_uncertainty of the user/model_uncertainty of the user for a full model)\n",
    "> * y-axis is the average value of the ratings of that user\n",
    "\n",
    "\n"
   ]
  },
  {
   "cell_type": "code",
   "execution_count": null,
   "metadata": {
    "id": "8focc-azmH_s"
   },
   "outputs": [],
   "source": [
    "def plot_delta_model_un(retained_parcent, between_user_data_reduction_strategy_name='nicest', color='blue'):\n",
    "    # load full model un_model_full\n",
    "    threshold = between_users[between_user_data_reduction_strategy_name]['threshold']\n",
    "    isMost = between_users[between_user_data_reduction_strategy_name]['isMost']\n",
    "    split_array = between_users[between_user_data_reduction_strategy_name]['split_array']\n",
    "    x_label = between_users[between_user_data_reduction_strategy_name]['x_label']\n",
    "\n",
    "    print(between_user_data_reduction_strategy_name, threshold, isMost, split_array)\n",
    "\n",
    "    location = model_saved_location + between_user_data_reduction_strategy_name + '_user_ep_un_%.2f'%(retained_parcent)\n",
    "    location_full = model_saved_location + between_user_data_reduction_strategy_name + '_user_ep_un_1.00'\n",
    "    # split_array = np.array([np.mean(data.user_ratings[user_id]) for user_id in range(data.num_users)])\n",
    "\n",
    "    with open(location_full, 'rb') as f:\n",
    "        un_model_full = pickle.load(f)\n",
    "    with open(location, 'rb') as f:\n",
    "        un_model_par = pickle.load(f)\n",
    "    idx = np.where(un_model_par != 0)[0]\n",
    "    print('X values', split_array[idx])\n",
    "    plt.figure(figsize=(8,4))\n",
    "    plt.plot(split_array[idx], np.log(np.divide(un_model_par[idx], un_model_full[idx])),  '.', color=color)\n",
    "    plt.ylabel('Difference of\\nepistemic uncertainty:\\nlog(' + between_user_data_reduction_strategy_name +'('+str(retained_parcent*100)+'%)/Full)',fontsize=25)\n",
    "    plt.xlabel(x_label,fontsize=25)\n",
    "    plt.ylim(-1,1)\n",
    "    #     #plt.show()\n",
    "    # else:\n",
    "    #     plt.plot(x_similarity[idx], np.log(np.divide(un_model_par[idx], un_model_full[idx])),  '.', color=color)\n",
    "    #     plt.ylabel('Difference of\\nepistemic uncertainty:\\nlog('+ \" \".join(file_name.split('_')[:-1]) + ' (50%)/Full)',fontsize=25)\n",
    "    #     plt.xlabel('Average user similarity to all other users',fontsize=25)\n",
    "    #     plt.ylim(-5,5)\n",
    "    #     #plt.show()\n",
    "    plt.show()"
   ]
  },
  {
   "cell_type": "code",
   "execution_count": null,
   "metadata": {
    "colab": {
     "base_uri": "https://localhost:8080/",
     "height": 831
    },
    "executionInfo": {
     "elapsed": 11,
     "status": "ok",
     "timestamp": 1667535587326,
     "user": {
      "displayName": "Research Group",
      "userId": "07008499032580121461"
     },
     "user_tz": 240
    },
    "id": "ts7L2WPFokKe",
    "outputId": "560326a6-716a-4fc3-9c12-d44cf90ad39d"
   },
   "outputs": [
    {
     "name": "stdout",
     "output_type": "stream",
     "text": [
      "---------------------------------------------------------------------------------------\n",
      "Technique: nicest --> Retained Parcentage: 0.25\n",
      "---------------------------------------------------------------------------------------\n",
      "nicest 7.5 True [8.37735849 7.42635659 7.80392157 ... 8.16528926 7.625      6.92134831]\n",
      "X values [8.37735849 7.80392157 8.38095238 ... 8.21818182 8.16528926 7.625     ]\n"
     ]
    },
    {
     "data": {
      "image/png": "[encoded data removed]",
      "text/plain": [
       "<Figure size 576x288 with 1 Axes>"
      ]
     },
     "metadata": {},
     "output_type": "display_data"
    },
    {
     "name": "stdout",
     "output_type": "stream",
     "text": [
      "---------------------------------------------------------------------------------------\n",
      "Technique: most_active --> Retained Parcentage: 0.25\n",
      "---------------------------------------------------------------------------------------\n",
      "most_active 100.0 True [ 53 129  51 ... 121  32  89]\n",
      "X values [129 198 139 ... 165 153 121]\n"
     ]
    },
    {
     "data": {
      "image/png": "[encoded data removed]",
      "text/plain": [
       "<Figure size 576x288 with 1 Axes>"
      ]
     },
     "metadata": {},
     "output_type": "display_data"
    }
   ],
   "source": [
    "between_user_data_reduction_techniques = [\n",
    "    'nicest', #[Done]\n",
    "    # 'harshest', #[Done]\n",
    "    'most_active', #[Done]\n",
    "    # 'least_active', #[Done]\n",
    "    # 'most_consistent', #[Done]\n",
    "    # 'least_consistent', #[Done]\n",
    "    # 'most_open_minded', #[Done]\n",
    "    # 'least_open_minded', #[Done]\n",
    "    # 'most_typical', \n",
    "    # 'least_typical',\n",
    "]\n",
    "\n",
    "retained_user_parcentages = [\n",
    "    # 1.00,\n",
    "    # 0.75, \n",
    "    # 0.50, \n",
    "    0.25, \n",
    "    # 0.00\n",
    "]\n",
    "\n",
    "for between_user_technique in between_user_data_reduction_techniques:\n",
    "    for ind, retained_parcent in enumerate(retained_user_parcentages):\n",
    "        print('---------------------------------------------------------------------------------------')\n",
    "        print('Technique:', between_user_technique, '--> Retained Parcentage:', retained_parcent)\n",
    "        print('---------------------------------------------------------------------------------------')\n",
    "\n",
    "        plot_delta_model_un(\n",
    "                                retained_parcent=retained_parcent, \n",
    "                                between_user_data_reduction_strategy_name=between_user_technique,\n",
    "                                color = 'blue'\n",
    "                            )\n"
   ]
  },
  {
   "cell_type": "code",
   "execution_count": null,
   "metadata": {},
   "outputs": [],
   "source": []
  },
  {
   "cell_type": "code",
   "execution_count": 6,
   "metadata": {
    "id": "6vQwHKJ4wF6p"
   },
   "outputs": [
    {
     "name": "stdout",
     "output_type": "stream",
     "text": [
      "(450972, 1) (104477, 1) (4832,) (1208, 1)\n"
     ]
    }
   ],
   "source": [
    "train, validation, test = spliter.split_data(fold_id=3)"
   ]
  },
  {
   "cell_type": "code",
   "execution_count": 11,
   "metadata": {},
   "outputs": [
    {
     "data": {
      "text/plain": [
       "array([ 217, 2447, 1634, 2540, 1069, 1378, 3218,  982, 2512, 2686, 2984,\n",
       "       3187, 1690, 1631, 1029, 1125, 1960,  343, 2889,   44,  415,  909,\n",
       "        407, 1486, 2513, 1811, 3156, 1065, 1035, 3101, 2805,  862, 2325,\n",
       "        895, 2380, 1020, 1931,  285, 1579, 2459, 1039, 2981, 2887, 1048,\n",
       "       1026, 1062,  769, 1106, 1052, 1149,  998, 2471,  547,  802, 2888,\n",
       "       3056, 3111,  272,  869, 1007, 3008, 1265,  875,  698, 1409, 2890,\n",
       "       1786,   25, 1436, 1764, 1267, 1746,  553, 2544, 3319, 2346,  889,\n",
       "        296, 2621,    1, 2775, 2160,  919, 1077, 1049, 3186, 1023,  105,\n",
       "       3084, 1086, 1113,  916, 2652,  789, 1092, 1399,  548, 1064, 1670,\n",
       "       2545], dtype=int64)"
      ]
     },
     "execution_count": 11,
     "metadata": {},
     "output_type": "execute_result"
    }
   ],
   "source": [
    "test.sequences[0]"
   ]
  },
  {
   "cell_type": "code",
   "execution_count": 27,
   "metadata": {},
   "outputs": [
    {
     "data": {
      "text/plain": [
       "array([[ 0,  1,  2,  3,  4,  5,  6,  7,  8,  9, 10, 11, 12, 13, 14, 15,\n",
       "        16, 17, 18, 19, 20, 21, 22, 23, 24, 25, 26, 27, 28, 29, 30, 31,\n",
       "        32, 33, 34, 35, 36, 37, 38, 39, 40, 41, 42, 43, 44, 45, 46, 47,\n",
       "        48, 49, 50, 51, 52, 53, 54, 55, 56, 57, 58, 59, 60, 61, 62, 63,\n",
       "        64, 65, 66, 67, 68, 69, 70, 71, 72, 73, 74, 75, 76, 77, 78, 79,\n",
       "        80, 81, 82, 83, 84, 85, 86, 87, 88, 89, 90, 91, 92, 93, 94, 95,\n",
       "        96, 97, 98, 99]])"
      ]
     },
     "execution_count": 27,
     "metadata": {},
     "output_type": "execute_result"
    }
   ],
   "source": [
    "np.atleast_2d(np.arange(data.sequence_length))"
   ]
  },
  {
   "cell_type": "code",
   "execution_count": 52,
   "metadata": {},
   "outputs": [
    {
     "name": "stdout",
     "output_type": "stream",
     "text": [
      "(3, 3)\n"
     ]
    },
    {
     "ename": "TypeError",
     "evalue": "RandomState.permutation() takes no keyword arguments",
     "output_type": "error",
     "traceback": [
      "\u001B[1;31m---------------------------------------------------------------------------\u001B[0m",
      "\u001B[1;31mTypeError\u001B[0m                                 Traceback (most recent call last)",
      "Cell \u001B[1;32mIn [52], line 5\u001B[0m\n\u001B[0;32m      1\u001B[0m x \u001B[38;5;241m=\u001B[39m np\u001B[38;5;241m.\u001B[39marray([[\u001B[38;5;241m1\u001B[39m, \u001B[38;5;241m2\u001B[39m, \u001B[38;5;241m3\u001B[39m], \n\u001B[0;32m      2\u001B[0m     [\u001B[38;5;241m2\u001B[39m, \u001B[38;5;241m3\u001B[39m, \u001B[38;5;241m4\u001B[39m] ,\n\u001B[0;32m      3\u001B[0m     [\u001B[38;5;241m3\u001B[39m, \u001B[38;5;241m4\u001B[39m, \u001B[38;5;241m5\u001B[39m]])\n\u001B[0;32m      4\u001B[0m \u001B[38;5;28mprint\u001B[39m(x\u001B[38;5;241m.\u001B[39mshape)\n\u001B[1;32m----> 5\u001B[0m \u001B[43mnp\u001B[49m\u001B[38;5;241;43m.\u001B[39;49m\u001B[43mrandom\u001B[49m\u001B[38;5;241;43m.\u001B[39;49m\u001B[43mpermutation\u001B[49m\u001B[43m(\u001B[49m\u001B[43mx\u001B[49m\u001B[43m,\u001B[49m\u001B[43m \u001B[49m\u001B[43maxis\u001B[49m\u001B[43m \u001B[49m\u001B[38;5;241;43m=\u001B[39;49m\u001B[43m \u001B[49m\u001B[38;5;241;43m1\u001B[39;49m\u001B[43m)\u001B[49m\n",
      "\u001B[1;31mTypeError\u001B[0m: RandomState.permutation() takes no keyword arguments"
     ]
    }
   ],
   "source": [
    "x = np.array([[1, 2, 3], \n",
    "    [2, 3, 4] ,\n",
    "    [3, 4, 5]])\n",
    "print(x.shape)\n",
    "np.random.permutation(x, axis = 1)"
   ]
  },
  {
   "cell_type": "code",
   "execution_count": 56,
   "metadata": {},
   "outputs": [
    {
     "data": {
      "text/plain": [
       "array([[ 1,  3,  2,  0],\n",
       "       [ 6,  5,  4,  7],\n",
       "       [ 8, 11, 10,  9],\n",
       "       [12, 13, 15, 14]])"
      ]
     },
     "execution_count": 56,
     "metadata": {},
     "output_type": "execute_result"
    }
   ],
   "source": [
    "s = np.arange(16).reshape(4, 4)\n",
    "np.take_along_axis(s, np.random.randn(*s.shape).argsort(axis=1), axis=1)"
   ]
  },
  {
   "cell_type": "code",
   "execution_count": 63,
   "metadata": {
    "scrolled": true
   },
   "outputs": [
    {
     "name": "stdout",
     "output_type": "stream",
     "text": [
      "(1208, 100)\n",
      "(1208, 10)\n"
     ]
    }
   ],
   "source": [
    "x = np.repeat(np.atleast_2d(np.arange(data.sequence_length)), test.sequences.shape[0], axis=0)\n",
    "print(x.shape)\n",
    "x = np.take_along_axis(x, np.random.randn(*x.shape).argsort(axis=1), axis=1)[:, :10]\n",
    "print(x.shape)"
   ]
  },
  {
   "cell_type": "code",
   "execution_count": 67,
   "metadata": {
    "scrolled": true
   },
   "outputs": [
    {
     "name": "stdout",
     "output_type": "stream",
     "text": [
      "(1208, 100)\n",
      "(1208, 10)\n"
     ]
    },
    {
     "ename": "ValueError",
     "evalue": "shape mismatch: value array of shape (1208,1208,10) could not be broadcast to indexing result of shape (1208,10,100)",
     "output_type": "error",
     "traceback": [
      "\u001B[1;31m---------------------------------------------------------------------------\u001B[0m",
      "\u001B[1;31mValueError\u001B[0m                                Traceback (most recent call last)",
      "Cell \u001B[1;32mIn [67], line 9\u001B[0m\n\u001B[0;32m      7\u001B[0m \u001B[38;5;66;03m# # x.sort()\u001B[39;00m\n\u001B[0;32m      8\u001B[0m \u001B[38;5;28mprint\u001B[39m(random_indices\u001B[38;5;241m.\u001B[39mshape)\n\u001B[1;32m----> 9\u001B[0m \u001B[43mnew_sequences\u001B[49m\u001B[43m[\u001B[49m\u001B[43mrandom_indices\u001B[49m\u001B[43m]\u001B[49m \u001B[38;5;241m=\u001B[39m test\u001B[38;5;241m.\u001B[39msequences[:, random_indices]\n\u001B[0;32m     10\u001B[0m \u001B[38;5;28mprint\u001B[39m(new_sequences\u001B[38;5;241m.\u001B[39mshape)\n",
      "\u001B[1;31mValueError\u001B[0m: shape mismatch: value array of shape (1208,1208,10) could not be broadcast to indexing result of shape (1208,10,100)"
     ]
    }
   ],
   "source": [
    "new_sequences = np.zeros(test.sequences.shape)\n",
    "print(new_sequences.shape)\n",
    "# print(new_sequence)\n",
    "random_indices = np.repeat(np.atleast_2d(np.arange(data.sequence_length)), test.sequences.shape[0], axis=0)\n",
    "random_indices = np.take_along_axis(random_indices, np.random.randn(*random_indices.shape).argsort(axis=1), axis=1)[:, :10]\n",
    "\n",
    "# # x.sort()\n",
    "print(random_indices.shape)\n",
    "new_sequences[random_indices] = test.sequences[:, random_indices]\n",
    "print(new_sequences.shape)"
   ]
  },
  {
   "cell_type": "code",
   "execution_count": 20,
   "metadata": {},
   "outputs": [
    {
     "data": {
      "text/plain": [
       "array([ 217,  407, 1020, 2459, 1007, 2544, 2346,  296, 1049, 1399],\n",
       "      dtype=int64)"
      ]
     },
     "execution_count": 20,
     "metadata": {},
     "output_type": "execute_result"
    }
   ],
   "source": [
    "test.sequences[0, x]"
   ]
  },
  {
   "cell_type": "code",
   "execution_count": null,
   "metadata": {},
   "outputs": [],
   "source": []
  }
 ],
 "metadata": {
  "accelerator": "GPU",
  "colab": {
   "collapsed_sections": [
    "ly0gpS-jO46U"
   ],
   "machine_shape": "hm",
   "provenance": [],
   "toc_visible": true
  },
  "gpuClass": "standard",
  "kernelspec": {
   "display_name": "Python 3 (ipykernel)",
   "language": "python",
   "name": "python3"
  },
  "language_info": {
   "codemirror_mode": {
    "name": "ipython",
    "version": 3
   },
   "file_extension": ".py",
   "mimetype": "text/x-python",
   "name": "python",
   "nbconvert_exporter": "python",
   "pygments_lexer": "ipython3",
   "version": "3.9.13"
  }
 },
 "nbformat": 4,
 "nbformat_minor": 1
}
